{
 "cells": [
  {
   "cell_type": "markdown",
   "id": "0c99a41d-6dd7-40a8-84ad-48e3cc836540",
   "metadata": {},
   "source": [
    "# 关联规则算法"
   ]
  },
  {
   "cell_type": "markdown",
   "id": "9a3a7b7d-1377-4283-9c43-c77a2639db98",
   "metadata": {},
   "source": []
  }
 ],
 "metadata": {
  "kernelspec": {
   "display_name": "Python 3 (ipykernel)",
   "language": "python",
   "name": "python3"
  },
  "language_info": {
   "codemirror_mode": {
    "name": "ipython",
    "version": 3
   },
   "file_extension": ".py",
   "mimetype": "text/x-python",
   "name": "python",
   "nbconvert_exporter": "python",
   "pygments_lexer": "ipython3",
   "version": "3.9.17"
  }
 },
 "nbformat": 4,
 "nbformat_minor": 5
}
