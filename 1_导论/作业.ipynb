{
 "cells": [
  {
   "cell_type": "markdown",
   "id": "620d57b0-3a6b-4fde-b914-3f4cbd6914f3",
   "metadata": {},
   "source": [
    "# 作业"
   ]
  },
  {
   "cell_type": "markdown",
   "id": "af9539c9-2028-46a8-9ef9-c2f543cabe6b",
   "metadata": {},
   "source": [
    "## 小组分组\n",
    "小组分组是团队合作的重要组成部分，合理的组员搭配能够提高团队的效率和成果。分组时考虑：\n",
    "- 根据自身情况，进行分组，每组2-3名同学\n",
    "- 本组成员的构成应尽量多样化，以确保本组拥有必要的技能和经验\n",
    "\n",
    "以小组为单位，顺利完成最终的期末项目。"
   ]
  }
 ],
 "metadata": {
  "kernelspec": {
   "display_name": "Python 3 (ipykernel)",
   "language": "python",
   "name": "python3"
  },
  "language_info": {
   "codemirror_mode": {
    "name": "ipython",
    "version": 3
   },
   "file_extension": ".py",
   "mimetype": "text/x-python",
   "name": "python",
   "nbconvert_exporter": "python",
   "pygments_lexer": "ipython3",
   "version": "3.11.5"
  }
 },
 "nbformat": 4,
 "nbformat_minor": 5
}
