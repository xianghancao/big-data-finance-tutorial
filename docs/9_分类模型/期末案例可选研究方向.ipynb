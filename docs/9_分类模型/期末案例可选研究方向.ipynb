{
 "cells": [
  {
   "cell_type": "markdown",
   "id": "7a65f116-6719-4aad-b8aa-d6ae941d47a5",
   "metadata": {},
   "source": [
    "# 期末案例可选研究方向"
   ]
  },
  {
   "cell_type": "markdown",
   "id": "80880cf6-fb1c-4cab-ab28-b49c573f27ef",
   "metadata": {},
   "source": [
    "### 1. 设计更复杂的交易策略：\n",
    "设计不同类型的交易策略，如趋势跟踪、均值回归等，研究和验证分类器模型的学习和训练效果\n",
    "\n",
    "### 2. 在分类器中加入更多元的数据：\n",
    "除了价格数据外，还可以考虑引入更多类型的数据，如交易量、市场情绪指标、宏观经济数据等，以丰富分类器的输入维度，提高预测的准确性和泛化能力。利用更长期的历史数据，包括多个时间段的价格变动、技术指标的动态变化等，以捕捉更多市场动态和趋势，为分类器提供更多信息。\n"
   ]
  }
 ],
 "metadata": {
  "kernelspec": {
   "display_name": "Python 3 (ipykernel)",
   "language": "python",
   "name": "python3"
  },
  "language_info": {
   "codemirror_mode": {
    "name": "ipython",
    "version": 3
   },
   "file_extension": ".py",
   "mimetype": "text/x-python",
   "name": "python",
   "nbconvert_exporter": "python",
   "pygments_lexer": "ipython3",
   "version": "3.11.5"
  }
 },
 "nbformat": 4,
 "nbformat_minor": 5
}
