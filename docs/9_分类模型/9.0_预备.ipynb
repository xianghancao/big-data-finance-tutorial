{
 "cells": [
  {
   "cell_type": "markdown",
   "id": "5f22c7f7-4aa1-46b8-a696-1b5a1864df69",
   "metadata": {},
   "source": [
    "# 9 分类模型"
   ]
  },
  {
   "cell_type": "markdown",
   "id": "adc99a63-fb3a-49a6-a006-352e9b1c8aa7",
   "metadata": {},
   "source": [
    "## 名词解释"
   ]
  },
  {
   "cell_type": "markdown",
   "id": "6000e5f0-5604-4404-b2ef-57380d5a8041",
   "metadata": {},
   "source": [
    "请使用网络工具和图书馆资源，完成以下名词解释：\n"
   ]
  },
  {
   "cell_type": "markdown",
   "id": "a32d09c2-58e3-4fdc-bfa0-b24705dc0aae",
   "metadata": {},
   "source": [
    "- 金融机构分析师\n",
    "- 金融序列\n",
    "- 线性函数\n",
    "- 非线性结构和模式\n",
    "- 数据污染\n",
    "- 过拟合和欠拟合\n",
    "- 风险资产\n",
    "- 无风险资产\n",
    "\n"
   ]
  },
  {
   "cell_type": "markdown",
   "id": "35df4927-8e3c-47b1-9ea3-19cc3b467512",
   "metadata": {},
   "source": [
    "## 视频"
   ]
  },
  {
   "cell_type": "markdown",
   "id": "fda4c105-cb74-457a-a4c9-b64788b821c6",
   "metadata": {},
   "source": []
  },
  {
   "cell_type": "markdown",
   "id": "191f3140-9c94-4d3e-b82d-11eff41b7472",
   "metadata": {},
   "source": [
    "## 阅读材料"
   ]
  },
  {
   "cell_type": "markdown",
   "id": "2ca896f9-a1b5-4039-8b15-f3f42d6f6520",
   "metadata": {},
   "source": []
  }
 ],
 "metadata": {
  "kernelspec": {
   "display_name": "Python 3 (ipykernel)",
   "language": "python",
   "name": "python3"
  },
  "language_info": {
   "codemirror_mode": {
    "name": "ipython",
    "version": 3
   },
   "file_extension": ".py",
   "mimetype": "text/x-python",
   "name": "python",
   "nbconvert_exporter": "python",
   "pygments_lexer": "ipython3",
   "version": "3.11.5"
  }
 },
 "nbformat": 4,
 "nbformat_minor": 5
}
