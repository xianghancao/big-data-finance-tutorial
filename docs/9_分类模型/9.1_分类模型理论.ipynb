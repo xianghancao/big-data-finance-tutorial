{
 "cells": [
  {
   "cell_type": "markdown",
   "id": "44f897a7-893e-4260-ac7c-41f5eac223b0",
   "metadata": {},
   "source": [
    "# 9.1 分类模型理论"
   ]
  },
  {
   "cell_type": "markdown",
   "id": "bb836ae0-898a-4b8c-95e8-0642d166b4fe",
   "metadata": {},
   "source": [
    "```{admonition} 小组讨论：你的择偶标准有哪些？\n",
    ":class: note\n",
    "人们选择伴侣通常基于情感需求、生活稳定、社会认可以及共同的生活目标和价值观等多方面考虑。爱情和情感是首要动力，同时，结婚也提供了生活稳定和安全感，满足社会认可和家庭责任。共同的生活目标、个人成长以及兴趣爱好的契合也是选择伴侣的重要因素，帮助促进关系的稳定和和谐。\n",
    "<br>分小组讨论，在下面链接中填写或选择你的择偶标准：<a href=\"https://docs.qq.com/form/page/DWnpDT0NGd25KclBM\" target=\"_blank\"> \n",
    "https://docs.qq.com/form/page/DWnpDT0NGd25KclBM </a> \n",
    "```"
   ]
  },
  {
   "cell_type": "markdown",
   "id": "81cc1c19-950e-4a65-ab8b-f3003ccb3fdf",
   "metadata": {},
   "source": [
    "## 1. 决策树的理论"
   ]
  },
  {
   "cell_type": "markdown",
   "id": "95b42de9-4818-48a6-81f2-366beaa8044d",
   "metadata": {},
   "source": [
    "决策树是监督学习中最常用、最实用的方法之一。它既可用于解决回归任务，也可用于解决分类任务，而其分类任务被更多地用于实际应用，如广告推荐、商户分类等。"
   ]
  },
  {
   "cell_type": "markdown",
   "id": "596c4104-5ff3-4510-a40c-12702efaae66",
   "metadata": {},
   "source": [
    "我们以一个生活中常见的相亲例子，来开启决策树的介绍和讨论：\n",
    "\n",
    "一个眼光略高对自己婚姻伴侣略有要求的女青年**刘小姐**，熟练得在相亲网站上筛选着相亲对象。\n",
    "\n",
    "这个相亲网站有超过10万个真实注册用户，她固然可以直接设置一定的筛选规则，例如：“年龄在25～35之间”，“收入在中档以上”，“相貌较好”等条件，让网站在数据库里检索。"
   ]
  },
  {
   "cell_type": "markdown",
   "id": "c27b74aa-68f3-440f-b374-d0e43e646c61",
   "metadata": {},
   "source": [
    "<img src=\"images/xiangqin_decision.png\" alt=\"image/xiangqin_decision.png\" width=\"600\">\n"
   ]
  },
  {
   "cell_type": "markdown",
   "id": "5eedc039-5ba9-4881-a2f4-45abc061e6da",
   "metadata": {},
   "source": [
    "但是你已经意识到了，这样的规则会过滤掉不符合其中一些条件，但是在其他条件上却很好的男性。有没有什么方法来解决这个问题呢？"
   ]
  },
  {
   "cell_type": "markdown",
   "id": "65647341-0686-4f83-87ad-1aab8a4366a8",
   "metadata": {},
   "source": [
    "<img src=\"images/xiangqin_decision2.png\" alt=\"image/xiangqin_decision2.png\" width=\"600\" height=\"228\">\n"
   ]
  },
  {
   "cell_type": "markdown",
   "id": "f5f68a8f-4c64-45b0-b451-6bee71e327be",
   "metadata": {},
   "source": [
    "同时，当有新的男士资料被添加到服务器，刘小姐也不是每时每刻都在线，错过了，如何是好？\n",
    "\n",
    "我们希望用机器学习的方法，让机器习得刘小姐**对于另一半的偏好**。这样，机器就可以24小时全天候帮她把关，并及时通过短信和邮件通知刘小姐。"
   ]
  },
  {
   "cell_type": "markdown",
   "id": "e1b198b4-95f8-4240-85a4-ff4508b82bea",
   "metadata": {},
   "source": [
    "## 2. 模型的训练和预测过程"
   ]
  },
  {
   "cell_type": "markdown",
   "id": "b2a044a3-f304-452d-8473-8f0aaa1b0d5d",
   "metadata": {},
   "source": [
    "首先，准备数据样本："
   ]
  },
  {
   "cell_type": "markdown",
   "id": "5fb1f8a1-f7b1-47ef-b2f0-614fa924fa0d",
   "metadata": {},
   "source": [
    "1）根据过去的浏览记录，将刘小姐点“👍”的男士样本打上标签，“Yes”，点“👎”或者拉黑的男士样本打上“No”；  \n",
    "2）根据随机对照实验理论，将样本分为样本内（IS）和样本外（OOS），比例可设为8:2，前者用来训练模型，后者用来验证模型的分类能力 ；"
   ]
  },
  {
   "cell_type": "markdown",
   "id": "5a245312-44f5-4895-9ea7-9dee70c28e02",
   "metadata": {},
   "source": [
    "### 2.1 样本内（IS）训练过程"
   ]
  },
  {
   "cell_type": "markdown",
   "id": "1f535263-d076-4bfc-9b3f-74be1c461f9f",
   "metadata": {},
   "source": [
    "训练过程如下：\n",
    "1. 从上至下的方向，创建决策树的根节点，将样本内的数据集放入根节点中；\n",
    "2. 依次选择各个属性，对属性的数值进行划分（大于等于属性的某个值和小于这个属性值），并计算划分后的纯度；\n",
    "3. 选择划分后纯度最高或者标签一致的属性，作为当前分叉的标准，标签一致的为叶节点，另一个为中间节点；\n",
    "4. 回到步骤3，并重复执行1-3，直到所有中间节点都划分为叶节点。"
   ]
  },
  {
   "cell_type": "markdown",
   "id": "328464f8-a79b-4480-96cf-32b00d470354",
   "metadata": {},
   "source": [
    "![decision_train](images/decision_train.png)"
   ]
  },
  {
   "cell_type": "markdown",
   "id": "9c2d3183-6951-440c-b986-5c8203128c4e",
   "metadata": {},
   "source": [
    "模型训练完，也就是决策树生成完毕后，就可以将样本内的数据输入到模型中。然后，观察模型预测的结果和真实的标签，两者之间的差异，这代表了模型的学习能力。"
   ]
  },
  {
   "cell_type": "markdown",
   "id": "f2699e5a-ee80-4e07-9f11-85304001bae0",
   "metadata": {},
   "source": [
    "### 2.2 样本外（OOS）的评估以及未知样本的预测 \n",
    "在模型学习到**刘小姐**的偏好后，就可以在**刘小姐**不在线的时候，也可以帮助其筛选样本了。当输入新的未知标签的数据到模型，模型会根据已经训练后的决策树的路径，很多就可以对样本进行分类，属于“Yes”还是“No”。"
   ]
  },
  {
   "cell_type": "markdown",
   "id": "1f633cbb-d786-4a2c-8ec4-eeb5a550d1d3",
   "metadata": {},
   "source": [
    "![decision_predict.png](images/decision_predict.png)"
   ]
  },
  {
   "cell_type": "markdown",
   "id": "fd603875-d46f-4488-a48f-b0461055588e",
   "metadata": {},
   "source": [
    "##  3. 划分的选择\n",
    "关于决策树从最上面的**根节点**，到下面的**中间节点**以及末端的**叶节点**，如何划分，换句话说在每一次划分选择哪个属性进行划分，决定了决策树的形状。\n",
    "<img src=\"images/decision_select.png\" alt=\"image/decision_select.png\" width=\"600\" height=\"228\">"
   ]
  },
  {
   "cell_type": "markdown",
   "id": "2b9abda1-2545-4eda-87af-3bcdd16e9476",
   "metadata": {},
   "source": [
    "如何选择最优划分属性。一般而言，随着划分过程不断进行，我们希望决策树的分支结点所包含的样本尽可能属于同一类别，即结点“纯度”（purity）越来越高。"
   ]
  },
  {
   "cell_type": "markdown",
   "id": "2878efca-92f7-4eb3-8268-8f0b5aab732e",
   "metadata": {},
   "source": [
    "节点的Gini属性用于测量它的纯度：如果一个节点包含的所有训练样例全都是同一类别的，我们就说这个节点是纯的（Gini=0）。\n",
    "Gini计算如下：  \n",
    "\n",
    "$$\n",
    "G=\\sum^C_{i=1}(p(i)*(1-p(i)))\n",
    "$$"
   ]
  },
  {
   "cell_type": "markdown",
   "id": "f52bff9f-ffa2-4cfa-bee4-a0aea0b71239",
   "metadata": {},
   "source": []
  }
 ],
 "metadata": {
  "kernelspec": {
   "display_name": "Python 3 (ipykernel)",
   "language": "python",
   "name": "python3"
  },
  "language_info": {
   "codemirror_mode": {
    "name": "ipython",
    "version": 3
   },
   "file_extension": ".py",
   "mimetype": "text/x-python",
   "name": "python",
   "nbconvert_exporter": "python",
   "pygments_lexer": "ipython3",
   "version": "3.11.7"
  },
  "widgets": {
   "application/vnd.jupyter.widget-state+json": {
    "state": {},
    "version_major": 2,
    "version_minor": 0
   }
  }
 },
 "nbformat": 4,
 "nbformat_minor": 5
}
