{
 "cells": [
  {
   "cell_type": "markdown",
   "id": "3b900257-e784-4cbf-9a97-7b3100f26122",
   "metadata": {},
   "source": [
    "# 9.1 分类模型理论"
   ]
  },
  {
   "cell_type": "markdown",
   "id": "c93311e3-8d31-4437-a7bc-7e702bbf2a82",
   "metadata": {},
   "source": []
  }
 ],
 "metadata": {
  "kernelspec": {
   "display_name": "Python 3 (ipykernel)",
   "language": "python",
   "name": "python3"
  },
  "language_info": {
   "codemirror_mode": {
    "name": "ipython",
    "version": 3
   },
   "file_extension": ".py",
   "mimetype": "text/x-python",
   "name": "python",
   "nbconvert_exporter": "python",
   "pygments_lexer": "ipython3",
   "version": "3.11.5"
  }
 },
 "nbformat": 4,
 "nbformat_minor": 5
}
