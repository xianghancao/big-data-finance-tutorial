{
 "cells": [
  {
   "cell_type": "markdown",
   "id": "a6ffcb22-bfca-453c-95f2-3e3ce972d492",
   "metadata": {},
   "source": [
    "# 9.2 模型的性能评估"
   ]
  },
  {
   "cell_type": "markdown",
   "id": "3fedff52-295a-4556-945b-9aae4f8d4d7c",
   "metadata": {},
   "source": [
    "## 1. 精度与错误率"
   ]
  },
  {
   "cell_type": "markdown",
   "id": "342bc758-66b9-485f-9a92-cf6760d8ddf4",
   "metadata": {},
   "source": [
    "如何评估一个模型的好坏，一个自然而然的想法就是：模型给出的预测值与真实值进行对比。\n",
    "\n",
    "**错误率**：分类错误的样本数占样本总数的比例   \n",
    "**准确率(也称精度）**：分类正确样本数占样本总数的比例"
   ]
  },
  {
   "cell_type": "markdown",
   "id": "9f02c473-6db8-477e-9a2d-c753c5595f58",
   "metadata": {},
   "source": [
    "精度计算如下：  \n",
    "\n",
    "$$\n",
    "准确率= \\frac{预测正确的样本数}{总样本数}\n",
    "$$\n"
   ]
  },
  {
   "cell_type": "markdown",
   "id": "fc411528-6e19-43de-9ad8-6621e95ab3d8",
   "metadata": {},
   "source": [
    "$$\n",
    "错误率 = 1 - 准确率\n",
    "$$"
   ]
  },
  {
   "cell_type": "markdown",
   "id": "312de245-a5ea-4cd0-96b4-7d13ce021c43",
   "metadata": {},
   "source": [
    "## 2. 查全率与查准率"
   ]
  },
  {
   "cell_type": "markdown",
   "id": "3f7e2d1a-4587-4642-ab2d-79833610c712",
   "metadata": {},
   "source": [
    "在二分类任务（类别为两类）中，假如我们定义'positive' 和 'negative' 为分类的预测结果， 而 'true' and 'false' 指的是该预测是否符合\n",
    "- **真正例（TP）**：实际为`正`且预测为`正`的样本数。\n",
    "- **假正例（FP）**：实际为`负`但预测为`正`的样本数。\n",
    "- **假负例（FN）**：实际为`正`但预测为`负`的样本数。\n",
    "- **真负例（TN）**：实际为`负`且预测为`负`的样本数。"
   ]
  },
  {
   "cell_type": "markdown",
   "id": "6887f295-032a-4e99-b715-b369d09dbf11",
   "metadata": {},
   "source": [
    "### 2.1 混淆矩阵"
   ]
  },
  {
   "cell_type": "markdown",
   "id": "d4f3c448-7ed8-430a-a252-dd9b34bc4777",
   "metadata": {},
   "source": [
    "混淆矩阵（Confusion Matrix）"
   ]
  },
  {
   "cell_type": "markdown",
   "id": "2c960543-ec70-4495-b1f1-1aa2e61d679c",
   "metadata": {},
   "source": [
    "![decision_evaluate](images/ConfusionMatrix.png)"
   ]
  },
  {
   "cell_type": "markdown",
   "id": "c8db795f-876d-4b88-a915-18abc1e546d9",
   "metadata": {},
   "source": [
    "查准率（precision） \n",
    "\n",
    "$$\n",
    "查准率 =\\frac{TP}{TP+FP} = \\frac{真正类}{真正类+假正类}\n",
    "$$"
   ]
  },
  {
   "cell_type": "markdown",
   "id": "0f057808-9e14-44e1-bee0-0e31e1c2dcf9",
   "metadata": {},
   "source": [
    "查全率（也叫召回率，recall）\n",
    "\n",
    "$$\n",
    "查全率 = \\frac{TP}{TP+FN} = \\frac{真正类}{真正类+假负类}\n",
    "$$"
   ]
  },
  {
   "cell_type": "markdown",
   "id": "c32d2150-7c8b-4b8e-9f38-783bf2305c9b",
   "metadata": {},
   "source": [
    "从上图可以知道：\n",
    "\n",
    "**查准率**：是基于「预测数据」，考察「真正例」的占比。  \n",
    "**查全率**：是基于「真实数据」，考察「真正例」的占比。\n"
   ]
  },
  {
   "cell_type": "markdown",
   "id": "1c8467b7-177f-4e57-b052-1b6c129447ba",
   "metadata": {},
   "source": [
    "综合查准率与查全率，F1分数（F1 Score）为二者的调和平均数\n",
    "\n",
    "$$\n",
    "F1 = 2\\times\\frac{ precision\\times recall}{precision+recall} = 2\\times\\frac{ 查准率\\times 查全率}{查准率+查全率} \n",
    "$$\n",
    "\n",
    "F1 特别适用于评估在查准率和查全率之间需要权衡的情况。"
   ]
  },
  {
   "cell_type": "markdown",
   "id": "d23f249d-8962-493a-9d70-4f96b0ad74f7",
   "metadata": {},
   "source": [
    "### 2.2 查准率：医疗诊断系统"
   ]
  },
  {
   "cell_type": "markdown",
   "id": "c8ead1ee-5285-4431-95a1-574d967b02b6",
   "metadata": {},
   "source": [
    "医院使用一个分类模型来筛查癌症患者，将每个病人分类为“疑似癌症”或“非癌症”。\n",
    "\n",
    "为什么需要高查准率：\n",
    "\n",
    "- 避免不必要的惊慌：如果一个健康的人被错误地诊断为癌症（假正类，FP），会导致极大的心理压力和不必要的进一步检查。\n",
    "- 资源浪费：误报会导致医院资源的浪费，因为健康患者可能会接受昂贵且不必要的后续测试和治疗。\n"
   ]
  },
  {
   "cell_type": "markdown",
   "id": "0b32f57e-5e7f-41fd-bbb9-24cbffec66b7",
   "metadata": {},
   "source": [
    "\n",
    "假设筛查系统每天检查1000名患者，其中50人确实有癌症（正类），950人是健康的（负类）。模型预测出70个“疑似癌症”病例，其中40个是正确的（TP），30个是误报（FP）。\n",
    "\n",
    "![Precision](images/Precision.png)\n"
   ]
  },
  {
   "cell_type": "markdown",
   "id": "e42adb16-7f18-4e10-a040-b272c3199319",
   "metadata": {},
   "source": [
    "\n",
    "- **查准率（Precision）**计算：\n",
    "\n",
    "$$ \n",
    "\\text{精确率} = \\frac{TP}{TP + FP} = \\frac{40}{40 + 30} = 0.57 \n",
    "$$\n",
    "\n",
    "\n",
    "**结果解释**：\n",
    "- **本次结果**：57%被诊断为“疑似癌症”的患者确实是癌症患者\n",
    "- **高查准率**：如果精确率达到0.95以上，意味着几乎所有被诊断为“疑似癌症”的患者确实是癌症患者，减少了误报率。\n",
    "- **低查准率**：如果精确率较低，如0.5，则每两名被诊断为癌症的患者中就有一名实际上是健康的，这会造成不必要的恐慌和医疗资源的浪费。\n",
    "\n",
    "在医疗诊断系统中，特别是癌症筛查，需要高查准率以确保诊断结果的可靠性和准确性，从而避免对健康患者的误诊和不必要的后续检查。"
   ]
  },
  {
   "cell_type": "markdown",
   "id": "f5efa6eb-8976-4035-a542-9cea80857ab1",
   "metadata": {},
   "source": [
    "### 2.3 查全率：失踪儿童搜救系统\n",
    "\n"
   ]
  },
  {
   "cell_type": "markdown",
   "id": "71b0ab0b-59c9-4d47-87fe-214791908b72",
   "metadata": {},
   "source": [
    "\n",
    "```{admonition} 小组讨论\n",
    ":class: note\n",
    "1. 遇到儿童发生失踪的家庭，该如何提供有效帮助？\n",
    "2. 警方怎样识别可能的失踪儿童？其一般化的流程是怎样的？\n",
    "\n",
    "将讨论结果发送到以下链接：\n",
    "<a href=\"https://docs.qq.com/form/page/DWnpDT0NGd25KclBM\" target=\"_blank\"> https://docs.qq.com/form/page/DWnpDT0NGd25KclBM </a>\n",
    "```\n",
    "\n",
    "\n"
   ]
  },
  {
   "cell_type": "markdown",
   "id": "1dca266b-0ea3-4bfd-a920-d50e0ead4881",
   "metadata": {},
   "source": [
    "警方使用一个分类模型来筛查和识别可能的失踪儿童，将每个孩子的照片分类为“可能是失踪儿童”或“非失踪儿童”。\n",
    "\n",
    "**为什么需要高查全率**：\n",
    "- **确保尽可能多地找到失踪儿童**：确保系统能够识别出所有失踪儿童是至关重要的。漏掉一个失踪儿童（假负类，FN）意味着一个孩子没有被找到，可能面临危险。\n",
    "- **搜救行动**：高查全率保证所有可能的线索都被考虑，从而增加找到失踪儿童的机会。\n"
   ]
  },
  {
   "cell_type": "markdown",
   "id": "e0694a37-42a5-4d89-bd01-2210ac4c3667",
   "metadata": {},
   "source": [
    "\n",
    "假设系统每天处理1000张儿童照片，其中20张是失踪儿童的（正类），980张是普通儿童的（负类）。模型预测出30张“可能是失踪儿童”的照片，其中15张是正确的（TP），15张是误报（FP），但有5个失踪儿童没有被识别出来（FN）。\n",
    "\n",
    "![Recall](images/Recall.png)"
   ]
  },
  {
   "cell_type": "markdown",
   "id": "3f1579b9-18d5-450b-b692-e197461cb8a0",
   "metadata": {},
   "source": [
    "\n",
    "- **查全率（Recall）**计算：\n",
    "  $$ \n",
    "  \\text{查全率} = \\frac{TP}{TP + FN} = \\frac{15}{15 + 5} = 0.75\n",
    "  $$ \n",
    "\n",
    "**结果解释**：\n",
    "- **本次结果**：75%的失踪儿童被识别出来了。\n",
    "- **高查全率**：如果查全率达到0.95以上，意味着几乎所有失踪儿童都会被识别出来，减少了漏报。\n",
    "- **低查全率**：如果查全率较低，例如0.5，则每两个失踪儿童中就有一个未被识别，这会严重影响搜救工作的效果。\n",
    "\n",
    "在失踪儿童搜救系统中，优先考虑高查全率是至关重要的。这保证了大多数失踪儿童都能被识别并找到，从而避免孩子继续处于危险之中。"
   ]
  },
  {
   "cell_type": "markdown",
   "id": "08887f2d-3758-4034-8792-3199780daa64",
   "metadata": {},
   "source": []
  }
 ],
 "metadata": {
  "kernelspec": {
   "display_name": "Python 3 (ipykernel)",
   "language": "python",
   "name": "python3"
  },
  "language_info": {
   "codemirror_mode": {
    "name": "ipython",
    "version": 3
   },
   "file_extension": ".py",
   "mimetype": "text/x-python",
   "name": "python",
   "nbconvert_exporter": "python",
   "pygments_lexer": "ipython3",
   "version": "3.11.5"
  }
 },
 "nbformat": 4,
 "nbformat_minor": 5
}
