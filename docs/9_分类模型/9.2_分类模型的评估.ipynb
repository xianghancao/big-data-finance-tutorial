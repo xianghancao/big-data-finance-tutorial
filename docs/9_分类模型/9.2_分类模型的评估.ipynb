{
 "cells": [
  {
   "cell_type": "markdown",
   "id": "a6ffcb22-bfca-453c-95f2-3e3ce972d492",
   "metadata": {},
   "source": [
    "# 9.2 模型的性能评估"
   ]
  },
  {
   "cell_type": "markdown",
   "id": "3fedff52-295a-4556-945b-9aae4f8d4d7c",
   "metadata": {},
   "source": [
    "## 1. 精度与错误率"
   ]
  },
  {
   "cell_type": "markdown",
   "id": "342bc758-66b9-485f-9a92-cf6760d8ddf4",
   "metadata": {},
   "source": [
    "如何评估一个模型的好坏，一个自然而然的想法就是：模型给出的预测值与真实值进行对比。\n",
    "\n",
    "错误率：分类错误的样本数占样本总数的比例   \n",
    "精度：分类正确样本数占样本总数的比例"
   ]
  },
  {
   "cell_type": "markdown",
   "id": "9f02c473-6db8-477e-9a2d-c753c5595f58",
   "metadata": {},
   "source": [
    "精度计算如下：  \n",
    "\n",
    "$$\n",
    "accuracy(y,\\hat{y}) = \\frac{1}{n}\\sum^{n-1}_{i=0}1(\\hat{y}_i=y_i)\n",
    "$$"
   ]
  },
  {
   "cell_type": "markdown",
   "id": "fc411528-6e19-43de-9ad8-6621e95ab3d8",
   "metadata": {},
   "source": [
    "$$\n",
    "错误率 = 1 - 精度\n",
    "$$"
   ]
  },
  {
   "cell_type": "markdown",
   "id": "312de245-a5ea-4cd0-96b4-7d13ce021c43",
   "metadata": {},
   "source": [
    "## 2. 查全率与查准率"
   ]
  },
  {
   "cell_type": "markdown",
   "id": "3f7e2d1a-4587-4642-ab2d-79833610c712",
   "metadata": {},
   "source": [
    "在二分类任务（类别为两类）中，假如我们定义'positive' 和 'negative' 为分类的预测结果， 而 'true' and 'false' 指的是该预测是否符合，可以得到以下表格。上表为英文，下表为中文翻译。记住！多分类任务（类别为3类及以上）没有查全率和查准率。"
   ]
  },
  {
   "cell_type": "markdown",
   "id": "2c960543-ec70-4495-b1f1-1aa2e61d679c",
   "metadata": {},
   "source": [
    "![decision_evaluate](images/decision_evaluate.png)"
   ]
  },
  {
   "cell_type": "markdown",
   "id": "c8db795f-876d-4b88-a915-18abc1e546d9",
   "metadata": {},
   "source": [
    "查准率（准确率，precision） \n",
    "\n",
    "$$\n",
    "precision=\\frac{tp}{tp+fp}\n",
    "$$"
   ]
  },
  {
   "cell_type": "markdown",
   "id": "0f057808-9e14-44e1-bee0-0e31e1c2dcf9",
   "metadata": {},
   "source": [
    "查全率（也叫召回率，灵敏度，recall）\n",
    "\n",
    "$$\n",
    "recall = \\frac{tp}{tp+fn}\n",
    "$$"
   ]
  },
  {
   "cell_type": "markdown",
   "id": "1c8467b7-177f-4e57-b052-1b6c129447ba",
   "metadata": {},
   "source": [
    "综合查准率与查全率\n",
    "\n",
    "$$\n",
    "F1 = \\frac{2\\times precision\\times recall}{precision+recall}\n",
    "$$"
   ]
  },
  {
   "cell_type": "markdown",
   "id": "c32d2150-7c8b-4b8e-9f38-783bf2305c9b",
   "metadata": {},
   "source": [
    "从上图可以知道：\n",
    "\n",
    "**查准率**：是基于「预测数据」，考察「真正例」的占比。  \n",
    "**查全率**：是基于「真实数据」，考察「真正例」的占比。\n"
   ]
  },
  {
   "cell_type": "markdown",
   "id": "5a8d79fe-a920-4c53-8561-b46877100715",
   "metadata": {},
   "source": [
    "来看看两个例子：  \n",
    "例子1：如：在病情诊断时，我们希望查准率越高越好，减少病情误判。这样就需要约束条件比较严苛，落在约束条件下的样本数量较小，查全率自然就小了。\n",
    "\n",
    "例子2：如：在逃犯搜捕过程中，我们希望不放过一个漏网之鱼，所以就希望查全率越高越好。这样就需要约束条件比较宽松，落在约束条件下的样本数量较大，查准率自然就小了。\n"
   ]
  }
 ],
 "metadata": {
  "kernelspec": {
   "display_name": "Python 3 (ipykernel)",
   "language": "python",
   "name": "python3"
  },
  "language_info": {
   "codemirror_mode": {
    "name": "ipython",
    "version": 3
   },
   "file_extension": ".py",
   "mimetype": "text/x-python",
   "name": "python",
   "nbconvert_exporter": "python",
   "pygments_lexer": "ipython3",
   "version": "3.11.5"
  }
 },
 "nbformat": 4,
 "nbformat_minor": 5
}
