{
 "cells": [
  {
   "cell_type": "markdown",
   "id": "5f22c7f7-4aa1-46b8-a696-1b5a1864df69",
   "metadata": {},
   "source": [
    "# 9 分类模型"
   ]
  },
  {
   "cell_type": "markdown",
   "id": "e0e78cde-541d-455e-8f6f-ed8ff9cae938",
   "metadata": {},
   "source": [
    "<div class=\"alert alert-block alert-success\">\n",
    "<b>知识点：</b>分类模型理论；分类模型的评估、实现；案例—消费信贷逾期预测；案例—量化交易策略；\n",
    "<br><b>重点：</b>分类模型理论、评估、实现\n",
    "<br><b>难点：</b>分类模型在金融场景分析、建模和写作的方法和流程\n",
    "</div>\n",
    "\n",
    "\n",
    "\n"
   ]
  },
  {
   "cell_type": "markdown",
   "id": "f56bdf07-112b-43b4-9a69-4b317ecb995e",
   "metadata": {},
   "source": [
    "## 预习"
   ]
  },
  {
   "cell_type": "markdown",
   "id": "adc99a63-fb3a-49a6-a006-352e9b1c8aa7",
   "metadata": {},
   "source": [
    "### 名词解释"
   ]
  },
  {
   "cell_type": "markdown",
   "id": "6000e5f0-5604-4404-b2ef-57380d5a8041",
   "metadata": {},
   "source": [
    "请使用网络工具和图书馆资源，完成以下名词解释：\n"
   ]
  },
  {
   "cell_type": "markdown",
   "id": "a32d09c2-58e3-4fdc-bfa0-b24705dc0aae",
   "metadata": {},
   "source": [
    "- 金融机构分析师\n",
    "- 金融序列\n",
    "- 线性函数\n",
    "- 非线性结构和模式\n",
    "- 数据污染\n",
    "- 过拟合和欠拟合\n",
    "- 风险资产\n",
    "- 无风险资产\n",
    "\n"
   ]
  }
 ],
 "metadata": {
  "kernelspec": {
   "display_name": "Python 3 (ipykernel)",
   "language": "python",
   "name": "python3"
  },
  "language_info": {
   "codemirror_mode": {
    "name": "ipython",
    "version": 3
   },
   "file_extension": ".py",
   "mimetype": "text/x-python",
   "name": "python",
   "nbconvert_exporter": "python",
   "pygments_lexer": "ipython3",
   "version": "3.11.7"
  }
 },
 "nbformat": 4,
 "nbformat_minor": 5
}
