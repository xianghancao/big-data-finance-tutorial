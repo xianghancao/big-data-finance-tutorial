{
 "cells": [
  {
   "cell_type": "markdown",
   "id": "e35ade46-ea6d-4b5b-936c-140beb060b46",
   "metadata": {},
   "source": [
    "# 案例研究：预测借款拖欠概率"
   ]
  },
  {
   "cell_type": "markdown",
   "id": "22f07685-5eb0-4639-ba04-454a1e0904d0",
   "metadata": {},
   "source": [
    "<div class=\"alert alert-block alert-success\">\n",
    "本案例研究的目标是建立一个机器学习模型，以预测贷款违约的概率。我们将重点关注以下内容：\n",
    "    \n",
    "- 数据准备、数据清理和处理大量特征\n",
    "- 数据离散化和处理分类数据\n",
    "- 特征选择和数据转换\n",
    "</div>\n",
    "\n"
   ]
  },
  {
   "cell_type": "markdown",
   "id": "7a6be8d4-6939-4e25-87a3-09122e298d8f",
   "metadata": {},
   "source": [
    "放贷是金融业务中最重要的活动之一。放贷人向借款人提供贷款，以换取借款人承诺偿还贷款及利息。这意味着只有借款人偿还贷款，放贷人才能获利。因此，在放贷行业中，最关键的两个问题是：\n",
    "1. 借款人的风险有多大？\n",
    "2. 鉴于借款人的风险，我们是否应该向其放贷？\n",
    "\n",
    "违约预测可以说是机器学习的完美应用场景，因为算法可以基于数百万个消费者数据示例进行训练。算法可以执行自动化任务，如匹配数据记录、识别异常情况，并计算申请人是否符合贷款资格。算法可以评估潜在的趋势，并持续分析以检测可能影响未来放贷和核保风险的趋势。\n",
    "\n",
    "在大多数实际情况下，包括贷款违约建模在内，我们无法使用干净完整的数据。我们可能会遇到一些潜在的问题，如缺失值、不完整的分类数据和无关的特征。尽管数据清理可能很少被提及，但它对于机器学习应用的成功至关重要。我们使用的算法可能非常强大，但如果没有相关或适当的数据，系统可能无法产生理想的结果。因此，本案例研究的重点之一将是数据准备和清理。用于数据清理和组织特征空间的各种技术和概念，包括数据处理、特征选择和探索性分析。"
   ]
  },
  {
   "cell_type": "markdown",
   "id": "83cf4c60-9f70-4043-be95-451cf1804510",
   "metadata": {},
   "source": [
    "## 问题定义"
   ]
  },
  {
   "cell_type": "markdown",
   "id": "67b80373-03ac-4fe8-ba76-7f61b162dcd6",
   "metadata": {},
   "source": [
    "在这个案例研究的分类框架中，被预测的变量是“违约”，即借款人在数月内错过支付后，债权人放弃追索的债务。如果发生违约，则预测变量取值为1，否则为0。"
   ]
  },
  {
   "cell_type": "markdown",
   "id": "73b1a052-f49d-4b7f-bf4d-ebac6c8fab40",
   "metadata": {},
   "source": [
    "我们将分析来自Kaggle上的Lending Club平台2007年至2017年第三季度的贷款数据。Lending Club是一家美国的P2P（peer-to-peer）借贷公司。它经营着一个在线借贷平台，让借款人可以获得贷款，投资者可以购买以这些贷款支付为支撑的债券。该数据集包含超过887,000个观测值，具有150个变量，包含了指定时间段内所有贷款的完整数据。这些特征包括收入、年龄、信用评分、房屋所有权、借款人位置、收藏情况等。在本案例研究中，我们将重点关注数据准备、数据清理和处理大量特征、数据离散化和处理分类数据、特征选择和数据转换。通过本案例研究的学习，读者将熟悉贷款违约建模的一般方法，从数据收集和清理到构建和调整分类器。"
   ]
  },
  {
   "cell_type": "markdown",
   "id": "cbe4fb71-1ee9-4905-a353-43e431c1d4cb",
   "metadata": {},
   "source": []
  }
 ],
 "metadata": {
  "kernelspec": {
   "display_name": "Python 3 (ipykernel)",
   "language": "python",
   "name": "python3"
  },
  "language_info": {
   "codemirror_mode": {
    "name": "ipython",
    "version": 3
   },
   "file_extension": ".py",
   "mimetype": "text/x-python",
   "name": "python",
   "nbconvert_exporter": "python",
   "pygments_lexer": "ipython3",
   "version": "3.11.5"
  }
 },
 "nbformat": 4,
 "nbformat_minor": 5
}
