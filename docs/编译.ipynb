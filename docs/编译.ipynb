{
 "cells": [
  {
   "cell_type": "markdown",
   "id": "5669799c-4617-4626-ba14-fddf618e4592",
   "metadata": {},
   "source": [
    "## sphinx编译"
   ]
  },
  {
   "cell_type": "markdown",
   "id": "5008289a-4380-4bb3-9983-cc9e64b56a8d",
   "metadata": {},
   "source": [
    "jupyter-book config sphinx /Users/xhc/Documents/归档/Teaching/1课程/课程-Big-Data-in-Finance/big-data-finance-tutorial \n"
   ]
  },
  {
   "cell_type": "markdown",
   "id": "9bb2657e-0616-4cc0-bbdf-6e030b16b933",
   "metadata": {},
   "source": [
    "sphinx-build /Users/xhc/Documents/归档/Teaching/1课程/课程-Big-Data-in-Finance/big-data-finance-tutorial/docs/ /Users/xhc/Documents/归档/Teaching/1课程/课程-Big-Data-in-Finance/big-data-finance-tutorial/docs/_build/html -b html"
   ]
  },
  {
   "cell_type": "markdown",
   "id": "9d0e1a2a-abfd-4440-bf7f-30187d13d32c",
   "metadata": {},
   "source": [
    "## jupyter-book编译"
   ]
  },
  {
   "cell_type": "markdown",
   "id": "6f71c63f-a815-48c3-a56c-262eb9edaa06",
   "metadata": {},
   "source": [
    "jupyter-book build --all /Users/xhc/Documents/归档/Teaching/1课程/课程-Big-Data-in-Finance/big-data-finance-tutorial/docs"
   ]
  },
  {
   "cell_type": "markdown",
   "id": "f8178675-f536-4569-8752-5d7ba4a282bc",
   "metadata": {},
   "source": []
  },
  {
   "cell_type": "markdown",
   "id": "57ed54e5-156f-49bb-bc24-949089550ebe",
   "metadata": {},
   "source": [
    "sphinx-build /Users/xhc/Documents/归档/Teaching/1课程/课程-Big-Data-in-Finance/big-data-finance-tutorial/docs/ /Users/xhc/Documents/归档/Teaching/1课程/课程-Big-Data-in-Finance/big-data-finance-tutorial/docs/_build/html -b latex"
   ]
  }
 ],
 "metadata": {
  "kernelspec": {
   "display_name": "Python 3 (ipykernel)",
   "language": "python",
   "name": "python3"
  },
  "language_info": {
   "codemirror_mode": {
    "name": "ipython",
    "version": 3
   },
   "file_extension": ".py",
   "mimetype": "text/x-python",
   "name": "python",
   "nbconvert_exporter": "python",
   "pygments_lexer": "ipython3",
   "version": "3.11.5"
  }
 },
 "nbformat": 4,
 "nbformat_minor": 5
}
