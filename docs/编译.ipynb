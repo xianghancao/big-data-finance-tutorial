{
 "cells": [
  {
   "cell_type": "markdown",
   "id": "5008289a-4380-4bb3-9983-cc9e64b56a8d",
   "metadata": {},
   "source": [
    "jupyter-book config sphinx /Users/xhc/Documents/归档/Teaching/1课程/课程-Big-Data-in-Finance/big-data-finance-tutorial \n"
   ]
  },
  {
   "cell_type": "markdown",
   "id": "9bb2657e-0616-4cc0-bbdf-6e030b16b933",
   "metadata": {},
   "source": [
    "sphinx-build /Users/xhc/Documents/归档/Teaching/1课程/课程-Big-Data-in-Finance/big-data-finance-tutorial/docs/ /Users/xhc/Documents/归档/Teaching/1课程/课程-Big-Data-in-Finance/big-data-finance-tutorial/_build/html -b html"
   ]
  }
 ],
 "metadata": {
  "kernelspec": {
   "display_name": "Python 3 (ipykernel)",
   "language": "python",
   "name": "python3"
  },
  "language_info": {
   "codemirror_mode": {
    "name": "ipython",
    "version": 3
   },
   "file_extension": ".py",
   "mimetype": "text/x-python",
   "name": "python",
   "nbconvert_exporter": "python",
   "pygments_lexer": "ipython3",
   "version": "3.11.5"
  }
 },
 "nbformat": 4,
 "nbformat_minor": 5
}
