{
 "cells": [
  {
   "cell_type": "markdown",
   "id": "a94cf427-ee64-4631-a2c2-5909a9f0dde9",
   "metadata": {},
   "source": [
    "# 面向对象编程\n",
    "面向对象编程——Object Oriented Programming，简称OOP，是一种程序设计思想。OOP把对象作为程序的基本单元，一个对象包含了数据和操作数据的函数。\n"
   ]
  },
  {
   "cell_type": "markdown",
   "id": "e6a40c43-08aa-444d-a4fd-0db11c16ffb9",
   "metadata": {},
   "source": [
    "\n",
    "我们通过一个例子理解OOP。下面这个dict字典类型变量表示一个学生的个人信息：\n"
   ]
  },
  {
   "cell_type": "code",
   "execution_count": 1,
   "id": "78b04a70-ea03-4a49-8e30-5987697de9fc",
   "metadata": {
    "tags": []
   },
   "outputs": [],
   "source": [
    "student = {'name':'Rose',\n",
    "          'age':20,\n",
    "          'gender': 'Female'}  "
   ]
  },
  {
   "cell_type": "markdown",
   "id": "9e03606b-8ab1-4e41-9089-72dd2a1c5f37",
   "metadata": {},
   "source": [
    "\n",
    "\n",
    "如果需要显示这个学生的年龄，我们就使用print语句：\n"
   ]
  },
  {
   "cell_type": "code",
   "execution_count": 2,
   "id": "917a1d62-7e41-47b7-9f98-a344ef4cce2c",
   "metadata": {
    "tags": []
   },
   "outputs": [],
   "source": [
    "def print_age(student):\n",
    "    print('%s: %s' %(student['name'], student['age']))"
   ]
  },
  {
   "cell_type": "markdown",
   "id": "6c1be110-3d40-46be-86b4-55e799b8babe",
   "metadata": {},
   "source": [
    "\n",
    "如果采用面向对象的程序设计思想，我们首选思考的不是程序的执行流程，而是`Student`这个变量应该被视为一个对象，这个对象拥有`name`和`age`这两个属性。如果要打印一个学生的年龄，首先必须创建出这个学生对应的对象，然后，让对象自己把自己的年龄打印出来。\n"
   ]
  },
  {
   "cell_type": "code",
   "execution_count": 3,
   "id": "e68503c8-4658-41e5-9966-ef1044aba4b4",
   "metadata": {
    "tags": []
   },
   "outputs": [],
   "source": [
    "class Student(object):\n",
    "\n",
    "    def __init__(self, name, age):\n",
    "        self.name = name\n",
    "        self.age = age\n",
    "\n",
    "    def print_age(self):\n",
    "        print('%s: %s' % (self.name, self.age))"
   ]
  },
  {
   "cell_type": "markdown",
   "id": "443cf9ab-00e0-464c-87ab-62e1a02025ed",
   "metadata": {},
   "source": [
    "\n",
    "`print_age`这个函数，在这里我们称之为对象的**方法**（Method）。面向对象的程序写出来就像这样：\n"
   ]
  },
  {
   "cell_type": "code",
   "execution_count": 4,
   "id": "8b097f0d-d735-498d-8259-8152fd2a11da",
   "metadata": {
    "tags": []
   },
   "outputs": [
    {
     "name": "stdout",
     "output_type": "stream",
     "text": [
      "Jack: 24\n",
      "Rose: 20\n"
     ]
    }
   ],
   "source": [
    "jack = Student('Jack', 24)\n",
    "rose = Student('Rose', 20)\n",
    "jack.print_age()\n",
    "rose.print_age()"
   ]
  },
  {
   "cell_type": "markdown",
   "id": "f671e8a3-5534-46a4-af0e-dded6d2d5440",
   "metadata": {},
   "source": [
    "\n",
    "面向对象的设计思想是从自然界中来的，因为在自然界中，类（Class）和实例（Instance）的概念是很自然的。**类**是一种抽象概念，比如我们定义的**类**——Student，是指学生这个概念，而**实例**则是一个个具体的Student，比如，Jack和Rose是两个具体的Student，我们称Jack和Rose为两个实例，两个类Student的实例。\n",
    "\n",
    "\n"
   ]
  },
  {
   "cell_type": "markdown",
   "id": "1cb0a1da-04c4-4283-9ff3-b9f14bb208f2",
   "metadata": {},
   "source": [
    "\n",
    "## 1. 类与实例\n",
    "\n",
    "面向对象最重要的概念就是**类（Class）**和**实例（Instance）**，必须牢记**类**是抽象的模板，比如Student类，而**实例**是根据类创建出来的一个个具体的“对象”，每个对象都拥有相同的方法，但各自的数据可能不同。\n",
    "\n",
    "举个例子，很多刚大学毕业的学生撰写自己人生的第一份简历的时候，都无从下手。一般的方法是去网站上下载一份“简历模版”，然后在模块空白处填上自己的信息，包括基本信息、毕业院校、工作经验、荣誉奖励等等。模版相当于面向对象编程里的类，填写完个人信息的个人简历，相当于实例。\n",
    "\n",
    "![template-instance](images/template-instance.png)\n",
    "\n",
    "个人简历是根据模版创建出来的一个具体的“对象”，凡是使用同一个模版的个人简历，都包含同样的结构，但是信息不同）。就像下图，Jack、Rose、Micheal和Steve这4个同学都用了同一个简历模版，只是每个人的个人信息、工作经验、荣誉、兴趣爱好不同。类和实例的关系，也是这样，不同的实例只是它包含的数据不同。\n"
   ]
  },
  {
   "cell_type": "markdown",
   "id": "661c317e-957e-4faa-981e-1a5b304adfd5",
   "metadata": {},
   "source": [
    "\n",
    "![cvs](images/cvs.png)\n",
    "\n",
    "下面我们通过创建简历这个类，来学习类的具体创建方法。\n"
   ]
  },
  {
   "cell_type": "markdown",
   "id": "3eacebaa-5772-4eb2-9c4a-70b00c7d1704",
   "metadata": {},
   "source": [
    "```python\n",
    "class 类名(继承的父类):\n",
    "    ############\n",
    "    # 类的内部  #\n",
    "    #          #\n",
    "    #          #\n",
    "    ############\n",
    "    pass \n",
    "```\n",
    "\n",
    "个人简历的英文单词缩写叫CV，我们创建一个名叫CV的类，请注意类名建议首字母使用大写形式。在Python中，定义类是通过`class`关键字，`class`后面紧接着是类名，即`CV`，类名通常是大写开头的单词，紧接着是`(object)`，表示该类是从哪个类继承下来的，继承的概念我们后面再讲，通常，如果没有合适的继承类，就使用`object`类，这是所有类最终都会继承的类。\n",
    "\n"
   ]
  },
  {
   "cell_type": "code",
   "execution_count": 5,
   "id": "76d60bb8-8fad-48f4-b351-388244a5f7a5",
   "metadata": {
    "tags": []
   },
   "outputs": [],
   "source": [
    "class CV(object):\n",
    "    pass"
   ]
  },
  {
   "cell_type": "markdown",
   "id": "fd3ff549-1e03-4373-a288-ffd161fa0a4b",
   "metadata": {},
   "source": [
    "定义好了`CV`类，就可以根据`CV`类创建出`CV`的实例，创建实例是通过类名+()实现的：\n"
   ]
  },
  {
   "cell_type": "code",
   "execution_count": 6,
   "id": "94534263-1c20-4e12-b8a5-39b0cba706f2",
   "metadata": {
    "tags": []
   },
   "outputs": [
    {
     "data": {
      "text/plain": [
       "<__main__.CV at 0x114a5fb10>"
      ]
     },
     "execution_count": 6,
     "metadata": {},
     "output_type": "execute_result"
    }
   ],
   "source": [
    "jack_CV = CV()\n",
    "jack_CV"
   ]
  },
  {
   "cell_type": "code",
   "execution_count": 7,
   "id": "4008badb-5fd1-405f-8f6c-ffab91710d12",
   "metadata": {
    "tags": []
   },
   "outputs": [
    {
     "data": {
      "text/plain": [
       "__main__.CV"
      ]
     },
     "execution_count": 7,
     "metadata": {},
     "output_type": "execute_result"
    }
   ],
   "source": [
    "CV"
   ]
  },
  {
   "cell_type": "markdown",
   "id": "210fdad4-111a-4181-a1c2-b8c8847237e6",
   "metadata": {},
   "source": [
    "可以看到，变量`jack_CV`指向的就是一个`CV`的实例，后面的`0x10a67a590`是内存地址，每个object的地址都不一样，而`CV`本身则是一个类。\n",
    "\n",
    "可以自由地给一个实例变量绑定属性，比如，给实例`jack_CV`绑定一个`name`属性：\n"
   ]
  },
  {
   "cell_type": "code",
   "execution_count": 8,
   "id": "2a1aaa1f-279c-4527-85a2-51afad7695ea",
   "metadata": {
    "tags": []
   },
   "outputs": [
    {
     "data": {
      "text/plain": [
       "'Jack Simpson'"
      ]
     },
     "execution_count": 8,
     "metadata": {},
     "output_type": "execute_result"
    }
   ],
   "source": [
    "jack_CV.name = 'Jack Simpson'\n",
    "jack_CV.name"
   ]
  },
  {
   "cell_type": "markdown",
   "id": "6ca2cc8e-74f6-454e-9744-c084aff88860",
   "metadata": {},
   "source": [
    "由于类可以起到模板的作用，因此，可以在创建实例的时候，把一些我们认为必须绑定的属性强制填写进去。通过定义一个特殊的`__init__`方法，在创建实例的时候，就把`name`，`age`等属性绑上去："
   ]
  },
  {
   "cell_type": "code",
   "execution_count": 9,
   "id": "cb720fab-cc47-4f8d-b758-74c6adb92be7",
   "metadata": {
    "tags": []
   },
   "outputs": [],
   "source": [
    "class CV(object):\n",
    "\n",
    "    def __init__(self, name, age):\n",
    "        self.name = name\n",
    "        self.age = age"
   ]
  },
  {
   "cell_type": "markdown",
   "id": "d29a06bc-bf81-4e4b-8ecb-3c70e96839d8",
   "metadata": {},
   "source": [
    "请注意，特殊方法“__init__”前后分别有两个下划线！！！\n",
    "\n",
    "注意到`__init__`方法的第一个参数永远是`self`，表示创建的实例本身，因此，在`__init__`方法内部，就可以把各种属性绑定到`self`，因为`self`就指向创建的实例本身。\n",
    "\n",
    "有了`__init__`方法，在创建实例的时候，就不能传入空的参数了，必须传入与`__init__`方法匹配的参数，但`self`不需要传，Python解释器自己会把实例变量传进去："
   ]
  },
  {
   "cell_type": "code",
   "execution_count": 10,
   "id": "be2f3f8e-7928-4ec6-81f3-06784da65379",
   "metadata": {
    "tags": []
   },
   "outputs": [
    {
     "data": {
      "text/plain": [
       "'Jack Simpson'"
      ]
     },
     "execution_count": 10,
     "metadata": {},
     "output_type": "execute_result"
    }
   ],
   "source": [
    "jack_CV = CV('Jack Simpson', 24)\n",
    "jack_CV.name\n"
   ]
  },
  {
   "cell_type": "code",
   "execution_count": 11,
   "id": "4cd0d29e-d1bf-470c-9d98-e40baaa57120",
   "metadata": {
    "tags": []
   },
   "outputs": [
    {
     "data": {
      "text/plain": [
       "24"
      ]
     },
     "execution_count": 11,
     "metadata": {},
     "output_type": "execute_result"
    }
   ],
   "source": [
    "jack_CV.age"
   ]
  },
  {
   "cell_type": "markdown",
   "id": "44c60cb4-f02a-45b8-95bf-8d5c7dc1baf4",
   "metadata": {},
   "source": [
    "## 2.数据封装\n",
    "\n",
    "和普通的函数相比，在类中定义的函数只有一点不同，就是第一个参数永远是实例变量`self`，并且，调用时，不用传递该参数。除此之外，类的方法和普通函数没有什么区别，所以，你仍然可以用默认参数、可变参数、关键字参数和命名关键字参数。\n",
    "\n",
    "\n",
    "\n"
   ]
  },
  {
   "cell_type": "markdown",
   "id": "cccab227-c677-4cd7-ae0c-c20a8b89a40e",
   "metadata": {},
   "source": [
    "\n",
    "面向对象编程的一个重要特点就是数据封装。在上面的`CV`类中，每个实例就拥有各自的`name`和`age`这些数据。我们可以通过函数来访问这些数据，比如打印一个学生的成绩："
   ]
  },
  {
   "cell_type": "code",
   "execution_count": 12,
   "id": "2fa34bd4-c71e-4844-b2c1-2f12b1ffc535",
   "metadata": {
    "tags": []
   },
   "outputs": [],
   "source": [
    "def print_age(CV):\n",
    "    print('%s: %s' % (CV.name, CV.age))"
   ]
  },
  {
   "cell_type": "code",
   "execution_count": 13,
   "id": "e5893f44-b6a1-4aeb-91bb-8ee3923cfd44",
   "metadata": {
    "tags": []
   },
   "outputs": [
    {
     "name": "stdout",
     "output_type": "stream",
     "text": [
      "Jack Simpson: 24\n"
     ]
    }
   ],
   "source": [
    "print_age(jack_CV)"
   ]
  },
  {
   "cell_type": "markdown",
   "id": "64e6bd1a-626c-4562-a047-654410e89dc9",
   "metadata": {},
   "source": [
    "但是，既然`CV`实例本身就拥有这些数据，要访问这些数据，就没有必要从外面的函数去访问，可以直接在`CV`类的内部定义访问数据的函数，这样，就把“数据”给封装起来了。这些封装数据的函数是和`CV`类本身是关联起来的，我们称之为类的方法：\n"
   ]
  },
  {
   "cell_type": "code",
   "execution_count": 14,
   "id": "0b1146a5-64da-467d-994c-5e4a7ca6e199",
   "metadata": {
    "tags": []
   },
   "outputs": [],
   "source": [
    "class CV(object):\n",
    "\n",
    "    def __init__(self, name, age):\n",
    "        self.name = name\n",
    "        self.age = age\n",
    "\n",
    "    def print_age(self):\n",
    "        print('%s: %s' % (self.name, self.age))"
   ]
  },
  {
   "cell_type": "markdown",
   "id": "ca72abb5-c6eb-4fce-9e05-83ad8b155db2",
   "metadata": {},
   "source": [
    "要定义一个方法，除了第一个参数是`self`外，其他和普通函数一样。要调用一个方法，只需要在实例变量上直接调用，除了`self`不用传递，其他参数正常传入：\n"
   ]
  },
  {
   "cell_type": "code",
   "execution_count": 15,
   "id": "f9733e5d-845e-4475-80ab-d340ca48172f",
   "metadata": {
    "tags": []
   },
   "outputs": [
    {
     "name": "stdout",
     "output_type": "stream",
     "text": [
      "Jack Simpson: 24\n"
     ]
    }
   ],
   "source": [
    "jack_CV = CV('Jack Simpson', 24)\n",
    "jack_CV.print_age()"
   ]
  },
  {
   "cell_type": "markdown",
   "id": "860f934e-4f2a-42a8-bb28-fe81ad39efe0",
   "metadata": {},
   "source": [
    "这样一来，我们从外部看`CV`类，就只需要知道，创建实例需要给出`name`和`age`，而如何打印，都是在`CV`类的内部定义的，这些数据和逻辑被“封装”起来了，调用很容易，但却不用知道内部实现的细节。"
   ]
  },
  {
   "cell_type": "markdown",
   "id": "73f7bff5-14f3-4844-82b7-c0b2756ed3ad",
   "metadata": {},
   "source": [
    "\n",
    "## 3.访问限制"
   ]
  },
  {
   "cell_type": "markdown",
   "id": "a2ddc017-2268-4e4f-b4f1-93529f7aee0d",
   "metadata": {},
   "source": [
    "\n",
    "在Class内部，可以有属性和方法，而外部代码可以通过直接调用实例变量的方法来操作数据，这样，就隐藏了内部的复杂逻辑。\n",
    "\n",
    "但是，从前面`CV`类的定义来看，外部代码还是可以自由地修改一个实例的`name`、`age`属性：\n"
   ]
  },
  {
   "cell_type": "code",
   "execution_count": 16,
   "id": "a82919c1-761d-43b5-af1b-23d5864b0f06",
   "metadata": {
    "tags": []
   },
   "outputs": [
    {
     "data": {
      "text/plain": [
       "'Jack Simpson'"
      ]
     },
     "execution_count": 16,
     "metadata": {},
     "output_type": "execute_result"
    }
   ],
   "source": [
    "jack_CV = CV('Jack Simpson', 24)\n",
    "jack_CV.name"
   ]
  },
  {
   "cell_type": "code",
   "execution_count": 17,
   "id": "a6f84819-4484-4009-aec6-4ce35ba9eead",
   "metadata": {
    "tags": []
   },
   "outputs": [
    {
     "data": {
      "text/plain": [
       "24"
      ]
     },
     "execution_count": 17,
     "metadata": {},
     "output_type": "execute_result"
    }
   ],
   "source": [
    "jack_CV.age"
   ]
  },
  {
   "cell_type": "markdown",
   "id": "8a346e14-4272-465c-b105-c66a78da7cec",
   "metadata": {},
   "source": [
    "\n",
    "\n",
    "如果要让内部属性不被外部访问，可以把属性的名称前加上两个下划线`__`，在Python中，实例的变量名如果以`__`开头，就变成了一个私有变量（private），只有内部可以访问，外部不能访问，所以，我们把CV类改一改："
   ]
  },
  {
   "cell_type": "code",
   "execution_count": 18,
   "id": "a7d0a940-9499-4317-987e-7e4fb3a2f2c2",
   "metadata": {
    "tags": []
   },
   "outputs": [],
   "source": [
    "class CV(object):\n",
    "\n",
    "    def __init__(self, name, age):\n",
    "        self.__name = name\n",
    "        self.__age = age\n",
    "\n",
    "    def print_age(self):\n",
    "        print('%s: %s' % (self.__name, self.__age))"
   ]
  },
  {
   "cell_type": "markdown",
   "id": "7145c859-c12e-4026-9152-bcd938bee7ee",
   "metadata": {},
   "source": [
    "改完后，对于外部代码来说，没什么变动，但是已经无法从外部访问`实例变量.__name`和`实例变量.__age`了：\n"
   ]
  },
  {
   "cell_type": "code",
   "execution_count": 19,
   "id": "877156b9-dbb1-4f26-821f-3d5684b4f8a3",
   "metadata": {
    "tags": []
   },
   "outputs": [
    {
     "ename": "AttributeError",
     "evalue": "'CV' object has no attribute '__name'",
     "output_type": "error",
     "traceback": [
      "\u001b[0;31m---------------------------------------------------------------------------\u001b[0m",
      "\u001b[0;31mAttributeError\u001b[0m                            Traceback (most recent call last)",
      "Cell \u001b[0;32mIn[19], line 2\u001b[0m\n\u001b[1;32m      1\u001b[0m jack_CV \u001b[38;5;241m=\u001b[39m CV(\u001b[38;5;124m'\u001b[39m\u001b[38;5;124mJack Simpson\u001b[39m\u001b[38;5;124m'\u001b[39m, \u001b[38;5;241m59\u001b[39m)\n\u001b[0;32m----> 2\u001b[0m \u001b[43mjack_CV\u001b[49m\u001b[38;5;241;43m.\u001b[39;49m\u001b[43m__name\u001b[49m\n",
      "\u001b[0;31mAttributeError\u001b[0m: 'CV' object has no attribute '__name'"
     ]
    }
   ],
   "source": [
    "jack_CV = CV('Jack Simpson', 59)\n",
    "jack_CV.__name"
   ]
  },
  {
   "cell_type": "markdown",
   "id": "12bd94ef-9197-46b7-be6a-f34a46ac84a1",
   "metadata": {},
   "source": [
    "这样就确保了外部代码不能随意修改对象内部的状态，这样通过访问限制的保护，代码更加健壮。\n",
    "\n",
    "但是如果外部代码要获取name和age怎么办？可以给CV类增加get_name和get_age这样的方法："
   ]
  },
  {
   "cell_type": "markdown",
   "id": "80318d91-875e-4622-a93c-1fdd2dec11c7",
   "metadata": {
    "tags": []
   },
   "source": [
    "```python\n",
    "class CV(object):\n",
    "    ...\n",
    "\n",
    "    def get_name(self):\n",
    "        return self.__name\n",
    "\n",
    "    def get_age(self):\n",
    "        return self.__age\n",
    "```"
   ]
  },
  {
   "cell_type": "markdown",
   "id": "d38e9a44-f87c-42b0-b35a-376eddab2d19",
   "metadata": {},
   "source": [
    "\n",
    "如果又要允许外部代码修改age怎么办？可以再给Student类增加`set_age`方法：\n"
   ]
  },
  {
   "cell_type": "markdown",
   "id": "100c27eb-fad1-4929-9645-4fd782b4f50d",
   "metadata": {},
   "source": [
    "```python\n",
    "class CV(object):\n",
    "    ...\n",
    "\n",
    "    def set_age(self, age):\n",
    "        self.__age = age\n",
    "```"
   ]
  },
  {
   "cell_type": "markdown",
   "id": "65f874b2-91b9-45d6-8a26-b3b3351d31b1",
   "metadata": {},
   "source": [
    "\n",
    "\n",
    "你也许会问，原先那种直接通过`jack_CV.age = 24`也可以修改啊，为什么要定义一个方法大费周折？因为在方法中，可以对参数做检查，避免传入无效的参数：\n",
    "\n",
    "```python\n",
    "class Student(object):\n",
    "    ...\n",
    "\n",
    "    def set_age(self, age):\n",
    "      \tif type(age) is not int:\n",
    "            raise ValueError('age should be int type!')\n",
    "        elif age <= 0 or age >= 100:\n",
    "            raise ValueError('wrong range, age should be in (0,100)!')\n",
    "        else:\n",
    "            self.__age = age\n",
    "```\n"
   ]
  },
  {
   "cell_type": "markdown",
   "id": "b56851b3-4e55-46d0-8802-cb597d6cfdbe",
   "metadata": {},
   "source": [
    "\n",
    "需要注意的是，在Python中，变量名类似`__xxx__`的，也就是以双下划线开头，并且以双下划线结尾的，是特殊变量，特殊变量是可以直接访问的，不是private变量，所以，不能用`__name__`、`__age__`这样的变量名。\n",
    "\n",
    "有些时候，你会看到以一个下划线开头的实例变量名，比如`_name`，这样的实例变量外部是可以访问的，但是，按照约定俗成的规定，当你看到这样的变量时，意思就是，“虽然我可以被访问，但是，请把我视为私有变量，不要随意访问”。\n",
    "\n",
    "双下划线开头的实例变量是不是一定不能从外部访问呢？其实也不是。不能直接访问`__name`是因为Python解释器对外把`__name`变量改成了`_Student__name`，所以，仍然可以通过`_Student__name`来访问`__name`变量：\n"
   ]
  },
  {
   "cell_type": "markdown",
   "id": "45245cd3-a6d2-4c61-b7bd-6fb3a5278f5c",
   "metadata": {},
   "source": [
    "\n",
    "```python\n",
    "jack_CV._Student__name\n",
    "\n",
    "```\n",
    "\n",
    "'Jack Simpson'\n",
    "\n",
    "但是强烈建议你不要这么干，因为不同版本的Python解释器可能会把`__name`改成不同的变量名。\n",
    "\n",
    "总的来说就是，Python本身没有任何机制阻止你干坏事，一切全靠自觉。\n",
    "\n",
    "最后注意下面的这种*错误写法*：\n",
    "\n",
    "```python\n",
    "jack_CV = CV('Jack Simpson', 59)\n",
    "jack_CV.get_name()\n",
    "\n",
    "```\n",
    "\n",
    "\n"
   ]
  },
  {
   "cell_type": "markdown",
   "id": "7bce59f7-fddd-488f-bfec-1768ac0657da",
   "metadata": {},
   "source": [
    "'Jack Simpson'\n",
    "```python\n",
    "jack_CV.__name = 'New Name' # 设置__name变量！\n",
    "jack_CV.__name\n",
    "```"
   ]
  },
  {
   "cell_type": "markdown",
   "id": "ba73c1a9-6063-415e-88ff-236d9c639e0b",
   "metadata": {},
   "source": [
    "\n",
    "\n",
    "表面上看，外部代码“成功”地设置了`__name`变量，但实际上这个`__name`变量和class内部的`__name`变量*不是*一个变量！内部的`__name`变量已经被Python解释器自动改成了`_CV__name`，而外部代码给`bart`新增了一个`__name`变量。不信试试：\n"
   ]
  },
  {
   "cell_type": "markdown",
   "id": "4cae847d-8d93-4a2d-be09-ae6e01608bc8",
   "metadata": {},
   "source": [
    "```python\n",
    "jack_CV.get_name() # get_name()内部返回self.__name\n",
    "```"
   ]
  },
  {
   "cell_type": "markdown",
   "id": "9604c700-b4f2-46e4-a08f-39d26de5e54c",
   "metadata": {},
   "source": [
    "\n",
    "## 练习：创建个人简历类CV\n",
    "\n",
    "\n",
    "<img src='images/null-template.jpg' alt='null-template' width=400>\n",
    "\n",
    "我们创建一个类，名字为CV，它完成个人简历的录入、修改和打印功能。\n",
    "\n",
    "它包含以下属性：\n",
    "\n",
    "- 名字，字符串\n",
    "- 性别，字符串\n",
    "- 年龄，整形\n",
    "- 联系方式，字符串\n",
    "- 毕业院校，列表嵌套了字典，每一条毕业院校包含以下：\"开始日期\",\"结束日期\", \"学校名称\", \"专业\", 学位\"\n",
    "- 技能证书，列表\n",
    "- 兴趣爱好，列表\n",
    "- 工作经历，列表嵌套了字典，每一条工作经历包含以下信息：\"开始日期\",\"结束日期\",\"工作单位\",\"工作描述\"\n",
    "- 荣誉奖励，列表嵌套了字典，每一条荣誉奖励包含以下信息：\"日期\",\"荣誉名称\"\n",
    "\n",
    "它包含以下方法：\n",
    "\n",
    "- 打印个人基本信息 print_basic_info()\n",
    "- 打印学业信息 print_university()\n",
    "- 打印技能证书 print_skills_certificates()\n",
    "\n",
    "以上变量名称建议使用英文单词代替。\n",
    "\n",
    "最后创建一个简历类的实例叫fengkai，并录入以下信息，并打印他的基本信息，学业信息，技能证书\n",
    "\n"
   ]
  },
  {
   "cell_type": "markdown",
   "id": "1f67e6b3-591d-4f48-8756-ca649459cc09",
   "metadata": {},
   "source": [
    "<img src='images/template.jpg' alt='template' width=400>"
   ]
  },
  {
   "cell_type": "code",
   "execution_count": null,
   "id": "cee55681-1efe-4044-ae58-b0009a2336e7",
   "metadata": {
    "tags": []
   },
   "outputs": [],
   "source": [
    "class CV(object):\n",
    "    def __init__(self, name, gender, age):\n",
    "        self.name = name\n",
    "        self.gender = gender\n",
    "        self.age =age\n",
    "        # your code is here^^\n",
    "        \n",
    "        \n",
    "    def print_basic_info(self):\n",
    "        # your code is here^^\n",
    "        return\n",
    "        \n",
    "    \n",
    "    def print_university(self):\n",
    "        # your code is here^^\n",
    "        return\n",
    "\n",
    "\n",
    "    def print_skills_certificates(self):\n",
    "        # your code is here^^\n",
    "        return"
   ]
  },
  {
   "cell_type": "markdown",
   "id": "1a134c88-028f-4864-a2fb-885b3f171fdb",
   "metadata": {},
   "source": [
    "\n",
    "\n",
    "## 练习：个人简历的set和get方法\n",
    "\n",
    "一名叫Jack的同学，他获得了“普通话二级甲等证书”，属于语言证书类别。请设计一个类完成简历的功能，并实例化：\n",
    "\n",
    "1）调用Jack.set_certificate(“普通话二级甲等证书”)来添加证书；\n",
    "\n",
    "2）调用Jack.get_certificate() 返回一个列表，其中包含“普通话二级甲等证书”。\n"
   ]
  },
  {
   "cell_type": "code",
   "execution_count": null,
   "id": "70792304-2c7d-4685-9971-b2a2080c262c",
   "metadata": {},
   "outputs": [],
   "source": [
    "\n",
    "\n"
   ]
  }
 ],
 "metadata": {
  "kernelspec": {
   "display_name": "Python 3 (ipykernel)",
   "language": "python",
   "name": "python3"
  },
  "language_info": {
   "codemirror_mode": {
    "name": "ipython",
    "version": 3
   },
   "file_extension": ".py",
   "mimetype": "text/x-python",
   "name": "python",
   "nbconvert_exporter": "python",
   "pygments_lexer": "ipython3",
   "version": "3.11.5"
  },
  "widgets": {
   "application/vnd.jupyter.widget-state+json": {
    "state": {},
    "version_major": 2,
    "version_minor": 0
   }
  }
 },
 "nbformat": 4,
 "nbformat_minor": 5
}
