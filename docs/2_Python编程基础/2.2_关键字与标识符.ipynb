{
 "cells": [
  {
   "cell_type": "markdown",
   "id": "43bc58e9-4cce-4c2e-a1a9-67e1f5da68a0",
   "metadata": {},
   "source": [
    "# 2.2 关键字与标识符"
   ]
  },
  {
   "cell_type": "markdown",
   "id": "c102a4b6-d140-4da8-b875-bca58caee8fb",
   "metadata": {},
   "source": [
    "## （一) 关键字"
   ]
  },
  {
   "cell_type": "markdown",
   "id": "631645ed-8aeb-443d-91fe-c59810901364",
   "metadata": {},
   "source": [
    "关键字（Keyword），是Python语言预设的具有特殊用途的专用词汇。Python的常见关键字如下："
   ]
  },
  {
   "cell_type": "markdown",
   "id": "c2f1e68f-457d-4af5-9ba4-61d209a4c05a",
   "metadata": {},
   "source": [
    "|关键词| | | | | |\n",
    "|---|---|---|---|---|---|\n",
    "|print|del|from|not|while|as|elif|for|\n",
    "|global|or|with|assert|else|if|pass|lambda|\n",
    "|yield|break|except|import|and|class|exec|try|\n",
    "|in|raise|continue|finally|is|return|def|"
   ]
  },
  {
   "cell_type": "markdown",
   "id": "02694d94-96b0-4c39-8b54-fcf51d95cbdf",
   "metadata": {},
   "source": [
    "几乎所有的计算机程序是为了执行一个特定的任务。通过输入操作，用户告诉计算机程序指令或信息；有了输出操作，程序运行后告诉用户其执行的结果。我们把输入输出统称为Input/Output，或者简写为IO。\n",
    "\n",
    "print作为最常用的关键字，用`print()`在括号中加上字符串，就可以向屏幕上输出指定的文字。"
   ]
  },
  {
   "cell_type": "markdown",
   "id": "1bb80d14-b5f5-4cae-8ba3-e0db5a7bcf06",
   "metadata": {},
   "source": [
    "### 练习：使用print语句\n",
    "使用print('')语句，输出 “Hello, World!”"
   ]
  },
  {
   "cell_type": "code",
   "execution_count": null,
   "id": "5c415522-3b11-47fe-9725-9b95eecd5d84",
   "metadata": {},
   "outputs": [],
   "source": []
  },
  {
   "cell_type": "markdown",
   "id": "74720882-31e8-4b7d-b4a6-aff92ca635f8",
   "metadata": {},
   "source": [
    "## （二）标识符"
   ]
  },
  {
   "cell_type": "markdown",
   "id": "51ba9f9b-db5e-4e3b-8a09-0bb6d9ae8054",
   "metadata": {},
   "source": [
    "标识符（Identifier）是Python中用于变量、常量、函数、语句块等命名的一串字符。"
   ]
  },
  {
   "cell_type": "markdown",
   "id": "3cb1e149-64e8-4d27-82b9-957768562dab",
   "metadata": {},
   "source": [
    "命名标识符须遵循以下规则：\n",
    "1. 标识符由字母、数字、下划线“_”或美元符号“$”等组合构成；\n",
    "2. 标识符的首个字符不能是数字；\n",
    "3. 不能使用关键字；\n",
    "4. 标识符大小写敏感"
   ]
  },
  {
   "cell_type": "markdown",
   "id": "10d100d1-35b5-458a-979b-183e84746049",
   "metadata": {},
   "source": [
    "例如gduf2020、_gduf2020都是合法标识符，而2020gduf不是标识符。\n",
    "由于Python严格区分字符的大小写，所以Pi和pi是两个不同的标识符。  \n",
    "为了提高程序的可读性，标识符命名要尽可能“见其名而知其意”。"
   ]
  },
  {
   "cell_type": "markdown",
   "id": "74abd902-886c-4d9e-aab5-3d1ab5f72a5c",
   "metadata": {},
   "source": [
    "在设计变量名时，当我们需要表示一个变量能够存储年份，我们可以使用`year`，而一个能够存储月份的变量，我们可以设计其为`month`，我们不建议使用拼音来表达其意思，如`nianfen`，`yuefen`。"
   ]
  },
  {
   "cell_type": "markdown",
   "id": "c9aa2387-cb4e-42e6-9032-b8ab4b768cd8",
   "metadata": {},
   "source": [
    "### 练习：设计一个变量的名称\n",
    "请设计一个变量的名称，用来表示学生的姓名、学生的年龄、学生的专业"
   ]
  },
  {
   "cell_type": "raw",
   "id": "9fffefcf-3f74-4286-a14b-b968bb99ccda",
   "metadata": {},
   "source": []
  }
 ],
 "metadata": {
  "kernelspec": {
   "display_name": "Python 3 (ipykernel)",
   "language": "python",
   "name": "python3"
  },
  "language_info": {
   "codemirror_mode": {
    "name": "ipython",
    "version": 3
   },
   "file_extension": ".py",
   "mimetype": "text/x-python",
   "name": "python",
   "nbconvert_exporter": "python",
   "pygments_lexer": "ipython3",
   "version": "3.9.17"
  }
 },
 "nbformat": 4,
 "nbformat_minor": 5
}
