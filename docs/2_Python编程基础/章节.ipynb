{
 "cells": [
  {
   "cell_type": "markdown",
   "id": "1a3f3226-0859-41ca-96fa-0a2524b51da8",
   "metadata": {},
   "source": [
    "# 2 Python编程基础"
   ]
  },
  {
   "cell_type": "markdown",
   "id": "7949ef30-d926-4750-9f6b-1521ac9a42ab",
   "metadata": {},
   "source": []
  }
 ],
 "metadata": {
  "kernelspec": {
   "display_name": "Python 3 (ipykernel)",
   "language": "python",
   "name": "python3"
  },
  "language_info": {
   "codemirror_mode": {
    "name": "ipython",
    "version": 3
   },
   "file_extension": ".py",
   "mimetype": "text/x-python",
   "name": "python",
   "nbconvert_exporter": "python",
   "pygments_lexer": "ipython3",
   "version": "3.11.5"
  }
 },
 "nbformat": 4,
 "nbformat_minor": 5
}
