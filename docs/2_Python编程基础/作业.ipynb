{
 "cells": [
  {
   "cell_type": "markdown",
   "id": "32bc44d7-865c-41af-9ac1-24c2e4837de8",
   "metadata": {},
   "source": [
    "<img src='images/UPDATE-First-Steps-With-Python_Watermarked.png' width=600>\n",
    "\n",
    "Image from RealPython.com"
   ]
  },
  {
   "cell_type": "markdown",
   "id": "17481881-44be-4c51-9c36-6e6c91c862b4",
   "metadata": {},
   "source": [
    "# 作业：自主设计Python编程题目"
   ]
  },
  {
   "cell_type": "markdown",
   "id": "7533dd21-b3bf-4d24-a58e-d582f047b6e7",
   "metadata": {},
   "source": [
    "根据学习到的Python基础编程知识，每组设计一个题目，并自己解答题目。\n",
    "\n",
    "任务要求：\n",
    "\n",
    "1. 该题目需要包含学到的数据类型、数据结构、判断语句、循环语句、函数等知识点。\n",
    "2. 在答题过程中，需要使用注释，解释每一行代码\n",
    "\n",
    "完成后发布在如下共享链接中：\n",
    "\n",
    "<a href=\"https://doc.weixin.qq.com/slide/p3_ALYAmQY8AO8uri2Sdi0RDqscD4VPs?scode=ANIAFAdhAAY4fWJDahALYAmQY8AO8\" target=\"_blank\">https://doc.weixin.qq.com/slide/p3_ALYAmQY8AO8uri2Sdi0RDqscD4VPs?scode=ANIAFAdhAAY4fWJDahALYAmQY8AO8</a> "
   ]
  },
  {
   "cell_type": "code",
   "execution_count": null,
   "id": "31ac4518-c977-46f3-993c-04dbd1658053",
   "metadata": {},
   "outputs": [],
   "source": [
    "\n",
    "\n",
    "\n",
    "\n",
    "\n"
   ]
  }
 ],
 "metadata": {
  "kernelspec": {
   "display_name": "Python 3 (ipykernel)",
   "language": "python",
   "name": "python3"
  },
  "language_info": {
   "codemirror_mode": {
    "name": "ipython",
    "version": 3
   },
   "file_extension": ".py",
   "mimetype": "text/x-python",
   "name": "python",
   "nbconvert_exporter": "python",
   "pygments_lexer": "ipython3",
   "version": "3.11.5"
  },
  "widgets": {
   "application/vnd.jupyter.widget-state+json": {
    "state": {},
    "version_major": 2,
    "version_minor": 0
   }
  }
 },
 "nbformat": 4,
 "nbformat_minor": 5
}
