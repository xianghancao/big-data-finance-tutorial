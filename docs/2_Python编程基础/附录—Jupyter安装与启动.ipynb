{
 "cells": [
  {
   "cell_type": "markdown",
   "id": "c11c5f88-af87-4b2b-9b68-af4fb25f7bb7",
   "metadata": {},
   "source": [
    "# 附录：JupyterLab的安装与启动"
   ]
  },
  {
   "cell_type": "markdown",
   "id": "7e2e07a7-bb1f-4f62-9ba2-587a03259942",
   "metadata": {},
   "source": [
    "[Jupyter](https://jupyter.org/)是一个开源的交互式计算环境。它的名字来源于三种编程语言的缩写：Julia、Python和R。Jupyter提供了一个Web界面，用户可以在浏览器中编写、运行和共享代码。它的核心是Notebook，一个交互式文档，可以包含代码、文本、数学公式、图表等元素，使得代码的编写、运行和可视化结果可以在同一个环境中完成。Jupyter的灵活性和易用性使得它成为数据科学、机器学习和科学计算领域中广泛使用的工具。\n",
    "\n",
    "<img src='images/labpreview.png' alt='labpreview' width=400>\n",
    "\n",
    "\n",
    "\n",
    "JupyterLab是Jupyter项目的下一代界面，提供了一个灵活的工作区，可以在同一个界面中编辑代码、运行代码、查看结果、编写文档、可视化数据等。"
   ]
  },
  {
   "cell_type": "markdown",
   "id": "e2facee4-ab92-4078-8d32-f89fd90483d0",
   "metadata": {},
   "source": [
    "## 1. 进入命令行环境\n"
   ]
  },
  {
   "cell_type": "markdown",
   "id": "add6c575-f2b8-40f6-9e05-052b2e3d9391",
   "metadata": {},
   "source": [
    "### 1.1 Windows用户\n",
    "在系统菜单里找到并启动Anaconda PowerShell或者Anaconda PowerShell Prompt应用，打开\n",
    "\n",
    "\n",
    "<img src='images/anaconda_powershell2.png' alt='anaconda_powershell' width=400>\n"
   ]
  },
  {
   "cell_type": "markdown",
   "id": "dc0e94f0-1ad8-4fcb-9129-047bb03544bf",
   "metadata": {},
   "source": [
    "### 1.2 macOS用户"
   ]
  },
  {
   "cell_type": "markdown",
   "id": "c37bfe65-3fcb-472b-bca8-c4b9d55d0814",
   "metadata": {},
   "source": [
    "如果你是macOS用户，找到并启动Terminal终端应用\n",
    "\n",
    "![Terminal](images/Terminal.png)\n"
   ]
  },
  {
   "cell_type": "markdown",
   "id": "fcb01fc0-bb81-47e0-b615-54d8cc2d00c5",
   "metadata": {},
   "source": [
    "## 2. 安装jupyterlab"
   ]
  },
  {
   "cell_type": "markdown",
   "id": "9ca87ff7-4635-45a9-bdb0-5f4a95c2da8d",
   "metadata": {},
   "source": [
    "在以上的命令行环境下，输入以下命令来安装jupyterlab：\n",
    "```shell\n",
    "conda install jupyterlab -y\n",
    "```\n",
    "\n",
    "如果提示是否继续(Y/N)，可以按回车键继续。"
   ]
  },
  {
   "cell_type": "markdown",
   "id": "280b9834-28ce-40e4-b8f7-9b771205c413",
   "metadata": {},
   "source": [
    "如果上述命令执行后，网速比较慢，可以使用替代方法："
   ]
  },
  {
   "cell_type": "markdown",
   "id": "a71891a5-22f7-4fe8-9e40-abf22f24c776",
   "metadata": {},
   "source": [
    "```python\n",
    "pip config set global.index-url https://pypi.tuna.tsinghua.edu.cn/simple\n",
    "pip install jupyterlab\n",
    "```"
   ]
  },
  {
   "cell_type": "markdown",
   "id": "dfb48859-e755-4075-98c2-b14c861691d5",
   "metadata": {},
   "source": [
    "然后，在以上的命令行环境下，输入以下命令来安装**jupyterlab环境的中文包**：\n",
    "\n",
    "```bash\n",
    "pip install jupyterlab-language-pack-zh-CN\n",
    "```"
   ]
  },
  {
   "cell_type": "markdown",
   "id": "95ed33c0-0ffc-4c55-8165-0d742747e80b",
   "metadata": {},
   "source": [
    "## 3. 启动Jupyter"
   ]
  },
  {
   "cell_type": "markdown",
   "id": "e237cf5d-c165-4bb3-82a3-956dde443730",
   "metadata": {},
   "source": [
    "\n",
    "在以上命令行环境下，输入以下命令，并按回车键。\n",
    "\n",
    "```shell\n",
    "jupyter-lab\n",
    "```\n",
    "\n",
    "终端会跳转到浏览器的Jupyter编程环境。\n",
    "\n",
    "如果没有反应，用鼠标选中并复制终端上给出的三个链接或地址之一，将其粘贴到浏览器的地址栏里，按回车键，即可。"
   ]
  },
  {
   "cell_type": "markdown",
   "id": "9f6050a6-50a6-4f6b-82e5-5bac49320ada",
   "metadata": {},
   "source": [
    "## 4. 激活中文\n",
    "启动jupyterlab后，点击settings，点击language，选择中文简体\n",
    "\n",
    "![jupyterlab-zh-cn3](images/jupyterlab-zh-cn3.png)"
   ]
  },
  {
   "cell_type": "markdown",
   "id": "6526c89c-1a47-4ff3-8a3f-539a1ed7f520",
   "metadata": {},
   "source": [
    "然后，页面提示，点击change and reload\n",
    "\n",
    "\n",
    "<img src='images/jupyterlab-zh-cn2.png' alt='jupyterlab-zh-cn2' width=400>\n"
   ]
  },
  {
   "cell_type": "markdown",
   "id": "8ff17435-e906-484e-9d7e-94cac0f9ee1b",
   "metadata": {},
   "source": [
    "### 4.1 如果遇到jupyterlab经常掉线\n",
    "请联系老师来处理"
   ]
  },
  {
   "cell_type": "markdown",
   "id": "a49851ce-611a-444a-b366-ea9439295a6a",
   "metadata": {},
   "source": [
    "## 5. 如何使用课件\n",
    "### 5.1 下载本课程课件"
   ]
  },
  {
   "cell_type": "markdown",
   "id": "9b37de00-9de7-47ce-bc64-030746071d4d",
   "metadata": {},
   "source": [
    "在学习通上下载课件压缩包，压缩包格式为“.zip”为后缀的格式。\n",
    "\n",
    "建议将压缩包拖拽到桌面进行解压缩。\n",
    "\n",
    "![zip](images/zip.png)"
   ]
  },
  {
   "cell_type": "markdown",
   "id": "401065f4-060a-4cd2-b801-d04a15779e64",
   "metadata": {},
   "source": [
    "使用本地解压缩软件，解压缩该zip格式压缩包。\n",
    "\n",
    "如果没有解压缩软件，可以下载[**7zip**软件](https://www.7-zip.org/download.html)。"
   ]
  },
  {
   "cell_type": "markdown",
   "id": "5e3fa2d3-02a8-4448-ac76-029891d80331",
   "metadata": {},
   "source": [
    "### 5.2 用Jupyter打开课件"
   ]
  },
  {
   "cell_type": "markdown",
   "id": "ea157e56-98c1-45d2-a70b-9136eebf125d",
   "metadata": {},
   "source": [
    "在桌面上新建一个文件夹【商务数据分析课件】，将刚才下载并解压缩后的文件夹放入此文件夹中。\n",
    "\n",
    "返回jupyter lab界面，找到desktop路径下的【商务数据分析课件】\n",
    "\n",
    "之后我们所有章节的课件，都可以通过以上方法，下载、解压缩、在jupyter-lab中打开。"
   ]
  },
  {
   "cell_type": "markdown",
   "id": "b9b99fd6-b09f-46f8-9e6c-9b0e1e132c6e",
   "metadata": {},
   "source": [
    "<img src='images/documents2.png' alt='documents2' width=400>\n"
   ]
  }
 ],
 "metadata": {
  "kernelspec": {
   "display_name": "Python 3 (ipykernel)",
   "language": "python",
   "name": "python3"
  },
  "language_info": {
   "codemirror_mode": {
    "name": "ipython",
    "version": 3
   },
   "file_extension": ".py",
   "mimetype": "text/x-python",
   "name": "python",
   "nbconvert_exporter": "python",
   "pygments_lexer": "ipython3",
   "version": "3.11.5"
  }
 },
 "nbformat": 4,
 "nbformat_minor": 5
}
