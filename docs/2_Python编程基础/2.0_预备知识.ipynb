{
 "cells": [
  {
   "cell_type": "markdown",
   "id": "d2447c2a-ba26-45aa-b4b7-4e387e15c27d",
   "metadata": {},
   "source": [
    "# 2 Python编程基础"
   ]
  },
  {
   "cell_type": "markdown",
   "id": "6a2b4f5e-d62a-47fe-a700-ae003a521556",
   "metadata": {},
   "source": [
    "> 凡我不能创造的，我就不能理解 ——理查德\\*费曼"
   ]
  },
  {
   "cell_type": "markdown",
   "id": "1a4f36e0-2e4b-4232-a2b9-f52b48c024e9",
   "metadata": {},
   "source": [
    "\n",
    "<div class=\"alert alert-block alert-success\">\n",
    "<b>知识点：</b>Python关键词；变量赋值；数据类型；数据结构；判断语句；循环语句；函数；模块和包；面向对象编程  \n",
    "<br><b>重点：</b>Python的数据类型、数据结构、判断语句、循环语句、函数语句\n",
    "<br><b>难点：</b>面向对象编程相关概念和基本语句\n",
    "</div>\n"
   ]
  },
  {
   "cell_type": "markdown",
   "id": "24547d87-7e69-4969-a484-f109304fb7cb",
   "metadata": {},
   "source": [
    "## 预习"
   ]
  },
  {
   "cell_type": "markdown",
   "id": "a776d193-ef7f-4700-9492-55477d7694bb",
   "metadata": {},
   "source": [
    "### 观看视频\n",
    "\n"
   ]
  },
  {
   "cell_type": "markdown",
   "id": "ba951fda-bd40-4d58-aa0b-1cbebbc08a41",
   "metadata": {},
   "source": [
    "观看以下视频"
   ]
  },
  {
   "cell_type": "markdown",
   "id": "988e8949-9f5f-4a6a-972a-65419cc6012e",
   "metadata": {},
   "source": [
    "『编程思维』系列剧(10集)：[《像程序员一样思考》](https://player.bilibili.com/player.html?aid=796730651&bvid=BV15C4y1t7ep&cid=221112010&p=1&autoplay=0)"
   ]
  },
  {
   "cell_type": "markdown",
   "id": "f1c6c398-e206-4f9c-8ca3-05f4d8d55189",
   "metadata": {},
   "source": [
    "<iframe src=\"https://player.bilibili.com/player.html?aid=796730651&bvid=BV15C4y1t7ep&cid=221112010&p=1&autoplay=0\" allowfullscreen=\"allowfullscreen\" width=\"80%\" height=\"350\" scrolling=\"no\" frameborder=\"0\" sandbox=\"allow-top-navigation allow-same-origin allow-forms allow-scripts\"></iframe>"
   ]
  },
  {
   "cell_type": "markdown",
   "id": "758eac75-083d-4b35-a8dc-e95bf44470e8",
   "metadata": {},
   "source": [
    "### 浏览网络资源"
   ]
  },
  {
   "cell_type": "markdown",
   "id": "94bff0a8-e965-4c08-895a-9813829055b3",
   "metadata": {},
   "source": [
    "浏览以下网络资源"
   ]
  },
  {
   "cell_type": "markdown",
   "id": "404c5d34-20db-4a03-b67e-1a644dbdf736",
   "metadata": {},
   "source": [
    "- NumPy官方文档：<https://numpy.org/doc/stable/user/absolute_beginners.html>\n",
    "- NumPy官方网址：<https://numpy.org/doc/stable/index.html>"
   ]
  },
  {
   "cell_type": "markdown",
   "id": "d30f2a28-62ee-448d-9434-e825d4637dea",
   "metadata": {},
   "source": [
    "###  名词解释"
   ]
  },
  {
   "cell_type": "markdown",
   "id": "7dcfc93a-e646-4988-a711-af689b283183",
   "metadata": {},
   "source": [
    "请使用各类资源和工具，完成以下名词解释：\n",
    "- 计算机语言\n",
    "- conda\n",
    "- 变量\n",
    "- 函数\n",
    "- Jupyter\n",
    "- 缩进\n",
    "- 注释\n",
    "- 程序员与编程\n",
    "- 输入与输出"
   ]
  }
 ],
 "metadata": {
  "kernelspec": {
   "display_name": "Python 3 (ipykernel)",
   "language": "python",
   "name": "python3"
  },
  "language_info": {
   "codemirror_mode": {
    "name": "ipython",
    "version": 3
   },
   "file_extension": ".py",
   "mimetype": "text/x-python",
   "name": "python",
   "nbconvert_exporter": "python",
   "pygments_lexer": "ipython3",
   "version": "3.11.7"
  }
 },
 "nbformat": 4,
 "nbformat_minor": 5
}
