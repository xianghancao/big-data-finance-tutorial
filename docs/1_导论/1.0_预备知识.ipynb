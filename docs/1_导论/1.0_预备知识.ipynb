{
 "cells": [
  {
   "cell_type": "markdown",
   "id": "da8ec1d7-2f97-4fa7-9eb5-78d2c4e11f6c",
   "metadata": {},
   "source": [
    "# 1 导论"
   ]
  },
  {
   "cell_type": "markdown",
   "id": "3a9a2b75-65bb-4e9c-8c84-8967c79c4c29",
   "metadata": {},
   "source": [
    "\n",
    "<div class=\"alert alert-block alert-success\">\n",
    "<b>知识点：</b>大数据和AI的背景；大数据在金融的应用场景；法律法规和道德  \n",
    "<br><b>重点：</b>大数据金融行业案例\n",
    "<br><b>难点：</b>大数据金融相关的法律法规和行业道德\n",
    "</div>\n"
   ]
  },
  {
   "cell_type": "markdown",
   "id": "d37bf7bf-61b5-4938-b9dc-1feeb3a0509d",
   "metadata": {},
   "source": [
    "## 观看视频\n",
    "\n"
   ]
  },
  {
   "cell_type": "markdown",
   "id": "7c992877-f771-4f0b-832b-dddfed4adc4c",
   "metadata": {},
   "source": [
    "光刻机（Lithography Machine）是一种关键的半导体制造设备，用于将图案投射到硅片（或其他基板）上，以制造集成电路（IC）和其他微纳米结构。光刻机在半导体工业中扮演着至关重要的角色，其工作原理类似于传统摄影中的放大投影。"
   ]
  },
  {
   "cell_type": "markdown",
   "id": "92e5984d-6ea8-46f6-9845-d1fbc35deec5",
   "metadata": {},
   "source": [
    "[《光刻机的一秒》](https://player.bilibili.com/player.html?aid=926117712&bvid=BV1zT4y1J7cD&cid=204867263&p=1&autoplay=0)"
   ]
  },
  {
   "cell_type": "markdown",
   "id": "f752c0ba-4706-47f1-8db8-e96b3d12812f",
   "metadata": {},
   "source": [
    "<iframe src=\"https://player.bilibili.com/player.html?aid=926117712&bvid=BV1zT4y1J7cD&cid=204867263&p=1&autoplay=0\" allowfullscreen=\"allowfullscreen\" width=\"80%\" height=\"350\" scrolling=\"no\" frameborder=\"0\" sandbox=\"allow-top-navigation allow-same-origin allow-forms allow-scripts\"></iframe>"
   ]
  },
  {
   "cell_type": "markdown",
   "id": "7771e654-1b82-45bf-87cb-112342fb8f32",
   "metadata": {},
   "source": [
    "EUV（Extreme Ultraviolet）光刻机是一种先进的半导体制造设备，用于制造集成电路（IC）和其他微纳米结构。与传统的光刻机相比，EUV光刻机使用更短波长的极紫外光（通常为13.5纳米），以实现更高的分辨率和更小的特征尺寸。\n",
    "\n"
   ]
  },
  {
   "cell_type": "markdown",
   "id": "e9b597c4-0a2b-44a9-aa57-dcc0028e9ca5",
   "metadata": {},
   "source": [
    "[《EUV光刻机科普》](https://player.bilibili.com/player.html?aid=485704332&bvid=BV1BT411h7V7&cid=1117365500&p=1&autoplay=0)"
   ]
  },
  {
   "cell_type": "markdown",
   "id": "0bd40d55-e96e-404b-957f-12dd95f071ff",
   "metadata": {},
   "source": [
    "<iframe src=\"https://player.bilibili.com/player.html?aid=485704332&bvid=BV1BT411h7V7&cid=1117365500&p=1&autoplay=0\" allowfullscreen=\"allowfullscreen\" width=\"80%\" height=\"350\" scrolling=\"no\" frameborder=\"0\" sandbox=\"allow-top-navigation allow-same-origin allow-forms allow-scripts\"></iframe>"
   ]
  },
  {
   "cell_type": "markdown",
   "id": "b1eea0f1-5229-4a25-a7f5-3021c741f45e",
   "metadata": {},
   "source": [
    "### 图书馆资源的利用\n",
    "1. 在学校图书馆\n",
    "2. 借阅书籍1-2本\n",
    "3. 借阅主题：大数据、金融大数据、金融科技、AI\n",
    "4. 浏览感兴趣的章节，并做笔记"
   ]
  },
  {
   "cell_type": "markdown",
   "id": "d7c959bf-6a2a-430d-bad6-dc421d59af8b",
   "metadata": {},
   "source": [
    "\n",
    "## 名词解释"
   ]
  },
  {
   "cell_type": "markdown",
   "id": "2f52669d-90df-44b2-ad22-1890be9f4625",
   "metadata": {},
   "source": [
    "请使用各类资源和工具，完成以下名词解释：\n",
    "- 芯片\n",
    "- 数据中心\n",
    "- 刀片式服务器\n",
    "- ChatGPT\n",
    "- 信贷违约\n",
    "- 投资者情绪\n",
    "- 星链\n",
    "- 另类数据（Alternative Data）\n",
    "- 数据伦理\n",
    "- 个人隐私数据"
   ]
  }
 ],
 "metadata": {
  "kernelspec": {
   "display_name": "Python 3 (ipykernel)",
   "language": "python",
   "name": "python3"
  },
  "language_info": {
   "codemirror_mode": {
    "name": "ipython",
    "version": 3
   },
   "file_extension": ".py",
   "mimetype": "text/x-python",
   "name": "python",
   "nbconvert_exporter": "python",
   "pygments_lexer": "ipython3",
   "version": "3.9.17"
  }
 },
 "nbformat": 4,
 "nbformat_minor": 5
}
