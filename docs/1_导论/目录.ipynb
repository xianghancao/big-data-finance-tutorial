{
 "cells": [
  {
   "cell_type": "markdown",
   "id": "7d13a707-7aa6-48fe-b83e-dccccc289008",
   "metadata": {},
   "source": [
    "# 1 导论"
   ]
  },
  {
   "cell_type": "markdown",
   "id": "11c47fac-b401-4a2f-bcc1-6c9d747abb3c",
   "metadata": {},
   "source": [
    "\n",
    "<div class=\"alert alert-block alert-success\">\n",
    "<b>知识点：</b>大数据的背景；金融大数据行业案例；相关的法律法规和道德  \n",
    "<br><b>技能：</b>了解大数据的背景；了解金融大数据行业案例；了解金融大数据相关的法律法规和道德  \n",
    "<br><b>作业：</b>小组分组  \n",
    "</div>\n"
   ]
  },
  {
   "cell_type": "markdown",
   "id": "ff4afe7e-1fe8-40d7-a470-b23f73846bba",
   "metadata": {},
   "source": [
    "## 章节"
   ]
  }
 ],
 "metadata": {
  "kernelspec": {
   "display_name": "Python 3 (ipykernel)",
   "language": "python",
   "name": "python3"
  },
  "language_info": {
   "codemirror_mode": {
    "name": "ipython",
    "version": 3
   },
   "file_extension": ".py",
   "mimetype": "text/x-python",
   "name": "python",
   "nbconvert_exporter": "python",
   "pygments_lexer": "ipython3",
   "version": "3.11.7"
  }
 },
 "nbformat": 4,
 "nbformat_minor": 5
}
