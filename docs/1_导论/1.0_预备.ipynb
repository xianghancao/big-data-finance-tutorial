{
 "cells": [
  {
   "cell_type": "markdown",
   "id": "8acfc9d5-3ef5-4c32-a879-50f5ccbd3e3c",
   "metadata": {},
   "source": [
    "# 1 导论"
   ]
  },
  {
   "cell_type": "markdown",
   "id": "390761b8-0a91-4da1-9978-d48a1eb1f0df",
   "metadata": {},
   "source": [
    "\n",
    "<div class=\"alert alert-block alert-success\">\n",
    "<b>知识点：</b>大数据的背景；金融大数据行业案例；相关的法律法规和道德  \n",
    "<br><b>技能：</b>了解大数据的背景；了解金融大数据行业案例；了解金融大数据相关的法律法规和道德  \n",
    "<br><b>作业：</b>小组分组  \n",
    "</div>\n"
   ]
  },
  {
   "cell_type": "markdown",
   "id": "a4553046-d95e-4c3e-9532-82c56f9decea",
   "metadata": {},
   "source": [
    "## 预备\n",
    "### 名词解释"
   ]
  },
  {
   "cell_type": "markdown",
   "id": "132fa087-6d29-4669-be2b-feb0f5a22f60",
   "metadata": {},
   "source": [
    "请使用各类资源和工具，完成以下名词解释：\n",
    "- 芯片\n",
    "- 数据中心\n",
    "- 刀片式服务器\n",
    "- ChatGPT\n",
    "- 信贷违约\n",
    "- 投资者情绪\n",
    "- 星链\n",
    "- 另类数据（Alternative Data）\n",
    "- 数据伦理\n",
    "- 个人隐私数据"
   ]
  },
  {
   "cell_type": "markdown",
   "id": "941a41d3-f75d-471c-8f9a-e345d4003dd5",
   "metadata": {},
   "source": [
    "## 视频\n",
    "\n"
   ]
  },
  {
   "cell_type": "markdown",
   "id": "f9efd07c-6b0b-4676-893f-d228d75e82f0",
   "metadata": {},
   "source": [
    "光刻机（Lithography Machine）是一种关键的半导体制造设备，用于将图案投射到硅片（或其他基板）上，以制造集成电路（IC）和其他微纳米结构。光刻机在半导体工业中扮演着至关重要的角色，其工作原理类似于传统摄影中的放大投影。"
   ]
  },
  {
   "cell_type": "markdown",
   "id": "09bbef30-5858-4028-a752-bd59f7e42ec4",
   "metadata": {},
   "source": [
    "[《光刻机的一秒》](https://player.bilibili.com/player.html?aid=926117712&bvid=BV1zT4y1J7cD&cid=204867263&p=1&autoplay=0)"
   ]
  },
  {
   "cell_type": "markdown",
   "id": "791a10dd-9286-4cad-bdfa-2603e2b1defa",
   "metadata": {},
   "source": [
    "<iframe src=\"https://player.bilibili.com/player.html?aid=926117712&bvid=BV1zT4y1J7cD&cid=204867263&p=1&autoplay=0\" allowfullscreen=\"allowfullscreen\" width=\"80%\" height=\"350\" scrolling=\"no\" frameborder=\"0\" sandbox=\"allow-top-navigation allow-same-origin allow-forms allow-scripts\"></iframe>"
   ]
  },
  {
   "cell_type": "markdown",
   "id": "eb6b89f7-3e41-4098-aad3-b9f81a2e30c4",
   "metadata": {},
   "source": [
    "EUV（Extreme Ultraviolet）光刻机是一种先进的半导体制造设备，用于制造集成电路（IC）和其他微纳米结构。与传统的光刻机相比，EUV光刻机使用更短波长的极紫外光（通常为13.5纳米），以实现更高的分辨率和更小的特征尺寸。\n",
    "\n"
   ]
  },
  {
   "cell_type": "markdown",
   "id": "884a5c1c-a4cc-4cec-b6a0-97f4efe235f4",
   "metadata": {},
   "source": [
    "[《EUV光刻机科普》](https://player.bilibili.com/player.html?aid=485704332&bvid=BV1BT411h7V7&cid=1117365500&p=1&autoplay=0)"
   ]
  },
  {
   "cell_type": "markdown",
   "id": "fa7c8aa0-c196-4c4c-8d2a-91f2293b2789",
   "metadata": {},
   "source": [
    "<iframe src=\"https://player.bilibili.com/player.html?aid=485704332&bvid=BV1BT411h7V7&cid=1117365500&p=1&autoplay=0\" allowfullscreen=\"allowfullscreen\" width=\"80%\" height=\"350\" scrolling=\"no\" frameborder=\"0\" sandbox=\"allow-top-navigation allow-same-origin allow-forms allow-scripts\"></iframe>"
   ]
  },
  {
   "cell_type": "markdown",
   "id": "dcf5576c-6a77-4f8c-b020-7a5133294854",
   "metadata": {},
   "source": [
    "## 网络资源"
   ]
  },
  {
   "cell_type": "markdown",
   "id": "45a9dbae-230e-4155-b57c-aeed73fd2c99",
   "metadata": {},
   "source": [
    "无"
   ]
  },
  {
   "cell_type": "markdown",
   "id": "8492e4f6-a057-45ac-8620-941c7e0dae0e",
   "metadata": {},
   "source": [
    "## 问题\n",
    "快速浏览本章节内容，并记录下遇到的问题：\n",
    "\n",
    "1. xxx\n",
    "2. xxx\n",
    "3. xxx\n",
    "\n",
    "请带着问题，来到课堂。"
   ]
  },
  {
   "cell_type": "markdown",
   "id": "08fd0d58-53df-44ad-8c18-03cfdc232ad7",
   "metadata": {},
   "source": []
  }
 ],
 "metadata": {
  "kernelspec": {
   "display_name": "Python 3 (ipykernel)",
   "language": "python",
   "name": "python3"
  },
  "language_info": {
   "codemirror_mode": {
    "name": "ipython",
    "version": 3
   },
   "file_extension": ".py",
   "mimetype": "text/x-python",
   "name": "python",
   "nbconvert_exporter": "python",
   "pygments_lexer": "ipython3",
   "version": "3.11.5"
  }
 },
 "nbformat": 4,
 "nbformat_minor": 5
}
