{
 "cells": [
  {
   "cell_type": "markdown",
   "id": "8acfc9d5-3ef5-4c32-a879-50f5ccbd3e3c",
   "metadata": {},
   "source": [
    "# 1 导论"
   ]
  },
  {
   "cell_type": "markdown",
   "id": "57dc0a0c-48d2-4feb-948a-c828befbdb32",
   "metadata": {},
   "source": [
    " 凡我不能创造的，我就不能理解 ——理查德\\*费曼"
   ]
  }
 ],
 "metadata": {
  "kernelspec": {
   "display_name": "Python 3 (ipykernel)",
   "language": "python",
   "name": "python3"
  },
  "language_info": {
   "codemirror_mode": {
    "name": "ipython",
    "version": 3
   },
   "file_extension": ".py",
   "mimetype": "text/x-python",
   "name": "python",
   "nbconvert_exporter": "python",
   "pygments_lexer": "ipython3",
   "version": "3.11.5"
  }
 },
 "nbformat": 4,
 "nbformat_minor": 5
}
