{
 "cells": [
  {
   "cell_type": "markdown",
   "id": "58402604-91d6-486b-b51e-22c2fbf36d1e",
   "metadata": {},
   "source": [
    "# 作业：上市公司基本面分析"
   ]
  },
  {
   "cell_type": "markdown",
   "id": "7a53c6fe-d9b0-47f8-bda7-de8bcb7e5e30",
   "metadata": {},
   "source": [
    "应用本章节提供的获取金融数据的方法，完成任意一个方向：\n",
    "- 财务比率分析：这是基本面分析中最基本的方法之一，通过计算和比较各种财务指标来评估公司的财务健康状况。包括利润率、毛利率、净利润率、资产负债比率、流动比率、速动比率等。\n",
    "- 盈利模型：这些模型通过对公司未来盈利的预测，来评估公司的价值。包括市盈率模型（P/E）、市净率模型（P/B）、市销率模型（P/S）等。\n",
    "- 贴现现金流量模型（DCF）：DCF模型是一种常用的估值方法，通过对公司未来现金流量的预测，折现至现在的价值，来评估公司的内在价值。这个模型依赖于对未来现金流量的准确预测，以及适当选择折现率。\n"
   ]
  },
  {
   "cell_type": "markdown",
   "id": "cbb77bdc-fdd8-4092-bd47-122d0b75365c",
   "metadata": {},
   "source": []
  }
 ],
 "metadata": {
  "kernelspec": {
   "display_name": "Python 3 (ipykernel)",
   "language": "python",
   "name": "python3"
  },
  "language_info": {
   "codemirror_mode": {
    "name": "ipython",
    "version": 3
   },
   "file_extension": ".py",
   "mimetype": "text/x-python",
   "name": "python",
   "nbconvert_exporter": "python",
   "pygments_lexer": "ipython3",
   "version": "3.11.5"
  }
 },
 "nbformat": 4,
 "nbformat_minor": 5
}
