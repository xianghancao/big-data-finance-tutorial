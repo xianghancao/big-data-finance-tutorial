{
 "cells": [
  {
   "cell_type": "markdown",
   "id": "4cfaa083-8f32-4f19-872d-573a296ecb6a",
   "metadata": {
    "tags": []
   },
   "source": [
    "# 6.4 财经新闻数据"
   ]
  },
  {
   "cell_type": "markdown",
   "id": "db78b03c-df1d-4218-bd18-f286467fd389",
   "metadata": {},
   "source": [
    "财经新闻数据通常涵盖了各种类别，涉及到金融市场、经济、企业、行业等方面的内容。以下是一些常见的财经新闻数据类别：\n",
    "\n",
    "|财经新闻数据|类别|内容 |\n",
    "|---|---|---|\n",
    "|**股市新闻**|公司新闻|特定公司的新闻，包括业绩公告、重大事件、合并收购等。|\n",
    "|   |行业新闻|特定行业或行业走势的新闻，包括行业分析、发展趋势等。|\n",
    "|   |市场分析|股票市场、债券市场、商品市场等方面的分析和预测。|\n",
    "|**经济新闻**|宏观经济|国家或地区整体经济状况、政策变化等方面的新闻。|\n",
    "|   |经济数据|各种经济数据，如国内生产总值（GDP）、就业数据、通货膨胀率等。|\n",
    "|**金融政策**|中央银行政策|央行货币政策、利率决策等方面的新闻。|\n",
    "|   |政府政策|财政政策、税收政策等方面的新闻。|\n",
    "|**国际财经**|国际金融|国际金融市场、外汇市场、国际贸易等方面的新闻。|\n",
    "|   |全球经济|全球经济走势、国际经济关系等方面的新闻。|\n",
    "|**商业新闻**|商业动态|企业经营活动、商业策略、市场竞争等方面的新闻。|\n",
    "|   |创业投资|创业公司、风险投资、创业生态等方面的新闻。|\n",
    "\n",
    "6. **金融科技**：\n",
    "   - 金融科技创新：关于金融科技行业发展、技术创新、数字化转型等方面的新闻。\n",
    "   - 区块链与加密货币：关于区块链技术、比特币、以太坊等加密货币的新闻。\n",
    "\n",
    "以上是财经新闻数据的一些常见类别，新闻内容和分类可能会根据不同的媒体、网站或新闻服务提供商而有所不同。"
   ]
  },
  {
   "cell_type": "markdown",
   "id": "b61b6664-cfb2-4454-a6f0-1a30ab87735d",
   "metadata": {},
   "source": [
    "## 1. 使用网页抓取技术获取财经新闻"
   ]
  },
  {
   "cell_type": "code",
   "execution_count": 2,
   "id": "d6b77bf1-a123-4003-88b3-0e0e882a7280",
   "metadata": {
    "tags": []
   },
   "outputs": [
    {
     "name": "stdout",
     "output_type": "stream",
     "text": [
      "Two fresh ways to play the weight loss and megacap tech hype\n",
      "'Gray divorce' has doubled since the '90s. The financial risk is high for women\n",
      "Anthropic is lining up a new slate of investors, but has ruled out Saudi Arabia\n",
      "How to spot and overcome ‘ghost’ jobs\n",
      "Stocks making the biggest moves midday: Nike, Lululemon, FedEx and more\n",
      "Stocks making the biggest moves premarket: Reddit, Nike, FedEx and more\n",
      "Immigration is boosting the U.S. economy and has been 'underestimated': JPMorgan\n",
      "Stocks making the biggest moves after hours: Lululemon, FedEx, Nike and more\n",
      "Stocks making the biggest moves midday: Micron, Apple, Nvidia, Chewy and more\n",
      "Stocks making the biggest premarket moves: Micron, Apple, Broadcom and more\n",
      "TikTok aside, Congress has its eye on the U.S. money going into China\n",
      "Stocks making the biggest moves after hours: Micron, Five Below, Chewy and more\n",
      "Fed raises GDP and inflation outlook, while keeping rate cut forecast\n",
      "Here's what changed in the new Fed statement\n",
      "Fed holds rates steady and maintains three cuts coming sometime this year\n",
      "Stocks making the biggest moves midday: Signet Jewelers, Chipotle, Best Buy\n",
      "Stocks making the biggest moves premarket: Chipotle, MicroStrategy, CarMax, Intel and more\n",
      "Bank of England set to hold rates, but falling inflation brings cuts into view\n",
      "EU-China trade relations in a 'slow-motion train accident,' business group says\n",
      "Here's everything to expect from the Federal Reserve's policy meeting Wednesday\n",
      "Stocks making biggest moves midday: Nvidia, Super Micro, Unilever and more\n",
      "Banks are in limbo without a key lifeline. Here's where cracks may appear next\n",
      "Grayscale CEO says fees on flagship bitcoin ETF will come down over time\n",
      "'Glitch' at Ethiopia's biggest bank allows customers to withdraw unlimited cash\n",
      "From Carl Icahn to Gautam Adani: How short-seller Hindenburg is making a name for itself\n",
      "Time is running out for interest rate cuts, market forecaster Jim Bianco warns\n",
      "This is the easiest way for newbies to start investing, financial experts say\n",
      "Stocks making the biggest moves midday: Nvidia, Apple, Alphabet and more\n",
      "Stocks making the biggest moves premarket: Google, HashiCorp, Nvidia and more\n",
      "China kicks off the year on strong note as retail, industrial data tops expectations\n",
      "TikTok debate reveals the risks for investing in China during U.S. election year\n",
      "Talk of recession is dying down in corporate America\n",
      "Bitcoin may start to lose its reputation as a volatile asset. Here's why\n",
      "Stocks making the biggest moves midday: Adobe, Ulta, Micron, Rivian and more\n"
     ]
    }
   ],
   "source": [
    "import requests\n",
    "from bs4 import BeautifulSoup\n",
    "\n",
    "# 定义要抓取的新闻网站的URL\n",
    "url = 'https://www.cnbc.com/finance/'\n",
    "\n",
    "# 发起HTTP请求并获取网页内容\n",
    "response = requests.get(url)\n",
    "\n",
    "# 检查请求是否成功\n",
    "if response.status_code == 200:\n",
    "    # 使用Beautiful Soup解析网页内容\n",
    "    soup = BeautifulSoup(response.content, 'html.parser')\n",
    "    \n",
    "    # 查找新闻标题元素（这里以CNBC网站的财经新闻为例）\n",
    "    news_titles = soup.find_all('a', class_='Card-title')\n",
    "\n",
    "    # 输出新闻标题\n",
    "    for title in news_titles:\n",
    "        print(title.text)\n",
    "else:\n",
    "    print('Failed to fetch news from CNBC.')\n"
   ]
  },
  {
   "cell_type": "markdown",
   "id": "4060f735-db3a-4850-a82f-990bd07886a9",
   "metadata": {},
   "source": [
    "## 2. 以文件流的形式存取数据"
   ]
  },
  {
   "cell_type": "code",
   "execution_count": 8,
   "id": "35f43f8d-7638-4996-8781-da3b35a8e415",
   "metadata": {},
   "outputs": [
    {
     "name": "stdout",
     "output_type": "stream",
     "text": [
      "据21世纪经济报道（21财经）4日报道，9月3日，在2021中国服贸会“服务贸易开放发展新趋势高峰论坛”上，海关总署研究中心主任万中心预计，今年中国货物贸易有望实现两位数增长，达到5.1万亿美元，这意味着在“十四五”开局第一年，中国有望提前完成货物贸易的“十四五”目标。\n",
      "\n",
      "万中心指出，疫情以来直到今天，中国货物贸易一直保持着不错的增长。根据其团队的预测，如果不出现极端情况的话，今年中国货物贸易进出口会实现两位数的增长，“这个两位数的增长不仅仅是针对去年的同比增速，相较于疫情前的2019年，今年也有望实现年均两位数的增长，接近‘十一五’时期的数字。”\n",
      "\n",
      "他指出，按此测算，中国货物贸易的国际市场份额将进一步提升至15%左右。\n",
      "\n",
      "值得注意的是，根据此前公布的《“十四五”商务发展规划》，“十四五”期间，中国的货物贸易的预期目标为：到2025年，中国货物贸易规模达到5.1万亿美元。“今年，中国有可能达到5.1万亿美元，大概率在今年，也就是‘十四五’开局第一年提前完成这一目标。”\n",
      "\n",
      "万中心指出，中国货物贸易在“十二五”、“十三五”期间的年均增速分别为7.6%、2.6%，《“十四五”商务发展规划》的预期目标是，“十四五”期间年均增长2%。\n"
     ]
    }
   ],
   "source": [
    "with open(\"datasets/non-structure-data.txt\", \"rb\") as f:\n",
    "    for i in f:\n",
    "        print(i.decode(\"utf-8\"))"
   ]
  },
  {
   "cell_type": "markdown",
   "id": "708f9c9c-3cac-45d4-9577-1a838cdd7722",
   "metadata": {},
   "source": [
    "在这个示例中，我们首先导入了requests库和Beautiful Soup库，然后定义了要抓取的新闻网站的URL（这里以CNBC财经新闻为例）。接着，我们使用requests库发起了HTTP请求，并通过Beautiful Soup库解析了网页内容。我们通过查找特定的HTML元素来提取新闻标题，并将其打印输出。"
   ]
  }
 ],
 "metadata": {
  "kernelspec": {
   "display_name": "Python 3 (ipykernel)",
   "language": "python",
   "name": "python3"
  },
  "language_info": {
   "codemirror_mode": {
    "name": "ipython",
    "version": 3
   },
   "file_extension": ".py",
   "mimetype": "text/x-python",
   "name": "python",
   "nbconvert_exporter": "python",
   "pygments_lexer": "ipython3",
   "version": "3.11.5"
  }
 },
 "nbformat": 4,
 "nbformat_minor": 5
}
