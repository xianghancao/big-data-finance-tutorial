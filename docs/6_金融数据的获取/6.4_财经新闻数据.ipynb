{
 "cells": [
  {
   "cell_type": "markdown",
   "id": "4cfaa083-8f32-4f19-872d-573a296ecb6a",
   "metadata": {
    "tags": []
   },
   "source": [
    "# 6.3 财经新闻数据"
   ]
  },
  {
   "cell_type": "markdown",
   "id": "db78b03c-df1d-4218-bd18-f286467fd389",
   "metadata": {},
   "source": [
    "获取金融财经新闻可以通过以下几种途径：\n",
    "\n",
    "1. **金融新闻网站**：许多专门报道金融财经新闻的网站提供了全球范围内的金融资讯和市场分析。一些知名的金融新闻网站包括CNBC、Bloomberg、Reuters、华尔街日报、财新网等。你可以直接访问这些网站，浏览他们的金融新闻内容。\n",
    "\n",
    "2. **金融新闻应用**：许多新闻机构或金融数据提供商都提供了手机应用程序，用户可以通过这些应用程序随时随地获取金融财经新闻。例如，CNBC、Bloomberg、Yahoo Finance等都有自己的手机应用。\n",
    "\n",
    "3. **社交媒体**：许多金融专家、分析师和新闻机构都在社交媒体平台上发布金融财经新闻和市场分析。你可以关注一些知名人士或机构的社交媒体账号，获取他们的最新动态和见解。\n",
    "\n",
    "4. **金融数据终端**：一些专业的金融数据终端，如Bloomberg Terminal、Refinitiv Eikon等，提供了全球范围内的金融新闻和市场资讯服务。通过订阅这些终端，你可以获取到实时的金融新闻报道和市场数据。\n",
    "\n",
    "5. **金融新闻API**：一些金融数据提供商或新闻机构提供了API接口，允许开发者通过编程方式获取金融新闻数据。通过调用这些API，你可以获取到特定主题、日期范围或其他条件下的金融财经新闻内容。\n",
    "\n",
    "不论采用何种方式获取金融财经新闻，都需要注意数据的来源和准确性，以及可能存在的数据使用限制和法律约束。"
   ]
  },
  {
   "cell_type": "markdown",
   "id": "b61b6664-cfb2-4454-a6f0-1a30ab87735d",
   "metadata": {},
   "source": [
    "## 1. 使用网页抓取技术获取财经新闻"
   ]
  },
  {
   "cell_type": "code",
   "execution_count": 2,
   "id": "d6b77bf1-a123-4003-88b3-0e0e882a7280",
   "metadata": {
    "collapsed": true,
    "jupyter": {
     "outputs_hidden": true
    },
    "tags": []
   },
   "outputs": [
    {
     "name": "stdout",
     "output_type": "stream",
     "text": [
      "Two fresh ways to play the weight loss and megacap tech hype\n",
      "'Gray divorce' has doubled since the '90s. The financial risk is high for women\n",
      "Anthropic is lining up a new slate of investors, but has ruled out Saudi Arabia\n",
      "How to spot and overcome ‘ghost’ jobs\n",
      "Stocks making the biggest moves midday: Nike, Lululemon, FedEx and more\n",
      "Stocks making the biggest moves premarket: Reddit, Nike, FedEx and more\n",
      "Immigration is boosting the U.S. economy and has been 'underestimated': JPMorgan\n",
      "Stocks making the biggest moves after hours: Lululemon, FedEx, Nike and more\n",
      "Stocks making the biggest moves midday: Micron, Apple, Nvidia, Chewy and more\n",
      "Stocks making the biggest premarket moves: Micron, Apple, Broadcom and more\n",
      "TikTok aside, Congress has its eye on the U.S. money going into China\n",
      "Stocks making the biggest moves after hours: Micron, Five Below, Chewy and more\n",
      "Fed raises GDP and inflation outlook, while keeping rate cut forecast\n",
      "Here's what changed in the new Fed statement\n",
      "Fed holds rates steady and maintains three cuts coming sometime this year\n",
      "Stocks making the biggest moves midday: Signet Jewelers, Chipotle, Best Buy\n",
      "Stocks making the biggest moves premarket: Chipotle, MicroStrategy, CarMax, Intel and more\n",
      "Bank of England set to hold rates, but falling inflation brings cuts into view\n",
      "EU-China trade relations in a 'slow-motion train accident,' business group says\n",
      "Here's everything to expect from the Federal Reserve's policy meeting Wednesday\n",
      "Stocks making biggest moves midday: Nvidia, Super Micro, Unilever and more\n",
      "Banks are in limbo without a key lifeline. Here's where cracks may appear next\n",
      "Grayscale CEO says fees on flagship bitcoin ETF will come down over time\n",
      "'Glitch' at Ethiopia's biggest bank allows customers to withdraw unlimited cash\n",
      "From Carl Icahn to Gautam Adani: How short-seller Hindenburg is making a name for itself\n",
      "Time is running out for interest rate cuts, market forecaster Jim Bianco warns\n",
      "This is the easiest way for newbies to start investing, financial experts say\n",
      "Stocks making the biggest moves midday: Nvidia, Apple, Alphabet and more\n",
      "Stocks making the biggest moves premarket: Google, HashiCorp, Nvidia and more\n",
      "China kicks off the year on strong note as retail, industrial data tops expectations\n",
      "TikTok debate reveals the risks for investing in China during U.S. election year\n",
      "Talk of recession is dying down in corporate America\n",
      "Bitcoin may start to lose its reputation as a volatile asset. Here's why\n",
      "Stocks making the biggest moves midday: Adobe, Ulta, Micron, Rivian and more\n"
     ]
    }
   ],
   "source": [
    "import requests\n",
    "from bs4 import BeautifulSoup\n",
    "\n",
    "# 定义要抓取的新闻网站的URL\n",
    "url = 'https://www.cnbc.com/finance/'\n",
    "\n",
    "# 发起HTTP请求并获取网页内容\n",
    "response = requests.get(url)\n",
    "\n",
    "# 检查请求是否成功\n",
    "if response.status_code == 200:\n",
    "    # 使用Beautiful Soup解析网页内容\n",
    "    soup = BeautifulSoup(response.content, 'html.parser')\n",
    "    \n",
    "    # 查找新闻标题元素（这里以CNBC网站的财经新闻为例）\n",
    "    news_titles = soup.find_all('a', class_='Card-title')\n",
    "\n",
    "    # 输出新闻标题\n",
    "    for title in news_titles:\n",
    "        print(title.text)\n",
    "else:\n",
    "    print('Failed to fetch news from CNBC.')\n"
   ]
  },
  {
   "cell_type": "markdown",
   "id": "4060f735-db3a-4850-a82f-990bd07886a9",
   "metadata": {},
   "source": [
    "## 2. 以文件流的形式存取数据"
   ]
  },
  {
   "cell_type": "code",
   "execution_count": 8,
   "id": "35f43f8d-7638-4996-8781-da3b35a8e415",
   "metadata": {},
   "outputs": [
    {
     "name": "stdout",
     "output_type": "stream",
     "text": [
      "据21世纪经济报道（21财经）4日报道，9月3日，在2021中国服贸会“服务贸易开放发展新趋势高峰论坛”上，海关总署研究中心主任万中心预计，今年中国货物贸易有望实现两位数增长，达到5.1万亿美元，这意味着在“十四五”开局第一年，中国有望提前完成货物贸易的“十四五”目标。\n",
      "\n",
      "万中心指出，疫情以来直到今天，中国货物贸易一直保持着不错的增长。根据其团队的预测，如果不出现极端情况的话，今年中国货物贸易进出口会实现两位数的增长，“这个两位数的增长不仅仅是针对去年的同比增速，相较于疫情前的2019年，今年也有望实现年均两位数的增长，接近‘十一五’时期的数字。”\n",
      "\n",
      "他指出，按此测算，中国货物贸易的国际市场份额将进一步提升至15%左右。\n",
      "\n",
      "值得注意的是，根据此前公布的《“十四五”商务发展规划》，“十四五”期间，中国的货物贸易的预期目标为：到2025年，中国货物贸易规模达到5.1万亿美元。“今年，中国有可能达到5.1万亿美元，大概率在今年，也就是‘十四五’开局第一年提前完成这一目标。”\n",
      "\n",
      "万中心指出，中国货物贸易在“十二五”、“十三五”期间的年均增速分别为7.6%、2.6%，《“十四五”商务发展规划》的预期目标是，“十四五”期间年均增长2%。\n"
     ]
    }
   ],
   "source": [
    "with open(\"datasets/non-structure-data.txt\", \"rb\") as f:\n",
    "    for i in f:\n",
    "        print(i.decode(\"utf-8\"))"
   ]
  },
  {
   "cell_type": "markdown",
   "id": "708f9c9c-3cac-45d4-9577-1a838cdd7722",
   "metadata": {},
   "source": [
    "在这个示例中，我们首先导入了requests库和Beautiful Soup库，然后定义了要抓取的新闻网站的URL（这里以CNBC财经新闻为例）。接着，我们使用requests库发起了HTTP请求，并通过Beautiful Soup库解析了网页内容。我们通过查找特定的HTML元素来提取新闻标题，并将其打印输出。"
   ]
  }
 ],
 "metadata": {
  "kernelspec": {
   "display_name": "Python 3 (ipykernel)",
   "language": "python",
   "name": "python3"
  },
  "language_info": {
   "codemirror_mode": {
    "name": "ipython",
    "version": 3
   },
   "file_extension": ".py",
   "mimetype": "text/x-python",
   "name": "python",
   "nbconvert_exporter": "python",
   "pygments_lexer": "ipython3",
   "version": "3.11.5"
  }
 },
 "nbformat": 4,
 "nbformat_minor": 5
}
