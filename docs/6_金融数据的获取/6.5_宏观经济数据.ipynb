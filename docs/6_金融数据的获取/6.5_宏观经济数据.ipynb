{
 "cells": [
  {
   "cell_type": "markdown",
   "id": "c5ab4da7-8286-4494-ac23-f5893664ec3d",
   "metadata": {},
   "source": [
    "# 6.5 宏观经济数据的获取"
   ]
  },
  {
   "cell_type": "markdown",
   "id": "af1a5e16-109c-4e0b-84be-7c6f8770cc09",
   "metadata": {},
   "source": []
  }
 ],
 "metadata": {
  "kernelspec": {
   "display_name": "Python 3 (ipykernel)",
   "language": "python",
   "name": "python3"
  },
  "language_info": {
   "codemirror_mode": {
    "name": "ipython",
    "version": 3
   },
   "file_extension": ".py",
   "mimetype": "text/x-python",
   "name": "python",
   "nbconvert_exporter": "python",
   "pygments_lexer": "ipython3",
   "version": "3.11.5"
  }
 },
 "nbformat": 4,
 "nbformat_minor": 5
}
