{
 "cells": [
  {
   "cell_type": "markdown",
   "id": "cb68b487-a735-4dff-85c5-34fd6ed1967d",
   "metadata": {},
   "source": [
    "# 6.4 财经文本的获取"
   ]
  },
  {
   "cell_type": "markdown",
   "id": "fe2b443e-31f7-47de-a28b-d9c29a505065",
   "metadata": {},
   "source": [
    "财经新闻数据通常涵盖了各种类别，涉及到金融市场、经济、企业、行业等方面的内容。以下是一些常见的财经新闻数据类别：\n",
    "\n",
    "|财经新闻数据|类别|内容 |\n",
    "|---|---|---|\n",
    "|**股市新闻**|公司新闻|特定公司的新闻，包括业绩公告、重大事件、合并收购等。|\n",
    "|   |行业新闻|特定行业或行业走势的新闻，包括行业分析、发展趋势等。|\n",
    "|   |市场分析|股票市场、债券市场、商品市场等方面的分析和预测。|\n",
    "|**经济新闻**|宏观经济|国家或地区整体经济状况、政策变化等方面的新闻。|\n",
    "|   |经济数据|各种经济数据，如国内生产总值（GDP）、就业数据、通货膨胀率等。|\n",
    "|**金融政策**|中央银行政策|央行货币政策、利率决策等方面的新闻。|\n",
    "|   |政府政策|财政政策、税收政策等方面的新闻。|\n",
    "|**国际财经**|国际金融|国际金融市场、外汇市场、国际贸易等方面的新闻。|\n",
    "|   |全球经济|全球经济走势、国际经济关系等方面的新闻。|\n",
    "|**商业新闻**|商业动态|企业经营活动、商业策略、市场竞争等方面的新闻。|\n",
    "|   |创业投资|创业公司、风险投资、创业生态等方面的新闻。|\n"
   ]
  },
  {
   "cell_type": "markdown",
   "id": "f855c261-84d8-4661-b5ce-5e74de61e68a",
   "metadata": {},
   "source": [
    "## 1. 网络爬虫"
   ]
  },
  {
   "cell_type": "markdown",
   "id": "ba14b437-30f5-434f-95a4-cddd996ecd97",
   "metadata": {},
   "source": [
    "不管是商业数据集，还是财经数据集，很多被嵌入到网页的结构和样式中，难以复制，需要使用特殊方法抓取出来。从网页中抽取数据的过程被称为**网络爬虫**。"
   ]
  },
  {
   "cell_type": "markdown",
   "id": "51777985-9f21-4e95-9dba-49f2ad9b7bec",
   "metadata": {},
   "source": [
    "## 2. 客户端与服务器"
   ]
  },
  {
   "cell_type": "markdown",
   "id": "6a54c5ff-761f-47a8-b2bf-26c6dedf127c",
   "metadata": {},
   "source": [
    "客户端(Clients)通常是浏览器（Chrome、Edge、Safari），它们可以是任何类型的程序或设备。  \n",
    "服务器(Servers)最常见的是云端服务器。\n",
    "\n",
    "![clients_server](images/clients_server.png)"
   ]
  },
  {
   "cell_type": "markdown",
   "id": "59052801-9548-45c2-8275-054e2c3e7e25",
   "metadata": {},
   "source": [
    "客户端(Clinet)和服务器(Server)之间的通信是通过请求(request)和响应(response)完成的：\n",
    "\n",
    "1. 客户端,通常是浏览器向网络发送一个HTTP请求(request)\n",
    "2. 服务器收到该请求\n",
    "3. 服务器运行一个应用程序来处理该请求\n",
    "4. 服务器向浏览器返回一个HTTP响应（response）\n",
    "5. 浏览器收到该响应"
   ]
  },
  {
   "cell_type": "markdown",
   "id": "63ca21a2-16c0-469f-86a5-c5a98d9d7b9a",
   "metadata": {},
   "source": [
    "\n",
    "以下是一些和网络爬虫相关，你需要知道的基本概念：\n",
    "\n",
    "|名词|英文全称|概念解释|\n",
    "|---|---|---|\n",
    "|HTTP|Hypertext Transfer Protocol|超文本传输协议（HTTP）是互联网协议套件模型中的一个应用层协议，用于分布式、协作式、超媒体信息系统|\n",
    "|URL|Uniform Resource Locator|它是互联网资源的地址，它包括一个协议，一个域名，有时还包括其他定位信息|\n",
    "|认证|Authentication|它对访问者的身份进行验证，例如验证用户输入的密码是否正确|\n",
    "|重定向|URL Redirections|它是一种网络技术，使一个网页在多个URL地址下可用|\n",
    "|Cookies|HTTP Cookies|它是用户浏览网站时在本地存储的相关信息，包括身份信息、登录信息、购物车和历史记录等|\n"
   ]
  },
  {
   "cell_type": "markdown",
   "id": "a793ee86-b8ad-46a6-9b3a-68647e4ef2d3",
   "metadata": {},
   "source": [
    "## 3. 使用urllib库抓取网页"
   ]
  },
  {
   "cell_type": "markdown",
   "id": "99d6b49e-f7e3-4125-bb38-8d1ceae3c144",
   "metadata": {},
   "source": [
    "urllib作为Python的标准库，基本上涵盖了基础的网络请求功能。"
   ]
  },
  {
   "cell_type": "markdown",
   "id": "9e156804-16ad-4940-a761-0b92413dad75",
   "metadata": {},
   "source": [
    "urllib中，request这个模块主要负责构造和发起网络请求，并在其中加入Headers、Proxy等。它还提供了一个稍微复杂的接口来处理常见的情况--如基本认证、cookies、代理等等。"
   ]
  },
  {
   "cell_type": "markdown",
   "id": "3ad601cf-99ae-40c7-b2fa-2192f0b07e2a",
   "metadata": {},
   "source": [
    "使用 urllib.request 的最简单方法如下："
   ]
  },
  {
   "cell_type": "code",
   "execution_count": 76,
   "id": "b42420a5-ffb0-44a2-90d5-b0c8234c83e7",
   "metadata": {
    "tags": []
   },
   "outputs": [],
   "source": [
    "from urllib import request\n",
    "resp = request.urlopen('http://www.baidu.com')\n",
    "content = resp.read().decode('utf-8')   #根据网站对于文字的编码类型，进行解码"
   ]
  },
  {
   "cell_type": "markdown",
   "id": "3eb9ac01-dae0-4446-a944-5c48fd37b276",
   "metadata": {},
   "source": [
    "输出content的部分，例如前1000个字符："
   ]
  },
  {
   "cell_type": "code",
   "execution_count": 77,
   "id": "ba926188-7b6c-4cd3-b146-d3feede9a8d5",
   "metadata": {},
   "outputs": [
    {
     "data": {
      "text/plain": [
       "'<!DOCTYPE html><!--STATUS OK--><html><head><meta http-equiv=\"Content-Type\" content=\"text/html;charset=utf-8\"><meta http-equiv=\"X-UA-Compatible\" content=\"IE=edge,chrome=1\"><meta content=\"always\" name=\"referrer\"><meta name=\"theme-color\" content=\"#ffffff\"><meta name=\"description\" content=\"全球领先的中文搜索引擎、致力于让网民更便捷地获取信息，找到所求。百度超过千亿的中文网页数据库，可以瞬间找到相关的搜索结果。\"><link rel=\"shortcut icon\" href=\"/favicon.ico\" type=\"image/x-icon\" /><link rel=\"search\" type=\"application/opensearchdescription+xml\" href=\"/content-search.xml\" title=\"百度搜索\" /><link rel=\"icon\" sizes=\"any\" mask href=\"//www.baidu.com/img/baidu_85beaf5496f291521eb75ba38eacbd87.svg\"><link rel=\"dns-prefetch\" href=\"//dss0.bdstatic.com\"/><link rel=\"dns-prefetch\" href=\"//dss1.bdstatic.com\"/><link rel=\"dns-prefetch\" href=\"//ss1.bdstatic.com\"/><link rel=\"dns-prefetch\" href=\"//sp0.baidu.com\"/><link rel=\"dns-prefetch\" href=\"//sp1.baidu.com\"/><link rel=\"dns-prefetch\" href=\"//sp2.baidu.com\"/><link rel=\"apple-touch-icon-precomposed\" href=\"https://psstatic.cdn'"
      ]
     },
     "execution_count": 77,
     "metadata": {},
     "output_type": "execute_result"
    }
   ],
   "source": [
    "content[:1000]"
   ]
  },
  {
   "cell_type": "markdown",
   "id": "2136125b-6e71-4d10-9364-f667b7858ebf",
   "metadata": {},
   "source": [
    "上述返回的内容是一个使用HTML语言编写的字符串。HTML是超文本标记语言的缩写，它是网页的标准标记语言。上述内容包含了由<>标签表示的大量HTML元素。"
   ]
  },
  {
   "cell_type": "markdown",
   "id": "076ccca0-5d84-434f-8c92-5aa91ff74021",
   "metadata": {},
   "source": [
    "## 4. 使用requests库抓取东方财富的网页"
   ]
  },
  {
   "cell_type": "markdown",
   "id": "8fea7d5d-c304-41fd-8572-43b5bd880dc7",
   "metadata": {},
   "source": [
    "[requests](https://docs.python-requests.org/en/latest/)是一个流行的爬虫工具，它在urllib3上进行封装，使得爬虫变得更加简单。"
   ]
  },
  {
   "cell_type": "markdown",
   "id": "47ca528d-8ee7-4d42-ae26-f7d619051bf0",
   "metadata": {},
   "source": [
    "东方财富网是一家为用户提供基于互联网的财经资讯、数据等服务，旗下拥有财经门户“东方财富网”、互联网基金销售平台“天天基金”、中国人气股票基金交流社区“股吧”等。\n",
    "为了方便下一章节文本分析需要使用的数据，我们访问股票社区网站，例如股吧：[http://guba.eastmoney.com/list,002594.html](http://guba.eastmoney.com/list,002594.html)。打开网页后，通过在firefox或者chrome里鼠标右键选择【检查元素】，就会看到以下图片："
   ]
  },
  {
   "cell_type": "markdown",
   "id": "df5fe353-1fdf-4ba4-9461-e04fc85311c3",
   "metadata": {},
   "source": [
    "![requests](images/requests.png)"
   ]
  },
  {
   "cell_type": "markdown",
   "id": "4d303823-3d15-4974-abec-0f358fce0035",
   "metadata": {},
   "source": [
    "**第一步，使用requests.get()函数获取html文件**"
   ]
  },
  {
   "cell_type": "code",
   "execution_count": 1,
   "id": "cfde9376-1cd8-4f6d-8667-3f847cc70991",
   "metadata": {},
   "outputs": [],
   "source": [
    "import requests\n",
    "headers = { \"User-Agent\": \"Mozilla/5.0 (Macintosh; Intel Mac OS X 10.15; rv:91.0) Gecko/20100101 Firefox/91.0\"}\n",
    "url = 'http://guba.eastmoney.com/list,002594.html'\n",
    "req = requests.get(url=url, headers=headers)\n",
    "html_doc = req.content.decode(\"utf-8\")"
   ]
  },
  {
   "cell_type": "markdown",
   "id": "fd5fe277-7fc3-49f4-ad7c-6dbcd808b35b",
   "metadata": {},
   "source": [
    "**第二步，我们解析图片里面这句话**"
   ]
  },
  {
   "cell_type": "markdown",
   "id": "a6b67d7c-b8e7-49ac-9883-7502c01dc0fc",
   "metadata": {},
   "source": [
    "上图的`“完了！重大利空，锂电、新能源汽车明天又要”`在html的XPath路径为`“/html/body/div[6]/div[2]/div[4]/div[11]/span[3]/a”`。  \n",
    "lxml是处理XML和HTML的Python库。使用方法见[官网](https://lxml.de/tutorial.html)。"
   ]
  },
  {
   "cell_type": "code",
   "execution_count": 11,
   "id": "3bd2b8ed-864b-4d1c-ac32-6193c4b51168",
   "metadata": {},
   "outputs": [
    {
     "data": {
      "text/plain": [
       "'完了！重大利空，锂电、新能源汽车明天又要'"
      ]
     },
     "execution_count": 11,
     "metadata": {},
     "output_type": "execute_result"
    }
   ],
   "source": [
    "from lxml import etree\n",
    "html_obj = etree.HTML(html_doc)\n",
    "reads_path = '/html/body/div[6]/div[2]/div[4]/div[11]/span[3]/a'\n",
    "html_obj.xpath(reads_path)[0].text"
   ]
  },
  {
   "cell_type": "markdown",
   "id": "52424454-fbf7-4313-9a5f-6ce8c05e85be",
   "metadata": {},
   "source": [
    "**第三步，我们设计一个函数，用来解析html文件里面的元素**\n",
    "\n",
    "提取每一条评论的信息，包含阅读数、评论、标题、作者、最后更新时间等。"
   ]
  },
  {
   "cell_type": "code",
   "execution_count": 27,
   "id": "0c737e4c-415f-44a3-a6ac-23ecfc8a1d29",
   "metadata": {},
   "outputs": [],
   "source": [
    "from lxml import etree\n",
    "def parse_html(url, html_doc):\n",
    "    \"\"\"\n",
    "    解析html获取数据\n",
    "    \"\"\"\n",
    "    print(\"parse_html ...\")\n",
    "    html_obj = etree.HTML(html_doc)\n",
    "    article_dict = {}\n",
    "    i= 2 \n",
    "    while True:\n",
    "        try:\n",
    "            reads_path = '/html/body/div[6]/div[2]/div[4]/div[%s]/span[1]' %i\n",
    "            reads = html_obj.xpath(reads_path)[0].text\n",
    "\n",
    "            comments_path = '/html/body/div[6]/div[2]/div[4]/div[%s]/span[2]' %i\n",
    "            comments = html_obj.xpath(comments_path)[0].text\n",
    "\n",
    "            post_path = '/html/body/div[6]/div[2]/div[4]/div[%s]/span[3]/a' %i\n",
    "            post_href = html_obj.xpath(post_path)[0].get(\"href\")\n",
    "            post = html_obj.xpath(post_path)[0].get(\"title\")\n",
    "\n",
    "            writer_path = '/html/body/div[6]/div[2]/div[4]/div[%s]/span[4]/a/font' %i\n",
    "            writer = html_obj.xpath(writer_path)[0].text\n",
    "\n",
    "            update_path = '/html/body/div[6]/div[2]/div[4]/div[%s]/span[5]' %i\n",
    "            update = html_obj.xpath(update_path)[0].text\n",
    "\n",
    "            article_dict[i-1] = {\"reads\":reads,\n",
    "                            \"comments\":comments, \n",
    "                            \"post\":post, \n",
    "                            \"writer\":writer, \n",
    "                            \"update\":update}\n",
    "            i += 1\n",
    "        except IndexError:\n",
    "            break\n",
    "    return article_dict"
   ]
  },
  {
   "cell_type": "code",
   "execution_count": 28,
   "id": "444aa598-d5b4-4960-ad0d-8b7ad8f03d07",
   "metadata": {
    "tags": []
   },
   "outputs": [
    {
     "name": "stdout",
     "output_type": "stream",
     "text": [
      "parse_html ...\n"
     ]
    }
   ],
   "source": [
    "p = parse_html(url, html_doc)"
   ]
  },
  {
   "cell_type": "code",
   "execution_count": 29,
   "id": "c38e5983-767f-4b14-9eb8-630b919f551d",
   "metadata": {},
   "outputs": [
    {
     "data": {
      "text/html": [
       "<div>\n",
       "<style scoped>\n",
       "    .dataframe tbody tr th:only-of-type {\n",
       "        vertical-align: middle;\n",
       "    }\n",
       "\n",
       "    .dataframe tbody tr th {\n",
       "        vertical-align: top;\n",
       "    }\n",
       "\n",
       "    .dataframe thead th {\n",
       "        text-align: right;\n",
       "    }\n",
       "</style>\n",
       "<table border=\"1\" class=\"dataframe\">\n",
       "  <thead>\n",
       "    <tr style=\"text-align: right;\">\n",
       "      <th></th>\n",
       "      <th>reads</th>\n",
       "      <th>comments</th>\n",
       "      <th>post</th>\n",
       "      <th>writer</th>\n",
       "      <th>update</th>\n",
       "    </tr>\n",
       "  </thead>\n",
       "  <tbody>\n",
       "    <tr>\n",
       "      <th>1</th>\n",
       "      <td>3072</td>\n",
       "      <td>17</td>\n",
       "      <td>点评报告：3月销量重回20万辆，年度重点关注海外+智能化+高端化</td>\n",
       "      <td>比亚迪资讯</td>\n",
       "      <td>04-10 11:23</td>\n",
       "    </tr>\n",
       "    <tr>\n",
       "      <th>2</th>\n",
       "      <td>3071</td>\n",
       "      <td>32</td>\n",
       "      <td>国海证券给予比亚迪买入评级</td>\n",
       "      <td>比亚迪资讯</td>\n",
       "      <td>04-10 11:19</td>\n",
       "    </tr>\n",
       "    <tr>\n",
       "      <th>3</th>\n",
       "      <td>4053</td>\n",
       "      <td>18</td>\n",
       "      <td>行业首个！比亚迪拟4月10日发布云辇新能源智能车身控制系统</td>\n",
       "      <td>比亚迪资讯</td>\n",
       "      <td>04-10 11:19</td>\n",
       "    </tr>\n",
       "    <tr>\n",
       "      <th>4</th>\n",
       "      <td>5525</td>\n",
       "      <td>55</td>\n",
       "      <td>比亚迪云辇系统将于4月10日发布</td>\n",
       "      <td>比亚迪资讯</td>\n",
       "      <td>04-10 11:19</td>\n",
       "    </tr>\n",
       "    <tr>\n",
       "      <th>5</th>\n",
       "      <td>5198</td>\n",
       "      <td>18</td>\n",
       "      <td>攻入燃油车价格腹地：比亚迪加推冠军版车型应对“价格战”</td>\n",
       "      <td>比亚迪资讯</td>\n",
       "      <td>04-10 11:15</td>\n",
       "    </tr>\n",
       "    <tr>\n",
       "      <th>...</th>\n",
       "      <td>...</td>\n",
       "      <td>...</td>\n",
       "      <td>...</td>\n",
       "      <td>...</td>\n",
       "      <td>...</td>\n",
       "    </tr>\n",
       "    <tr>\n",
       "      <th>83</th>\n",
       "      <td>1363</td>\n",
       "      <td>32</td>\n",
       "      <td>巴菲特还是牛提前跑了。</td>\n",
       "      <td>文艺小青蛙</td>\n",
       "      <td>04-10 10:30</td>\n",
       "    </tr>\n",
       "    <tr>\n",
       "      <th>84</th>\n",
       "      <td>1310</td>\n",
       "      <td>41</td>\n",
       "      <td>利好</td>\n",
       "      <td>秃头方丈</td>\n",
       "      <td>04-10 10:29</td>\n",
       "    </tr>\n",
       "    <tr>\n",
       "      <th>85</th>\n",
       "      <td>495</td>\n",
       "      <td>1</td>\n",
       "      <td>又开始一路朝下了。。。</td>\n",
       "      <td>股友2i107g1539</td>\n",
       "      <td>04-10 10:28</td>\n",
       "    </tr>\n",
       "    <tr>\n",
       "      <th>86</th>\n",
       "      <td>2393</td>\n",
       "      <td>18</td>\n",
       "      <td>中石油2009年，巴菲特减持的，11元多，到现在，经过了10多年了，怎么样，中国</td>\n",
       "      <td>n528613702636584</td>\n",
       "      <td>04-10 10:28</td>\n",
       "    </tr>\n",
       "    <tr>\n",
       "      <th>87</th>\n",
       "      <td>4555</td>\n",
       "      <td>80</td>\n",
       "      <td>正在构筑一个大型的头部，已经透支了未来十年的预期，至少要砍200元。</td>\n",
       "      <td>主力教你做人</td>\n",
       "      <td>04-10 10:28</td>\n",
       "    </tr>\n",
       "  </tbody>\n",
       "</table>\n",
       "<p>87 rows × 5 columns</p>\n",
       "</div>"
      ],
      "text/plain": [
       "   reads comments                                      post            writer  \\\n",
       "1   3072       17          点评报告：3月销量重回20万辆，年度重点关注海外+智能化+高端化             比亚迪资讯   \n",
       "2   3071       32                             国海证券给予比亚迪买入评级             比亚迪资讯   \n",
       "3   4053       18             行业首个！比亚迪拟4月10日发布云辇新能源智能车身控制系统             比亚迪资讯   \n",
       "4   5525       55                          比亚迪云辇系统将于4月10日发布             比亚迪资讯   \n",
       "5   5198       18               攻入燃油车价格腹地：比亚迪加推冠军版车型应对“价格战”             比亚迪资讯   \n",
       "..   ...      ...                                       ...               ...   \n",
       "83  1363       32                               巴菲特还是牛提前跑了。             文艺小青蛙   \n",
       "84  1310       41                                        利好              秃头方丈   \n",
       "85   495        1                               又开始一路朝下了。。。      股友2i107g1539   \n",
       "86  2393       18  中石油2009年，巴菲特减持的，11元多，到现在，经过了10多年了，怎么样，中国  n528613702636584   \n",
       "87  4555       80        正在构筑一个大型的头部，已经透支了未来十年的预期，至少要砍200元。            主力教你做人   \n",
       "\n",
       "         update  \n",
       "1   04-10 11:23  \n",
       "2   04-10 11:19  \n",
       "3   04-10 11:19  \n",
       "4   04-10 11:19  \n",
       "5   04-10 11:15  \n",
       "..          ...  \n",
       "83  04-10 10:30  \n",
       "84  04-10 10:29  \n",
       "85  04-10 10:28  \n",
       "86  04-10 10:28  \n",
       "87  04-10 10:28  \n",
       "\n",
       "[87 rows x 5 columns]"
      ]
     },
     "execution_count": 29,
     "metadata": {},
     "output_type": "execute_result"
    }
   ],
   "source": [
    "import pandas as pd\n",
    "pd.DataFrame(p).T"
   ]
  },
  {
   "cell_type": "markdown",
   "id": "803fc84d-4578-4187-91af-160c889ab2c0",
   "metadata": {},
   "source": [
    "## 练习"
   ]
  },
  {
   "cell_type": "markdown",
   "id": "c2c4d4e4-2eef-48b9-a2ec-f69c4fba076f",
   "metadata": {},
   "source": [
    "使用lxml.etree模块和其解析xpath()方法，访问股吧网页：[http://guba.eastmoney.com/list,002594.html](http://guba.eastmoney.com/list,002594.html)，抓取相关评论标题。"
   ]
  },
  {
   "cell_type": "code",
   "execution_count": null,
   "id": "89da0e54-9040-497b-9ed4-6a554de563cf",
   "metadata": {},
   "outputs": [],
   "source": [
    "\n",
    "\n",
    "\n"
   ]
  },
  {
   "cell_type": "markdown",
   "id": "23298c83-46de-41c0-99e3-b7e43d298794",
   "metadata": {},
   "source": [
    "## 5. 以文件流的形式存取数据"
   ]
  },
  {
   "cell_type": "code",
   "execution_count": 1,
   "id": "41f8b09e-22f5-4256-bb4e-cdadc596340c",
   "metadata": {},
   "outputs": [
    {
     "name": "stdout",
     "output_type": "stream",
     "text": [
      "据21世纪经济报道（21财经）4日报道，9月3日，在2021中国服贸会“服务贸易开放发展新趋势高峰论坛”上，海关总署研究中心主任万中心预计，今年中国货物贸易有望实现两位数增长，达到5.1万亿美元，这意味着在“十四五”开局第一年，中国有望提前完成货物贸易的“十四五”目标。\n",
      "\n",
      "万中心指出，疫情以来直到今天，中国货物贸易一直保持着不错的增长。根据其团队的预测，如果不出现极端情况的话，今年中国货物贸易进出口会实现两位数的增长，“这个两位数的增长不仅仅是针对去年的同比增速，相较于疫情前的2019年，今年也有望实现年均两位数的增长，接近‘十一五’时期的数字。”\n",
      "\n",
      "他指出，按此测算，中国货物贸易的国际市场份额将进一步提升至15%左右。\n",
      "\n",
      "值得注意的是，根据此前公布的《“十四五”商务发展规划》，“十四五”期间，中国的货物贸易的预期目标为：到2025年，中国货物贸易规模达到5.1万亿美元。“今年，中国有可能达到5.1万亿美元，大概率在今年，也就是‘十四五’开局第一年提前完成这一目标。”\n",
      "\n",
      "万中心指出，中国货物贸易在“十二五”、“十三五”期间的年均增速分别为7.6%、2.6%，《“十四五”商务发展规划》的预期目标是，“十四五”期间年均增长2%。\n"
     ]
    }
   ],
   "source": [
    "with open(\"datasets/财经新闻示例.txt\", \"rb\") as f:\n",
    "    for i in f:\n",
    "        print(i.decode(\"utf-8\"))"
   ]
  },
  {
   "cell_type": "markdown",
   "id": "4b3b4038-0796-4de6-ab37-9e5d093774d7",
   "metadata": {},
   "source": [
    "在这个示例中，我们首先导入了requests库和Beautiful Soup库，然后定义了要抓取的新闻网站的URL（这里以CNBC财经新闻为例）。接着，我们使用requests库发起了HTTP请求，并通过Beautiful Soup库解析了网页内容。我们通过查找特定的HTML元素来提取新闻标题，并将其打印输出。"
   ]
  },
  {
   "cell_type": "markdown",
   "id": "b0928d74-5bde-4f3a-b91e-5b43b928314d",
   "metadata": {},
   "source": [
    "## 参考\n",
    "- HTTP的概念: https://www.w3schools.com/whatis/whatis_http.asp\n",
    "- Cookies: https://www.kaspersky.com/resource-center/definitions/cookies\n",
    "- urllib官方文档: https://docs.python.org/3/library/urllib.request.html#  \n",
    "- HOWTO Fetch Internet Resources Using The urllib Package:https://docs.python.org/3/howto/urllib2.html#urllib-howto"
   ]
  }
 ],
 "metadata": {
  "kernelspec": {
   "display_name": "Python 3 (ipykernel)",
   "language": "python",
   "name": "python3"
  },
  "language_info": {
   "codemirror_mode": {
    "name": "ipython",
    "version": 3
   },
   "file_extension": ".py",
   "mimetype": "text/x-python",
   "name": "python",
   "nbconvert_exporter": "python",
   "pygments_lexer": "ipython3",
   "version": "3.11.5"
  }
 },
 "nbformat": 4,
 "nbformat_minor": 5
}
