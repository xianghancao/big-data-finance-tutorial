{
 "cells": [
  {
   "cell_type": "markdown",
   "id": "a206e1a8-f539-4721-8b12-cd947f05cbd8",
   "metadata": {},
   "source": [
    "# 数据供应商"
   ]
  },
  {
   "cell_type": "markdown",
   "id": "f064f966-139f-4d50-9dba-ab0659a71907",
   "metadata": {},
   "source": [
    "## WRDS"
   ]
  },
  {
   "cell_type": "markdown",
   "id": "f75cc903-ff62-4d03-99a3-9003640de748",
   "metadata": {},
   "source": [
    "![https://wrds-www.wharton.upenn.edu/static/img/logo/Wharton_WRDS_logo.svg](https://wrds-www.wharton.upenn.edu/static/img/logo/Wharton_WRDS_logo.svg)(https://wrds-www.wharton.upenn.edu/)"
   ]
  },
  {
   "cell_type": "markdown",
   "id": "d17532a1-99e7-4657-b130-88d1d291b565",
   "metadata": {},
   "source": [
    "CRSP、Thomson Reuters Eikon或Bloomberg"
   ]
  },
  {
   "cell_type": "code",
   "execution_count": null,
   "id": "012dae91-d2f9-4afd-896e-9c9a7bf07e4a",
   "metadata": {},
   "outputs": [],
   "source": []
  }
 ],
 "metadata": {
  "kernelspec": {
   "display_name": "Python 3 (ipykernel)",
   "language": "python",
   "name": "python3"
  },
  "language_info": {
   "codemirror_mode": {
    "name": "ipython",
    "version": 3
   },
   "file_extension": ".py",
   "mimetype": "text/x-python",
   "name": "python",
   "nbconvert_exporter": "python",
   "pygments_lexer": "ipython3",
   "version": "3.11.7"
  }
 },
 "nbformat": 4,
 "nbformat_minor": 5
}
