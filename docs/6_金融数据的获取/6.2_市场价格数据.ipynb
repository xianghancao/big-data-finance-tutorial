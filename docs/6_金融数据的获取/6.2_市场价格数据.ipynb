{
 "cells": [
  {
   "cell_type": "markdown",
   "id": "d130baac-e5d8-4853-931c-563f3051070b",
   "metadata": {},
   "source": [
    "# 6.2 市场价格数据\n"
   ]
  },
  {
   "cell_type": "markdown",
   "id": "e21d8702-1d38-402a-b09d-96b1f91fa7f4",
   "metadata": {},
   "source": [
    "市场价格数据可以从多个来源获取，包括政府机构、金融市场数据提供商、专业数据库网站以及开源数据集。以下是一些常见的获取市场价格数据的途径：\n",
    "\n",
    "|数据源|链接|数据种类|\n",
    "|---|---|---|\n",
    "|Kaggle|https://www.kaggle.com|综合数据|\n",
    "|datarade|https://datarade.ai/|综合数据|\n",
    "|CSMAR|http://cndata1.csmar.com/|财经数据|\n",
    "|巨潮资讯数据|http://webapi.cninfo.com.cn/#/|财务数据等|\n",
    "|tushare|http://tushare.org/index.html|股票价格数据|\n",
    "|Tiingo|https://www.tiingo.com/|综合数据|\n",
    "|Wind数据库||综合数据|\n",
    "|东方财富||综合数据|\n",
    "\n",
    "\n",
    "需要注意的是，获取市场价格数据可能涉及到订阅费用或许可协议，具体取决于数据的来源和使用情况。在使用这些数据时，也要注意数据的准确性和及时性，以及可能存在的数据使用限制和法律约束。"
   ]
  },
  {
   "cell_type": "markdown",
   "id": "de351521-a62e-49a3-ab0b-e850c03384b2",
   "metadata": {},
   "source": [
    "## 1. 使用yfinance库获取价格数据\n",
    "以下是一个使用Python获取市场价格数据的简单示例，使用的是yfinance库来获取股票价格数据。"
   ]
  },
  {
   "cell_type": "markdown",
   "id": "6bf8fea0-a3a5-4381-9c62-45517785ff72",
   "metadata": {},
   "source": [
    "请注意，为了运行此示例，你需要先安装yfinance库。你可以使用pip命令来安装：\n",
    "\n",
    "```bash\n",
    "pip install yfinance\n",
    "```\n"
   ]
  },
  {
   "cell_type": "code",
   "execution_count": 1,
   "id": "5c6cedb7-7c5f-45d1-b954-670851fe5e08",
   "metadata": {
    "tags": []
   },
   "outputs": [
    {
     "name": "stderr",
     "output_type": "stream",
     "text": [
      "[*********************100%%**********************]  1 of 1 completed"
     ]
    },
    {
     "name": "stdout",
     "output_type": "stream",
     "text": [
      "                  Open        High         Low       Close   Adj Close  \\\n",
      "Date                                                                     \n",
      "2022-01-03  177.830002  182.880005  177.710007  182.009995  179.724579   \n",
      "2022-01-04  182.630005  182.940002  179.119995  179.699997  177.443573   \n",
      "2022-01-05  179.610001  180.169998  174.639999  174.919998  172.723572   \n",
      "2022-01-06  172.699997  175.300003  171.639999  172.000000  169.840256   \n",
      "2022-01-07  172.889999  174.139999  171.029999  172.169998  170.008118   \n",
      "\n",
      "               Volume  \n",
      "Date                   \n",
      "2022-01-03  104487900  \n",
      "2022-01-04   99310400  \n",
      "2022-01-05   94537600  \n",
      "2022-01-06   96904000  \n",
      "2022-01-07   86709100  \n"
     ]
    },
    {
     "name": "stderr",
     "output_type": "stream",
     "text": [
      "\n"
     ]
    }
   ],
   "source": [
    "import yfinance as yf\n",
    "\n",
    "# 指定股票代码和时间范围\n",
    "ticker_symbol = 'AAPL'  # 苹果公司的股票代码\n",
    "start_date = '2022-01-01'\n",
    "end_date = '2022-12-31'\n",
    "\n",
    "# 使用yfinance库获取股票价格数据\n",
    "stock_data = yf.download(ticker_symbol, start=start_date, end=end_date)\n",
    "\n",
    "# 打印数据的前几行\n",
    "print(stock_data.head())\n"
   ]
  },
  {
   "cell_type": "markdown",
   "id": "5feee245-26b8-4bad-8a5b-a71c30946aec",
   "metadata": {},
   "source": [
    "在这个示例中，我们首先导入了yfinance库，然后指定了要获取的股票代码（这里以苹果公司的股票代码‘AAPL’为例）和时间范围（开始日期和结束日期）。接着，我们使用`yf.download`函数来获取指定时间范围内的股票价格数据，并将其存储在名为`stock_data`的DataFrame中。最后，我们打印了数据的前几行，以检查数据是否成功获取。"
   ]
  },
  {
   "cell_type": "markdown",
   "id": "f2f620b2-e7f5-4e2a-9f87-b57319c0f54a",
   "metadata": {},
   "source": [
    "## 2. 使用API来访问数据"
   ]
  },
  {
   "cell_type": "markdown",
   "id": "1ba07b49-6cb8-40a0-8973-f02b59058785",
   "metadata": {},
   "source": [
    "[Tushare](http://tushare.org)是一个免费、开源的python财经数据接口包。\n",
    "首先我们安装tushare库，点击左上角+号，然后点击**终端(Terminal**)按钮，接着输入以下命令进行安装：\n",
    "```shell\n",
    "pip install tushare\n",
    "```\n"
   ]
  },
  {
   "cell_type": "markdown",
   "id": "287f9028-8964-4f02-8bdb-f9d0cb74c62f",
   "metadata": {},
   "source": [
    "安装成功后，我们使用tushare读取上证指数（代码为\"sz\"）日行情数据："
   ]
  },
  {
   "cell_type": "code",
   "execution_count": 19,
   "id": "7efeba31-a112-4b59-accb-6d4707374762",
   "metadata": {},
   "outputs": [
    {
     "name": "stdout",
     "output_type": "stream",
     "text": [
      "本接口即将停止更新，请尽快使用Pro版接口：https://tushare.pro/document/2\n"
     ]
    },
    {
     "name": "stderr",
     "output_type": "stream",
     "text": [
      "/Users/hans/opt/anaconda3/lib/python3.9/site-packages/tushare/stock/trading.py:706: FutureWarning: The frame.append method is deprecated and will be removed from pandas in a future version. Use pandas.concat instead.\n",
      "  data = data.append(_get_k_data(url, dataflag,\n"
     ]
    },
    {
     "data": {
      "text/html": [
       "<div>\n",
       "<style scoped>\n",
       "    .dataframe tbody tr th:only-of-type {\n",
       "        vertical-align: middle;\n",
       "    }\n",
       "\n",
       "    .dataframe tbody tr th {\n",
       "        vertical-align: top;\n",
       "    }\n",
       "\n",
       "    .dataframe thead th {\n",
       "        text-align: right;\n",
       "    }\n",
       "</style>\n",
       "<table border=\"1\" class=\"dataframe\">\n",
       "  <thead>\n",
       "    <tr style=\"text-align: right;\">\n",
       "      <th></th>\n",
       "      <th>date</th>\n",
       "      <th>open</th>\n",
       "      <th>close</th>\n",
       "      <th>high</th>\n",
       "      <th>low</th>\n",
       "      <th>volume</th>\n",
       "      <th>code</th>\n",
       "    </tr>\n",
       "  </thead>\n",
       "  <tbody>\n",
       "    <tr>\n",
       "      <th>0</th>\n",
       "      <td>2020-01-02</td>\n",
       "      <td>10509.12</td>\n",
       "      <td>10638.82</td>\n",
       "      <td>10663.55</td>\n",
       "      <td>10479.77</td>\n",
       "      <td>392795173.0</td>\n",
       "      <td>sz</td>\n",
       "    </tr>\n",
       "    <tr>\n",
       "      <th>1</th>\n",
       "      <td>2020-01-03</td>\n",
       "      <td>10666.66</td>\n",
       "      <td>10656.41</td>\n",
       "      <td>10689.59</td>\n",
       "      <td>10594.36</td>\n",
       "      <td>373603938.0</td>\n",
       "      <td>sz</td>\n",
       "    </tr>\n",
       "    <tr>\n",
       "      <th>2</th>\n",
       "      <td>2020-01-06</td>\n",
       "      <td>10599.41</td>\n",
       "      <td>10698.27</td>\n",
       "      <td>10799.58</td>\n",
       "      <td>10577.78</td>\n",
       "      <td>438998251.0</td>\n",
       "      <td>sz</td>\n",
       "    </tr>\n",
       "    <tr>\n",
       "      <th>3</th>\n",
       "      <td>2020-01-07</td>\n",
       "      <td>10725.18</td>\n",
       "      <td>10829.04</td>\n",
       "      <td>10829.04</td>\n",
       "      <td>10723.86</td>\n",
       "      <td>414499627.0</td>\n",
       "      <td>sz</td>\n",
       "    </tr>\n",
       "    <tr>\n",
       "      <th>4</th>\n",
       "      <td>2020-01-08</td>\n",
       "      <td>10776.71</td>\n",
       "      <td>10706.87</td>\n",
       "      <td>10851.28</td>\n",
       "      <td>10681.02</td>\n",
       "      <td>462506909.0</td>\n",
       "      <td>sz</td>\n",
       "    </tr>\n",
       "  </tbody>\n",
       "</table>\n",
       "</div>"
      ],
      "text/plain": [
       "         date      open     close      high       low       volume code\n",
       "0  2020-01-02  10509.12  10638.82  10663.55  10479.77  392795173.0   sz\n",
       "1  2020-01-03  10666.66  10656.41  10689.59  10594.36  373603938.0   sz\n",
       "2  2020-01-06  10599.41  10698.27  10799.58  10577.78  438998251.0   sz\n",
       "3  2020-01-07  10725.18  10829.04  10829.04  10723.86  414499627.0   sz\n",
       "4  2020-01-08  10776.71  10706.87  10851.28  10681.02  462506909.0   sz"
      ]
     },
     "execution_count": 19,
     "metadata": {},
     "output_type": "execute_result"
    }
   ],
   "source": [
    "import tushare\n",
    "df = tushare.get_k_data('sz', start='2020-01-01', end='2020-02-01')  #获取某个时间段内的深圳指数\n",
    "df.head()"
   ]
  },
  {
   "cell_type": "markdown",
   "id": "80c766d1-38d1-4186-ad3e-62c3e1dc6769",
   "metadata": {},
   "source": [
    "## 练习"
   ]
  },
  {
   "cell_type": "markdown",
   "id": "7e0df875-c386-4a2d-8c18-81183c8562ae",
   "metadata": {},
   "source": [
    "1. 通过tushare接口获取到国内的股票，比如要获取上港集团(代码600018)的日线数据，代码为\"600018\"，开始日期为'2010-01-01'，结束日期为\"2023-01-01\" \n",
    "2. 绘制该数据的收盘价'close'的折线图"
   ]
  },
  {
   "cell_type": "code",
   "execution_count": null,
   "id": "5bea052f-2dd8-474b-ab87-4fdd3138ee07",
   "metadata": {},
   "outputs": [],
   "source": [
    "\n",
    "\n"
   ]
  },
  {
   "cell_type": "markdown",
   "id": "cc00d26f-e8b4-4b59-9a70-c15a48360f03",
   "metadata": {},
   "source": [
    "## 3. 本地数据文件的存取方法"
   ]
  },
  {
   "cell_type": "markdown",
   "id": "4af1c21f-6f28-414c-aeae-79bb42941ce8",
   "metadata": {},
   "source": [
    "我们将网上的数据下载完后，存放在自己的电脑里，一般称之为本地存储，存放的位置称为本地路径。这里路径可以分为绝对路径和相对路径。"
   ]
  },
  {
   "cell_type": "markdown",
   "id": "03fe9925-f161-4669-a985-74f352405976",
   "metadata": {},
   "source": [
    "### 3.1 存取CSV格式数据文件\n",
    "\n",
    "在【datasets】文件夹中，有个数据集文件: 【data01.csv】，双击把它打开，它是符合我们上面说的结构化数据集的形式。"
   ]
  },
  {
   "cell_type": "markdown",
   "id": "a95b84e0-f1ce-4436-ac7a-2bdbd041c6c8",
   "metadata": {},
   "source": [
    "我们留意下这个csv文件的分隔符，它是用逗号','分割每个单元格的。\n",
    "\n",
    "现在我们借助python的第三方库**pandas**把这个csv文件读到内存里，方便之后对它进行操作和分析。Pandas库为python语言提供了高性能并且易用的数据结构和数据分析工具。\n",
    "\n",
    "\n"
   ]
  },
  {
   "cell_type": "code",
   "execution_count": 1,
   "id": "42636dbf-8f58-4181-9701-f43895a0df41",
   "metadata": {},
   "outputs": [],
   "source": [
    "import pandas"
   ]
  },
  {
   "cell_type": "code",
   "execution_count": 3,
   "id": "688ac652-b736-4a84-acfc-e74823763dec",
   "metadata": {},
   "outputs": [],
   "source": [
    "data = pandas.read_csv('datasets/data01.csv', index_col=0)"
   ]
  },
  {
   "cell_type": "code",
   "execution_count": 4,
   "id": "e460ff0c-60ed-4e90-8376-414bc938ee61",
   "metadata": {},
   "outputs": [
    {
     "data": {
      "text/html": [
       "<div>\n",
       "<style scoped>\n",
       "    .dataframe tbody tr th:only-of-type {\n",
       "        vertical-align: middle;\n",
       "    }\n",
       "\n",
       "    .dataframe tbody tr th {\n",
       "        vertical-align: top;\n",
       "    }\n",
       "\n",
       "    .dataframe thead th {\n",
       "        text-align: right;\n",
       "    }\n",
       "</style>\n",
       "<table border=\"1\" class=\"dataframe\">\n",
       "  <thead>\n",
       "    <tr style=\"text-align: right;\">\n",
       "      <th></th>\n",
       "      <th>apple</th>\n",
       "      <th>money</th>\n",
       "      <th>pear</th>\n",
       "      <th>watch</th>\n",
       "    </tr>\n",
       "  </thead>\n",
       "  <tbody>\n",
       "    <tr>\n",
       "      <th>0</th>\n",
       "      <td>1</td>\n",
       "      <td>2</td>\n",
       "      <td>5</td>\n",
       "      <td>1</td>\n",
       "    </tr>\n",
       "    <tr>\n",
       "      <th>1</th>\n",
       "      <td>2</td>\n",
       "      <td>4</td>\n",
       "      <td>7</td>\n",
       "      <td>3</td>\n",
       "    </tr>\n",
       "    <tr>\n",
       "      <th>2</th>\n",
       "      <td>3</td>\n",
       "      <td>6</td>\n",
       "      <td>8</td>\n",
       "      <td>5</td>\n",
       "    </tr>\n",
       "    <tr>\n",
       "      <th>3</th>\n",
       "      <td>4</td>\n",
       "      <td>8</td>\n",
       "      <td>9</td>\n",
       "      <td>7</td>\n",
       "    </tr>\n",
       "    <tr>\n",
       "      <th>4</th>\n",
       "      <td>5</td>\n",
       "      <td>0</td>\n",
       "      <td>0</td>\n",
       "      <td>9</td>\n",
       "    </tr>\n",
       "  </tbody>\n",
       "</table>\n",
       "</div>"
      ],
      "text/plain": [
       "   apple  money  pear  watch\n",
       "0      1      2     5      1\n",
       "1      2      4     7      3\n",
       "2      3      6     8      5\n",
       "3      4      8     9      7\n",
       "4      5      0     0      9"
      ]
     },
     "execution_count": 4,
     "metadata": {},
     "output_type": "execute_result"
    }
   ],
   "source": [
    "data"
   ]
  },
  {
   "cell_type": "markdown",
   "id": "327b3342-f8c7-48a9-a07f-f916951619d3",
   "metadata": {},
   "source": [
    "同学们，现在尝试使用pandas的这个方法来读取下【数据】文件夹下的这个数据集：【fund_code.csv】\n",
    "\n"
   ]
  },
  {
   "cell_type": "code",
   "execution_count": null,
   "id": "05040f7a-7be1-4b86-80ce-50e595d5d6c6",
   "metadata": {},
   "outputs": [
    {
     "data": {
      "text/html": [
       "<div>\n",
       "<style scoped>\n",
       "    .dataframe tbody tr th:only-of-type {\n",
       "        vertical-align: middle;\n",
       "    }\n",
       "\n",
       "    .dataframe tbody tr th {\n",
       "        vertical-align: top;\n",
       "    }\n",
       "\n",
       "    .dataframe thead th {\n",
       "        text-align: right;\n",
       "    }\n",
       "</style>\n",
       "<table border=\"1\" class=\"dataframe\">\n",
       "  <thead>\n",
       "    <tr style=\"text-align: right;\">\n",
       "      <th></th>\n",
       "      <th>基金代码</th>\n",
       "      <th>基金名称</th>\n",
       "      <th>开始日期</th>\n",
       "      <th>类型</th>\n",
       "    </tr>\n",
       "  </thead>\n",
       "  <tbody>\n",
       "    <tr>\n",
       "      <th>0</th>\n",
       "      <td>000001</td>\n",
       "      <td>华夏成长</td>\n",
       "      <td>2001-12-18</td>\n",
       "      <td>混合式基金</td>\n",
       "    </tr>\n",
       "    <tr>\n",
       "      <th>1</th>\n",
       "      <td>000003</td>\n",
       "      <td>中海可转债债券</td>\n",
       "      <td>2013-03-20</td>\n",
       "      <td>债券基金</td>\n",
       "    </tr>\n",
       "    <tr>\n",
       "      <th>2</th>\n",
       "      <td>000005</td>\n",
       "      <td>嘉实增强信用</td>\n",
       "      <td>2013-03-08</td>\n",
       "      <td>债券基金</td>\n",
       "    </tr>\n",
       "    <tr>\n",
       "      <th>3</th>\n",
       "      <td>000007</td>\n",
       "      <td>鹏华国企债</td>\n",
       "      <td>2013-03-08</td>\n",
       "      <td>债券基金</td>\n",
       "    </tr>\n",
       "    <tr>\n",
       "      <th>4</th>\n",
       "      <td>000008</td>\n",
       "      <td>嘉实中证500ETF联接基金</td>\n",
       "      <td>2013-03-22</td>\n",
       "      <td>联接基金</td>\n",
       "    </tr>\n",
       "    <tr>\n",
       "      <th>...</th>\n",
       "      <td>...</td>\n",
       "      <td>...</td>\n",
       "      <td>...</td>\n",
       "      <td>...</td>\n",
       "    </tr>\n",
       "    <tr>\n",
       "      <th>9148</th>\n",
       "      <td>007140</td>\n",
       "      <td>富国全球美元现汇</td>\n",
       "      <td>2019-04-12</td>\n",
       "      <td>联接基金</td>\n",
       "    </tr>\n",
       "    <tr>\n",
       "      <th>9149</th>\n",
       "      <td>007233</td>\n",
       "      <td>金鹰鑫益混合E</td>\n",
       "      <td>2019-04-10</td>\n",
       "      <td>混合式基金</td>\n",
       "    </tr>\n",
       "    <tr>\n",
       "      <th>9150</th>\n",
       "      <td>006370</td>\n",
       "      <td>国富大中华美元</td>\n",
       "      <td>2019-04-11</td>\n",
       "      <td>混合式基金</td>\n",
       "    </tr>\n",
       "    <tr>\n",
       "      <th>9151</th>\n",
       "      <td>006792</td>\n",
       "      <td>鹏华香港美国互联网美元现汇</td>\n",
       "      <td>2019-04-15</td>\n",
       "      <td>股票基金</td>\n",
       "    </tr>\n",
       "    <tr>\n",
       "      <th>9152</th>\n",
       "      <td>007235</td>\n",
       "      <td>广发聚利C</td>\n",
       "      <td>2019-04-19</td>\n",
       "      <td>债券基金</td>\n",
       "    </tr>\n",
       "  </tbody>\n",
       "</table>\n",
       "<p>9153 rows × 4 columns</p>\n",
       "</div>"
      ],
      "text/plain": [
       "        基金代码            基金名称        开始日期     类型\n",
       "0     000001            华夏成长  2001-12-18  混合式基金\n",
       "1     000003         中海可转债债券  2013-03-20   债券基金\n",
       "2     000005          嘉实增强信用  2013-03-08   债券基金\n",
       "3     000007           鹏华国企债  2013-03-08   债券基金\n",
       "4     000008  嘉实中证500ETF联接基金  2013-03-22   联接基金\n",
       "...      ...             ...         ...    ...\n",
       "9148  007140        富国全球美元现汇  2019-04-12   联接基金\n",
       "9149  007233         金鹰鑫益混合E  2019-04-10  混合式基金\n",
       "9150  006370         国富大中华美元  2019-04-11  混合式基金\n",
       "9151  006792   鹏华香港美国互联网美元现汇  2019-04-15   股票基金\n",
       "9152  007235           广发聚利C  2019-04-19   债券基金\n",
       "\n",
       "[9153 rows x 4 columns]"
      ]
     },
     "execution_count": 5,
     "metadata": {},
     "output_type": "execute_result"
    }
   ],
   "source": [
    "pandas.read_csv(\"datasets/fund_codes.csv\", delimiter=\"\\t\", dtype={\"基金代码\":str})  #string字符串"
   ]
  },
  {
   "cell_type": "markdown",
   "id": "a94a7f85-dd59-4272-8038-17a65823c8a3",
   "metadata": {},
   "source": [
    "当我们不知道`pandas.read_csv`如何使用的时候，我们可以使用命令`pandas.read_csv?`，即`pandas.read_csv` + `?`的形式"
   ]
  },
  {
   "cell_type": "markdown",
   "id": "5226c835-b101-49ad-81d9-75f448ecfa2a",
   "metadata": {},
   "source": [
    "如何保存CSV数据文件呢？使用pandas对象的to_csv方法"
   ]
  },
  {
   "cell_type": "code",
   "execution_count": 6,
   "id": "bdc1b618-e338-4ffd-a290-f57ae8138863",
   "metadata": {},
   "outputs": [],
   "source": [
    "df.to_csv(\"datasets/data01_copy.csv\")"
   ]
  },
  {
   "cell_type": "markdown",
   "id": "4916ff7e-847f-4b66-890e-7abd69f93911",
   "metadata": {},
   "source": [
    "## 参考\n",
    "- 在投资过程中使用另类数据，第4章，《大数据、机器学习与量化投资》[英]托尼 * 吉达，中信出版社\n",
    "- 驾驭大数据，第2章，《大数据、机器学习与量化投资》[英]托尼 * 吉达，中信出版社"
   ]
  }
 ],
 "metadata": {
  "kernelspec": {
   "display_name": "Python 3 (ipykernel)",
   "language": "python",
   "name": "python3"
  },
  "language_info": {
   "codemirror_mode": {
    "name": "ipython",
    "version": 3
   },
   "file_extension": ".py",
   "mimetype": "text/x-python",
   "name": "python",
   "nbconvert_exporter": "python",
   "pygments_lexer": "ipython3",
   "version": "3.11.5"
  }
 },
 "nbformat": 4,
 "nbformat_minor": 5
}
