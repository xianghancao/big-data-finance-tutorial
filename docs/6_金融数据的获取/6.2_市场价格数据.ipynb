{
 "cells": [
  {
   "cell_type": "markdown",
   "id": "d130baac-e5d8-4853-931c-563f3051070b",
   "metadata": {},
   "source": [
    "# 6.2 市场价格数据的获取\n"
   ]
  },
  {
   "cell_type": "markdown",
   "id": "e21d8702-1d38-402a-b09d-96b1f91fa7f4",
   "metadata": {},
   "source": [
    "市场价格数据可以从多个来源获取，包括政府机构、金融市场数据提供商、专业数据库网站以及开源数据集。以下是一些常见的获取市场价格数据的途径：\n",
    "\n",
    "|数据源|官网链接|获取方法|数据特色|费用|\n",
    "|---|---|---|---|---|\n",
    "|Wind数据库||终端或API|较全|收费|\n",
    "|东方财富||终端或API|-|收费|\n",
    "|同花顺||终端或API|-|免费|\n",
    "|CSMAR|http://cndata1.csmar.com/|终端或API|收费|\n",
    "|巨潮资讯数据|http://webapi.cninfo.com.cn/#/|网页|-|\n",
    "|tushare|http://tushare.org/index.html|API|国内|部分收费|\n",
    "|Tiingo|https://www.tiingo.com/|API|收费|\n",
    "|datarade|https://datarade.ai/|综合数据|-|\n",
    "\n",
    "\n",
    "\n",
    "需要注意的是，获取市场价格数据可能涉及到订阅费用或许可协议，具体取决于数据的来源和使用情况。在使用这些数据时，也要注意数据的准确性和及时性，以及可能存在的数据使用限制和法律约束。"
   ]
  },
  {
   "cell_type": "markdown",
   "id": "dccea68e-8abc-4bcb-8c65-b399fec6d843",
   "metadata": {},
   "source": [
    "国外的一些知名的数据供应商包括 Bloomberg、Refinitiv（前身为Thomson Reuters）、FactSet、Morningstar 等。除了专业的金融数据供应商之外，还有一些金融数据API提供商，如Alpha Vantage、Quandl、Yahoo Finance等，它们提供了各种金融市场数据的API接口，可以通过这些接口获取数据。"
   ]
  },
  {
   "cell_type": "markdown",
   "id": "f2f620b2-e7f5-4e2a-9f87-b57319c0f54a",
   "metadata": {},
   "source": [
    "## 1. 使用Tushare的API来访问数据"
   ]
  },
  {
   "cell_type": "markdown",
   "id": "5f258fe0-b014-4ae8-884c-1f684b160987",
   "metadata": {},
   "source": [
    "<img src='images/Tushare.png' width=300>"
   ]
  },
  {
   "cell_type": "markdown",
   "id": "1ba07b49-6cb8-40a0-8973-f02b59058785",
   "metadata": {},
   "source": [
    "[Tushare](http://tushare.org)是一个免费、开源的python财经数据接口包。\n",
    "首先我们安装tushare库，点击左上角+号，然后点击**终端(Terminal**)按钮，接着输入以下命令进行安装：\n",
    "```shell\n",
    "pip install tushare\n",
    "```\n"
   ]
  },
  {
   "cell_type": "markdown",
   "id": "287f9028-8964-4f02-8bdb-f9d0cb74c62f",
   "metadata": {},
   "source": [
    "安装成功后，我们使用tushare读取上证指数（代码为\"sz\"）日行情数据。首先初始化pro API,第一次可以通过来记录自己的token凭证，如下token为老师账号的token，仅为了展示课件。[注册官网，可获得自己的API token](https://tushare.pro/document/2)。"
   ]
  },
  {
   "cell_type": "code",
   "execution_count": 21,
   "id": "7efeba31-a112-4b59-accb-6d4707374762",
   "metadata": {
    "tags": []
   },
   "outputs": [],
   "source": [
    "import tushare\n",
    "tushare.set_token(token='95a929d8f6e5e25cc92f81cdab9c6e809b5507664c01bf6b5e3c3645')\n",
    "pro = tushare.pro_api()"
   ]
  },
  {
   "cell_type": "code",
   "execution_count": 17,
   "id": "7c1c35a6-2e10-4374-a856-28b5fa54e64d",
   "metadata": {
    "tags": []
   },
   "outputs": [],
   "source": [
    "df = pro.daily(ts_code='000001.SZ', start_date='20180701', end_date='20180718')"
   ]
  },
  {
   "cell_type": "code",
   "execution_count": 18,
   "id": "c3b820f5-2634-4ed5-a012-82bd18b5a024",
   "metadata": {
    "tags": []
   },
   "outputs": [
    {
     "data": {
      "text/html": [
       "<div>\n",
       "<style scoped>\n",
       "    .dataframe tbody tr th:only-of-type {\n",
       "        vertical-align: middle;\n",
       "    }\n",
       "\n",
       "    .dataframe tbody tr th {\n",
       "        vertical-align: top;\n",
       "    }\n",
       "\n",
       "    .dataframe thead th {\n",
       "        text-align: right;\n",
       "    }\n",
       "</style>\n",
       "<table border=\"1\" class=\"dataframe\">\n",
       "  <thead>\n",
       "    <tr style=\"text-align: right;\">\n",
       "      <th></th>\n",
       "      <th>ts_code</th>\n",
       "      <th>trade_date</th>\n",
       "      <th>open</th>\n",
       "      <th>high</th>\n",
       "      <th>low</th>\n",
       "      <th>close</th>\n",
       "      <th>pre_close</th>\n",
       "      <th>change</th>\n",
       "      <th>pct_chg</th>\n",
       "      <th>vol</th>\n",
       "      <th>amount</th>\n",
       "    </tr>\n",
       "  </thead>\n",
       "  <tbody>\n",
       "    <tr>\n",
       "      <th>0</th>\n",
       "      <td>000001.SZ</td>\n",
       "      <td>20180718</td>\n",
       "      <td>8.75</td>\n",
       "      <td>8.85</td>\n",
       "      <td>8.69</td>\n",
       "      <td>8.70</td>\n",
       "      <td>8.72</td>\n",
       "      <td>-0.02</td>\n",
       "      <td>-0.23</td>\n",
       "      <td>525152.77</td>\n",
       "      <td>460697.377</td>\n",
       "    </tr>\n",
       "    <tr>\n",
       "      <th>1</th>\n",
       "      <td>000001.SZ</td>\n",
       "      <td>20180717</td>\n",
       "      <td>8.74</td>\n",
       "      <td>8.75</td>\n",
       "      <td>8.66</td>\n",
       "      <td>8.72</td>\n",
       "      <td>8.73</td>\n",
       "      <td>-0.01</td>\n",
       "      <td>-0.11</td>\n",
       "      <td>375356.33</td>\n",
       "      <td>326396.994</td>\n",
       "    </tr>\n",
       "    <tr>\n",
       "      <th>2</th>\n",
       "      <td>000001.SZ</td>\n",
       "      <td>20180716</td>\n",
       "      <td>8.85</td>\n",
       "      <td>8.90</td>\n",
       "      <td>8.69</td>\n",
       "      <td>8.73</td>\n",
       "      <td>8.88</td>\n",
       "      <td>-0.15</td>\n",
       "      <td>-1.69</td>\n",
       "      <td>689845.58</td>\n",
       "      <td>603427.713</td>\n",
       "    </tr>\n",
       "    <tr>\n",
       "      <th>3</th>\n",
       "      <td>000001.SZ</td>\n",
       "      <td>20180713</td>\n",
       "      <td>8.92</td>\n",
       "      <td>8.94</td>\n",
       "      <td>8.82</td>\n",
       "      <td>8.88</td>\n",
       "      <td>8.88</td>\n",
       "      <td>0.00</td>\n",
       "      <td>0.00</td>\n",
       "      <td>603378.21</td>\n",
       "      <td>535401.175</td>\n",
       "    </tr>\n",
       "    <tr>\n",
       "      <th>4</th>\n",
       "      <td>000001.SZ</td>\n",
       "      <td>20180712</td>\n",
       "      <td>8.60</td>\n",
       "      <td>8.97</td>\n",
       "      <td>8.58</td>\n",
       "      <td>8.88</td>\n",
       "      <td>8.64</td>\n",
       "      <td>0.24</td>\n",
       "      <td>2.78</td>\n",
       "      <td>1140492.31</td>\n",
       "      <td>1008658.828</td>\n",
       "    </tr>\n",
       "    <tr>\n",
       "      <th>5</th>\n",
       "      <td>000001.SZ</td>\n",
       "      <td>20180711</td>\n",
       "      <td>8.76</td>\n",
       "      <td>8.83</td>\n",
       "      <td>8.68</td>\n",
       "      <td>8.78</td>\n",
       "      <td>8.98</td>\n",
       "      <td>-0.20</td>\n",
       "      <td>-2.23</td>\n",
       "      <td>851296.70</td>\n",
       "      <td>744765.824</td>\n",
       "    </tr>\n",
       "    <tr>\n",
       "      <th>6</th>\n",
       "      <td>000001.SZ</td>\n",
       "      <td>20180710</td>\n",
       "      <td>9.02</td>\n",
       "      <td>9.02</td>\n",
       "      <td>8.89</td>\n",
       "      <td>8.98</td>\n",
       "      <td>9.03</td>\n",
       "      <td>-0.05</td>\n",
       "      <td>-0.55</td>\n",
       "      <td>896862.02</td>\n",
       "      <td>803038.965</td>\n",
       "    </tr>\n",
       "    <tr>\n",
       "      <th>7</th>\n",
       "      <td>000001.SZ</td>\n",
       "      <td>20180709</td>\n",
       "      <td>8.69</td>\n",
       "      <td>9.03</td>\n",
       "      <td>8.68</td>\n",
       "      <td>9.03</td>\n",
       "      <td>8.66</td>\n",
       "      <td>0.37</td>\n",
       "      <td>4.27</td>\n",
       "      <td>1409954.60</td>\n",
       "      <td>1255007.609</td>\n",
       "    </tr>\n",
       "    <tr>\n",
       "      <th>8</th>\n",
       "      <td>000001.SZ</td>\n",
       "      <td>20180706</td>\n",
       "      <td>8.61</td>\n",
       "      <td>8.78</td>\n",
       "      <td>8.45</td>\n",
       "      <td>8.66</td>\n",
       "      <td>8.60</td>\n",
       "      <td>0.06</td>\n",
       "      <td>0.70</td>\n",
       "      <td>988282.69</td>\n",
       "      <td>852071.526</td>\n",
       "    </tr>\n",
       "    <tr>\n",
       "      <th>9</th>\n",
       "      <td>000001.SZ</td>\n",
       "      <td>20180705</td>\n",
       "      <td>8.62</td>\n",
       "      <td>8.73</td>\n",
       "      <td>8.55</td>\n",
       "      <td>8.60</td>\n",
       "      <td>8.61</td>\n",
       "      <td>-0.01</td>\n",
       "      <td>-0.12</td>\n",
       "      <td>835768.77</td>\n",
       "      <td>722169.579</td>\n",
       "    </tr>\n",
       "    <tr>\n",
       "      <th>10</th>\n",
       "      <td>000001.SZ</td>\n",
       "      <td>20180704</td>\n",
       "      <td>8.63</td>\n",
       "      <td>8.75</td>\n",
       "      <td>8.61</td>\n",
       "      <td>8.61</td>\n",
       "      <td>8.67</td>\n",
       "      <td>-0.06</td>\n",
       "      <td>-0.69</td>\n",
       "      <td>711153.37</td>\n",
       "      <td>617278.559</td>\n",
       "    </tr>\n",
       "    <tr>\n",
       "      <th>11</th>\n",
       "      <td>000001.SZ</td>\n",
       "      <td>20180703</td>\n",
       "      <td>8.69</td>\n",
       "      <td>8.70</td>\n",
       "      <td>8.45</td>\n",
       "      <td>8.67</td>\n",
       "      <td>8.61</td>\n",
       "      <td>0.06</td>\n",
       "      <td>0.70</td>\n",
       "      <td>1274838.57</td>\n",
       "      <td>1096657.033</td>\n",
       "    </tr>\n",
       "    <tr>\n",
       "      <th>12</th>\n",
       "      <td>000001.SZ</td>\n",
       "      <td>20180702</td>\n",
       "      <td>9.05</td>\n",
       "      <td>9.05</td>\n",
       "      <td>8.55</td>\n",
       "      <td>8.61</td>\n",
       "      <td>9.09</td>\n",
       "      <td>-0.48</td>\n",
       "      <td>-5.28</td>\n",
       "      <td>1315520.13</td>\n",
       "      <td>1158545.868</td>\n",
       "    </tr>\n",
       "  </tbody>\n",
       "</table>\n",
       "</div>"
      ],
      "text/plain": [
       "      ts_code trade_date  open  high   low  close  pre_close  change  pct_chg  \\\n",
       "0   000001.SZ   20180718  8.75  8.85  8.69   8.70       8.72   -0.02    -0.23   \n",
       "1   000001.SZ   20180717  8.74  8.75  8.66   8.72       8.73   -0.01    -0.11   \n",
       "2   000001.SZ   20180716  8.85  8.90  8.69   8.73       8.88   -0.15    -1.69   \n",
       "3   000001.SZ   20180713  8.92  8.94  8.82   8.88       8.88    0.00     0.00   \n",
       "4   000001.SZ   20180712  8.60  8.97  8.58   8.88       8.64    0.24     2.78   \n",
       "5   000001.SZ   20180711  8.76  8.83  8.68   8.78       8.98   -0.20    -2.23   \n",
       "6   000001.SZ   20180710  9.02  9.02  8.89   8.98       9.03   -0.05    -0.55   \n",
       "7   000001.SZ   20180709  8.69  9.03  8.68   9.03       8.66    0.37     4.27   \n",
       "8   000001.SZ   20180706  8.61  8.78  8.45   8.66       8.60    0.06     0.70   \n",
       "9   000001.SZ   20180705  8.62  8.73  8.55   8.60       8.61   -0.01    -0.12   \n",
       "10  000001.SZ   20180704  8.63  8.75  8.61   8.61       8.67   -0.06    -0.69   \n",
       "11  000001.SZ   20180703  8.69  8.70  8.45   8.67       8.61    0.06     0.70   \n",
       "12  000001.SZ   20180702  9.05  9.05  8.55   8.61       9.09   -0.48    -5.28   \n",
       "\n",
       "           vol       amount  \n",
       "0    525152.77   460697.377  \n",
       "1    375356.33   326396.994  \n",
       "2    689845.58   603427.713  \n",
       "3    603378.21   535401.175  \n",
       "4   1140492.31  1008658.828  \n",
       "5    851296.70   744765.824  \n",
       "6    896862.02   803038.965  \n",
       "7   1409954.60  1255007.609  \n",
       "8    988282.69   852071.526  \n",
       "9    835768.77   722169.579  \n",
       "10   711153.37   617278.559  \n",
       "11  1274838.57  1096657.033  \n",
       "12  1315520.13  1158545.868  "
      ]
     },
     "execution_count": 18,
     "metadata": {},
     "output_type": "execute_result"
    }
   ],
   "source": [
    "df.head()"
   ]
  },
  {
   "cell_type": "markdown",
   "id": "80c766d1-38d1-4186-ad3e-62c3e1dc6769",
   "metadata": {},
   "source": [
    "## 练习"
   ]
  },
  {
   "cell_type": "markdown",
   "id": "7e0df875-c386-4a2d-8c18-81183c8562ae",
   "metadata": {},
   "source": [
    "1. 通过tushare接口获取到国内的股票，比如要获取上港集团(代码600018)的日线数据，代码为\"600018\"，开始日期为'2010-01-01'，结束日期为\"2023-01-01\" \n",
    "2. 绘制该数据的收盘价'close'的折线图"
   ]
  },
  {
   "cell_type": "code",
   "execution_count": null,
   "id": "5bea052f-2dd8-474b-ab87-4fdd3138ee07",
   "metadata": {},
   "outputs": [],
   "source": [
    "\n",
    "\n"
   ]
  },
  {
   "cell_type": "markdown",
   "id": "890722fa-4209-4bf2-b825-b5cb14d147e5",
   "metadata": {},
   "source": [
    "## 2. 使用yfinance库获取价格数据\n",
    "<img src='images/yfinance.png' width=300>\n",
    "\n",
    "以下是一个使用 [yfinance](https://pypi.org/project/yfinance/) 获取市场价格数据的简单示例。"
   ]
  },
  {
   "cell_type": "markdown",
   "id": "3f29f0d1-8d33-4e03-993f-213cda6e4c79",
   "metadata": {},
   "source": [
    "请注意，为了运行此示例，你需要先安装yfinance库。你可以使用pip命令来安装：\n",
    "\n",
    "```bash\n",
    "pip install yfinance\n",
    "```\n"
   ]
  },
  {
   "cell_type": "code",
   "execution_count": 2,
   "id": "5c6cedb7-7c5f-45d1-b954-670851fe5e08",
   "metadata": {
    "tags": []
   },
   "outputs": [
    {
     "name": "stderr",
     "output_type": "stream",
     "text": [
      "[*********************100%%**********************]  1 of 1 completed"
     ]
    },
    {
     "name": "stdout",
     "output_type": "stream",
     "text": [
      "                  Open        High         Low       Close   Adj Close  \\\n",
      "Date                                                                     \n",
      "2022-01-03  177.830002  182.880005  177.710007  182.009995  179.724533   \n",
      "2022-01-04  182.630005  182.940002  179.119995  179.699997  177.443558   \n",
      "2022-01-05  179.610001  180.169998  174.639999  174.919998  172.723587   \n",
      "2022-01-06  172.699997  175.300003  171.639999  172.000000  169.840256   \n",
      "2022-01-07  172.889999  174.139999  171.029999  172.169998  170.008118   \n",
      "\n",
      "               Volume  \n",
      "Date                   \n",
      "2022-01-03  104487900  \n",
      "2022-01-04   99310400  \n",
      "2022-01-05   94537600  \n",
      "2022-01-06   96904000  \n",
      "2022-01-07   86709100  \n"
     ]
    },
    {
     "name": "stderr",
     "output_type": "stream",
     "text": [
      "\n"
     ]
    }
   ],
   "source": [
    "import yfinance as yf\n",
    "\n",
    "# 指定股票代码和时间范围\n",
    "ticker_symbol = 'AAPL'  # 苹果公司的股票代码\n",
    "start_date = '2022-01-01'\n",
    "end_date = '2022-12-31'\n",
    "\n",
    "# 使用yfinance库获取股票价格数据\n",
    "stock_data = yf.download(ticker_symbol, start=start_date, end=end_date)\n",
    "\n",
    "# 打印数据的前几行\n",
    "print(stock_data.head())\n"
   ]
  },
  {
   "cell_type": "markdown",
   "id": "5ad21a79-2730-4ec3-afa0-ffda2c8d3c9d",
   "metadata": {},
   "source": [
    "在这个示例中，我们首先导入了yfinance库，然后指定了要获取的股票代码（这里以苹果公司的股票代码‘AAPL’为例）和时间范围（开始日期和结束日期）。接着，我们使用`yf.download`函数来获取指定时间范围内的股票价格数据，并将其存储在名为`stock_data`的DataFrame中。最后，我们打印了数据的前几行，以检查数据是否成功获取。"
   ]
  },
  {
   "cell_type": "markdown",
   "id": "405579ff-aca9-4ca8-80b6-4c8a0e7ff62a",
   "metadata": {},
   "source": [
    "## 3. 使用Alpha Vantage API获取价格数据"
   ]
  },
  {
   "cell_type": "markdown",
   "id": "f8734058-0adc-4370-83d4-c6b9ec3e7c63",
   "metadata": {},
   "source": [
    "<img src='images/Alpha_Vantage.png' width=300>"
   ]
  },
  {
   "cell_type": "markdown",
   "id": "dee54e7f-8eca-4167-8c64-ea7f24b386d0",
   "metadata": {},
   "source": [
    "[Alpha Vantage](https://www.alphavantage.co/) API 是一个金融数据 API，提供了丰富的金融市场数据和股票市场数据。它为开发者提供了各种金融数据的接口，可以方便地获取实时和历史的股票价格、外汇汇率、加密货币价格、技术指标等数据。\n",
    "\n",
    "以下是使用 Alpha Vantage API 获取股票价格数据的示例代码："
   ]
  },
  {
   "cell_type": "code",
   "execution_count": 3,
   "id": "fd82cc17-e2cd-4386-9fb3-e066ae84e655",
   "metadata": {
    "tags": []
   },
   "outputs": [
    {
     "name": "stdout",
     "output_type": "stream",
     "text": [
      "              open     high      low   close       volume\n",
      "2024-04-12  174.26  178.360  174.210  176.55  101670886.0\n",
      "2024-04-11  168.34  175.460  168.160  175.04   91070275.0\n",
      "2024-04-10  168.80  169.090  167.110  167.78   49709336.0\n",
      "2024-04-09  168.70  170.080  168.350  169.67   42231444.0\n",
      "2024-04-08  169.03  169.200  168.240  168.45   37216858.0\n",
      "...            ...      ...      ...     ...          ...\n",
      "2023-11-24  190.87  190.900  189.250  189.97   24048344.0\n",
      "2023-11-22  191.49  192.930  190.825  191.31   39630011.0\n",
      "2023-11-21  191.41  191.520  189.740  190.64   38134485.0\n",
      "2023-11-20  189.89  191.905  189.880  191.45   46538614.0\n",
      "2023-11-17  190.25  190.380  188.570  189.69   50941404.0\n",
      "\n",
      "[100 rows x 5 columns]\n"
     ]
    }
   ],
   "source": [
    "import requests\n",
    "import pandas as pd\n",
    "\n",
    "def get_stock_data(symbol, api_key):\n",
    "    \"\"\"\n",
    "    获取股票价格数据\n",
    "    symbol: 股票代码\n",
    "    api_key: Alpha Vantage API 密钥\n",
    "    返回： 股票价格数据的 DataFrame\n",
    "    \"\"\"\n",
    "    url = f\"https://www.alphavantage.co/query?function=TIME_SERIES_DAILY&symbol={symbol}&apikey={api_key}\"\n",
    "    response = requests.get(url)\n",
    "    data = response.json()\n",
    "\n",
    "    # 将数据转换为 DataFrame\n",
    "    if 'Time Series (Daily)' in data:\n",
    "        df = pd.DataFrame.from_dict(data['Time Series (Daily)'], orient='index')\n",
    "        df.index = pd.to_datetime(df.index)\n",
    "        df.columns = ['open', 'high', 'low', 'close', 'volume']\n",
    "        df = df.astype(float)\n",
    "        return df\n",
    "    else:\n",
    "        print(\"Error: Unable to retrieve stock data.\")\n",
    "        return None\n",
    "\n",
    "# 设置 Alpha Vantage API 密钥\n",
    "api_key = \"YOUR_API_KEY\"\n",
    "\n",
    "# 获取股票数据\n",
    "symbol = \"AAPL\"  # 苹果公司股票代码\n",
    "stock_data = get_stock_data(symbol, api_key)\n",
    "print(stock_data)"
   ]
  },
  {
   "cell_type": "markdown",
   "id": "cc00d26f-e8b4-4b59-9a70-c15a48360f03",
   "metadata": {},
   "source": [
    "## 4. 本地文件的存取方法"
   ]
  },
  {
   "cell_type": "markdown",
   "id": "4af1c21f-6f28-414c-aeae-79bb42941ce8",
   "metadata": {},
   "source": [
    "我们将网上的数据下载完后，存放在自己的电脑里，一般称之为本地存储，存放的位置称为本地路径。这里路径可以分为绝对路径和相对路径。"
   ]
  },
  {
   "cell_type": "markdown",
   "id": "03fe9925-f161-4669-a985-74f352405976",
   "metadata": {},
   "source": [
    "### 4.1 存取CSV格式数据文件"
   ]
  },
  {
   "cell_type": "markdown",
   "id": "327b3342-f8c7-48a9-a07f-f916951619d3",
   "metadata": {},
   "source": [
    "现在尝试使用pandas的这个方法来读取下【数据】文件夹下的这个数据集：【fund_code.csv】\n",
    "\n"
   ]
  },
  {
   "cell_type": "code",
   "execution_count": 10,
   "id": "05040f7a-7be1-4b86-80ce-50e595d5d6c6",
   "metadata": {},
   "outputs": [
    {
     "data": {
      "text/html": [
       "<div>\n",
       "<style scoped>\n",
       "    .dataframe tbody tr th:only-of-type {\n",
       "        vertical-align: middle;\n",
       "    }\n",
       "\n",
       "    .dataframe tbody tr th {\n",
       "        vertical-align: top;\n",
       "    }\n",
       "\n",
       "    .dataframe thead th {\n",
       "        text-align: right;\n",
       "    }\n",
       "</style>\n",
       "<table border=\"1\" class=\"dataframe\">\n",
       "  <thead>\n",
       "    <tr style=\"text-align: right;\">\n",
       "      <th></th>\n",
       "      <th>基金代码</th>\n",
       "      <th>基金名称</th>\n",
       "      <th>开始日期</th>\n",
       "      <th>类型</th>\n",
       "    </tr>\n",
       "  </thead>\n",
       "  <tbody>\n",
       "    <tr>\n",
       "      <th>0</th>\n",
       "      <td>000001</td>\n",
       "      <td>华夏成长</td>\n",
       "      <td>2001-12-18</td>\n",
       "      <td>混合式基金</td>\n",
       "    </tr>\n",
       "    <tr>\n",
       "      <th>1</th>\n",
       "      <td>000003</td>\n",
       "      <td>中海可转债债券</td>\n",
       "      <td>2013-03-20</td>\n",
       "      <td>债券基金</td>\n",
       "    </tr>\n",
       "    <tr>\n",
       "      <th>2</th>\n",
       "      <td>000005</td>\n",
       "      <td>嘉实增强信用</td>\n",
       "      <td>2013-03-08</td>\n",
       "      <td>债券基金</td>\n",
       "    </tr>\n",
       "    <tr>\n",
       "      <th>3</th>\n",
       "      <td>000007</td>\n",
       "      <td>鹏华国企债</td>\n",
       "      <td>2013-03-08</td>\n",
       "      <td>债券基金</td>\n",
       "    </tr>\n",
       "    <tr>\n",
       "      <th>4</th>\n",
       "      <td>000008</td>\n",
       "      <td>嘉实中证500ETF联接基金</td>\n",
       "      <td>2013-03-22</td>\n",
       "      <td>联接基金</td>\n",
       "    </tr>\n",
       "    <tr>\n",
       "      <th>...</th>\n",
       "      <td>...</td>\n",
       "      <td>...</td>\n",
       "      <td>...</td>\n",
       "      <td>...</td>\n",
       "    </tr>\n",
       "    <tr>\n",
       "      <th>9148</th>\n",
       "      <td>007140</td>\n",
       "      <td>富国全球美元现汇</td>\n",
       "      <td>2019-04-12</td>\n",
       "      <td>联接基金</td>\n",
       "    </tr>\n",
       "    <tr>\n",
       "      <th>9149</th>\n",
       "      <td>007233</td>\n",
       "      <td>金鹰鑫益混合E</td>\n",
       "      <td>2019-04-10</td>\n",
       "      <td>混合式基金</td>\n",
       "    </tr>\n",
       "    <tr>\n",
       "      <th>9150</th>\n",
       "      <td>006370</td>\n",
       "      <td>国富大中华美元</td>\n",
       "      <td>2019-04-11</td>\n",
       "      <td>混合式基金</td>\n",
       "    </tr>\n",
       "    <tr>\n",
       "      <th>9151</th>\n",
       "      <td>006792</td>\n",
       "      <td>鹏华香港美国互联网美元现汇</td>\n",
       "      <td>2019-04-15</td>\n",
       "      <td>股票基金</td>\n",
       "    </tr>\n",
       "    <tr>\n",
       "      <th>9152</th>\n",
       "      <td>007235</td>\n",
       "      <td>广发聚利C</td>\n",
       "      <td>2019-04-19</td>\n",
       "      <td>债券基金</td>\n",
       "    </tr>\n",
       "  </tbody>\n",
       "</table>\n",
       "<p>9153 rows × 4 columns</p>\n",
       "</div>"
      ],
      "text/plain": [
       "        基金代码            基金名称        开始日期     类型\n",
       "0     000001            华夏成长  2001-12-18  混合式基金\n",
       "1     000003         中海可转债债券  2013-03-20   债券基金\n",
       "2     000005          嘉实增强信用  2013-03-08   债券基金\n",
       "3     000007           鹏华国企债  2013-03-08   债券基金\n",
       "4     000008  嘉实中证500ETF联接基金  2013-03-22   联接基金\n",
       "...      ...             ...         ...    ...\n",
       "9148  007140        富国全球美元现汇  2019-04-12   联接基金\n",
       "9149  007233         金鹰鑫益混合E  2019-04-10  混合式基金\n",
       "9150  006370         国富大中华美元  2019-04-11  混合式基金\n",
       "9151  006792   鹏华香港美国互联网美元现汇  2019-04-15   股票基金\n",
       "9152  007235           广发聚利C  2019-04-19   债券基金\n",
       "\n",
       "[9153 rows x 4 columns]"
      ]
     },
     "execution_count": 10,
     "metadata": {},
     "output_type": "execute_result"
    }
   ],
   "source": [
    "df = pandas.read_csv(\"datasets/fund_codes.csv\", delimiter=\"\\t\", dtype={\"基金代码\":str})  #string字符串\n",
    "df"
   ]
  },
  {
   "cell_type": "markdown",
   "id": "a94a7f85-dd59-4272-8038-17a65823c8a3",
   "metadata": {},
   "source": [
    "当我们不知道`pandas.read_csv`如何使用的时候，我们可以使用命令`pandas.read_csv?`，即`pandas.read_csv` + `?`的形式"
   ]
  },
  {
   "cell_type": "markdown",
   "id": "5226c835-b101-49ad-81d9-75f448ecfa2a",
   "metadata": {},
   "source": [
    "如何保存CSV数据文件呢？使用pandas对象的to_csv方法"
   ]
  },
  {
   "cell_type": "code",
   "execution_count": 11,
   "id": "bdc1b618-e338-4ffd-a290-f57ae8138863",
   "metadata": {},
   "outputs": [],
   "source": [
    "df.to_csv(\"datasets/fund_codes_copy.csv\")"
   ]
  }
 ],
 "metadata": {
  "kernelspec": {
   "display_name": "Python 3 (ipykernel)",
   "language": "python",
   "name": "python3"
  },
  "language_info": {
   "codemirror_mode": {
    "name": "ipython",
    "version": 3
   },
   "file_extension": ".py",
   "mimetype": "text/x-python",
   "name": "python",
   "nbconvert_exporter": "python",
   "pygments_lexer": "ipython3",
   "version": "3.11.5"
  }
 },
 "nbformat": 4,
 "nbformat_minor": 5
}
