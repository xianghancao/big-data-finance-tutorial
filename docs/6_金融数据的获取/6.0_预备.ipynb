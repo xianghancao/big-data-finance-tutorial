{
 "cells": [
  {
   "cell_type": "markdown",
   "id": "cdab1fda-09c1-4c38-b3f3-7e9b7234ec32",
   "metadata": {},
   "source": [
    "# 6 金融数据的获取"
   ]
  },
  {
   "cell_type": "markdown",
   "id": "8be10c3d-3a9c-4d56-a871-e3e7758a7aa7",
   "metadata": {},
   "source": [
    "> 用一种以上的方法认识一个事物，才能真正理解它。——马文\\*明斯基(计算机科学家、认知科学家)"
   ]
  },
  {
   "cell_type": "markdown",
   "id": "a33e6590-faa5-42a3-bbcc-28343a91508d",
   "metadata": {},
   "source": [
    "**知识点｜**NumPy一维数组；NumPy的应用  \n",
    "**技能｜**掌握NumPy一维数组的创建、索引、切片和操作方法； 了解NumPy在金融价格序列、文本等各类场景上的应用   \n",
    "**作业｜**在金融领域应用NumPy  "
   ]
  },
  {
   "cell_type": "markdown",
   "id": "87b51b65-c76c-4065-a9ae-c28b96753d85",
   "metadata": {},
   "source": [
    "## 预备\n",
    "### 名词解释"
   ]
  },
  {
   "cell_type": "markdown",
   "id": "6314279c-4a45-489e-9c92-96aeae599c10",
   "metadata": {},
   "source": [
    "请使用各类资源和工具，完成以下名词解释：\n",
    "- 开源\n",
    "- 科学计算\n",
    "- 金融价格序列\n",
    "- 数组\n",
    "- 一维、二维和多维\n",
    "- 随机数\n",
    "- 数据集"
   ]
  },
  {
   "cell_type": "markdown",
   "id": "a3881fb4-2a0e-4335-a6d6-b5dce012987f",
   "metadata": {},
   "source": [
    "## 视频\n",
    "\n"
   ]
  },
  {
   "cell_type": "markdown",
   "id": "ff688318-8547-48d9-9f2e-12a30932343c",
   "metadata": {},
   "source": [
    "观看以下视频"
   ]
  },
  {
   "cell_type": "markdown",
   "id": "c3f07d28-ae8a-4451-be64-748e35a600e8",
   "metadata": {},
   "source": [
    "<iframe src=\"https://player.bilibili.com/player.html?aid=55317742&bvid=BV1R4411A7ne&cid=96724272&p=1&autoplay=0\" allowfullscreen=\"allowfullscreen\" width=\"100%\" height=\"350\" scrolling=\"no\" frameborder=\"0\" sandbox=\"allow-top-navigation allow-same-origin allow-forms allow-scripts\"></iframe>"
   ]
  },
  {
   "cell_type": "markdown",
   "id": "f331c1d4-61e5-44fa-bcfd-f11a306f9973",
   "metadata": {},
   "source": [
    "## 网络资源"
   ]
  },
  {
   "cell_type": "markdown",
   "id": "95f71f41-3179-433d-b412-a8f717a07cf4",
   "metadata": {},
   "source": [
    "浏览以下网络资源"
   ]
  },
  {
   "cell_type": "markdown",
   "id": "e31eb0e3-11a7-4f1d-9956-3a30b67bde53",
   "metadata": {},
   "source": [
    "- NumPy官方文档：https://numpy.org/doc/stable/user/absolute_beginners.html  \n",
    "- NumPy官方网址：https://numpy.org/doc/stable/index.html"
   ]
  },
  {
   "cell_type": "markdown",
   "id": "13d6e452-af51-4c92-afcd-7c496d905a91",
   "metadata": {},
   "source": [
    "## 问题\n",
    "快速浏览本章节内容，并记录下遇到的问题：\n",
    "1. 本章的应用场景是什么？\n",
    "2. 这个名词“xxx”时，是什么意思？\n",
    "3. xxx\n"
   ]
  },
  {
   "cell_type": "markdown",
   "id": "5d215606-5349-49cc-bf31-467066dbcfbb",
   "metadata": {},
   "source": [
    "请带着问题，来到课堂中咨询授课老师。"
   ]
  }
 ],
 "metadata": {
  "kernelspec": {
   "display_name": "Python 3 (ipykernel)",
   "language": "python",
   "name": "python3"
  },
  "language_info": {
   "codemirror_mode": {
    "name": "ipython",
    "version": 3
   },
   "file_extension": ".py",
   "mimetype": "text/x-python",
   "name": "python",
   "nbconvert_exporter": "python",
   "pygments_lexer": "ipython3",
   "version": "3.11.5"
  }
 },
 "nbformat": 4,
 "nbformat_minor": 5
}
