{
 "cells": [
  {
   "cell_type": "markdown",
   "id": "cdab1fda-09c1-4c38-b3f3-7e9b7234ec32",
   "metadata": {},
   "source": [
    "# 6 金融数据的获取"
   ]
  },
  {
   "cell_type": "markdown",
   "id": "8be10c3d-3a9c-4d56-a871-e3e7758a7aa7",
   "metadata": {},
   "source": [
    "> 用一种以上的方法认识一个事物，才能真正理解它。——马文\\*明斯基(计算机科学家、认知科学家)"
   ]
  },
  {
   "cell_type": "markdown",
   "id": "87b51b65-c76c-4065-a9ae-c28b96753d85",
   "metadata": {},
   "source": [
    "\n",
    "## 名词解释"
   ]
  },
  {
   "cell_type": "markdown",
   "id": "6314279c-4a45-489e-9c92-96aeae599c10",
   "metadata": {},
   "source": [
    "请使用各类资源和工具，完成以下名词解释：\n",
    "- 金融数据供应商\n",
    "- 开源数据源\n",
    "- 金融数据API\n",
    "- 另类数据\n",
    "- 宏观数据"
   ]
  },
  {
   "cell_type": "markdown",
   "id": "a3881fb4-2a0e-4335-a6d6-b5dce012987f",
   "metadata": {},
   "source": [
    "## 视频\n",
    "\n"
   ]
  },
  {
   "cell_type": "markdown",
   "id": "ff688318-8547-48d9-9f2e-12a30932343c",
   "metadata": {},
   "source": [
    "观看[华尔街和股票市场的历史](//player.bilibili.com/player.html?aid=457094453&bvid=BV1c541187bg&cid=233887552&p=1&autoplay=0)"
   ]
  },
  {
   "cell_type": "markdown",
   "id": "c3f07d28-ae8a-4451-be64-748e35a600e8",
   "metadata": {},
   "source": [
    "<iframe src=\"https://player.bilibili.com/player.html?aid=457094453&bvid=BV1c541187bg&cid=233887552&p=1&autoplay=0\" allowfullscreen=\"allowfullscreen\" width=\"80%\" height=\"350\" scrolling=\"no\" frameborder=\"0\" sandbox=\"allow-top-navigation allow-same-origin allow-forms allow-scripts\"></iframe>"
   ]
  },
  {
   "cell_type": "markdown",
   "id": "f331c1d4-61e5-44fa-bcfd-f11a306f9973",
   "metadata": {},
   "source": [
    "## 网络资源"
   ]
  },
  {
   "cell_type": "markdown",
   "id": "95f71f41-3179-433d-b412-a8f717a07cf4",
   "metadata": {},
   "source": [
    "浏览以下网络资源"
   ]
  },
  {
   "cell_type": "markdown",
   "id": "89e05125-8497-4d06-af17-6833450ecc3a",
   "metadata": {},
   "source": [
    "## 阅读材料"
   ]
  },
  {
   "cell_type": "markdown",
   "id": "8eb0db11-aea4-4817-b6a7-8806dedff802",
   "metadata": {},
   "source": [
    "阅读材料一：[附录—驾驭另类数据.pdf](附录—驾驭另类数据.pdf)"
   ]
  }
 ],
 "metadata": {
  "kernelspec": {
   "display_name": "Python 3 (ipykernel)",
   "language": "python",
   "name": "python3"
  },
  "language_info": {
   "codemirror_mode": {
    "name": "ipython",
    "version": 3
   },
   "file_extension": ".py",
   "mimetype": "text/x-python",
   "name": "python",
   "nbconvert_exporter": "python",
   "pygments_lexer": "ipython3",
   "version": "3.11.5"
  }
 },
 "nbformat": 4,
 "nbformat_minor": 5
}
