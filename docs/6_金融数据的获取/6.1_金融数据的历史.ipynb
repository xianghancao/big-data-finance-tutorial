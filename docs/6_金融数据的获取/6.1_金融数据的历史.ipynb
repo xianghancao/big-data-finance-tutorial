{
 "cells": [
  {
   "cell_type": "markdown",
   "id": "223fe24e-ade8-47e2-9f49-d83bef14b888",
   "metadata": {},
   "source": [
    "# 6.1 金融数据的发展"
   ]
  },
  {
   "cell_type": "markdown",
   "id": "6753b6bf-e160-4919-8078-ddd2cc6e4d8e",
   "metadata": {},
   "source": [
    "## 金融市场的繁荣"
   ]
  },
  {
   "cell_type": "markdown",
   "id": "33f2d249-5b17-4ede-ae40-8f2bc2fb54a5",
   "metadata": {},
   "source": [
    "上世纪美国金融市场的繁荣可以追溯到20世纪50年代后期至21世纪初期的一段时间。在这个时期，美国经济蓬勃发展，金融市场活跃度高涨，股票市场涌现出一系列热门行业和公司，投资者信心高涨，市场交易活动频繁。同时，金融创新和技术进步推动了金融市场的发展，投资银行兴起，衍生品市场蓬勃发展，电子交易平台的兴起使交易更加便捷高效。这段时期的美国金融市场繁荣为经济增长和国家财富的积累提供了强大支撑，对全球金融体系产生了深远影响。"
   ]
  },
  {
   "cell_type": "markdown",
   "id": "f97ed2e5-61ed-4434-906e-f2f2ed9e3de7",
   "metadata": {},
   "source": [
    "观看以下[视频](//player.bilibili.com/player.html?aid=457094453&bvid=BV1c541187bg&cid=233887552&p=1&autoplay=0)"
   ]
  },
  {
   "cell_type": "markdown",
   "id": "0b3bef82-7379-48f3-9931-e44f3e20c231",
   "metadata": {},
   "source": [
    "<iframe src=\"//player.bilibili.com/player.html?aid=457094453&bvid=BV1c541187bg&cid=233887552&p=1&autoplay=0\" allowfullscreen=\"allowfullscreen\" width=\"100%\" height=\"350\" scrolling=\"no\" frameborder=\"0\" sandbox=\"allow-top-navigation allow-same-origin allow-forms allow-scripts\"></iframe>"
   ]
  },
  {
   "cell_type": "markdown",
   "id": "086cbd1b-697e-43c4-8d42-817775d3bc70",
   "metadata": {},
   "source": [
    "## 信息的爆发增长"
   ]
  },
  {
   "cell_type": "markdown",
   "id": "37d2a6a3-4b33-4afc-aefc-a312df47753f",
   "metadata": {
    "tags": []
   },
   "source": [
    "过去数十年，技术的进步致使投资者和分析师可获得的信息量呈爆发式增长。即使我们只看到其中的一小部分，即从公司财务报告中提取的数据，数据可得性的增长也是惊人的。一百年穆迪手册([Moody's](https://www.moodys.com) manuals)企业财务报告的印刷版年卷代表了公众随时可以获得的大部分数据。"
   ]
  },
  {
   "cell_type": "markdown",
   "id": "a839b0d4-9d65-4f3d-aed0-3852e36e6687",
   "metadata": {},
   "source": [
    "![moody_manuals](images/moody_manuals.png)"
   ]
  },
  {
   "cell_type": "markdown",
   "id": "a5f6c4a1-c397-4bf8-ab89-afa701716a2f",
   "metadata": {},
   "source": [
    "随着电子计算机的出现，像[COMPUSTAT](https://www.spglobal.com/marketintelligence/en/solutions/fundamental-data)这样的数据库(美国标普公司在1962年创建的高质量财务数据库)，\n",
    "如今它是学术界在针对美股进行实证资产定价研究时所使用的重要数据库之一。"
   ]
  },
  {
   "cell_type": "markdown",
   "id": "be19bf1d-b492-4413-b45a-4b5ee736c4cd",
   "metadata": {},
   "source": [
    "<center><img src=\"images/mi-platform.png\" alt=\"images/mi-platform.png\" width=\"600\" height=\"228\"></center>"
   ]
  },
  {
   "cell_type": "markdown",
   "id": "4dddb7f3-7597-4704-b4ac-0e63bf0fc351",
   "metadata": {},
   "source": [
    "美国证券交易委员会（SEC）的[Edgar](https://www.sec.gov/edgar)数据库包含了TB级的财务报告数据，从这些文件中为每个公司构建出数以百万计的变量。"
   ]
  },
  {
   "cell_type": "markdown",
   "id": "0f51c7c3-8bad-4f03-8e46-da32a18ce02e",
   "metadata": {},
   "source": [
    "![big_data_evo](images/big_data_evo.png)"
   ]
  },
  {
   "cell_type": "markdown",
   "id": "770f51ed-e613-4d67-97c9-c3bfefbb5528",
   "metadata": {},
   "source": [
    "公司财务报告只代表了投资者潜在可获得的一小部分数据。除此之外，1) 记录市场历史价格和交易记录的数据库包含了海量数据；2) 社交媒体中包含了大量投资者情绪数据；3) 客户和员工的在线点评也可能包含有价值的信息；  \n"
   ]
  },
  {
   "cell_type": "markdown",
   "id": "b783389d-2cda-46df-bb2e-a6839dcb7444",
   "metadata": {},
   "source": [
    "## 金融领域数据的门类"
   ]
  },
  {
   "cell_type": "markdown",
   "id": "7de9165f-f6b0-4e16-b79d-e3e0463eab18",
   "metadata": {},
   "source": [
    "金融相关的数据，通常包括客户信息、投融资信息、金融舆情信息、市场数据、公开的财务报表、股票、基金、利率等信息。这些数据的提供者来自于政府、信息服务商或者个人。专业性数据库网站如国家统计局网站、中国人民银行网站、[中国证监会网站](http://www.csrc.gov.cn)、世界银行网站和国际货币基金组织网站等。专业数据公司主要有路透终端、彭博数据库、CSMAR、Wind数据库等。除此之外，一些数据科学社区，如Kaggle，也提供了很多金融和经济的开源数据集。除此之外，还有Akshare、Baostock、Yfinace、Efinance、Mootdx、Futu openapi、Tqsdk等提供数据API接口。"
   ]
  },
  {
   "cell_type": "markdown",
   "id": "3c246d44-ee0f-4a64-b6c4-c2310f30ac98",
   "metadata": {},
   "source": [
    "总结目前财经类的数据门类，涵盖了但不限于以下：\n",
    "|数据类型|例如|\n",
    "|---|---|\n",
    "|市场的交易数据|股票价格、成交量等|\n",
    "|财经新闻资讯|企业融资并购消息、财政货币政策发布等|\n",
    "|企业的财务数据|公司财务年度报告|\n",
    "|社交媒体的舆情数据|股吧、雪球上的评论|"
   ]
  },
  {
   "cell_type": "markdown",
   "id": "cae13638-ac6e-4158-be1b-3dac6668f5b2",
   "metadata": {},
   "source": [
    "以上这些数据都应用在哪些场景中呢？\n",
    "\n",
    "- 资产定价：预测问题是资产定价的核心。为了给股票定价，投资者必须预测公司未来的现金流。检验资产定价模型的学者们需寻找能够解释资产收益率（横）截面差异或时序变化的预测变量。\n",
    "- 量化投资：为了找到表现优异的交易策略，投资者会寻找能够预分布测资产收益率的信号。\n",
    "- 信用风险评估：信用风险模型需要能够预测违约的变量作为输入。\n",
    "- 风险管理：对冲和风险管理模型则需要预测资产收益率之间的共同运动。"
   ]
  },
  {
   "cell_type": "markdown",
   "id": "dbf73cff-3bf1-4456-b6e5-5478e8461991",
   "metadata": {},
   "source": [
    "### 练习：寻找金融数据\n",
    "在网络上寻找和金融相关的数据，记录相应网址，标明数据种类：价格、财经新闻还是另类数据"
   ]
  },
  {
   "cell_type": "raw",
   "id": "aea6ff61-9b3f-4c34-82e4-21cc00b1aa9a",
   "metadata": {},
   "source": [
    "\n",
    "\n",
    "\n",
    "\n"
   ]
  }
 ],
 "metadata": {
  "kernelspec": {
   "display_name": "Python 3 (ipykernel)",
   "language": "python",
   "name": "python3"
  },
  "language_info": {
   "codemirror_mode": {
    "name": "ipython",
    "version": 3
   },
   "file_extension": ".py",
   "mimetype": "text/x-python",
   "name": "python",
   "nbconvert_exporter": "python",
   "pygments_lexer": "ipython3",
   "version": "3.11.5"
  }
 },
 "nbformat": 4,
 "nbformat_minor": 5
}
