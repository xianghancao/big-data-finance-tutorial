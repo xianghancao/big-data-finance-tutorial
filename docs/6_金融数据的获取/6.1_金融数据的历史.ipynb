{
 "cells": [
  {
   "cell_type": "markdown",
   "id": "223fe24e-ade8-47e2-9f49-d83bef14b888",
   "metadata": {},
   "source": [
    "# 6.1 金融数据的历史"
   ]
  },
  {
   "cell_type": "markdown",
   "id": "6753b6bf-e160-4919-8078-ddd2cc6e4d8e",
   "metadata": {},
   "source": [
    "## 1. 穆迪手册"
   ]
  },
  {
   "cell_type": "markdown",
   "id": "6f233003-db96-4b1b-8f0f-c98e47891328",
   "metadata": {},
   "source": [
    "一百年前的穆迪手册([Moody's](https://www.moodys.com) manuals)，作为企业财务报告的印刷版年卷，它代表了当时公众随时可以获得的大部分数据。\n",
    "\n",
    "印刷版年报存在一些局限性，首先，它们通常每年只出版一次，这意味着它们可能无法反映公司的最新财务状况。其次，印刷版年报通常只包含财务数据的摘要，因此投资者可能无法获得有关特定公司财务状况的信息。"
   ]
  },
  {
   "cell_type": "markdown",
   "id": "a839b0d4-9d65-4f3d-aed0-3852e36e6687",
   "metadata": {},
   "source": [
    "<img src='images/moody_manuals.png' width=600>"
   ]
  },
  {
   "cell_type": "markdown",
   "id": "1adfa96b-af5b-4b8e-bbd6-97ddc23abb25",
   "metadata": {},
   "source": [
    "## 2. Calahan的自动报价机"
   ]
  },
  {
   "cell_type": "markdown",
   "id": "91bb72ff-6550-4c58-936f-b9876dab1ac2",
   "metadata": {},
   "source": [
    "第一台股票自动报价机出现在1867年11月，由Edward A. Calahan发明。Calahan的机器使用电报线将股票价格从交易大厅传输到经纪公司和其他地点。这使交易员能够实时了解股票价格，并做出更明智的交易决策。"
   ]
  },
  {
   "cell_type": "markdown",
   "id": "69f4f5cb-39cc-4553-8e12-4e034821d6f2",
   "metadata": {},
   "source": [
    "<img src='images/自动报价机.png' width=170>  <img src='images/报价机纸带.png' width=400>"
   ]
  },
  {
   "cell_type": "markdown",
   "id": "d0309e96-2124-45b2-ad5a-ee474e5819e3",
   "metadata": {},
   "source": [
    "右边图片显示了1929年10月29日纽约证券交易所（NYSE）报价机打印的报价纸带的一部分。"
   ]
  },
  {
   "cell_type": "markdown",
   "id": "f559c485-c7e8-4f0d-b881-2b022d780580",
   "metadata": {},
   "source": [
    "1929年10月29日是美国股市历史上黑暗的一天，被称为“黑色星期二”。这一天，股市暴跌，造成数十亿美元损失，并引发了大萧条。纸带记录了当天交易的第一部分，显示了股票的价格暴跌。例如，美国钢铁公司（US Steel）的股价从每股360美元下跌至每股283美元。通用汽车公司（General Motors）的股价从每股57美元下跌至每股33美元。美国电话电报公司（AT&T）的股价从每股300美元下跌至每股205美元。\n",
    "\n",
    "股市崩盘的原因有很多，包括过度投机、债务水平高和收入不平等。然而，毫无疑问，黑色星期二是美国历史上一个重要的转折点，其影响至今仍在感受到。"
   ]
  },
  {
   "cell_type": "markdown",
   "id": "afd86843-cac2-4b74-9436-8315e133ac9c",
   "metadata": {},
   "source": [
    "## 3. 20世纪50年代的电子显示屏"
   ]
  },
  {
   "cell_type": "markdown",
   "id": "52af341e-78e0-4e31-821e-3311a3c541cd",
   "metadata": {},
   "source": [
    "20世纪50年代，随着电子技术的进步，股票行情开始从纸质报价机转向电子显示屏。这些显示屏起初是简单的黑白显示，但随着时间的推移，它们变得更加复杂，能够显示更多信息，例如股票价格、交易量和图表。电子显示屏的引入对金融市场产生了重大影响，提高了市场效率和透明度。"
   ]
  },
  {
   "cell_type": "markdown",
   "id": "45fbd71b-c54f-4f76-9b7b-f51b61ee587a",
   "metadata": {},
   "source": [
    "<img src=\"images/电子显示屏.jpg\"  width=\"600\" >"
   ]
  },
  {
   "cell_type": "markdown",
   "id": "e0c49c58-2644-4625-b448-3eaa515c0a2a",
   "metadata": {},
   "source": [
    "20世纪50年代后期至21世纪初期的一段时间。在这个时期，美国经济蓬勃发展，金融市场活跃度高涨，股票市场涌现出一系列热门行业和公司，投资者信心高涨，市场交易活动频繁。同时，金融创新和技术进步推动了金融市场的发展，投资银行兴起，衍生品市场蓬勃发展，电子交易平台的兴起使交易更加便捷高效。"
   ]
  },
  {
   "cell_type": "markdown",
   "id": "086cbd1b-697e-43c4-8d42-817775d3bc70",
   "metadata": {},
   "source": [
    "## 4. COMPUSTAT金融数据库"
   ]
  },
  {
   "cell_type": "markdown",
   "id": "37d2a6a3-4b33-4afc-aefc-a312df47753f",
   "metadata": {
    "tags": []
   },
   "source": [
    "过去数十年，技术的进步致使投资者和分析师可获得的信息量呈爆发式增长。即使我们只看到其中的一小部分，即从公司财务报告中提取的数据，数据可得性的增长也是惊人的。"
   ]
  },
  {
   "cell_type": "markdown",
   "id": "a5f6c4a1-c397-4bf8-ab89-afa701716a2f",
   "metadata": {},
   "source": [
    "随着电子计算机的出现，像[COMPUSTAT](https://www.spglobal.com/marketintelligence/en/solutions/fundamental-data)这样的数据库(美国标普公司在1962年创建的高质量财务数据库)，\n",
    "如今它是学术界在针对美股进行实证资产定价研究时所使用的重要数据库之一。"
   ]
  },
  {
   "cell_type": "markdown",
   "id": "be19bf1d-b492-4413-b45a-4b5ee736c4cd",
   "metadata": {},
   "source": [
    "<img src=\"images/mi-platform.png\"  width=\"600\">"
   ]
  },
  {
   "cell_type": "markdown",
   "id": "4dddb7f3-7597-4704-b4ac-0e63bf0fc351",
   "metadata": {},
   "source": [
    "美国证券交易委员会（SEC）的[Edgar](https://www.sec.gov/edgar)数据库包含了TB级的财务报告数据，从这些文件中为每个公司构建出数以百万计的变量。"
   ]
  },
  {
   "cell_type": "markdown",
   "id": "0f51c7c3-8bad-4f03-8e46-da32a18ce02e",
   "metadata": {},
   "source": [
    "<img src='images/big_data_evo.png' width=600>"
   ]
  },
  {
   "cell_type": "markdown",
   "id": "770f51ed-e613-4d67-97c9-c3bfefbb5528",
   "metadata": {},
   "source": [
    "公司财务报告只代表了投资者潜在可获得的一小部分数据。\n"
   ]
  },
  {
   "cell_type": "markdown",
   "id": "2178f83d-c02b-4d55-a0d0-c2c0e46f13bd",
   "metadata": {},
   "source": [
    "## 参考\n",
    "- 第1章引言，[美]Stefan Nagel，《机器学习与资产定价》"
   ]
  }
 ],
 "metadata": {
  "kernelspec": {
   "display_name": "Python 3 (ipykernel)",
   "language": "python",
   "name": "python3"
  },
  "language_info": {
   "codemirror_mode": {
    "name": "ipython",
    "version": 3
   },
   "file_extension": ".py",
   "mimetype": "text/x-python",
   "name": "python",
   "nbconvert_exporter": "python",
   "pygments_lexer": "ipython3",
   "version": "3.11.5"
  }
 },
 "nbformat": 4,
 "nbformat_minor": 5
}
