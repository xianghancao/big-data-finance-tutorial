{
 "cells": [
  {
   "cell_type": "markdown",
   "id": "08df0648-5c36-4bca-bb96-5d36a5254b1d",
   "metadata": {},
   "source": [
    "# 8.2 多因子模型"
   ]
  },
  {
   "cell_type": "markdown",
   "id": "32d8a736-ba94-4580-85df-7499dfff420b",
   "metadata": {
    "tags": []
   },
   "source": [
    "## 1. 资产定价领域\n",
    "自20世纪70年代以来，实证资定价研究已经走过了近50年的发展。从CAPM到如今家喻户晓的Fama-French和q-factor 等因子模型。从“Factor Zoo”再到“Factor War”，资产定价领域已经拥有了浩如烟海的多因子建模学术文献。\n"
   ]
  },
  {
   "cell_type": "markdown",
   "id": "9c6673d2-f45b-4104-af3e-3337ecf91e64",
   "metadata": {},
   "source": [
    "传统的实证资产定价是由低维线性计量方法主导的，适合于近一般均衡状态(near general equilibrium)的经济分析和预测，而擅长处理高维问题和非线性关系等高度复杂性系统(complexitysystem)的机器学习方法无疑为资产定价领域注入了鲜活的血液。"
   ]
  },
  {
   "cell_type": "markdown",
   "id": "ec71afec-6ebc-483e-9781-3aa5236093e3",
   "metadata": {},
   "source": [
    "量化基金已经逐渐跻身到美国投资市场的主流，顶尖的量化机构也都形成了自己鲜明的特色，如以海外 AQR 为代表的学术量化派；以WorldQuant为代表的因子数据挖掘派和以西蒙斯的Medallion(大奖章)基金为代表的高频科技派等。不管哪种流派，背后都是海量的数据和神秘的模型。"
   ]
  },
  {
   "cell_type": "markdown",
   "id": "129e84cf-b0b8-42d4-ae3c-f4989ef4a6e7",
   "metadata": {},
   "source": [
    "\n",
    "如果说投资是一场冒险，那么以数据和模型为依托的量化投资就是一场科学的冒险。相比起挑选主动基金时辨人的风险，量化投资可以用更加科学严谨的模型来确保投资风格不漂移，规避主观情绪波动带来的非理性操作。尽管机器学习算法在图像识别和语音识别等方面取得了颠覆性突破，90%以上的识别准确率确实让人热血澎湃，但我们要深刻认识到资产定价与简单预测问题的本质区别，要清楚金融数据与图像、信号等数据的差异性。\n"
   ]
  },
  {
   "cell_type": "markdown",
   "id": "80939c41-7ae1-45bb-839a-4a8a5be990cf",
   "metadata": {},
   "source": [
    "## 2. 多因子模型"
   ]
  },
  {
   "cell_type": "markdown",
   "id": "67148651-7d9c-49a1-84ee-ac1eba45c282",
   "metadata": {},
   "source": [
    "自Fama and French (1993)发表并提出第一个多因子模型以来，学术界对多因子模型的研究经历了近30年。其间，很多新的模型先后被提出，它们对人们认知市场产生了深远的影响。\n",
    "<center><b>表1 主流多因子模型</b></center>\n",
    "\n",
    "|模型|出处|所含因子|\n",
    "|---|---|---|\n",
    "|Fama - French 三因子| Fama and French（1993）|市场、规模、价值|\n",
    "|Carhart 四因子| Carhart（1997）|市场、规模、价值、动量|\n",
    "|Novy - Marx 四因子| Novy-Marx（2013）|市场、价值、动量、盈利|\n",
    "|Fama - French 五因子| Fama and French（2015）|市场、规模、价值、盈利、投资|\n",
    "|Hou - Xue - Zhang 四因子| Hou et al.（2015）|市场、规模、盈利、投资|\n",
    "|Stambaugh - Yuan 四因子|Stambaugh and Yuan（2017） |市场、规模、管理、表现|\n",
    "|Daniel - Hirshleifer - Sun 三因子| Daniel et al.（2020）|市场、长周期行为、短周期行为|\n"
   ]
  },
  {
   "cell_type": "markdown",
   "id": "76c117a8-1ccd-487e-af4f-3c71e25c71c1",
   "metadata": {},
   "source": [
    "在多因子模型被提出之前，CAPM是资产定价的第一范式。然而，自20纪70年代以来，学者们逐渐发现按照某种风格\"打包\"的股票能够战胜市场。这其中最值得一提的是Basu(1977)发现的盈利市值比(EP)效应和Banz(1981)发现的小市值效应。继EP之后，账面市值比(BM)和债务市值比(debt to market value of equity, DM)效应也被发现。虽然单一异象被发现后都对CAPM提出了挑战，但它们并没有形成合力，因此人们并未对CAPM产生太大的质疑，直到Fama and French(1992)横空出世，它整合了之前被提出的多种异象，彻底颠覆了人们对CAPM的看法。\n",
    "\n",
    "当然，由于CAPM在数学上足够简单优雅，且在业务上非常容易解释(风险来自对市场的暴露)，因此它还是资产定价的一个很好的出发点，只是人们再也无法忽视不能被CAPM解释的其他系统性风险因子了。\n"
   ]
  },
  {
   "cell_type": "markdown",
   "id": "f91f0d7f-51d0-4e12-9246-1133df5106b6",
   "metadata": {},
   "source": [
    "## 3. Fama-Frence三因子模型"
   ]
  },
  {
   "cell_type": "markdown",
   "id": "0b444720-72de-44e7-8af6-604985c923d0",
   "metadata": {},
   "source": [
    "![images/OIP-C.jpeg](images/OIP-C.jpeg)"
   ]
  },
  {
   "cell_type": "markdown",
   "id": "45b0276f-55c7-4050-9469-798780e3bc72",
   "metadata": {},
   "source": [
    "想要摒弃一个旧模型，唯有提出一个更好的新模型。Fama and French(1993)在CAPM的基础上，加入了价值(High-Minus-Low, HML)和规模(Small-Minus-Big, SMB)两个因子，提出了三因子模型，它也是多因子模型的开山鼻祖：\n"
   ]
  },
  {
   "cell_type": "markdown",
   "id": "2a4ff01f-cc6e-4e40-9867-d4f111c9594c",
   "metadata": {},
   "source": [
    "$$\n",
    "E[R_i]-R_f = \\beta_{i, MKT}(E[R_M]-R_f)+\\beta_{i,SMB}E[R_{SMB}]+\\beta_{i,HML}E[R_{HML}]\n",
    "$$"
   ]
  },
  {
   "cell_type": "markdown",
   "id": "bda9f3e5-fa62-4447-833a-f3702730af45",
   "metadata": {},
   "source": [
    "$E[R_i]$表示股票$i$的预期收益率， $R_f$为无风险收益率， $E[R_M]$为市场组合预期收益率，$E[R_{SMB}]$和$E[R_{HML}]$ 分别为规模因子(SMB)以及价值因子(HML)的预期收益率，\n",
    "$\\beta_{i, MKT}$、 $\\beta_{i,SMB}$以及 $\\beta_{i,HML}$为个股$i$在相应因子上的暴露。\n"
   ]
  },
  {
   "cell_type": "markdown",
   "id": "0eaef166-2545-4357-8f89-ebd9ae351d9f",
   "metadata": {},
   "source": [
    "为构建价值和规模因子，Fama and French(1993)选择了 BM和市值两个公司指标并用它们进行了如图所示的23独立双重排序。在排序时，以纽约证券交易所(Ne York Stock Exchange,NYSE)(下面简称纽交所)中上市公司的市值中位数为界，把NYSE、纳斯达克(NASDAQ)以及美国证券交易所(American Stock Exchange，AMEX)的上市公司分成小市值(Small)和大市值(Big)两组。类似的，以 NYSE 中上市公司 BM 的30%和70%分位数为界，把这三大交易所的上市公司分成三组:BM 高于 70%分位数的为High 组、BM低于 30% 分位数的为Low 组、位于中间的为Middle组。通过以上划分后，按照市值和BM 各自所属的组别，所有股票被分到一共6(2x3=6)个组中，记为 S/H、S/M、S/L、B/H、B/M及B/L。将每组中的股票收益率按市值加权就得到六个投资组合。最终，Fama and French(1993)使用如下方法构建了规模和价值两个因子:\n"
   ]
  },
  {
   "cell_type": "markdown",
   "id": "d08834f2-bb2f-4e3f-9984-6ed2d8e25402",
   "metadata": {},
   "source": [
    "\n",
    "$$\n",
    "SMB=(S/H+S/M+S/L)-(B/H+B/M+B/L) \\\\\n",
    "HML=2(S/H+B/H)-(S/L+B/L) \n",
    "$$\n"
   ]
  },
  {
   "cell_type": "markdown",
   "id": "4da06662-11c2-4fde-988a-dc6e6cbb4ddb",
   "metadata": {},
   "source": [
    "<center><img src=\"images/BM.jpg\" alt=\"images/BM.jpg\" width=\"1000\"></center>\n",
    "<center>图1 BM和市值双重排序</center>"
   ]
  },
  {
   "cell_type": "markdown",
   "id": "ac479da4-b345-464a-9218-a973e605d571",
   "metadata": {},
   "source": [
    "不难看出，规模因子是三个小市值组合S/H、S/M及S/L的等权平均减去三个大市值组合B/H、B/M及B/L的等权平均；而价值因子是S/H和B/H两个高BM组合的两组合的等权平均。在每年的六月末，Fama and French(1993）使用上一财年最新的财务数据对股票重新排序并对这两个因子进行再平衡。Fama-French三因子模型被提出后逐步取代了CAPM成为资产定价的第一范式。而以上述双重划分以及以此衍生出来的多重划分来构建因子组合也成为学术界竞相模仿的对象。\n"
   ]
  },
  {
   "cell_type": "markdown",
   "id": "0bb1b6e8-8b04-4c8e-a519-55b20070cd0c",
   "metadata": {},
   "source": [
    "作为第一个被提出的多因子模型，Fama-French三因子模型被反复进行检验。Daviset al.(2000)使用自1927年开始的数据模型；Fama and French(1998)使用其他国家的股票市场检验该模型；Fama and French(2008）使用三因子模型考察了那些无法被CAPM解释的异象。除此之外，Fama and French(1996）还尝试从风险的角度解释了SMB和HML两个因子，并猜想它们和上市公司的财务困境风险有关。"
   ]
  },
  {
   "cell_type": "markdown",
   "id": "a9157b5c-05f8-44d8-a54d-77c32c7bee65",
   "metadata": {},
   "source": [
    "## 多因子模型的回归技术"
   ]
  },
  {
   "cell_type": "markdown",
   "id": "ea5af198-1709-414a-9a67-85771216f9f3",
   "metadata": {},
   "source": [
    "资产预期（超额）收益率和因子预期收益率之间满足以下关系：\n",
    "\n",
    "$$\n",
    "E[R_i^e] = \\alpha_i + \\beta_i^{'}\\lambda\n",
    "$$\n",
    "\n",
    "其中$R_i^{e}$代表资产$i$的超额收益，$\\beta_i$为资产$i$的$K$维因子暴露向量；$\\lambda$为$K$维度因子预期收益率向量。\n",
    "多因子模型研究的核心问题是资产预期收益率在截面上——即不同的资产之间——为什么会有差异。如果一个资产在因子上的暴露$\\beta_i$高，则它的预期收益$E[R_i^{e}]$也应该更高。"
   ]
  },
  {
   "cell_type": "markdown",
   "id": "5e3b2ff7-4da4-488a-970a-e2ffba4c9ecb",
   "metadata": {},
   "source": [
    "<center><img src=\"images/regression.jpg\" alt=\"images/regression.jpg\" width=\"600\" height=\"228\"></center>\n",
    "<center>图1 截面上股票预期收益率和风险暴露的关系</center>"
   ]
  },
  {
   "cell_type": "markdown",
   "id": "98afffb8-7b78-4f9b-9886-b90871e5ed3d",
   "metadata": {},
   "source": [
    "上图中，当模型不能完美的满足时，资产的预期收益率和模型算出的$\\beta_i\\lambda$之间就会存在误差，即$\\alpha_i$。"
   ]
  },
  {
   "cell_type": "markdown",
   "id": "dea451c8-a85a-4cfe-a4c0-f4b51c590f81",
   "metadata": {},
   "source": [
    "## 时序回归"
   ]
  },
  {
   "cell_type": "markdown",
   "id": "baa05ef2-edda-4037-ad15-a15175139c4a",
   "metadata": {},
   "source": [
    "时间序列回归(time-series regression)简单直接，Black et al.(1972)最早使用它来检验CAPM。这种方法在回归时使用因子收益率作为自变量(independent variable)或解释变量(explanatory variable)，以资产的超额收益率作为因变量(dependent variable)或被解释变量(explained variable)。"
   ]
  },
  {
   "cell_type": "markdown",
   "id": "7709bd2c-33aa-4e49-9eef-580ffc83e483",
   "metadata": {},
   "source": [
    "令$\\lambda$表示$t$期因子收益率向量，$R_{it}^{e}$为资产$i$在$t$期的超额收益率，前者为自变量，后者为因变量，这二者在时序满足如下线性关系:\n",
    "\n",
    "$$\n",
    "R_{it}^{e} = a_i + \\beta_i^{'}\\lambda_t+\\epsilon_t, t=1,2,\\dots,T\n",
    "$$"
   ]
  },
  {
   "cell_type": "markdown",
   "id": "4865b6ab-2a96-4507-a847-a966b05b6647",
   "metadata": {},
   "source": [
    "对于每个资产使用简单最小二乘法（OLS）来对参数进行估计，回归得到资产在因子上的暴露$\\hat{\\beta_i}$，截距$\\hat{\\alpha_i}$，以及残差$\\hat{\\epsilon_{it}}$。需要说明的是，<u>在使用时间序列回归时，需要对每个资产分别独立使用多因子模型进行时序回归</u>。"
   ]
  },
  {
   "cell_type": "markdown",
   "id": "5c6d6f32-985d-42ed-9b91-0d335d25fa8f",
   "metadata": {},
   "source": [
    "$$\n",
    "E[R_i^e]=\\hat{a_i} + \\hat{\\beta_i}^{'}\\lambda\n",
    "$$"
   ]
  },
  {
   "cell_type": "markdown",
   "id": "29943701-1281-44f3-bfed-5b3e70a255ea",
   "metadata": {},
   "source": [
    "时间序列回归使用方便，但是它的前提是我们已经知道因子收益率$\\lambda_t$。对于处理基于高频率的财务数据、价格数据等比较方便，但是对于处理低频的宏观经济因子，如GDP、CPI以及利率就无法施展。"
   ]
  },
  {
   "cell_type": "markdown",
   "id": "903d2072-8b17-48d4-8f38-fbce81030770",
   "metadata": {},
   "source": [
    "使用截面回归不要求因子的收益率时序已知，因此应用更广泛。进一步，在1973年，Eugene Fama和James MacBeth提出了Fama-MacBeth二步回归法，改进了截面回归，详见其论文或者《因子投资：方法与实践》。"
   ]
  },
  {
   "cell_type": "markdown",
   "id": "6b004133-0235-4920-b39f-de744a75f321",
   "metadata": {},
   "source": [
    "## Fama-MacBeth二步回归法"
   ]
  },
  {
   "cell_type": "markdown",
   "id": "c48366c3-feaa-4106-ad15-c38f1c019343",
   "metadata": {},
   "source": []
  },
  {
   "cell_type": "markdown",
   "id": "1141313a-3695-4d2b-ba33-1258e51a3bdb",
   "metadata": {},
   "source": [
    "## 参考\n",
    "1. 《因子投资：方法与实践》石川等, 2020\n",
    "2. 《高效的无效》Efficiently Inefficient, Lasse Heje Pedersen, 2021\n",
    "3. Fama, E.F. and J. D. MacBeth (1973). Risk, return, and equilibrium: Empirical tests. Journal of Political Economy 81(3), 607-636.\n",
    "2. 《量化风险管理》Quantitative Risk Management,Alexander J.McNell, 2020\n",
    "4. Multi-Factor models and Fama-French：[coursera](https://www.coursera.org/lecture/advanced-portfolio-construction-python/multi-factor-models-and-fama-french-iVahP?redirectTo=%2Flearn%2Fadvanced-portfolio-construction-python%3Faction%3Denroll)\n",
    "5. FamaFrench in  Github: https://christianjauregui.github.io/famafrench/gettingstarted/gettingstarted.html"
   ]
  }
 ],
 "metadata": {
  "authors": [
   {
    "name": "X. Cao"
   }
  ],
  "date": "2023.8.1",
  "kernelspec": {
   "display_name": "Python 3 (ipykernel)",
   "language": "python",
   "name": "python3"
  },
  "language_info": {
   "codemirror_mode": {
    "name": "ipython",
    "version": 3
   },
   "file_extension": ".py",
   "mimetype": "text/x-python",
   "name": "python",
   "nbconvert_exporter": "python",
   "pygments_lexer": "ipython3",
   "version": "3.11.5"
  },
  "toc-autonumbering": false
 },
 "nbformat": 4,
 "nbformat_minor": 5
}
