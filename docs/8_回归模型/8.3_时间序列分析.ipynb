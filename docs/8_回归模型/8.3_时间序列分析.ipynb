{
 "cells": [
  {
   "cell_type": "markdown",
   "id": "baedcf0f-69ae-4336-870a-a304cae3e5f6",
   "metadata": {},
   "source": [
    "# 8.3 时间序列分析"
   ]
  },
  {
   "cell_type": "markdown",
   "id": "989d5ad3-4d57-4789-8974-a4fb7e1c1275",
   "metadata": {},
   "source": [
    "时序数据 (time series) 是按时间顺序排列的一系列数值。金融时间序列具有高噪声、非平稳、非线性、混沌、潜在周期性等特点（Yaser，1996）。\n",
    "\n",
    "本节将介绍时间序列模型的以下方面，这些方面将在后续案例研究中加以利用。\n"
   ]
  },
  {
   "cell_type": "markdown",
   "id": "56db9d45-8055-49b1-a154-f32a1babc73a",
   "metadata": {},
   "source": [
    "\n",
    "## 1. 时间序列的分解\n",
    "\n",
    "时间序列可以分解为以下成分：\n",
    "\n",
    "* **趋势成分**\n",
    "\n",
    "趋势是指时间序列中持续的方向性运动。趋势可以分为确定性趋势和随机趋势。确定性趋势可以为我们提供解释趋势的潜在原因，而随机趋势则是无法解释的序列随机特性。趋势经常出现在金融序列中，许多交易模型都使用复杂的趋势识别算法。\n",
    "\n",
    "* **季节成分**\n",
    "\n",
    "许多时间序列包含季节性变化。这在代表商业销售或气候水平的序列中尤为常见。在量化金融中，我们经常看到季节性变化，特别是与假日季节或年度温度变化（例如天然气）相关的序列。\n"
   ]
  },
  {
   "cell_type": "markdown",
   "id": "7c550032-1f59-4304-bb48-fcb49b42f095",
   "metadata": {
    "tags": []
   },
   "source": [
    "我们可以吧一条时间序列$y_t$写成：\n",
    "\n",
    "$$\n",
    "y_t = S_t + T_t + R_t\n",
    "$$\n",
    "\n",
    "这里$S_t$是季节成分，$T_t$是趋势成分，$R_t$代表了其他没有被前两者捕获的成分。"
   ]
  },
  {
   "cell_type": "markdown",
   "id": "7b5d1c6d-3100-4721-a9eb-a1f4b48a9de8",
   "metadata": {},
   "source": [
    "如果用Python代码表示的话："
   ]
  },
  {
   "cell_type": "markdown",
   "id": "9e9533b9-808d-4edc-81d8-1aaba4d4b124",
   "metadata": {},
   "source": [
    "```python\n",
    "import statsmodels.api as sm \n",
    "sm.tsa.seasonal_decompose(Y,freq=52).plot()\n",
    "```"
   ]
  },
  {
   "cell_type": "markdown",
   "id": "1d4d5494-8b90-43f4-a659-dad64052c7e5",
   "metadata": {},
   "source": [
    "下图展示了分解成趋势、季节性和剩余成分的时间序列。将时间序列分解成这些成分可以帮助我们更好地理解时间序列并识别其行为，从而做出更好的预测。"
   ]
  },
  {
   "cell_type": "markdown",
   "id": "c31785af-0e6f-432d-88cd-1c6becf4d5ce",
   "metadata": {},
   "source": [
    "<img src='images/tsc.png' width=800>\n",
    "图：时间序列的分解"
   ]
  },
  {
   "cell_type": "markdown",
   "id": "d66bb58d-7ec7-4461-a217-0083e560b2b9",
   "metadata": {},
   "source": [
    "\n",
    "\n",
    "底部三个子图分别显示了三个时间序列成分。这些成分可以相加重建顶部子图中显示的实际时间序列（标为“观测值”）。请注意，时间序列在 2017 年之后呈现趋势成分。因此，该时间序列的预测模型应该包含 2017 年之后趋势行为的信息。\n",
    "\n",
    "在季节性方面，年初时会出现一些幅度的增加。底部子图中显示的残差成分是在从数据中减去季节性和趋势成分后剩下的部分。残差成分大部分是平坦的，在 2018 年和 2019 年左右有一些尖峰和噪声。此外，每个图的刻度都不一样，趋势成分的范围最大，如其图上的刻度所示。\n"
   ]
  },
  {
   "cell_type": "markdown",
   "id": "0c88bfd7-2cc4-4b02-920c-02cf268d562e",
   "metadata": {},
   "source": [
    "## 2. 时间序列的特性"
   ]
  },
  {
   "cell_type": "markdown",
   "id": "8adac7d4-5c93-4bf0-b7ad-d54ef209012f",
   "metadata": {},
   "source": [
    "虽然将时间序列分解成趋势、季节性和残差成分相对简单，但在处理金融时间序列数据时，还有一些其他需要考虑的方面。\n",
    "\n",
    "### 2.1 自相关 (Autocorrelation)\n",
    "\n",
    "在许多情况下，时间序列的连续元素之间存在相关性。也就是说，序列中连续点的行为会相互影响。**自相关**是观测值之间相似性的度量，取决于它们之间的时间滞后。这种关系可以通过 **自回归模型** 进行建模。**自回归**一词表示它是变量自身与其滞后值的回归。\n",
    "\n",
    "在自回归模型中，我们使用变量的过去值的线性组合来预测目标变量。\n",
    "\n",
    "因此，一个 p 阶的自回归模型可以写成如下形式：\n"
   ]
  },
  {
   "cell_type": "markdown",
   "id": "ded14c30-462e-47a6-a9c2-2872f6f2f7df",
   "metadata": {},
   "source": [
    "$$\n",
    "Y_t = \\alpha + \\beta_1 * Y_{t-1} + \\beta_2 * Y_{t-2} + \\dots + \\beta_p * Y_{t-p} + \\epsilon_t\n",
    "$$"
   ]
  },
  {
   "cell_type": "markdown",
   "id": "f0209279-6b21-4a0e-814a-15848f958312",
   "metadata": {},
   "source": [
    "\n",
    "其中 $\\epsilon_t$ 是白噪声。**自回归模型**类似于多元回归，但使用滞后的 Y 值作为预测变量。我们将其称为 AR(p) 模型，即 p 阶的自回归模型。自回归模型在处理各种不同的时间序列模式方面非常灵活。\n",
    "\n",
    "### 2.2 平稳性 (Stationarity)\n",
    "\n",
    "如果时间序列的统计特性随时间推移保持不变，则称其为 **平稳** 的。因此，具有趋势或季节性的时间序列是非平稳的，因为趋势和季节性会影响时间序列的值。\n",
    "\n",
    "例如，考虑以下图表：\n"
   ]
  },
  {
   "cell_type": "markdown",
   "id": "cd2e6b0f-d86e-486c-aab6-9598c586064d",
   "metadata": {},
   "source": [
    "<img src='images/Nonstationaryplots.png' width=600>\n",
    "图：非平稳性的序列"
   ]
  },
  {
   "cell_type": "markdown",
   "id": "5bf2a884-08bd-430e-beed-e7e1fb4c26cb",
   "metadata": {},
   "source": [
    "在第一幅图中，我们可以清楚地看到平均值随着时间变化而增加 (上升)，形成上升趋势。因此，这是一个非平稳序列。要使序列被归类为平稳，它不应该表现出趋势。\n",
    "\n",
    "接下来看第二幅图，我们确实没有看到序列中的趋势，但是序列的方差却随时间变化。平稳序列必须具有恒定的方差；因此，该序列也是非平稳序列。\n",
    "\n",
    "在第三幅图中，随着时间的推移，传播更接近，这意味着协方差是时间的函数。图 5-2 中显示的三个示例代表了非平稳时间序列。现在再来看图 5-3 中展示的第四个图。\n"
   ]
  },
  {
   "cell_type": "markdown",
   "id": "d918e5b5-4458-4bee-b0a7-3dfa3117ef15",
   "metadata": {},
   "source": [
    "<img src='images/Stationaryplot.png' width=400>\n",
    "图：平稳的时间序列"
   ]
  },
  {
   "cell_type": "markdown",
   "id": "ccc5169e-061f-47e4-84e9-77a53e7be03b",
   "metadata": {},
   "source": [
    "本例中，均值、方差和协方差随时间保持恒定。这便是平稳时间序列的特征。使用此图 (第四幅图) 预测未来值会更加容易。大多数统计模型都要求序列平稳才能进行有效和准确的预测。\n",
    "\n",
    "如图 5-2 所示，时间序列非平稳的两个主要原因是趋势和季节性。为了使用时间序列预测模型，我们通常会将非平稳序列转换为平稳序列，因为其统计特性不会随时间变化，因此更容易建模。\n"
   ]
  },
  {
   "cell_type": "markdown",
   "id": "886269eb-571d-40ce-be24-c8e070231ecd",
   "metadata": {},
   "source": [
    "### 2.3 差分\n",
    "差分是使时间序列平稳的一种常用方法。 这种方法通过计算序列中连续项之间的差值来实现。 差分通常用于消除变动的均值。 数学上，差分可以表示为：\n"
   ]
  },
  {
   "cell_type": "markdown",
   "id": "13c83634-c1da-4c5b-a236-6a047211beca",
   "metadata": {
    "tags": []
   },
   "source": [
    "$$\n",
    "y^{'} = y_t - y_{t-1}\n",
    "$$\n",
    "\n",
    "其中 $y_t$是第t期的值。"
   ]
  },
  {
   "cell_type": "markdown",
   "id": "f79e0b22-9583-4592-84fb-01cf9977bbf8",
   "metadata": {},
   "source": [
    "当差分后的序列为白噪声时，原始序列被称为**一阶非平稳序列**。"
   ]
  },
  {
   "cell_type": "markdown",
   "id": "2257c8ae-354c-4b2b-a96a-a88df1b12f56",
   "metadata": {},
   "source": [
    "## 3. 传统时间序列模型\n"
   ]
  },
  {
   "cell_type": "markdown",
   "id": "ccb414ba-030f-4409-9b68-db2d8e7eccad",
   "metadata": {},
   "source": [
    "有许多建模时间序列以进行预测的方法。大多数时间序列模型旨在同时考虑趋势、季节性和组成部分，同时解决时间序列中嵌入的自相关性和平稳性。例如，前一节讨论的自回归（AR）模型解决了时间序列中的自相关性问题。"
   ]
  },
  {
   "cell_type": "markdown",
   "id": "b1b351d3-bd23-41a8-ab5e-df04c3eb8d3e",
   "metadata": {},
   "source": [
    "时间序列预测中最广泛使用的模型之一是ARIMA模型。"
   ]
  },
  {
   "cell_type": "markdown",
   "id": "54e9584b-076f-43ed-81cb-e6c4654a35e2",
   "metadata": {},
   "source": [
    "### 3.1 ARIMA模型"
   ]
  },
  {
   "cell_type": "markdown",
   "id": "b1e24b8a-f1cb-48ee-9753-a073ede07894",
   "metadata": {},
   "source": [
    "如果我们将平稳性与自回归和移动平均模型相结合（在本节后面进一步讨论），我们就得到了ARIMA模型。ARIMA是AutoRegressive Integrated Moving Average的缩写，它具有以下组成部分："
   ]
  },
  {
   "cell_type": "markdown",
   "id": "14ba8c21-2a5a-4473-9ff0-9f5f2c07a687",
   "metadata": {},
   "source": [
    "$AR(P)$"
   ]
  },
  {
   "cell_type": "markdown",
   "id": "10f3e14f-831b-4309-954e-30186bb5f96b",
   "metadata": {},
   "source": [
    "它代表自回归，即时间序列对自身的回归，正如前一节所讨论的，假设当前系列值依赖于其之前的值，并存在一些滞后（或多个滞后）。模型中的最大滞后被称为p。"
   ]
  },
  {
   "cell_type": "markdown",
   "id": "9fd0dd03-43b7-45c9-857a-8130d39c88b4",
   "metadata": {},
   "source": [
    "$I(d)$"
   ]
  },
  {
   "cell_type": "markdown",
   "id": "d1c2c607-009b-405b-a0df-b64c7c9d667f",
   "metadata": {},
   "source": [
    "它代表整合的阶数。它简单地表示使序列平稳所需的差分次数。"
   ]
  },
  {
   "cell_type": "markdown",
   "id": "574728f3-63cb-434c-af60-f7dcd606ad2d",
   "metadata": {},
   "source": [
    "$MA(q)$"
   ]
  },
  {
   "cell_type": "markdown",
   "id": "6473de3b-ea34-4f24-9826-da83cf2b0787",
   "metadata": {},
   "source": [
    "它代表移动平均。恕不展开，简言之，它模拟了时间序列的误差；同样，假设当前误差取决于之前的误差，并存在一些滞后，这被称为q。"
   ]
  },
  {
   "cell_type": "markdown",
   "id": "4a4234d0-ed2d-41c6-86a5-37ca13234e50",
   "metadata": {},
   "source": [
    "移动平均方程可以写成：\n",
    "\n",
    "$$\n",
    "y_t = c + \\epsilon_t + \\sum_{i=1}^{q} \\theta_i \\epsilon_{t-i} \n",
    "$$\n",
    "\n",
    "其中：\n",
    "- $y_t$ 是时间序列在时刻 $ t $ 的观测值。\n",
    "- $c$ 是常数项。\n",
    "- $\\epsilon_t$ 是在时刻 $t $ 的误差项。\n",
    "- $\\theta_i$ 是移动平均项的系数 $i = 1, 2, \\ldots, q $。"
   ]
  },
  {
   "cell_type": "markdown",
   "id": "74435177-39d3-4d43-b156-d438278d9056",
   "metadata": {},
   "source": [
    "综合所有部分，完整的ARIMA模型可以写成：\n",
    "\n",
    "$$\n",
    "y'_t = c + \\phi_1 y'_{t-1} + \\ldots + \\phi_p y'_{t-p} + \\theta_1 \\epsilon_{t-1} + \\ldots + \\theta_q \\epsilon_{t-q} + \\epsilon_t\n",
    "$$\n"
   ]
  },
  {
   "cell_type": "markdown",
   "id": "80c1e057-c6ad-4fbf-aae6-c28ca5144265",
   "metadata": {},
   "source": [
    "在这个方程中，$y'$ 是差分序列（可能已经被差分多次）位于等号左边。右边的预测变量包括 $y'$ 的滞后值和滞后误差。我们将其称为ARIMA($p,d,q$)模型，其中：\n",
    "- $ p $ 是自回归部分的阶数，\n",
    "- $ d $ 是差分的次数，\n",
    "- $ q $ 是移动平均的阶数。\n",
    "\n",
    "与自回归和移动平均模型使用的相同的平稳性和可逆性条件也适用于ARIMA模型。"
   ]
  },
  {
   "cell_type": "markdown",
   "id": "59dc591c-5a99-404a-a238-acd91c47d6df",
   "metadata": {},
   "source": [
    "以下显示了拟合ARIMA模型的Python代码，其阶数为(1,0,0)："
   ]
  },
  {
   "cell_type": "markdown",
   "id": "8d2d5c2f-9168-45c5-895e-528b0a1aecaa",
   "metadata": {},
   "source": [
    "```python\n",
    "from statsmodels.tsa.arima.model import ARIMA\n",
    "\n",
    "# Fit the ARIMA model\n",
    "model = ARIMA(endog=Y_train, order=[1,0,0])\n",
    "fit_model = model.fit()\n",
    "\n",
    "# Print the summary of the model\n",
    "print(fit_model.summary())\n",
    "```\n"
   ]
  },
  {
   "cell_type": "markdown",
   "id": "209f7e72-dcd6-484c-8bfc-2c2a1d7eab85",
   "metadata": {},
   "source": [
    "ARIMA模型族有几个变种，其中一些如下所示：\n",
    "\n",
    "***ARIMAX***\n",
    "\n",
    "包含外生变量的ARIMA模型。我们将在案例研究中使用此模型。\n",
    "\n",
    "***SARIMA***\n",
    "\n",
    "该模型中的“S”代表季节性，旨在建模嵌入在时间序列中的季节性组成部分，以及其他组成部分。\n",
    "\n",
    "***VARMA***\n",
    "\n",
    "这是模型拓展到多变量情况的版本，在需要同时预测多个变量时使用。"
   ]
  },
  {
   "cell_type": "markdown",
   "id": "1c623ccd-5b46-4ed0-a4cf-b50cf471c985",
   "metadata": {},
   "source": [
    "## 4. 应用ARIMA模型预测股票价格"
   ]
  },
  {
   "cell_type": "code",
   "execution_count": 24,
   "id": "0a9eb411-1ff8-483c-908f-823ae45449f6",
   "metadata": {},
   "outputs": [],
   "source": [
    "X_train_ARIMA=X_train.loc[:, ['GOOGL', 'IBM', 'SPX', 'DJI', 'VIX']]\n",
    "X_test_ARIMA=X_test.loc[:, ['GOOGL', 'IBM', 'SPX', 'DJI', 'VIX']]\n",
    "tr_len = len(X_train_ARIMA)\n",
    "te_len = len(X_test_ARIMA)\n",
    "to_len = len (X)"
   ]
  },
  {
   "cell_type": "markdown",
   "id": "0464e93d-ddc9-4ce9-8e9e-98e376c39dc5",
   "metadata": {},
   "source": [
    "我们现在配置ARIMA模型，阶数为(1,0,0)，并将独立变量用作模型中的外生变量。在使用外生变量的ARIMA模型版本称为ARIMAX模型，其中的“X”代表外生变量："
   ]
  },
  {
   "cell_type": "code",
   "execution_count": 25,
   "id": "b89432c3-5328-4cd9-8ca6-65c8d276f4d9",
   "metadata": {},
   "outputs": [],
   "source": [
    "#Diable the warnings\n",
    "import warnings\n",
    "warnings.filterwarnings('ignore')\n",
    "\n",
    "# Time series Models\n",
    "from statsmodels.tsa.arima.model import ARIMA\n",
    "#from statsmodels.tsa.statespace.sarimax import SARIMAX\n",
    "modelARIMA=ARIMA(endog=Y_train,exog=X_train_ARIMA,order=[1,0,0])\n",
    "model_fit = modelARIMA.fit()"
   ]
  },
  {
   "cell_type": "markdown",
   "id": "f6cacc0b-e47b-493b-b55c-17adcb2a2e07",
   "metadata": {},
   "source": [
    "训练ARIMA模型："
   ]
  },
  {
   "cell_type": "code",
   "execution_count": 26,
   "id": "c0fc8002-cda0-4f30-b8ac-433b9e29e948",
   "metadata": {},
   "outputs": [
    {
     "data": {
      "text/plain": [
       "0.0012461278671702539"
      ]
     },
     "execution_count": 26,
     "metadata": {},
     "output_type": "execute_result"
    }
   ],
   "source": [
    "error_Training_ARIMA = mean_squared_error(Y_train, model_fit.fittedvalues)\n",
    "predicted = model_fit.predict(start = tr_len -1 ,end = to_len -1, exog = X_test_ARIMA)[1:]\n",
    "error_Test_ARIMA = mean_squared_error(Y_test,predicted)\n",
    "error_Test_ARIMA"
   ]
  },
  {
   "cell_type": "markdown",
   "id": "7ef387ae-5667-49bd-a13d-33fb45664a7e",
   "metadata": {},
   "source": [
    "这个ARIMA模型的误差是合理的。\n"
   ]
  },
  {
   "cell_type": "markdown",
   "id": "6dfacc85-6f08-49a5-bbb1-7f81154d45be",
   "metadata": {},
   "source": [
    "到目前为止使用的模型已经通过使用时间延迟方法嵌入了时间序列组件，其中滞后变量被包含为其中一个自变量。然而，对于基于时间序列的模型，我们不需要微软（MSFT）的滞后变量作为自变量。因此，作为第一步，我们将删除这些模型中MSFT的先前回报。我们将所有其他变量作为这些模型中的外生变量。\n",
    "\n",
    "让我们首先准备用于ARIMA模型的数据集，只包含相关变量作为外生变量："
   ]
  },
  {
   "cell_type": "markdown",
   "id": "65d82d45-8485-4c09-9ea7-e9467d68153f",
   "metadata": {},
   "source": [
    "## 参考\n",
    "- 第5章 监督学习：回归，《金融机器学习和数据科学实践》，Hariom Tatsat，O'Reilly\n",
    "- [Penn State's STAT 510: Applied Time Series Analysis](https://online.stat.psu.edu/stat510/)\n",
    "- [《金融时间序列分析讲义》](https://www.math.pku.edu.cn/teachers/lidf/course/atsa/atsanotes/html/_atsanotes/index.html#课程内容)\n",
    "- Quantecon: https://quantecon.org/lectures/\n",
    "- S. Yaser, A. Atiya. Introduction to financial forecasting[J]. Applied Intelligence, 1996, 6(3): 205-213.\n"
   ]
  }
 ],
 "metadata": {
  "kernelspec": {
   "display_name": "Python 3 (ipykernel)",
   "language": "python",
   "name": "python3"
  },
  "language_info": {
   "codemirror_mode": {
    "name": "ipython",
    "version": 3
   },
   "file_extension": ".py",
   "mimetype": "text/x-python",
   "name": "python",
   "nbconvert_exporter": "python",
   "pygments_lexer": "ipython3",
   "version": "3.11.5"
  }
 },
 "nbformat": 4,
 "nbformat_minor": 5
}
