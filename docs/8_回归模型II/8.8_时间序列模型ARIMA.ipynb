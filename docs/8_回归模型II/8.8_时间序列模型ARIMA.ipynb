{
 "cells": [
  {
   "cell_type": "markdown",
   "id": "da8d1abf-0f22-45d6-b554-5d1784702dd1",
   "metadata": {},
   "source": [
    "## 8.8 时间序列模型\n"
   ]
  },
  {
   "cell_type": "markdown",
   "id": "d1b82e0f-0d24-4036-9f65-bf1477faada0",
   "metadata": {},
   "source": [
    "大多数时间序列模型旨在同时考虑趋势、季节性和组成部分，同时解决时间序列中嵌入的自相关性和平稳性。例如，前一节讨论的自回归（AR）模型解决了时间序列中的自相关性问题。"
   ]
  },
  {
   "cell_type": "markdown",
   "id": "bb008a4a-aa45-46cc-8cee-ed9d397308bc",
   "metadata": {},
   "source": [
    "时间序列预测中最广泛使用的模型之一是ARIMA模型。"
   ]
  },
  {
   "cell_type": "markdown",
   "id": "15b0c505-11f9-42b6-b86b-6ac8e51a5c65",
   "metadata": {},
   "source": [
    "### 1. ARIMA模型"
   ]
  },
  {
   "cell_type": "markdown",
   "id": "18313232-6056-4aa4-b98e-1aa057f8ad57",
   "metadata": {},
   "source": [
    "如果我们将平稳性与自回归和移动平均模型相结合（在本节后面进一步讨论），我们就得到了ARIMA模型。ARIMA是AutoRegressive Integrated Moving Average的缩写，它具有以下组成部分："
   ]
  },
  {
   "cell_type": "markdown",
   "id": "4f017c9a-372a-40f2-853e-d56c8fed7eab",
   "metadata": {},
   "source": [
    "$AR(P)$"
   ]
  },
  {
   "cell_type": "markdown",
   "id": "ad5f3e91-1a5f-4ace-b8b7-5bff3260ad40",
   "metadata": {},
   "source": [
    "它代表自回归，即时间序列对自身的回归，正如前一节所讨论的，假设当前系列值依赖于其之前的值，并存在一些滞后（或多个滞后）。模型中的最大滞后被称为p。"
   ]
  },
  {
   "cell_type": "markdown",
   "id": "a89d0ce1-e5fe-41b7-80ed-50355834664f",
   "metadata": {},
   "source": [
    "$I(d)$"
   ]
  },
  {
   "cell_type": "markdown",
   "id": "59c2503e-2e1f-47f9-abf4-c2d1bff057e8",
   "metadata": {},
   "source": [
    "它代表整合的阶数。它简单地表示使序列平稳所需的差分次数。"
   ]
  },
  {
   "cell_type": "markdown",
   "id": "8f3f4b74-265e-4f56-96b8-20f7c90c0020",
   "metadata": {},
   "source": [
    "$MA(q)$"
   ]
  },
  {
   "cell_type": "markdown",
   "id": "736a2668-491d-40ed-b93d-c1265dc27b87",
   "metadata": {},
   "source": [
    "它代表移动平均。恕不展开，简言之，它模拟了时间序列的误差；同样，假设当前误差取决于之前的误差，并存在一些滞后，这被称为q。"
   ]
  },
  {
   "cell_type": "markdown",
   "id": "d0a2d3ab-49f7-46c9-97a4-debc5c7d9886",
   "metadata": {},
   "source": [
    "移动平均方程可以写成：\n",
    "\n",
    "$$\n",
    "y_t = c + \\epsilon_t + \\sum_{i=1}^{q} \\theta_i \\epsilon_{t-i} \n",
    "$$\n",
    "\n",
    "其中：\n",
    "- $y_t$ 是时间序列在时刻 $ t $ 的观测值。\n",
    "- $c$ 是常数项。\n",
    "- $\\epsilon_t$ 是在时刻 $t $ 的误差项。\n",
    "- $\\theta_i$ 是移动平均项的系数 $i = 1, 2, \\ldots, q $。"
   ]
  },
  {
   "cell_type": "markdown",
   "id": "dc0ad871-99f9-4706-a793-01926c3ccf7c",
   "metadata": {},
   "source": [
    "综合所有部分，完整的ARIMA模型可以写成：\n",
    "\n",
    "$$\n",
    "y'_t = c + \\phi_1 y'_{t-1} + \\ldots + \\phi_p y'_{t-p} + \\theta_1 \\epsilon_{t-1} + \\ldots + \\theta_q \\epsilon_{t-q} + \\epsilon_t\n",
    "$$\n"
   ]
  },
  {
   "cell_type": "markdown",
   "id": "595314d3-207b-46fd-a739-fec6ba6d57bf",
   "metadata": {},
   "source": [
    "在这个方程中，$y'$ 是差分序列（可能已经被差分多次）位于等号左边。右边的预测变量包括 $y'$ 的滞后值和滞后误差。我们将其称为ARIMA($p,d,q$)模型，其中：\n",
    "- $ p $ 是自回归部分的阶数，\n",
    "- $ d $ 是差分的次数，\n",
    "- $ q $ 是移动平均的阶数。\n",
    "\n",
    "与自回归和移动平均模型使用的相同的平稳性和可逆性条件也适用于ARIMA模型。"
   ]
  },
  {
   "cell_type": "markdown",
   "id": "90c9b4a1-3a9a-4fda-aaad-721d1d08bc2b",
   "metadata": {},
   "source": [
    "以下显示了拟合ARIMA模型的Python代码，其阶数为(1,0,0)："
   ]
  },
  {
   "cell_type": "markdown",
   "id": "a77d10a1-3258-46f7-b89b-5cd449c47ffa",
   "metadata": {},
   "source": [
    "```python\n",
    "from statsmodels.tsa.arima.model import ARIMA\n",
    "\n",
    "# Fit the ARIMA model\n",
    "model = ARIMA(endog=Y_train, order=[1,0,0])\n",
    "fit_model = model.fit()\n",
    "\n",
    "# Print the summary of the model\n",
    "print(fit_model.summary())\n",
    "```\n"
   ]
  },
  {
   "cell_type": "markdown",
   "id": "720aed68-77e2-4b69-a775-f51761dd8da3",
   "metadata": {},
   "source": [
    "ARIMA模型族有几个变种，其中一些如下所示：\n",
    "\n",
    "***ARIMAX***\n",
    "\n",
    "包含外生变量的ARIMA模型。我们将在案例研究中使用此模型。\n",
    "\n",
    "***SARIMA***\n",
    "\n",
    "该模型中的“S”代表季节性，旨在建模嵌入在时间序列中的季节性组成部分，以及其他组成部分。\n",
    "\n",
    "***VARMA***\n",
    "\n",
    "这是模型拓展到多变量情况的版本，在需要同时预测多个变量时使用。"
   ]
  },
  {
   "cell_type": "markdown",
   "id": "1b8944f3-62e6-4ac2-bda9-7c6c34867ab2",
   "metadata": {},
   "source": [
    "## 参考\n",
    "- 第5章 监督学习：回归，《金融机器学习和数据科学实践》，Hariom Tatsat，O'Reilly\n",
    "- [Penn State's STAT 510: Applied Time Series Analysis](https://online.stat.psu.edu/stat510/)\n",
    "- [《金融时间序列分析讲义》](https://www.math.pku.edu.cn/teachers/lidf/course/atsa/atsanotes/html/_atsanotes/index.html#课程内容)\n",
    "- Quantecon: https://quantecon.org/lectures/\n",
    "- S. Yaser, A. Atiya. Introduction to financial forecasting[J]. Applied Intelligence, 1996, 6(3): 205-213.\n"
   ]
  }
 ],
 "metadata": {
  "kernelspec": {
   "display_name": "Python 3 (ipykernel)",
   "language": "python",
   "name": "python3"
  },
  "language_info": {
   "codemirror_mode": {
    "name": "ipython",
    "version": 3
   },
   "file_extension": ".py",
   "mimetype": "text/x-python",
   "name": "python",
   "nbconvert_exporter": "python",
   "pygments_lexer": "ipython3",
   "version": "3.11.5"
  }
 },
 "nbformat": 4,
 "nbformat_minor": 5
}
