{
 "cells": [
  {
   "cell_type": "markdown",
   "id": "baedcf0f-69ae-4336-870a-a304cae3e5f6",
   "metadata": {},
   "source": [
    "# 8.6 时间序列的分解"
   ]
  },
  {
   "cell_type": "markdown",
   "id": "b22e60e0-0dbd-4e5d-b042-f18e19ac5145",
   "metadata": {},
   "source": [
    "```{admonition} 小组讨论：股票是否可以提前预测？\n",
    ":class: note\n",
    "股票市场的提前预测是一个复杂和具有挑战性的问题。虽然许多人尝试通过技术分析、基本面分析、市场情绪分析以及使用各种量化模型和算法来预测股票走势，但股票市场的波动受多种因素影响。分小组讨论：\n",
    "<br>1.能够预测生活中即将到来的事件？：\n",
    "<br>2.预测依赖于哪些方法？\n",
    "<br>3.股票是否可以提前预测？\n",
    "<br>4.哪些国家的股票更容易预测？\n",
    "<br>完成讨论后，填写并发言：<a href=\"https://padlet.com/caoxianghan/padlet-r0dyald6wih1pypz\" target=\"_blank\"> https://padlet.com/caoxianghan/padlet-r0dyald6wih1pypz</a>\n",
    "```"
   ]
  },
  {
   "cell_type": "markdown",
   "id": "989d5ad3-4d57-4789-8974-a4fb7e1c1275",
   "metadata": {},
   "source": [
    "时序数据 (time series) 是按时间顺序排列的一系列数值。金融时间序列具有高噪声、非平稳、非线性、混沌、潜在周期性等特点（Yaser，1996）。\n"
   ]
  },
  {
   "cell_type": "markdown",
   "id": "56db9d45-8055-49b1-a154-f32a1babc73a",
   "metadata": {},
   "source": [
    "\n",
    "时间序列可以分解为以下成分：\n",
    "\n",
    "* **趋势成分**\n",
    "\n",
    "趋势是指时间序列中持续的方向性运动。趋势可以分为确定性趋势和随机趋势。确定性趋势可以为我们提供解释趋势的潜在原因，而随机趋势则是无法解释的序列随机特性。趋势经常出现在金融序列中，许多交易模型都使用复杂的趋势识别算法。\n",
    "\n",
    "* **季节成分**\n",
    "\n",
    "许多时间序列包含季节性变化。这在代表商业销售或气候水平的序列中尤为常见。在量化金融中，我们经常看到季节性变化，特别是与假日季节或年度温度变化（例如天然气）相关的序列。\n"
   ]
  },
  {
   "cell_type": "markdown",
   "id": "7c550032-1f59-4304-bb48-fcb49b42f095",
   "metadata": {
    "tags": []
   },
   "source": [
    "我们可以把一条时间序列$y_t$写成：\n",
    "\n",
    "$$\n",
    "y_t = S_t + T_t + R_t\n",
    "$$\n",
    "\n",
    "这里$S_t$是季节成分，$T_t$是趋势成分，$R_t$代表了其他没有被前两者捕获的成分。"
   ]
  },
  {
   "cell_type": "markdown",
   "id": "7b5d1c6d-3100-4721-a9eb-a1f4b48a9de8",
   "metadata": {},
   "source": [
    "如果用Python代码表示的话："
   ]
  },
  {
   "cell_type": "markdown",
   "id": "9e9533b9-808d-4edc-81d8-1aaba4d4b124",
   "metadata": {},
   "source": [
    "```python\n",
    "import statsmodels.api as sm \n",
    "sm.tsa.seasonal_decompose(Y,freq=52).plot()\n",
    "```"
   ]
  },
  {
   "cell_type": "markdown",
   "id": "1d4d5494-8b90-43f4-a659-dad64052c7e5",
   "metadata": {},
   "source": [
    "下图展示了分解成趋势、季节性和剩余成分的时间序列。将时间序列分解成这些成分可以帮助我们更好地理解时间序列并识别其行为，从而做出更好的预测。"
   ]
  },
  {
   "cell_type": "markdown",
   "id": "c31785af-0e6f-432d-88cd-1c6becf4d5ce",
   "metadata": {},
   "source": [
    "<img src='images/tsc.png' width=800>\n",
    "\n",
    "图：时间序列的分解"
   ]
  },
  {
   "cell_type": "markdown",
   "id": "d66bb58d-7ec7-4461-a217-0083e560b2b9",
   "metadata": {},
   "source": [
    "\n",
    "\n",
    "底部三个子图分别显示了三个时间序列成分。这些成分可以相加重建顶部子图中显示的实际时间序列（标为“观测值”）。请注意，时间序列在 2017 年之后呈现趋势成分。因此，该时间序列的预测模型应该包含 2017 年之后趋势行为的信息。\n",
    "\n",
    "在季节性方面，年初时会出现一些幅度的增加。底部子图中显示的残差成分是在从数据中减去季节性和趋势成分后剩下的部分。残差成分大部分是平坦的，在 2018 年和 2019 年左右有一些尖峰和噪声。此外，每个图的刻度都不一样，趋势成分的范围最大，如其图上的刻度所示。\n"
   ]
  },
  {
   "cell_type": "markdown",
   "id": "65d82d45-8485-4c09-9ea7-e9467d68153f",
   "metadata": {},
   "source": [
    "## 参考\n",
    "- 第5章 监督学习：回归，《金融机器学习和数据科学实践》，Hariom Tatsat，O'Reilly\n",
    "- [Penn State's STAT 510: Applied Time Series Analysis](https://online.stat.psu.edu/stat510/)\n",
    "- [《金融时间序列分析讲义》](https://www.math.pku.edu.cn/teachers/lidf/course/atsa/atsanotes/html/_atsanotes/index.html#课程内容)\n",
    "- Quantecon: https://quantecon.org/lectures/\n",
    "- S. Yaser, A. Atiya. Introduction to financial forecasting[J]. Applied Intelligence, 1996, 6(3): 205-213.\n"
   ]
  }
 ],
 "metadata": {
  "kernelspec": {
   "display_name": "Python 3 (ipykernel)",
   "language": "python",
   "name": "python3"
  },
  "language_info": {
   "codemirror_mode": {
    "name": "ipython",
    "version": 3
   },
   "file_extension": ".py",
   "mimetype": "text/x-python",
   "name": "python",
   "nbconvert_exporter": "python",
   "pygments_lexer": "ipython3",
   "version": "3.11.7"
  }
 },
 "nbformat": 4,
 "nbformat_minor": 5
}
