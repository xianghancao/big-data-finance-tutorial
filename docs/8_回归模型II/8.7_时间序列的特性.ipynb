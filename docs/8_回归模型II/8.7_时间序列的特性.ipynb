{
 "cells": [
  {
   "cell_type": "markdown",
   "id": "2242c7a0-98c0-4d68-b74d-9eedca7d337a",
   "metadata": {},
   "source": [
    "# 8.7 时间序列的特性"
   ]
  },
  {
   "cell_type": "markdown",
   "id": "c84aa5ac-a301-4fc1-abd5-8cccf3439bb5",
   "metadata": {},
   "source": [
    "虽然将时间序列分解成趋势、季节性和残差成分相对简单，但在处理金融时间序列数据时，还有一些其他需要考虑的方面。\n",
    "\n",
    "## 1. 自相关 (Autocorrelation)\n",
    "\n",
    "在许多情况下，时间序列的连续元素之间存在相关性。也就是说，序列中连续点的行为会相互影响。**自相关**是观测值之间相似性的度量，取决于它们之间的时间滞后。这种关系可以通过 **自回归模型** 进行建模。**自回归**一词表示它是变量自身与其滞后值的回归。\n",
    "\n",
    "在自回归模型中，我们使用变量的过去值的线性组合来预测目标变量。\n",
    "\n",
    "因此，一个 p 阶的自回归模型可以写成如下形式：\n"
   ]
  },
  {
   "cell_type": "markdown",
   "id": "725f5fa2-dc6f-44cc-9bcd-8a046aefde82",
   "metadata": {},
   "source": [
    "$$\n",
    "Y_t = \\alpha + \\beta_1 * Y_{t-1} + \\beta_2 * Y_{t-2} + \\dots + \\beta_p * Y_{t-p} + \\epsilon_t\n",
    "$$"
   ]
  },
  {
   "cell_type": "markdown",
   "id": "727cd33a-23d9-493e-ae3f-1f8dd97af72a",
   "metadata": {},
   "source": [
    "其中 $\\epsilon_t$ 是白噪声。**自回归模型**类似于多元回归，但使用滞后的 Y 值作为预测变量。我们将其称为 AR(p) 模型，即 p 阶的自回归模型。自回归模型在处理各种不同的时间序列模式方面非常灵活。\n"
   ]
  },
  {
   "cell_type": "markdown",
   "id": "6eff0a92-f70d-44d3-8334-cda562bcb909",
   "metadata": {},
   "source": [
    "## 2. 平稳性 (Stationarity)\n",
    "\n",
    "如果时间序列的统计特性随时间推移保持不变，则称其为 **平稳** 的。因此，具有趋势或季节性的时间序列是非平稳的，因为趋势和季节性会影响时间序列的值。\n",
    "\n",
    "例如，考虑以下图表：\n"
   ]
  },
  {
   "cell_type": "markdown",
   "id": "0d0a9282-e89e-4c41-a3e0-69b6ae66f049",
   "metadata": {},
   "source": [
    "<img src='images/Nonstationaryplots.png' width=600>\n",
    "\n",
    "图：非平稳性的序列"
   ]
  },
  {
   "cell_type": "markdown",
   "id": "24bdaeba-dea9-47a8-90ca-d97e1f8c0ede",
   "metadata": {},
   "source": [
    "在第一幅图中，我们可以清楚地看到平均值随着时间变化而增加 (上升)，形成上升趋势。因此，这是一个非平稳序列。要使序列被归类为平稳，它不应该表现出趋势。\n",
    "\n",
    "接下来看第二幅图，我们确实没有看到序列中的趋势，但是序列的方差却随时间变化。平稳序列必须具有恒定的方差；因此，该序列也是非平稳序列。\n",
    "\n",
    "在第三幅图中，随着时间的推移，传播更接近，这意味着协方差是时间的函数。\n"
   ]
  },
  {
   "cell_type": "markdown",
   "id": "07890744-abdb-4998-b881-bc5dae160845",
   "metadata": {},
   "source": [
    "<img src='images/Stationaryplot.png' width=400>\n",
    "\n",
    "图：平稳的时间序列"
   ]
  },
  {
   "cell_type": "markdown",
   "id": "7e10a98b-4cce-44c2-9e59-0e4837fe0c73",
   "metadata": {},
   "source": [
    "观察上图，均值、方差和协方差随时间保持恒定。使用此图预测未来值会更加容易。大多数统计模型都要求序列平稳才能进行有效和准确的预测。\n",
    "\n",
    "为了使用时间序列预测模型，我们通常会将非平稳序列转换为平稳序列，因为其统计特性不会随时间变化，因此更容易建模。\n"
   ]
  },
  {
   "cell_type": "markdown",
   "id": "bfb2ed13-cac9-4764-badc-1e5daa445dd6",
   "metadata": {},
   "source": [
    "## 3. 差分\n",
    "差分是使时间序列平稳的一种常用方法。 这种方法通过计算序列中连续项之间的差值来实现。 差分通常用于消除变动的均值。 数学上，差分可以表示为：\n"
   ]
  },
  {
   "cell_type": "markdown",
   "id": "bac8a512-bfb5-4e4b-af19-63185d3c95de",
   "metadata": {
    "tags": []
   },
   "source": [
    "$$\n",
    "y^{'} = y_t - y_{t-1}\n",
    "$$\n",
    "\n",
    "其中 $y_t$是第t期的值。"
   ]
  },
  {
   "cell_type": "markdown",
   "id": "d8378932-ac87-432a-8ce8-5e8bf5ed928a",
   "metadata": {},
   "source": [
    "当差分后的序列为白噪声时，原始序列被称为**一阶非平稳序列**。"
   ]
  },
  {
   "cell_type": "markdown",
   "id": "09a4714a-9929-4ae5-aa60-1d282aee96ae",
   "metadata": {},
   "source": [
    "## 参考\n",
    "- 第5章 监督学习：回归，《金融机器学习和数据科学实践》，Hariom Tatsat，O'Reilly\n",
    "- [Penn State's STAT 510: Applied Time Series Analysis](https://online.stat.psu.edu/stat510/)\n",
    "- [《金融时间序列分析讲义》](https://www.math.pku.edu.cn/teachers/lidf/course/atsa/atsanotes/html/_atsanotes/index.html#课程内容)\n",
    "- Quantecon: https://quantecon.org/lectures/\n",
    "- S. Yaser, A. Atiya. Introduction to financial forecasting[J]. Applied Intelligence, 1996, 6(3): 205-213.\n"
   ]
  }
 ],
 "metadata": {
  "kernelspec": {
   "display_name": "Python 3 (ipykernel)",
   "language": "python",
   "name": "python3"
  },
  "language_info": {
   "codemirror_mode": {
    "name": "ipython",
    "version": 3
   },
   "file_extension": ".py",
   "mimetype": "text/x-python",
   "name": "python",
   "nbconvert_exporter": "python",
   "pygments_lexer": "ipython3",
   "version": "3.11.5"
  }
 },
 "nbformat": 4,
 "nbformat_minor": 5
}
