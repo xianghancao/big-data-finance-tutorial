{
 "cells": [
  {
   "cell_type": "markdown",
   "id": "5f22c7f7-4aa1-46b8-a696-1b5a1864df69",
   "metadata": {},
   "source": [
    "# 8 回归模型II"
   ]
  },
  {
   "cell_type": "markdown",
   "id": "826ba409-8835-43d2-a61a-cc00bebefcc7",
   "metadata": {},
   "source": [
    "基于时间序列分析和深度学习在金融市场中扮演着重要的角色。时间序列分析和深度学习通常会结合使用，以充分挖掘数据的信息和价值。例如，可以使用时间序列分析来预处理数据和提取特征，然后使用深度学习模型进行建模和预测。"
   ]
  },
  {
   "cell_type": "markdown",
   "id": "4fd9915b-1980-41ab-8ac2-7722f4d9a271",
   "metadata": {},
   "source": [
    "## 预习"
   ]
  },
  {
   "cell_type": "markdown",
   "id": "b650ef02-9ffa-405c-9ae0-42dc24b74cf6",
   "metadata": {},
   "source": [
    "### 观看视频"
   ]
  },
  {
   "cell_type": "markdown",
   "id": "ad33e8ee-6947-4c08-bc65-bf5afca64054",
   "metadata": {},
   "source": [
    "视频一：<a href=\"https://player.bilibili.com/player.html?aid=27266418&bvid=BV16s411N798&cid=47007836&p=1&autoplay=0\" target=\"_blank\">诺贝尔奖得主Fama和Thaler辩论市场是否有效</a>"
   ]
  },
  {
   "cell_type": "markdown",
   "id": "df9a2232-75e8-4100-90ab-08f26be0625b",
   "metadata": {},
   "source": [
    "<iframe src=\"https://player.bilibili.com/player.html?aid=27266418&bvid=BV16s411N798&cid=47007836&p=1&autoplay=0 allowfullscreen=\"allowfullscreen\" width=\"80%\" height=\"350\" scrolling=\"no\" frameborder=\"0\" sandbox=\"allow-top-navigation allow-same-origin allow-forms allow-scripts\"></iframe>"
   ]
  },
  {
   "cell_type": "markdown",
   "id": "d35010db-27db-4342-81a9-d6bc450df452",
   "metadata": {},
   "source": [
    "视频二：<a href=\"https://player.bilibili.com/player.html?aid=418675372&bvid=BV17V411s7wL&cid=357570433&p=1&autoplay=0 \" target=\"_blank\">What is the Fama-French 3-Factor Model</a>"
   ]
  },
  {
   "cell_type": "markdown",
   "id": "1fcc6f50-aea1-4193-8f4f-d36da91d0f2d",
   "metadata": {},
   "source": [
    "<iframe src=\"https://player.bilibili.com/player.html?aid=418675372&bvid=BV17V411s7wL&cid=357570433&p=1&autoplay=0 allowfullscreen=\"allowfullscreen\" width=\"80%\" height=\"350\" scrolling=\"no\" frameborder=\"0\" sandbox=\"allow-top-navigation allow-same-origin allow-forms allow-scripts\"></iframe>"
   ]
  },
  {
   "cell_type": "markdown",
   "id": "adc99a63-fb3a-49a6-a006-352e9b1c8aa7",
   "metadata": {},
   "source": [
    "### 名词解释"
   ]
  },
  {
   "cell_type": "markdown",
   "id": "6000e5f0-5604-4404-b2ef-57380d5a8041",
   "metadata": {},
   "source": [
    "请使用网络工具和图书馆资源，完成以下名词解释：\n"
   ]
  },
  {
   "cell_type": "markdown",
   "id": "a32d09c2-58e3-4fdc-bfa0-b24705dc0aae",
   "metadata": {},
   "source": [
    "- 时间序列分析\n",
    "- 趋势\n",
    "- 自回归\n",
    "- 深度学习\n",
    "- LSTM\n",
    "- 股票收益率预测"
   ]
  }
 ],
 "metadata": {
  "kernelspec": {
   "display_name": "Python 3 (ipykernel)",
   "language": "python",
   "name": "python3"
  },
  "language_info": {
   "codemirror_mode": {
    "name": "ipython",
    "version": 3
   },
   "file_extension": ".py",
   "mimetype": "text/x-python",
   "name": "python",
   "nbconvert_exporter": "python",
   "pygments_lexer": "ipython3",
   "version": "3.11.7"
  }
 },
 "nbformat": 4,
 "nbformat_minor": 5
}
