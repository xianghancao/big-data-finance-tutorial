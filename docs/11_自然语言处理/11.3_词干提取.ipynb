{
 "cells": [
  {
   "cell_type": "markdown",
   "id": "e7496573-aa00-4841-8b6c-bde9d171f87d",
   "metadata": {},
   "source": [
    "# 11.3 词干提取\n",
    "词干提取（Stemming）是自然语言处理（NLP）中的一种技术，用于将单词还原为其词根或词干形式。词干提取的目的是消除不同词形变化带来的多样性，从而将具有相同词根的单词归一化，便于文本分析和处理。\n",
    "\n",
    "例如，如果我们对单词 Stems、Stemming、Stemmed 和 Stemitization 进行词干提取，结果将是一个单词：Stem。\n",
    "\n",
    "使用 NLTK 库进行词干提取的代码如下所示："
   ]
  },
  {
   "cell_type": "code",
   "execution_count": null,
   "id": "8f5cf104-6948-4fe8-8a0a-4cdbe5cfcb4d",
   "metadata": {
    "tags": []
   },
   "outputs": [
    {
     "data": {
      "text/plain": [
       "[('Stemming', 'stem'), ('testing', 'test')]"
      ]
     },
     "execution_count": 4,
     "metadata": {},
     "output_type": "execute_result"
    }
   ],
   "source": [
    "from nltk.stem.snowball import SnowballStemmer \n",
    "text = \"It's a Stemming testing\"\n",
    "parsed_text = word_tokenize(text)\n",
    "stemmer = SnowballStemmer('english')\n",
    "\n",
    "[(word, stemmer.stem(word)) for i, word in enumerate(parsed_text)\n",
    "if word.lower() != stemmer.stem(parsed_text[i])]"
   ]
  }
 ],
 "metadata": {
  "kernelspec": {
   "display_name": "Python 3 (ipykernel)",
   "language": "python",
   "name": "python3"
  },
  "language_info": {
   "codemirror_mode": {
    "name": "ipython",
    "version": 3
   },
   "file_extension": ".py",
   "mimetype": "text/x-python",
   "name": "python",
   "nbconvert_exporter": "python",
   "pygments_lexer": "ipython3",
   "version": "3.11.5"
  }
 },
 "nbformat": 4,
 "nbformat_minor": 5
}
