{
 "cells": [
  {
   "cell_type": "code",
   "execution_count": null,
   "id": "a641787f-5c7d-4869-9b28-3ee37f7152be",
   "metadata": {},
   "outputs": [],
   "source": []
  },
  {
   "cell_type": "markdown",
   "id": "43a9da56-a0a5-4182-9d78-28cc51d70c09",
   "metadata": {},
   "source": [
    "## 参考\n",
    "- spaCy: https://spacy.io"
   ]
  },
  {
   "cell_type": "markdown",
   "id": "a2a1b6ba-5a00-4715-b153-ac84d9013c77",
   "metadata": {},
   "source": []
  }
 ],
 "metadata": {
  "kernelspec": {
   "display_name": "Python 3 (ipykernel)",
   "language": "python",
   "name": "python3"
  },
  "language_info": {
   "codemirror_mode": {
    "name": "ipython",
    "version": 3
   },
   "file_extension": ".py",
   "mimetype": "text/x-python",
   "name": "python",
   "nbconvert_exporter": "python",
   "pygments_lexer": "ipython3",
   "version": "3.11.5"
  }
 },
 "nbformat": 4,
 "nbformat_minor": 5
}
