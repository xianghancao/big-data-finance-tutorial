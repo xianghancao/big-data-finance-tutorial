{
 "cells": [
  {
   "cell_type": "markdown",
   "id": "1c865892-a687-4989-a387-d032bf4edc8f",
   "metadata": {},
   "source": [
    "# 11.6 情感分析\n",
    "文本情感分析常用的库包括NLTK、TextBlob和VADER等。TextBlob 是一个简单易用的Python库，提供了一些基本的自然语言处理功能，其中包括情感分析。TextBlob 使用内置的情感分析器来评估文本的情感极性（polarity）和主观性（subjectivity）。"
   ]
  },
  {
   "cell_type": "markdown",
   "id": "72899ca6-7804-4d1b-a187-cff34b08b510",
   "metadata": {},
   "source": [
    "TextBlob 的情感分析功能通过 TextBlob 对象的 sentiment 属性来实现。情感分析结果包含两个主要指标：\n",
    "\n",
    "- 极性（Polarity）：范围从 -1 到 1，表示负面和正面情感的强度。\n",
    "- 主观性（Subjectivity）：范围从 0 到 1，表示主观性和客观性的程度。"
   ]
  },
  {
   "cell_type": "code",
   "execution_count": null,
   "id": "eadcd328-b77f-44a0-a570-35796572ea3f",
   "metadata": {
    "tags": []
   },
   "outputs": [
    {
     "name": "stdout",
     "output_type": "stream",
     "text": [
      "1.0\n"
     ]
    }
   ],
   "source": [
    "from textblob import TextBlob\n",
    "\n",
    "def get_sentiment(text):\n",
    "    blob = TextBlob(text)\n",
    "    sentiment = blob.sentiment.polarity  #情感极性（Polarity）\n",
    "    return sentiment\n",
    "\n",
    "sentiment = get_sentiment(\"This is an excellent product!\")\n",
    "print(sentiment) "
   ]
  },
  {
   "cell_type": "markdown",
   "id": "7246c692-7241-4cf6-bb46-343b5e2514fd",
   "metadata": {},
   "source": [
    "### 中文情感分析\n",
    "SnowNLP 是一个专门用于处理中文文本的库，提供了简便的情感分析功能。SnowNLP 的情感分析结果在 0 到 1 之间，值越接近 1 表示正面情感，越接近 0 表示负面情感。"
   ]
  },
  {
   "cell_type": "code",
   "execution_count": null,
   "id": "dd308f5c-fb3c-460f-964f-346107d3bb7e",
   "metadata": {
    "tags": []
   },
   "outputs": [],
   "source": [
    "text = \"\"\"\n",
    "        在过去的财务季度，公司报告了大幅度的亏损，收入下降了20%。\n",
    "        管理层表示，由于市场需求疲软和成本上升，未来几个季度的前景仍不乐观。\n",
    "        投资者对公司的增长前景表示担忧，导致股票价格在短短一周内暴跌了15%。\n",
    "        此外，公司的债务水平持续上升，进一步加剧了财务压力。\n",
    "        许多分析师建议持有该公司股票的投资者尽快脱手，以避免进一步的损失。”\n",
    "        \"\"\""
   ]
  },
  {
   "cell_type": "code",
   "execution_count": null,
   "id": "c2025e00-8677-44fe-9469-00ff60086e13",
   "metadata": {
    "tags": []
   },
   "outputs": [
    {
     "name": "stdout",
     "output_type": "stream",
     "text": [
      "Text: \n",
      "        在过去的财务季度，公司报告了大幅度的亏损，收入下降了20%。\n",
      "        管理层表示，由于市场需求疲软和成本上升，未来几个季度的前景仍不乐观。\n",
      "        投资者对公司的增长前景表示担忧，导致股票价格在短短一周内暴跌了15%。\n",
      "        此外，公司的债务水平持续上升，进一步加剧了财务压力。\n",
      "        许多分析师建议持有该公司股票的投资者尽快脱手，以避免进一步的损失。”\n",
      "        \n",
      "Sentiment: 0.9999990359270101\n"
     ]
    }
   ],
   "source": [
    "from snownlp import SnowNLP\n",
    "\n",
    "s = SnowNLP(text)\n",
    "sentiment = s.sentiments    # 获取情感分析结果\n",
    "print(f\"Text: {text}\")     # 输出情感分析结果\n",
    "print(f\"Sentiment: {sentiment}\")"
   ]
  },
  {
   "cell_type": "markdown",
   "id": "abc91116-bd25-4534-8c00-a804a5d65a05",
   "metadata": {},
   "source": [
    "上述结果表明目前SnowNLP的情感分析不理想。"
   ]
  }
 ],
 "metadata": {
  "kernelspec": {
   "display_name": "Python 3 (ipykernel)",
   "language": "python",
   "name": "python3"
  },
  "language_info": {
   "codemirror_mode": {
    "name": "ipython",
    "version": 3
   },
   "file_extension": ".py",
   "mimetype": "text/x-python",
   "name": "python",
   "nbconvert_exporter": "python",
   "pygments_lexer": "ipython3",
   "version": "3.11.5"
  }
 },
 "nbformat": 4,
 "nbformat_minor": 5
}
