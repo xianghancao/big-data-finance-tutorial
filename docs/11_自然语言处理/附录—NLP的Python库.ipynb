{
 "cells": [
  {
   "cell_type": "markdown",
   "id": "1f3226f0-647f-4771-818d-2791af7de1ec",
   "metadata": {},
   "source": [
    "# NLP的Python库"
   ]
  },
  {
   "cell_type": "markdown",
   "id": "97f6d458-298d-406d-91d7-d6f2a2223184",
   "metadata": {},
   "source": [
    "Python 是构建基于 NLP 的专家系统的最佳选择之一，有许多开源的 NLP 库可供 Python 程序员使用。这些库和包包含了一系列可直接使用的模块和函数，用于集成复杂的 NLP 步骤和算法，使实现变得快速、简单和高效。\n",
    "在本节中，我们将描述三个基于 Python 的 NLP 库，它们被认为是最有用的，也是我们在本章中将要使用的。"
   ]
  },
  {
   "cell_type": "markdown",
   "id": "3430a99a-e616-4070-8a25-02d190abf578",
   "metadata": {},
   "source": [
    "## NLTK\n",
    "[NLTK](https://www.nltk.org/install.html)是一个用于建立Python程序来处理人类语言的工具库。\n",
    "它为50多个语料库和词汇资源（如WordNet）提供了易于使用的接口，以及一套用于分类、标记化、词根化、标签化、解析和语义推理的文本处理库。\n",
    "\n",
    "它的模块化结构使其非常适合学习和探索 NLP 概念。然而，它功能强大，学习曲线陡峭。\n",
    "NLTK 可以使用典型的安装过程安装。安装 NLTK 后，还需要下载 NLTK 数据。NLTK 数据包括一个预训练的英语分词器 punkt，也可以下载："
   ]
  },
  {
   "cell_type": "code",
   "execution_count": 1,
   "id": "cbee6328-0ece-4ee4-bc00-c1f04e5c5d89",
   "metadata": {},
   "outputs": [
    {
     "name": "stdout",
     "output_type": "stream",
     "text": [
      "NLTK库信息： {'nltk_data path': 'nltk/nltk_data', 'nltk_data included': ['tokenizers/punkt', 'taggers/averaged_perceptron_tagger', 'taggers/universal_tagset', 'corpora/.DS_Store', 'corpora/inaugural', 'corpora/wordnet.zip', 'corpora/stopwords.zip']}\n"
     ]
    },
    {
     "ename": "AttributeError",
     "evalue": "module 'nltk' has no attribute 'download'",
     "output_type": "error",
     "traceback": [
      "\u001b[0;31m---------------------------------------------------------------------------\u001b[0m",
      "\u001b[0;31mAttributeError\u001b[0m                            Traceback (most recent call last)",
      "Cell \u001b[0;32mIn[1], line 3\u001b[0m\n\u001b[1;32m      1\u001b[0m \u001b[38;5;28;01mimport\u001b[39;00m \u001b[38;5;21;01mnltk\u001b[39;00m\n\u001b[1;32m      2\u001b[0m \u001b[38;5;28;01mimport\u001b[39;00m \u001b[38;5;21;01mnltk\u001b[39;00m\u001b[38;5;21;01m.\u001b[39;00m\u001b[38;5;21;01mdata\u001b[39;00m \n\u001b[0;32m----> 3\u001b[0m \u001b[43mnltk\u001b[49m\u001b[38;5;241;43m.\u001b[39;49m\u001b[43mdownload\u001b[49m(\u001b[38;5;124m'\u001b[39m\u001b[38;5;124mpunkt\u001b[39m\u001b[38;5;124m'\u001b[39m)\n",
      "\u001b[0;31mAttributeError\u001b[0m: module 'nltk' has no attribute 'download'"
     ]
    }
   ],
   "source": [
    "import nltk\n",
    "import nltk.data \n",
    "nltk.download('punkt')"
   ]
  },
  {
   "cell_type": "markdown",
   "id": "44d0fa1d-da56-40a5-9631-739796dff7d0",
   "metadata": {},
   "source": [
    "大多数时候，通过NLTK自己的HTTP方式在国内是无法下载NLTK语料库的，可以通过以下方式解决。\n",
    "\n",
    "NLTK Corpora下载地址：https://www.nltk.org/nltk_data/ ，单独下载语料库，放置在`nltk/nltk_data/corpora`下即可"
   ]
  },
  {
   "cell_type": "markdown",
   "id": "e24abb21-a9c7-42bf-b8b0-b28c85683fa4",
   "metadata": {},
   "source": [
    "## TextBlob\n",
    "TextBlob 是建立在 NLTK 之上的。这是用于快速原型设计或构建具有最小性能要求的应用程序的最佳库之一。TextBlob 通过为 NLTK 提供直观的接口，使文本处理变得简单。可以使用以下命令导入 TextBlob："
   ]
  },
  {
   "cell_type": "code",
   "execution_count": 2,
   "id": "63840936-f5bb-41fc-91cf-b3b70c46c2b4",
   "metadata": {},
   "outputs": [],
   "source": [
    "from textblob import TextBlob"
   ]
  },
  {
   "cell_type": "markdown",
   "id": "fc60200a-ebfe-417e-a48c-2c1d2cac779d",
   "metadata": {},
   "source": [
    "## spaCy\n",
    "spaCy 是一个旨在快速、精简和适用于生产环境的 NLP 库。它的理念是为每个目的提供唯一的算法（最佳算法）。我们不需要做选择，可以专注于提高生产力。spaCy 使用自己的管道同时执行多个预处理步骤。我们将在后续章节中进行演示。\n",
    "spaCy 的模型可以安装为 Python 包，就像任何其他模块一样。要加载一个模型，可以使用 spacy.load 加上模型的快捷链接、包名称或数据目录的路径："
   ]
  },
  {
   "cell_type": "markdown",
   "id": "7f4683fc-f723-4539-be78-f16d0e5f06ab",
   "metadata": {},
   "source": [
    "通过以下命令行代码来下载`en_core_web_lg`模型\n",
    "```\n",
    "python -m spacy download en_core_web_lg\n",
    "```"
   ]
  },
  {
   "cell_type": "code",
   "execution_count": 3,
   "id": "fc629947-cf5d-4f5b-85af-90be8ccb89fa",
   "metadata": {},
   "outputs": [
    {
     "ename": "OSError",
     "evalue": "[E050] Can't find model 'en_core_web_lg'. It doesn't seem to be a Python package or a valid path to a data directory.",
     "output_type": "error",
     "traceback": [
      "\u001b[0;31m---------------------------------------------------------------------------\u001b[0m",
      "\u001b[0;31mOSError\u001b[0m                                   Traceback (most recent call last)",
      "Cell \u001b[0;32mIn[3], line 2\u001b[0m\n\u001b[1;32m      1\u001b[0m \u001b[38;5;28;01mimport\u001b[39;00m \u001b[38;5;21;01mspacy\u001b[39;00m\n\u001b[0;32m----> 2\u001b[0m nlp \u001b[38;5;241m=\u001b[39m \u001b[43mspacy\u001b[49m\u001b[38;5;241;43m.\u001b[39;49m\u001b[43mload\u001b[49m\u001b[43m(\u001b[49m\u001b[38;5;124;43m\"\u001b[39;49m\u001b[38;5;124;43men_core_web_lg\u001b[39;49m\u001b[38;5;124;43m\"\u001b[39;49m\u001b[43m)\u001b[49m\n",
      "File \u001b[0;32m~/.local/lib/python3.11/site-packages/spacy/__init__.py:51\u001b[0m, in \u001b[0;36mload\u001b[0;34m(name, vocab, disable, enable, exclude, config)\u001b[0m\n\u001b[1;32m     27\u001b[0m \u001b[38;5;28;01mdef\u001b[39;00m \u001b[38;5;21mload\u001b[39m(\n\u001b[1;32m     28\u001b[0m     name: Union[\u001b[38;5;28mstr\u001b[39m, Path],\n\u001b[1;32m     29\u001b[0m     \u001b[38;5;241m*\u001b[39m,\n\u001b[0;32m   (...)\u001b[0m\n\u001b[1;32m     34\u001b[0m     config: Union[Dict[\u001b[38;5;28mstr\u001b[39m, Any], Config] \u001b[38;5;241m=\u001b[39m util\u001b[38;5;241m.\u001b[39mSimpleFrozenDict(),\n\u001b[1;32m     35\u001b[0m ) \u001b[38;5;241m-\u001b[39m\u001b[38;5;241m>\u001b[39m Language:\n\u001b[1;32m     36\u001b[0m \u001b[38;5;250m    \u001b[39m\u001b[38;5;124;03m\"\"\"Load a spaCy model from an installed package or a local path.\u001b[39;00m\n\u001b[1;32m     37\u001b[0m \n\u001b[1;32m     38\u001b[0m \u001b[38;5;124;03m    name (str): Package name or model path.\u001b[39;00m\n\u001b[0;32m   (...)\u001b[0m\n\u001b[1;32m     49\u001b[0m \u001b[38;5;124;03m    RETURNS (Language): The loaded nlp object.\u001b[39;00m\n\u001b[1;32m     50\u001b[0m \u001b[38;5;124;03m    \"\"\"\u001b[39;00m\n\u001b[0;32m---> 51\u001b[0m     \u001b[38;5;28;01mreturn\u001b[39;00m \u001b[43mutil\u001b[49m\u001b[38;5;241;43m.\u001b[39;49m\u001b[43mload_model\u001b[49m\u001b[43m(\u001b[49m\n\u001b[1;32m     52\u001b[0m \u001b[43m        \u001b[49m\u001b[43mname\u001b[49m\u001b[43m,\u001b[49m\n\u001b[1;32m     53\u001b[0m \u001b[43m        \u001b[49m\u001b[43mvocab\u001b[49m\u001b[38;5;241;43m=\u001b[39;49m\u001b[43mvocab\u001b[49m\u001b[43m,\u001b[49m\n\u001b[1;32m     54\u001b[0m \u001b[43m        \u001b[49m\u001b[43mdisable\u001b[49m\u001b[38;5;241;43m=\u001b[39;49m\u001b[43mdisable\u001b[49m\u001b[43m,\u001b[49m\n\u001b[1;32m     55\u001b[0m \u001b[43m        \u001b[49m\u001b[43menable\u001b[49m\u001b[38;5;241;43m=\u001b[39;49m\u001b[43menable\u001b[49m\u001b[43m,\u001b[49m\n\u001b[1;32m     56\u001b[0m \u001b[43m        \u001b[49m\u001b[43mexclude\u001b[49m\u001b[38;5;241;43m=\u001b[39;49m\u001b[43mexclude\u001b[49m\u001b[43m,\u001b[49m\n\u001b[1;32m     57\u001b[0m \u001b[43m        \u001b[49m\u001b[43mconfig\u001b[49m\u001b[38;5;241;43m=\u001b[39;49m\u001b[43mconfig\u001b[49m\u001b[43m,\u001b[49m\n\u001b[1;32m     58\u001b[0m \u001b[43m    \u001b[49m\u001b[43m)\u001b[49m\n",
      "File \u001b[0;32m~/.local/lib/python3.11/site-packages/spacy/util.py:472\u001b[0m, in \u001b[0;36mload_model\u001b[0;34m(name, vocab, disable, enable, exclude, config)\u001b[0m\n\u001b[1;32m    470\u001b[0m \u001b[38;5;28;01mif\u001b[39;00m name \u001b[38;5;129;01min\u001b[39;00m OLD_MODEL_SHORTCUTS:\n\u001b[1;32m    471\u001b[0m     \u001b[38;5;28;01mraise\u001b[39;00m \u001b[38;5;167;01mIOError\u001b[39;00m(Errors\u001b[38;5;241m.\u001b[39mE941\u001b[38;5;241m.\u001b[39mformat(name\u001b[38;5;241m=\u001b[39mname, full\u001b[38;5;241m=\u001b[39mOLD_MODEL_SHORTCUTS[name]))  \u001b[38;5;66;03m# type: ignore[index]\u001b[39;00m\n\u001b[0;32m--> 472\u001b[0m \u001b[38;5;28;01mraise\u001b[39;00m \u001b[38;5;167;01mIOError\u001b[39;00m(Errors\u001b[38;5;241m.\u001b[39mE050\u001b[38;5;241m.\u001b[39mformat(name\u001b[38;5;241m=\u001b[39mname))\n",
      "\u001b[0;31mOSError\u001b[0m: [E050] Can't find model 'en_core_web_lg'. It doesn't seem to be a Python package or a valid path to a data directory."
     ]
    }
   ],
   "source": [
    "import spacy\n",
    "nlp = spacy.load(\"en_core_web_lg\")"
   ]
  },
  {
   "cell_type": "markdown",
   "id": "cee60158-b55f-492c-b38e-c81e87a86f12",
   "metadata": {},
   "source": [
    "除了这些之外，还有一些其他库，例如 gensim，我们将在本章的一些示例中进行探索。"
   ]
  }
 ],
 "metadata": {
  "kernelspec": {
   "display_name": "Python 3 (ipykernel)",
   "language": "python",
   "name": "python3"
  },
  "language_info": {
   "codemirror_mode": {
    "name": "ipython",
    "version": 3
   },
   "file_extension": ".py",
   "mimetype": "text/x-python",
   "name": "python",
   "nbconvert_exporter": "python",
   "pygments_lexer": "ipython3",
   "version": "3.11.5"
  }
 },
 "nbformat": 4,
 "nbformat_minor": 5
}
