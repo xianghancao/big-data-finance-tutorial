{
 "cells": [
  {
   "cell_type": "markdown",
   "id": "1af5474e-682d-4ee0-b524-5c3ba1da5aa6",
   "metadata": {},
   "source": [
    "# 11.1 分词"
   ]
  },
  {
   "cell_type": "markdown",
   "id": "99594634-3ea5-4e4f-be28-f92ec82fffc9",
   "metadata": {},
   "source": [
    "分词（Tokenization）是将文本分割成有意义的片段。这些片段可以是单词、标点符号、数字或其他构成句子的特殊字符。\n",
    "\n",
    "一组预定的规则使我们能够有效地将句子转换为标记列表。以下代码片段展示了使用 NLTK 来进行分词："
   ]
  },
  {
   "cell_type": "code",
   "execution_count": 1,
   "id": "449b1a73-090b-4577-8086-60186bff24fe",
   "metadata": {
    "tags": []
   },
   "outputs": [],
   "source": [
    "text = \"This is a tokenize test\""
   ]
  },
  {
   "cell_type": "code",
   "execution_count": 2,
   "id": "9585ba01-d4b1-4416-af6a-4b1c3c71cb83",
   "metadata": {
    "tags": []
   },
   "outputs": [
    {
     "name": "stdout",
     "output_type": "stream",
     "text": [
      "NLTK库信息： {'nltk_data path': 'nltk/nltk_data', 'nltk_data included': ['tokenizers/punkt', 'taggers/averaged_perceptron_tagger', 'taggers/universal_tagset', 'corpora/.DS_Store', 'corpora/inaugural', 'corpora/wordnet.zip', 'corpora/stopwords.zip']}\n"
     ]
    },
    {
     "data": {
      "text/plain": [
       "['This', 'is', 'a', 'tokenize', 'test']"
      ]
     },
     "execution_count": 2,
     "metadata": {},
     "output_type": "execute_result"
    }
   ],
   "source": [
    "from nltk.tokenize import word_tokenize \n",
    "word_tokenize(text, language='english')"
   ]
  }
 ],
 "metadata": {
  "kernelspec": {
   "display_name": "Python 3 (ipykernel)",
   "language": "python",
   "name": "python3"
  },
  "language_info": {
   "codemirror_mode": {
    "name": "ipython",
    "version": 3
   },
   "file_extension": ".py",
   "mimetype": "text/x-python",
   "name": "python",
   "nbconvert_exporter": "python",
   "pygments_lexer": "ipython3",
   "version": "3.11.5"
  }
 },
 "nbformat": 4,
 "nbformat_minor": 5
}
