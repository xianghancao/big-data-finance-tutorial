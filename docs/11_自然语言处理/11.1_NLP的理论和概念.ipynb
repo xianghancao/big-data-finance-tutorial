{
 "cells": [
  {
   "cell_type": "markdown",
   "id": "1af5474e-682d-4ee0-b524-5c3ba1da5aa6",
   "metadata": {},
   "source": [
    "# 11.1 NLP的理论和概念"
   ]
  },
  {
   "cell_type": "markdown",
   "id": "0e521da0-62e2-47ed-8422-024f72b88e04",
   "metadata": {},
   "source": [
    "自然语言处理（NLP）是人工智能的一个子领域，关注于编程计算机以处理文本数据以获取有用的见解。所有 NLP 应用都经历共同的顺序步骤，其中包括对文本数据进行预处理并将文本表示为预测特征，然后将其馈送到统计推断算法中。下图概述了基于 NLP 的应用中的主要步骤。"
   ]
  },
  {
   "cell_type": "markdown",
   "id": "3cbc3cda-0f5b-41b7-9c90-a47b5d8f31b4",
   "metadata": {},
   "source": [
    "![NLP_pipeline](images/NLP_pipeline.png)"
   ]
  },
  {
   "cell_type": "markdown",
   "id": "ab0db3e0-7454-49b1-ab22-dfc47ba9acff",
   "metadata": {},
   "source": []
  }
 ],
 "metadata": {
  "kernelspec": {
   "display_name": "Python 3 (ipykernel)",
   "language": "python",
   "name": "python3"
  },
  "language_info": {
   "codemirror_mode": {
    "name": "ipython",
    "version": 3
   },
   "file_extension": ".py",
   "mimetype": "text/x-python",
   "name": "python",
   "nbconvert_exporter": "python",
   "pygments_lexer": "ipython3",
   "version": "3.11.5"
  }
 },
 "nbformat": 4,
 "nbformat_minor": 5
}
