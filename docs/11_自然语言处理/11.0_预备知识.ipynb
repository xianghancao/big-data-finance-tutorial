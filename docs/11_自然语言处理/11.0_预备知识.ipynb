{
 "cells": [
  {
   "cell_type": "markdown",
   "id": "da8ec1d7-2f97-4fa7-9eb5-78d2c4e11f6c",
   "metadata": {},
   "source": [
    "# 11 自然语言处理"
   ]
  },
  {
   "cell_type": "markdown",
   "id": "afe3fc86-3c5d-497b-92b3-443bf7bb1814",
   "metadata": {},
   "source": [
    "自然语言处理（NLP）是人工智能的一个子领域，用于帮助计算机理解自然人类语言。大多数 NLP 技术依赖于机器学习来从人类语言中获取含义。当提供了文本时，计算机利用算法提取与每个句子相关的含义，并从中收集关键数据。NLP 在许多不同学科中以不同的形式出现，有许多不同的名称，包括（但不限于）文本分析、文本挖掘、计算语言学和内容分析。"
   ]
  },
  {
   "cell_type": "markdown",
   "id": "97b74140-772d-40a2-bc9a-14a8b45e9b6f",
   "metadata": {},
   "source": [
    "## 预习"
   ]
  },
  {
   "cell_type": "markdown",
   "id": "b1eea0f1-5229-4a25-a7f5-3021c741f45e",
   "metadata": {},
   "source": [
    "### 图书馆资源的利用\n",
    "1. 在学校图书馆\n",
    "2. 借阅书籍1-2本\n",
    "3. 借阅主题：自然语言处理、文本数据分析\n",
    "4. 浏览感兴趣的章节，并做笔记"
   ]
  },
  {
   "cell_type": "markdown",
   "id": "46a4e81f-ed96-4872-b2d6-d612868227b9",
   "metadata": {},
   "source": [
    "### 名词解释"
   ]
  },
  {
   "cell_type": "markdown",
   "id": "a1ed4e75-c4ff-4e21-a020-da08cf0bfbf2",
   "metadata": {},
   "source": [
    "请使用网络工具和图书馆资源，完成以下名词解释：\n"
   ]
  },
  {
   "cell_type": "markdown",
   "id": "f7f3e383-11c1-422c-96e2-d2e10bcbea3f",
   "metadata": {},
   "source": [
    "- NLP\n",
    "- 文本数据\n",
    "- 分词\n",
    "- 词频\n",
    "- 停用词"
   ]
  }
 ],
 "metadata": {
  "kernelspec": {
   "display_name": "Python 3 (ipykernel)",
   "language": "python",
   "name": "python3"
  },
  "language_info": {
   "codemirror_mode": {
    "name": "ipython",
    "version": 3
   },
   "file_extension": ".py",
   "mimetype": "text/x-python",
   "name": "python",
   "nbconvert_exporter": "python",
   "pygments_lexer": "ipython3",
   "version": "3.11.7"
  }
 },
 "nbformat": 4,
 "nbformat_minor": 5
}
