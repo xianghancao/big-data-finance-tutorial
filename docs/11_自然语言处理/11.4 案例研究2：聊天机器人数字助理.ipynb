{
 "cells": [
  {
   "cell_type": "code",
   "execution_count": null,
   "id": "acd49eb8-4d7f-4f37-9ed8-aa6863b7ca84",
   "metadata": {},
   "outputs": [],
   "source": [
    "11.4 案例研究2：聊天机器人数字助理"
   ]
  }
 ],
 "metadata": {
  "kernelspec": {
   "display_name": "Python 3 (ipykernel)",
   "language": "python",
   "name": "python3"
  },
  "language_info": {
   "codemirror_mode": {
    "name": "ipython",
    "version": 3
   },
   "file_extension": ".py",
   "mimetype": "text/x-python",
   "name": "python",
   "nbconvert_exporter": "python",
   "pygments_lexer": "ipython3",
   "version": "3.11.5"
  }
 },
 "nbformat": 4,
 "nbformat_minor": 5
}
