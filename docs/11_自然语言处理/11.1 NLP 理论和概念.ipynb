{
 "cells": [
  {
   "cell_type": "markdown",
   "id": "1af5474e-682d-4ee0-b524-5c3ba1da5aa6",
   "metadata": {},
   "source": [
    "# 介绍自然语言处理（NLP）"
   ]
  },
  {
   "cell_type": "markdown",
   "id": "b31a63ee-96b4-48d8-9b7f-f05dfa700df1",
   "metadata": {},
   "source": []
  }
 ],
 "metadata": {
  "kernelspec": {
   "display_name": "Python 3 (ipykernel)",
   "language": "python",
   "name": "python3"
  },
  "language_info": {
   "codemirror_mode": {
    "name": "ipython",
    "version": 3
   },
   "file_extension": ".py",
   "mimetype": "text/x-python",
   "name": "python",
   "nbconvert_exporter": "python",
   "pygments_lexer": "ipython3",
   "version": "3.11.5"
  }
 },
 "nbformat": 4,
 "nbformat_minor": 5
}
