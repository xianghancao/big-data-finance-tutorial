{
 "cells": [
  {
   "cell_type": "markdown",
   "id": "6981219f-4c32-41d2-b2e9-632742fe33ff",
   "metadata": {},
   "source": [
    "# 11.4 词形还原\n",
    "词形还原（Lemmatization）是词干提取的一种变体。两个过程之间的主要区别是，词干提取通常会创建不存在的单词，而词形还原是实际存在的单词。词形还原的一个例子是将 run 作为诸如 running 和 ran 这样的单词的基本形式，或者将 better 和 good 视为相同的词形。使用 TextBlob 库进行词形还原的代码如下所示："
   ]
  },
  {
   "cell_type": "code",
   "execution_count": null,
   "id": "ea31e6b5-4e21-4e4f-a261-e46633e32f0e",
   "metadata": {
    "tags": []
   },
   "outputs": [
    {
     "data": {
      "text/plain": [
       "[('has', 'ha'), ('faces', 'face')]"
      ]
     },
     "execution_count": 5,
     "metadata": {},
     "output_type": "execute_result"
    }
   ],
   "source": [
    "text = \"This world has a lot of faces \"\n",
    "from textblob import TextBlob\n",
    "from textblob import Word\n",
    "parsed_data= TextBlob(text).words\n",
    "[(word, word.lemmatize()) for i, word in enumerate(parsed_data)\n",
    "if word != parsed_data[i].lemmatize()]"
   ]
  }
 ],
 "metadata": {
  "kernelspec": {
   "display_name": "Python 3 (ipykernel)",
   "language": "python",
   "name": "python3"
  },
  "language_info": {
   "codemirror_mode": {
    "name": "ipython",
    "version": 3
   },
   "file_extension": ".py",
   "mimetype": "text/x-python",
   "name": "python",
   "nbconvert_exporter": "python",
   "pygments_lexer": "ipython3",
   "version": "3.11.5"
  }
 },
 "nbformat": 4,
 "nbformat_minor": 5
}
