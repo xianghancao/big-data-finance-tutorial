{
 "cells": [
  {
   "cell_type": "markdown",
   "id": "09899bf6-5895-449d-9a5f-4e157fd9c379",
   "metadata": {},
   "source": [
    "# 11.5 词性标注\n",
    "词性标注（POS Tagging）是将标记分配给其语法类别（例如，动词、名词等）的过程。"
   ]
  },
  {
   "cell_type": "markdown",
   "id": "fa24e2f3-afd8-493f-84f3-09eb7d340ade",
   "metadata": {},
   "source": [
    "| 词性标注 | 意思                                     |\n",
    "|---------|---------------------------------------------|\n",
    "| NNP     | 专有名词（Proper Noun，单数），指特定的人、地点、组织等名词                     |\n",
    "| VBZ     | 第三人称单数动词       |\n",
    "| VBG     | 动名词或现在分词        |\n",
    "| IN      | 介词（Preposition），用于连接词、短语或从句之间的关系，如\"at\"和\"for\"                                 |\n",
    "| CD      | 基数词（Cardinal Number），表示数量或数值的词，                |\n",
    "| $       | 货币符号                 |\n",
    "\n",
    "这些标签有助于识别每个单词在句子中的语法角色和词性，例如名词、动词、介词等。"
   ]
  },
  {
   "cell_type": "code",
   "execution_count": null,
   "id": "7009074d-df6c-4f6b-a95c-5e7a2f3eab6e",
   "metadata": {
    "tags": []
   },
   "outputs": [],
   "source": [
    "text = 'Google is looking at buying U.K. startup for $1 billion'"
   ]
  },
  {
   "cell_type": "code",
   "execution_count": null,
   "id": "d1fbc9ef-ca4f-4af5-8cbf-3906531c9582",
   "metadata": {
    "tags": []
   },
   "outputs": [
    {
     "data": {
      "text/plain": [
       "[('Google', 'NNP'),\n",
       " ('is', 'VBZ'),\n",
       " ('looking', 'VBG'),\n",
       " ('at', 'IN'),\n",
       " ('buying', 'VBG'),\n",
       " ('U.K.', 'NNP'),\n",
       " ('startup', 'NN'),\n",
       " ('for', 'IN'),\n",
       " ('$', '$'),\n",
       " ('1', 'CD'),\n",
       " ('billion', 'CD')]"
      ]
     },
     "execution_count": 39,
     "metadata": {},
     "output_type": "execute_result"
    }
   ],
   "source": [
    "import nltk\n",
    "tokens = nltk.word_tokenize(text, language='english')\n",
    "nltk.pos_tag(tokens)"
   ]
  },
  {
   "cell_type": "markdown",
   "id": "3d24846f-aa9c-46cb-bebb-44af320f726a",
   "metadata": {},
   "source": [
    "使用 TextBlob 库进行词性标注的代码如下所示："
   ]
  },
  {
   "cell_type": "code",
   "execution_count": null,
   "id": "48851336-ce65-404d-aa30-4741597c79a3",
   "metadata": {
    "tags": []
   },
   "outputs": [
    {
     "data": {
      "text/plain": [
       "[('Google', 'NNP'),\n",
       " ('is', 'VBZ'),\n",
       " ('looking', 'VBG'),\n",
       " ('at', 'IN'),\n",
       " ('buying', 'VBG'),\n",
       " ('U.K.', 'NNP'),\n",
       " ('startup', 'NN'),\n",
       " ('for', 'IN'),\n",
       " ('1', 'CD'),\n",
       " ('billion', 'CD')]"
      ]
     },
     "execution_count": 40,
     "metadata": {},
     "output_type": "execute_result"
    }
   ],
   "source": [
    "text = 'Google is looking at buying U.K. startup for $1 billion'\n",
    "TextBlob(text).tags"
   ]
  },
  {
   "cell_type": "markdown",
   "id": "cdf3120b-3f45-42d7-a55c-9b269d44cd63",
   "metadata": {},
   "source": [
    "两者结果是一致的。"
   ]
  }
 ],
 "metadata": {
  "kernelspec": {
   "display_name": "Python 3 (ipykernel)",
   "language": "python",
   "name": "python3"
  },
  "language_info": {
   "codemirror_mode": {
    "name": "ipython",
    "version": 3
   },
   "file_extension": ".py",
   "mimetype": "text/x-python",
   "name": "python",
   "nbconvert_exporter": "python",
   "pygments_lexer": "ipython3",
   "version": "3.11.5"
  }
 },
 "nbformat": 4,
 "nbformat_minor": 5
}
