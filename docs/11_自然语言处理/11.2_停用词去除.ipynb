{
 "cells": [
  {
   "cell_type": "markdown",
   "id": "2b8459c9-e528-47a5-bc24-5a21b76115d9",
   "metadata": {},
   "source": [
    "# 11.2 停用词去除"
   ]
  },
  {
   "cell_type": "markdown",
   "id": "9c687cf3-2692-4a61-9803-1e0d4ae03de5",
   "metadata": {
    "tags": []
   },
   "source": [
    "有时，我们会排除那些提供很少价值的极其常见的单词，这些单词被称为停用词（Stop Words）。使用 NLTK 库去除停用词的代码如下所示："
   ]
  },
  {
   "cell_type": "code",
   "execution_count": 3,
   "id": "90051d84-82f4-49af-9f2b-362259bc591b",
   "metadata": {
    "tags": []
   },
   "outputs": [
    {
     "name": "stdout",
     "output_type": "stream",
     "text": [
      "['S', '&', 'P', 'NASDAQ', 'two', 'popular', 'indices', 'US']\n"
     ]
    }
   ],
   "source": [
    "text = \"S&P and NASDAQ are the two most popular indices in US\"\n",
    "from nltk.corpus import stopwords\n",
    "from nltk.tokenize import word_tokenize\n",
    "stop_words = set(stopwords.words('english'))\n",
    "text_tokens = word_tokenize(text)\n",
    "tokens_without_sw= [word for word in text_tokens if not word in stop_words]\n",
    "print(tokens_without_sw)"
   ]
  },
  {
   "cell_type": "markdown",
   "id": "a9817d35-904a-4c68-949a-46a1ea125c3a",
   "metadata": {},
   "source": [
    "我们首先加载语言模型，并将其存储在停用词变量中。stopwords.words('english') 是 NLTK 中英语语言模型的默认停用词集合。\n",
    "\n",
    "接下来，我们简单地迭代输入文本中的每个单词，如果该单词存在于 NLTK 语言模型的停用词集合中，则将其移除。正如我们所看到的，像 `are` 、`in`、 `most` 这样的停用词已从句子中移除。"
   ]
  }
 ],
 "metadata": {
  "kernelspec": {
   "display_name": "Python 3 (ipykernel)",
   "language": "python",
   "name": "python3"
  },
  "language_info": {
   "codemirror_mode": {
    "name": "ipython",
    "version": 3
   },
   "file_extension": ".py",
   "mimetype": "text/x-python",
   "name": "python",
   "nbconvert_exporter": "python",
   "pygments_lexer": "ipython3",
   "version": "3.11.5"
  }
 },
 "nbformat": 4,
 "nbformat_minor": 5
}
