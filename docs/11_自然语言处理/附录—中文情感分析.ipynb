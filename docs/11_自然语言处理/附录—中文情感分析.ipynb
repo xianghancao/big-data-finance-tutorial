{
 "cells": [
  {
   "cell_type": "markdown",
   "id": "fea7a9fe-4ce0-4a31-a124-db7727760245",
   "metadata": {},
   "source": [
    "# 附录：中文情感分析"
   ]
  },
  {
   "cell_type": "markdown",
   "id": "1e329208-f76e-4c3a-a2e5-a51a4fdca043",
   "metadata": {},
   "source": [
    "\n",
    "SnowNLP 是一个专门用于处理中文文本的库，提供了简便的情感分析功能。SnowNLP 的情感分析结果在 0 到 1 之间，值越接近 1 表示正面情感，越接近 0 表示负面情感。"
   ]
  },
  {
   "cell_type": "code",
   "execution_count": null,
   "id": "5540f4a3-1e86-4a23-a19d-ec318537ac55",
   "metadata": {
    "tags": []
   },
   "outputs": [],
   "source": [
    "text = \"\"\"\n",
    "        在过去的财务季度，公司报告了大幅度的亏损，收入下降了20%。\n",
    "        管理层表示，由于市场需求疲软和成本上升，未来几个季度的前景仍不乐观。\n",
    "        投资者对公司的增长前景表示担忧，导致股票价格在短短一周内暴跌了15%。\n",
    "        此外，公司的债务水平持续上升，进一步加剧了财务压力。\n",
    "        许多分析师建议持有该公司股票的投资者尽快脱手，以避免进一步的损失。”\n",
    "        \"\"\""
   ]
  },
  {
   "cell_type": "code",
   "execution_count": null,
   "id": "31351c91-1b92-4f03-a6cc-d63ee540c344",
   "metadata": {
    "tags": []
   },
   "outputs": [
    {
     "name": "stdout",
     "output_type": "stream",
     "text": [
      "Text: \n",
      "        在过去的财务季度，公司报告了大幅度的亏损，收入下降了20%。\n",
      "        管理层表示，由于市场需求疲软和成本上升，未来几个季度的前景仍不乐观。\n",
      "        投资者对公司的增长前景表示担忧，导致股票价格在短短一周内暴跌了15%。\n",
      "        此外，公司的债务水平持续上升，进一步加剧了财务压力。\n",
      "        许多分析师建议持有该公司股票的投资者尽快脱手，以避免进一步的损失。”\n",
      "        \n",
      "Sentiment: 0.9999990359270101\n"
     ]
    }
   ],
   "source": [
    "from snownlp import SnowNLP\n",
    "\n",
    "s = SnowNLP(text)\n",
    "sentiment = s.sentiments    # 获取情感分析结果\n",
    "print(f\"Text: {text}\")     # 输出情感分析结果\n",
    "print(f\"Sentiment: {sentiment}\")"
   ]
  },
  {
   "cell_type": "markdown",
   "id": "403b38d9-21f1-4330-97a7-456f4b9bf37a",
   "metadata": {},
   "source": [
    "上述结果表明目前SnowNLP的情感分析不理想。"
   ]
  }
 ],
 "metadata": {
  "kernelspec": {
   "display_name": "Python 3 (ipykernel)",
   "language": "python",
   "name": "python3"
  },
  "language_info": {
   "codemirror_mode": {
    "name": "ipython",
    "version": 3
   },
   "file_extension": ".py",
   "mimetype": "text/x-python",
   "name": "python",
   "nbconvert_exporter": "python",
   "pygments_lexer": "ipython3",
   "version": "3.11.5"
  }
 },
 "nbformat": 4,
 "nbformat_minor": 5
}
