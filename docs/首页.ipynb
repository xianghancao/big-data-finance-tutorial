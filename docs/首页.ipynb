{
 "cells": [
  {
   "cell_type": "markdown",
   "id": "2f71e47d-445b-48cc-96bd-485d3fc9bdf3",
   "metadata": {},
   "source": [
    "# 课程首页\n"
   ]
  },
  {
   "cell_type": "markdown",
   "id": "98eddd99-01ce-443a-99d2-a73e3d0f9d5f",
   "metadata": {},
   "source": [
    "[![Jupyter Book Badge](https://jupyterbook.org/badge.svg)](<YOUR URL HERE>)"
   ]
  },
  {
   "cell_type": "markdown",
   "id": "76cf6444-d208-401d-b394-d87debb8e433",
   "metadata": {},
   "source": [
    "```{admonition} 公告\n",
    "日期：\n",
    "内容：\n",
    "```"
   ]
  },
  {
   "cell_type": "markdown",
   "id": "ec1ba18e-daa9-4546-95cf-b3073a7721a2",
   "metadata": {},
   "source": [
    "\n",
    "\n",
    "\n",
    "大数据金融是将大数据技术应用于金融领域的新兴领域。\n",
    "\n",
    "随着信息技术的快速发展，金融业内产生了大量的数据，如何通过这些数据进行分析和应用成为了金融业面临的一个重要挑战。同时，传统的金融分析方法和技术也已经无法满足金融业日益增⻓的需求。金融大数据课程旨在帮助学生了解金融大数据的概念、理论、方法和应用，培养学生获\n",
    "取、处理和分析金融大数据的能力，并能够将金融大数据应用于金融实践。\n",
    "\n",
    "通过本课程的学习，学生应具备以下能力:\n",
    "\n",
    "- 掌握金融大数据的基本概念和理论;\n",
    "- 了解金融大数据的获取、存储和处理方法;\n",
    "- 掌握常用的金融大数据分析方法和工具;\n",
    "- 能够运用金融大数据进行金融分析和决策;\n",
    "- 具备金融大数据应用的创新思维和实践能力。\n",
    "\n",
    "课件特点：\n",
    "1. 练习多，且容易上手。每一个知识点均搭配一个练习，帮助学生迅速巩固对于知识点的理解；\n",
    "2. 商业案例多，避免编程知识和金融场景脱离；\n",
    "3. 图片多，大部分知识点应用可视化的方式，降低学习难度\n",
    "4. 每章节均搭配有ipynb格式的代码课件，学生可以本地运行代码\n",
    "5. 每章节均搭配在线互动网页，学生可以线上互动\n"
   ]
  },
  {
   "cell_type": "markdown",
   "id": "66677cb3-d4e3-4d63-b1ff-18c0de060184",
   "metadata": {},
   "source": [
    "## 参考材料\n",
    "![more_books](more_books.png)"
   ]
  },
  {
   "cell_type": "markdown",
   "id": "1ca351b1-9d0f-45c4-bb71-ec46c1808952",
   "metadata": {},
   "source": [
    "版本号：V1.06  \n",
    "更新日期：2024.3.2\n",
    "\n",
    "本课件部分原创，如果侵权，请联系删除。本课件仅用于学术使用，勿做商业传播。\n"
   ]
  }
 ],
 "metadata": {
  "kernelspec": {
   "display_name": "Python 3 (ipykernel)",
   "language": "python",
   "name": "python3"
  },
  "language_info": {
   "codemirror_mode": {
    "name": "ipython",
    "version": 3
   },
   "file_extension": ".py",
   "mimetype": "text/x-python",
   "name": "python",
   "nbconvert_exporter": "python",
   "pygments_lexer": "ipython3",
   "version": "3.11.5"
  }
 },
 "nbformat": 4,
 "nbformat_minor": 5
}
