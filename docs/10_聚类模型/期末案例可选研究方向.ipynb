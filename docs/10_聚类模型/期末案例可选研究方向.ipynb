{
 "cells": [
  {
   "cell_type": "markdown",
   "id": "6daf6e09-cadf-488c-9434-b501ea8b4aeb",
   "metadata": {},
   "source": [
    "# 期末案例可选研究方向"
   ]
  },
  {
   "cell_type": "markdown",
   "id": "f6db5f36-9e3b-4e7c-9e4a-56b84aaebf72",
   "metadata": {},
   "source": [
    "聚类分析的目的是发现数据中的自然分组或模式，因此可以根据多种不同的数据和特征进行聚类。\n",
    "\n",
    "### 1. 包含基本面数据的聚类\n",
    "- **财务指标**：如市盈率（P/E）、市净率（P/B）、收益率（ROE）、净利润率、资产负债率等。\n",
    "- **增长指标**：如收入增长率、净利润增长率、自由现金流增长率等。\n",
    "- **流动性指标**：如流动比率、速动比率等。\n",
    "\n",
    "### 2. 包含技术指标数据的聚类\n",
    "- **移动平均线**：如短期和长期移动平均线（SMA、EMA）。\n",
    "- **相对强弱指数（RSI）**：衡量价格相对强弱的指标。\n",
    "- **布林带（Bollinger Bands）**：用来衡量市场波动性。\n",
    "- **成交量指标**：如成交量加权平均价（VWAP）、相对成交量等。\n",
    "\n",
    "### 3. 包含行业和板块特征的聚类\n",
    "- **行业分类**：根据标准行业分类（如GICS）对公司进行分类。\n",
    "- **行业指标**：如行业平均市盈率、行业增长率等。\n",
    "- **板块特征**：如周期性行业、非周期性行业等。\n",
    "\n",
    "### 4. 包含时间序列特征的聚类\n",
    "- **波动率**：历史波动率、隐含波动率等。\n",
    "- **自相关特征**：如价格和成交量的自相关系数。\n",
    "- **季节性特征**：季度效应、月份效应等。"
   ]
  },
  {
   "cell_type": "markdown",
   "id": "2456eb0a-6473-4d13-835f-9bf1e08ee9b9",
   "metadata": {},
   "source": []
  }
 ],
 "metadata": {
  "kernelspec": {
   "display_name": "Python 3 (ipykernel)",
   "language": "python",
   "name": "python3"
  },
  "language_info": {
   "codemirror_mode": {
    "name": "ipython",
    "version": 3
   },
   "file_extension": ".py",
   "mimetype": "text/x-python",
   "name": "python",
   "nbconvert_exporter": "python",
   "pygments_lexer": "ipython3",
   "version": "3.11.5"
  }
 },
 "nbformat": 4,
 "nbformat_minor": 5
}
