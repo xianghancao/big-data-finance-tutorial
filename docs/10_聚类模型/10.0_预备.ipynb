{
 "cells": [
  {
   "cell_type": "markdown",
   "id": "5f22c7f7-4aa1-46b8-a696-1b5a1864df69",
   "metadata": {},
   "source": [
    "# 10 聚类模型"
   ]
  },
  {
   "cell_type": "markdown",
   "id": "8e273d4f-9e6c-43e4-a3a8-861eafe1e913",
   "metadata": {},
   "source": [
    "聚类模型是一种无监督学习方法，用于将数据集中的样本划分成具有相似特征的组（簇）。这些组内的样本之间具有高度相似性，而组之间的样本则具有较大的差异性。聚类模型的目标是发现数据中的隐藏结构，而不需要预先标记的类别信息。\n"
   ]
  },
  {
   "cell_type": "markdown",
   "id": "826ba409-8835-43d2-a61a-cc00bebefcc7",
   "metadata": {},
   "source": [
    "类模型在金融领域有许多应用，其中一些包括客户分群、欺诈检测、资产组合管理、市场分析、信用风险评估，具有广泛的应用前景，并且可以帮助金融机构更好地理解数据、提高效率和降低风险。\n",
    "\n"
   ]
  },
  {
   "cell_type": "markdown",
   "id": "adc99a63-fb3a-49a6-a006-352e9b1c8aa7",
   "metadata": {},
   "source": [
    "## 名词解释"
   ]
  },
  {
   "cell_type": "markdown",
   "id": "6000e5f0-5604-4404-b2ef-57380d5a8041",
   "metadata": {},
   "source": [
    "请使用网络工具和图书馆资源，完成以下名词解释：\n"
   ]
  },
  {
   "cell_type": "markdown",
   "id": "a32d09c2-58e3-4fdc-bfa0-b24705dc0aae",
   "metadata": {},
   "source": [
    "- 无监督\n",
    "- 相似度度量\n",
    "- 配对交易"
   ]
  },
  {
   "cell_type": "markdown",
   "id": "9aae9718-e693-4cea-9091-dcbadbc374ee",
   "metadata": {},
   "source": []
  }
 ],
 "metadata": {
  "kernelspec": {
   "display_name": "Python 3 (ipykernel)",
   "language": "python",
   "name": "python3"
  },
  "language_info": {
   "codemirror_mode": {
    "name": "ipython",
    "version": 3
   },
   "file_extension": ".py",
   "mimetype": "text/x-python",
   "name": "python",
   "nbconvert_exporter": "python",
   "pygments_lexer": "ipython3",
   "version": "3.11.5"
  }
 },
 "nbformat": 4,
 "nbformat_minor": 5
}
