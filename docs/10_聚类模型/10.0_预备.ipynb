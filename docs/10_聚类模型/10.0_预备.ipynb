{
 "cells": [
  {
   "cell_type": "markdown",
   "id": "5f22c7f7-4aa1-46b8-a696-1b5a1864df69",
   "metadata": {},
   "source": [
    "# 8 回归模型"
   ]
  },
  {
   "cell_type": "markdown",
   "id": "8e273d4f-9e6c-43e4-a3a8-861eafe1e913",
   "metadata": {},
   "source": [
    "基于监督回归的机器学习是一种预测性的建模形式，其目标是通过建模目标变量与预测变量之间的关系，从而估计一系列可能的连续性结果。这类模型是金融领域应用最广泛的机器学习模型之一。\n",
    "\n",
    "金融机构 (以及整个金融领域) 的分析师们的一个关注点是预测投资机会，通常包括资产价格和资产收益率的预测。 基于监督回归的机器学习模型天生适用于此类场景。这些模型可以帮助投资和财务管理者理解预测变量的属性及其与其他变量的关系，并帮助他们识别影响资产收益的重要因素。这可以帮助投资者评估收益曲线、交易成本、技术和财务基础设施投资需求，最终评估策略或投资组合的风险状况和盈利能力。"
   ]
  },
  {
   "cell_type": "markdown",
   "id": "826ba409-8835-43d2-a61a-cc00bebefcc7",
   "metadata": {},
   "source": [
    "随着大量数据和处理技术的出现，基于监督回归的机器学习不再仅仅局限于资产价格预测。这些模型被广泛应用于金融领域的各个方面，包括投资组合管理、保险定价、金融工具定价、套期保值和风险管理。"
   ]
  },
  {
   "cell_type": "markdown",
   "id": "adc99a63-fb3a-49a6-a006-352e9b1c8aa7",
   "metadata": {},
   "source": [
    "## 名词解释"
   ]
  },
  {
   "cell_type": "markdown",
   "id": "6000e5f0-5604-4404-b2ef-57380d5a8041",
   "metadata": {},
   "source": [
    "请使用网络工具和图书馆资源，完成以下名词解释：\n"
   ]
  },
  {
   "cell_type": "markdown",
   "id": "a32d09c2-58e3-4fdc-bfa0-b24705dc0aae",
   "metadata": {},
   "source": [
    "- 金融机构分析师\n",
    "- 金融序列\n",
    "- 线性函数\n",
    "- 非线性结构和模式\n",
    "- 数据污染\n",
    "- 过拟合和欠拟合\n",
    "- 风险资产\n",
    "- 无风险资产"
   ]
  }
 ],
 "metadata": {
  "kernelspec": {
   "display_name": "Python 3 (ipykernel)",
   "language": "python",
   "name": "python3"
  },
  "language_info": {
   "codemirror_mode": {
    "name": "ipython",
    "version": 3
   },
   "file_extension": ".py",
   "mimetype": "text/x-python",
   "name": "python",
   "nbconvert_exporter": "python",
   "pygments_lexer": "ipython3",
   "version": "3.11.5"
  }
 },
 "nbformat": 4,
 "nbformat_minor": 5
}
