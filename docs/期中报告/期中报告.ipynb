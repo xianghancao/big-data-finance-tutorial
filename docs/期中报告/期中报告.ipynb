{
 "cells": [
  {
   "cell_type": "markdown",
   "id": "51992e54-f671-46aa-9ab7-e55712737931",
   "metadata": {},
   "source": [
    "# 期中报告"
   ]
  },
  {
   "cell_type": "markdown",
   "id": "109a4760-ecca-4454-8464-8ca08c713589",
   "metadata": {},
   "source": [
    "## 设计投资组合策略"
   ]
  },
  {
   "cell_type": "markdown",
   "id": "614c3f2f-a8b6-465a-bad2-00d0c4f932eb",
   "metadata": {},
   "source": [
    "<img src='images/portfolio_investing.jpg' width=400>"
   ]
  },
  {
   "cell_type": "markdown",
   "id": "205f8f43-8b41-4bb6-9c5d-27725a24e087",
   "metadata": {},
   "source": [
    "完成以下任务：\n",
    "1. 使用wind、东方财富（ichoice）、同花顺（iFind）、钱龙、investing.com等软件下载数据\n",
    "2. 应用描述性统计方法\n",
    "3. 绘制资产的价格曲线和收益率曲线\n",
    "4. 设计一种或多种投资组合策略（固定权重、等权重、最小风险、最大夏普等等）\n",
    "5. 绘制投资组合的表现"
   ]
  },
  {
   "cell_type": "markdown",
   "id": "3c6a302f-dace-4dd9-bcf2-c7a0de26b7fe",
   "metadata": {},
   "source": [
    "如果需要在图片中使用中文字体，参见章节【附录：中文无法正常显示的问题】"
   ]
  },
  {
   "cell_type": "markdown",
   "id": "a9f2feef-892e-4a01-8209-fd2be0190382",
   "metadata": {},
   "source": [
    "完成后：\n",
    "1. 修改文件名为“组名”\n",
    "2. 点击`File`，选择`Save and Export Notebook As`为`HTML`\n",
    "3. 找到刚才下载的文件:“组名.html”\n",
    "4. 上传该文件至如下共享文件夹中：\n",
    "<a href=\"https://drive.weixin.qq.com/s?k=ANIAFAdhAAYlgV1BY0\" target=\"_blank\">https://drive.weixin.qq.com/s?k=ANIAFAdhAAYlgV1BY0</a>\n",
    "\n"
   ]
  },
  {
   "cell_type": "markdown",
   "id": "73fa22d5-42ea-461e-9ade-486b28a2e318",
   "metadata": {},
   "source": [
    "---"
   ]
  },
  {
   "cell_type": "markdown",
   "id": "2020773c-831c-4fe5-99d1-1bcd886cc3e4",
   "metadata": {},
   "source": [
    "## 附录：Markdown语言\n",
    "Markdown是一种轻量级的「标记语言」，通常为程序员群体所用，目前它已是全球最大的技术分享网站 GitHub 和技术问答网站 StackOverFlow 的御用书写格式。\n",
    "\n"
   ]
  },
  {
   "cell_type": "markdown",
   "id": "087b6421-3dd8-4507-8281-0b3932046685",
   "metadata": {},
   "source": [
    "\n",
    "### 1. markdown的文字编写 \n",
    "或者我们看下面这个例子，上面是markdown语言，下面是这门语言的运行后的效果：\n",
    "```\n",
    "## 这是一个二级标题\n",
    "### 这是一个三级标题\n",
    "```\n",
    "## 这是一个二级标题\n",
    "### 这是一个三级标题\n",
    "\n",
    "### 2. mardown对数学公式的支持\n",
    "markdown除了支持文字，还支持Latex数学公式的编写：\n",
    "```\n",
    "这是一个数学函数f(x) = \\sum\\frac{\\alpha}{\\beta}\n",
    "```\n",
    "这是一个数学函数$f(x) = \\sum\\frac{\\alpha}{\\beta}$\n",
    "\n",
    "\n",
    "顺便提一下，本在线文档的内容，也是使用Markdown这门标记型语言来书写的。\n",
    "\n"
   ]
  },
  {
   "cell_type": "markdown",
   "id": "da1b0a23-5cda-474f-8adb-17681ac76fdf",
   "metadata": {
    "tags": []
   },
   "source": [
    "\n",
    "### 3. 有哪些语法教程\n",
    "\n",
    "有以下中文的Markdown文档可供参考：\n",
    "\n",
    "1. [官方基本语法](https://www.markdownguide.org/basic-syntax/)\n",
    "2. [Markdown语法教程](https://markdown.com.cn)\n",
    "3. [runoob网站的markdown教程](https://www.runoob.com/markdown/md-advance.html)\n",
    "\n",
    "\n",
    "\n",
    "\n"
   ]
  },
  {
   "cell_type": "markdown",
   "id": "f0823f2a-b857-40c6-b9d9-42f121744870",
   "metadata": {},
   "source": [
    "课件使用文字和代码混排的方式，在jupyter notebook中用到了markdown模式和代码模式。"
   ]
  },
  {
   "cell_type": "markdown",
   "id": "b7b11e3d-edb3-458f-ad0e-db5977b3261b",
   "metadata": {},
   "source": [
    "## 4. 如何在jupyter中使用markdown？"
   ]
  },
  {
   "cell_type": "markdown",
   "id": "75c4f555-2e9e-4672-b7fc-9a6f980b5323",
   "metadata": {},
   "source": [
    "第一步，确认光标在你要修改成markdown模式的格子"
   ]
  },
  {
   "cell_type": "markdown",
   "id": "75778fdb-ce94-47e1-a495-29dbb97dd70e",
   "metadata": {},
   "source": [
    "![step1](images/step1.png)"
   ]
  },
  {
   "cell_type": "markdown",
   "id": "98ebafc0-9d57-4363-b9d1-1ce958a956ee",
   "metadata": {},
   "source": [
    "第二步，将code模式切换成Markdown"
   ]
  },
  {
   "cell_type": "markdown",
   "id": "1128b47d-abbe-49f7-97a7-6279128d2df2",
   "metadata": {},
   "source": [
    "![step2](images/step2.png)"
   ]
  },
  {
   "cell_type": "markdown",
   "id": "6355e95b-267b-4b72-936a-1a833b089f8b",
   "metadata": {},
   "source": [
    "第三步，点击运行按钮"
   ]
  },
  {
   "cell_type": "markdown",
   "id": "d1655b46-1509-47fd-977d-1341e57bc514",
   "metadata": {},
   "source": [
    "![step3](images/step3.png)"
   ]
  },
  {
   "cell_type": "markdown",
   "id": "cb873321-c0d6-4d77-91c8-524369288214",
   "metadata": {},
   "source": [
    "\n",
    "\n",
    "## 参考\n",
    "1. 官方网站：https://markdown.com.cn"
   ]
  }
 ],
 "metadata": {
  "kernelspec": {
   "display_name": "Python 3 (ipykernel)",
   "language": "python",
   "name": "python3"
  },
  "language_info": {
   "codemirror_mode": {
    "name": "ipython",
    "version": 3
   },
   "file_extension": ".py",
   "mimetype": "text/x-python",
   "name": "python",
   "nbconvert_exporter": "python",
   "pygments_lexer": "ipython3",
   "version": "3.11.5"
  }
 },
 "nbformat": 4,
 "nbformat_minor": 5
}
