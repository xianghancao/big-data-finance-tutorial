{
 "cells": [
  {
   "cell_type": "markdown",
   "id": "51992e54-f671-46aa-9ab7-e55712737931",
   "metadata": {},
   "source": [
    "# 期中报告"
   ]
  },
  {
   "cell_type": "markdown",
   "id": "109a4760-ecca-4454-8464-8ca08c713589",
   "metadata": {},
   "source": [
    "## 设计投资组合策略"
   ]
  },
  {
   "cell_type": "markdown",
   "id": "614c3f2f-a8b6-465a-bad2-00d0c4f932eb",
   "metadata": {},
   "source": [
    "<img src='images/portfolio_investing.jpg' width=400>"
   ]
  },
  {
   "cell_type": "markdown",
   "id": "205f8f43-8b41-4bb6-9c5d-27725a24e087",
   "metadata": {},
   "source": [
    "完成以下任务：\n",
    "1. 使用wind、东方财富（ichoice）、同花顺（iFind）、钱龙、investing.com等软件下载数据\n",
    "2. 应用描述性统计方法\n",
    "3. 绘制资产的价格曲线和收益率曲线\n",
    "4. 设计一种或多种投资组合策略（固定权重、等权重、最小风险、最大夏普等等）\n",
    "5. 绘制投资组合的表现"
   ]
  },
  {
   "cell_type": "markdown",
   "id": "3c6a302f-dace-4dd9-bcf2-c7a0de26b7fe",
   "metadata": {},
   "source": [
    "如果需要在图片中使用中文字体，参见章节【附录：中文无法正常显示的问题】"
   ]
  },
  {
   "cell_type": "markdown",
   "id": "a9f2feef-892e-4a01-8209-fd2be0190382",
   "metadata": {},
   "source": [
    "完成后：\n",
    "1. 修改文件名为“组名”\n",
    "2. 点击`File`，选择`Save and Export Notebook As`为`HTML`\n",
    "3. 找到刚才下载的文件:“组名.html”\n",
    "4. 上传该文件至如下共享文件夹中：\n",
    "<a href=\"https://drive.weixin.qq.com/s?k=ANIAFAdhAAYlgV1BY0\" target=\"_blank\">https://drive.weixin.qq.com/s?k=ANIAFAdhAAYlgV1BY0</a>\n",
    "\n"
   ]
  },
  {
   "cell_type": "markdown",
   "id": "a5474acc-5cd9-4c1d-aed4-17e36bc48ff9",
   "metadata": {},
   "source": []
  }
 ],
 "metadata": {
  "kernelspec": {
   "display_name": "Python 3 (ipykernel)",
   "language": "python",
   "name": "python3"
  },
  "language_info": {
   "codemirror_mode": {
    "name": "ipython",
    "version": 3
   },
   "file_extension": ".py",
   "mimetype": "text/x-python",
   "name": "python",
   "nbconvert_exporter": "python",
   "pygments_lexer": "ipython3",
   "version": "3.11.5"
  }
 },
 "nbformat": 4,
 "nbformat_minor": 5
}
