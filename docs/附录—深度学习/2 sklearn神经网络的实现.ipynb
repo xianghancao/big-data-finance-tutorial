{
 "cells": [
  {
   "cell_type": "markdown",
   "id": "898e9dde-9c4c-4847-93f9-e439bc92cda5",
   "metadata": {
    "editable": true,
    "slideshow": {
     "slide_type": ""
    },
    "tags": []
   },
   "source": [
    "# 神经网络模型的应用\n",
    "\n",
    "**实验任务：** 基于波士顿房价数据集、鸢尾花卉数据集和多个合成数据集训练神经网络模型\n",
    "\n",
    "**实验课时：** 2课时\n",
    "\n",
    "**实验目的：**\n",
    "* 了解神经网络模型的原理；\n",
    "* 理解神经网络模型的决策边界；\n",
    "* 掌握训练神经网络模型的实现方法。\n"
   ]
  },
  {
   "cell_type": "markdown",
   "id": "59d3ae53-ecad-4297-8606-5e8d9cd8ddc9",
   "metadata": {},
   "source": [
    "### 1. 数据标准化\n",
    "\n",
    "由于神经网络模型使用梯度下降法优化目标函数，为了使得收敛更快，需要对自变量做归一化。\n",
    "\n",
    "载入需要用到的程序包。"
   ]
  },
  {
   "cell_type": "code",
   "execution_count": null,
   "id": "43fbeaed-6ae1-4c2c-98a4-5f15c35db73d",
   "metadata": {},
   "outputs": [],
   "source": [
    "import pandas as pd\n",
    "from matplotlib import pyplot as plt\n",
    "from matplotlib.colors import ListedColormap\n",
    "import numpy as np\n",
    "from sklearn.metrics import r2_score, mean_squared_error, accuracy_score, roc_auc_score, f1_score, log_loss\n",
    "from sklearn.preprocessing import StandardScaler\n",
    "from sklearn.datasets import load_iris, load_boston, make_moons, make_circles, make_classification\n",
    "from sklearn.model_selection import KFold, GridSearchCV, train_test_split\n",
    "from sklearn.neural_network import MLPRegressor, MLPClassifier"
   ]
  },
  {
   "cell_type": "markdown",
   "id": "742eeaef-2a7f-4985-9ebb-6bafed1449ee",
   "metadata": {},
   "source": [
    "读取波士顿房价数据集，并划分训练集和测试集。"
   ]
  },
  {
   "cell_type": "code",
   "execution_count": 25,
   "id": "e291922b-275d-4f18-beb6-33d67b957de8",
   "metadata": {},
   "outputs": [
    {
     "data": {
      "text/plain": [
       "Index(['CRIM', 'ZN', 'INDUS', 'CHAS', 'NOX', 'RM', 'AGE', 'DIS', 'RAD', 'TAX',\n",
       "       'PTRATIO', 'B', 'LSTAT', 'MEDV'],\n",
       "      dtype='object')"
      ]
     },
     "execution_count": 25,
     "metadata": {},
     "output_type": "execute_result"
    }
   ],
   "source": [
    "boston.columns"
   ]
  },
  {
   "cell_type": "code",
   "execution_count": 26,
   "id": "a7b7d8d4-6cab-4b06-83c5-d9a60cdd17d6",
   "metadata": {},
   "outputs": [],
   "source": [
    "boston = pd.read_csv(\"数据/波士顿房价数据.csv\")\n",
    "boston_X = boston[['CRIM', 'ZN', 'INDUS', 'CHAS', 'NOX', 'RM', 'AGE', 'DIS', 'RAD', 'TAX',\n",
    "       'PTRATIO', 'B', 'LSTAT']]\n",
    "boston_y = boston['MEDV']\n",
    "boston_train_X, boston_test_X, boston_train_y, boston_test_y = train_test_split(boston_X, boston_y, test_size = 0.2, random_state = 123)"
   ]
  },
  {
   "cell_type": "code",
   "execution_count": 27,
   "id": "d6cab018-0e7a-40da-a1cc-f9b44b18e4a1",
   "metadata": {},
   "outputs": [
    {
     "data": {
      "text/plain": [
       "(array([3.55613257e+00, 1.11633663e+01, 1.11903465e+01, 5.69306931e-02,\n",
       "        5.55480198e-01, 6.28167574e+00, 6.89745050e+01, 3.78620371e+00,\n",
       "        9.50990099e+00, 4.08445545e+02, 1.84638614e+01, 3.57209084e+02,\n",
       "        1.28253465e+01]),\n",
       " array([7.70420076e+01, 5.26458460e+02, 4.81776890e+01, 5.36895893e-02,\n",
       "        1.35130141e-02, 4.95619412e-01, 7.83248088e+02, 4.55978253e+00,\n",
       "        7.48340604e+01, 2.83219451e+04, 4.60636727e+00, 8.38395664e+03,\n",
       "        5.06786115e+01]))"
      ]
     },
     "execution_count": 27,
     "metadata": {},
     "output_type": "execute_result"
    }
   ],
   "source": [
    "ss = StandardScaler()\n",
    "boston_train_X_scaled = ss.fit_transform(boston_train_X)\n",
    "boston_test_X_scaled = ss.transform(boston_test_X)\n",
    "ss.mean_, ss.var_"
   ]
  },
  {
   "cell_type": "markdown",
   "id": "d87709a7-00f2-4e3c-918c-1d30058f13ff",
   "metadata": {},
   "source": [
    "### 2. 回归问题\n",
    "\n",
    "调用程序包`sklearn.neural_network`的构造函数`MLPRegressor()`创建神经网络回归模型，调用神经网络回归模型的函数`get_params()`得到超参数列表和每个超参数的默认值。"
   ]
  },
  {
   "cell_type": "code",
   "execution_count": 28,
   "id": "fac08a66-9f3a-4646-9fa8-39f23562d0b6",
   "metadata": {},
   "outputs": [
    {
     "data": {
      "text/plain": [
       "{'activation': 'relu',\n",
       " 'alpha': 0.0001,\n",
       " 'batch_size': 'auto',\n",
       " 'beta_1': 0.9,\n",
       " 'beta_2': 0.999,\n",
       " 'early_stopping': False,\n",
       " 'epsilon': 1e-08,\n",
       " 'hidden_layer_sizes': (100,),\n",
       " 'learning_rate': 'adaptive',\n",
       " 'learning_rate_init': 0.1,\n",
       " 'max_fun': 15000,\n",
       " 'max_iter': 200,\n",
       " 'momentum': 0.9,\n",
       " 'n_iter_no_change': 10,\n",
       " 'nesterovs_momentum': True,\n",
       " 'power_t': 0.5,\n",
       " 'random_state': 123,\n",
       " 'shuffle': True,\n",
       " 'solver': 'adam',\n",
       " 'tol': 0.0001,\n",
       " 'validation_fraction': 0.1,\n",
       " 'verbose': False,\n",
       " 'warm_start': False}"
      ]
     },
     "execution_count": 28,
     "metadata": {},
     "output_type": "execute_result"
    }
   ],
   "source": [
    "clf = MLPRegressor(learning_rate_init=0.1, learning_rate='adaptive', random_state = 123)\n",
    "clf.get_params()"
   ]
  },
  {
   "cell_type": "markdown",
   "id": "6bf9775a-d5f1-475c-907d-4671655e2fe7",
   "metadata": {},
   "source": [
    "可以看出，有多个可调优的超参数，最常用的包括：\n",
    "\n",
    "* 参数`activation`：激活函数，默认为`'relu'`；\n",
    "* 参数`alpha`：L2正则化系数，即损失函数中包含所有连接权重的平方和乘以该正则化系数，以防止过拟合；\n",
    "* 参数`hidden_layer_sizes`：各隐藏层神经元数量；\n",
    "* 参数`max_iter`：最大迭代次数；\n",
    "* 参数`learning_rate_init`：初始学习速率；\n",
    "* 参数`learning_rate`：学习速率的变化策略，`'constant'`为保持不变，`'adaptive'`为自适应的减小学习速率。\n",
    "\n",
    "#### 2.1. 超参数调优\n",
    "\n",
    "使用3折交叉验证做超参数的网格搜索，这里调优的超参数为\n",
    "\n",
    "* 隐藏层神经元数量（`hidden_layer_sizes`）：100、200和500；\n",
    "* L2正则化系数（`alpha`）：0.001和0.005。"
   ]
  },
  {
   "cell_type": "code",
   "execution_count": 31,
   "id": "6aec2a56-5d5c-4cc7-83b2-4ed3b63c731f",
   "metadata": {},
   "outputs": [
    {
     "data": {
      "text/html": [
       "<div>\n",
       "<style scoped>\n",
       "    .dataframe tbody tr th:only-of-type {\n",
       "        vertical-align: middle;\n",
       "    }\n",
       "\n",
       "    .dataframe tbody tr th {\n",
       "        vertical-align: top;\n",
       "    }\n",
       "\n",
       "    .dataframe thead th {\n",
       "        text-align: right;\n",
       "    }\n",
       "</style>\n",
       "<table border=\"1\" class=\"dataframe\">\n",
       "  <thead>\n",
       "    <tr style=\"text-align: right;\">\n",
       "      <th></th>\n",
       "      <th>mean_fit_time</th>\n",
       "      <th>std_fit_time</th>\n",
       "      <th>mean_score_time</th>\n",
       "      <th>std_score_time</th>\n",
       "      <th>param_alpha</th>\n",
       "      <th>param_hidden_layer_sizes</th>\n",
       "      <th>params</th>\n",
       "      <th>split0_test_score</th>\n",
       "      <th>split1_test_score</th>\n",
       "      <th>split2_test_score</th>\n",
       "      <th>mean_test_score</th>\n",
       "      <th>std_test_score</th>\n",
       "      <th>rank_test_score</th>\n",
       "    </tr>\n",
       "  </thead>\n",
       "  <tbody>\n",
       "    <tr>\n",
       "      <th>0</th>\n",
       "      <td>0.073365</td>\n",
       "      <td>0.008342</td>\n",
       "      <td>0.000317</td>\n",
       "      <td>0.000039</td>\n",
       "      <td>0.001</td>\n",
       "      <td>20</td>\n",
       "      <td>{'alpha': 0.001, 'hidden_layer_sizes': 20}</td>\n",
       "      <td>0.870690</td>\n",
       "      <td>0.831435</td>\n",
       "      <td>0.819441</td>\n",
       "      <td>0.840522</td>\n",
       "      <td>0.021887</td>\n",
       "      <td>2</td>\n",
       "    </tr>\n",
       "    <tr>\n",
       "      <th>1</th>\n",
       "      <td>0.074830</td>\n",
       "      <td>0.003253</td>\n",
       "      <td>0.000249</td>\n",
       "      <td>0.000005</td>\n",
       "      <td>0.001</td>\n",
       "      <td>30</td>\n",
       "      <td>{'alpha': 0.001, 'hidden_layer_sizes': 30}</td>\n",
       "      <td>0.894979</td>\n",
       "      <td>0.726424</td>\n",
       "      <td>0.795789</td>\n",
       "      <td>0.805731</td>\n",
       "      <td>0.069170</td>\n",
       "      <td>4</td>\n",
       "    </tr>\n",
       "    <tr>\n",
       "      <th>2</th>\n",
       "      <td>0.057354</td>\n",
       "      <td>0.013428</td>\n",
       "      <td>0.000463</td>\n",
       "      <td>0.000243</td>\n",
       "      <td>0.001</td>\n",
       "      <td>50</td>\n",
       "      <td>{'alpha': 0.001, 'hidden_layer_sizes': 50}</td>\n",
       "      <td>0.862977</td>\n",
       "      <td>0.742440</td>\n",
       "      <td>0.780383</td>\n",
       "      <td>0.795267</td>\n",
       "      <td>0.050322</td>\n",
       "      <td>6</td>\n",
       "    </tr>\n",
       "    <tr>\n",
       "      <th>3</th>\n",
       "      <td>0.068530</td>\n",
       "      <td>0.011899</td>\n",
       "      <td>0.000284</td>\n",
       "      <td>0.000027</td>\n",
       "      <td>0.005</td>\n",
       "      <td>20</td>\n",
       "      <td>{'alpha': 0.005, 'hidden_layer_sizes': 20}</td>\n",
       "      <td>0.870588</td>\n",
       "      <td>0.841015</td>\n",
       "      <td>0.812264</td>\n",
       "      <td>0.841289</td>\n",
       "      <td>0.023811</td>\n",
       "      <td>1</td>\n",
       "    </tr>\n",
       "    <tr>\n",
       "      <th>4</th>\n",
       "      <td>0.056627</td>\n",
       "      <td>0.007681</td>\n",
       "      <td>0.000248</td>\n",
       "      <td>0.000008</td>\n",
       "      <td>0.005</td>\n",
       "      <td>30</td>\n",
       "      <td>{'alpha': 0.005, 'hidden_layer_sizes': 30}</td>\n",
       "      <td>0.897396</td>\n",
       "      <td>0.807321</td>\n",
       "      <td>0.792485</td>\n",
       "      <td>0.832400</td>\n",
       "      <td>0.046356</td>\n",
       "      <td>3</td>\n",
       "    </tr>\n",
       "    <tr>\n",
       "      <th>5</th>\n",
       "      <td>0.053302</td>\n",
       "      <td>0.013738</td>\n",
       "      <td>0.000402</td>\n",
       "      <td>0.000216</td>\n",
       "      <td>0.005</td>\n",
       "      <td>50</td>\n",
       "      <td>{'alpha': 0.005, 'hidden_layer_sizes': 50}</td>\n",
       "      <td>0.862319</td>\n",
       "      <td>0.755021</td>\n",
       "      <td>0.780704</td>\n",
       "      <td>0.799348</td>\n",
       "      <td>0.045745</td>\n",
       "      <td>5</td>\n",
       "    </tr>\n",
       "  </tbody>\n",
       "</table>\n",
       "</div>"
      ],
      "text/plain": [
       "   mean_fit_time  std_fit_time  mean_score_time  std_score_time param_alpha  \\\n",
       "0       0.073365      0.008342         0.000317        0.000039       0.001   \n",
       "1       0.074830      0.003253         0.000249        0.000005       0.001   \n",
       "2       0.057354      0.013428         0.000463        0.000243       0.001   \n",
       "3       0.068530      0.011899         0.000284        0.000027       0.005   \n",
       "4       0.056627      0.007681         0.000248        0.000008       0.005   \n",
       "5       0.053302      0.013738         0.000402        0.000216       0.005   \n",
       "\n",
       "  param_hidden_layer_sizes                                      params  \\\n",
       "0                       20  {'alpha': 0.001, 'hidden_layer_sizes': 20}   \n",
       "1                       30  {'alpha': 0.001, 'hidden_layer_sizes': 30}   \n",
       "2                       50  {'alpha': 0.001, 'hidden_layer_sizes': 50}   \n",
       "3                       20  {'alpha': 0.005, 'hidden_layer_sizes': 20}   \n",
       "4                       30  {'alpha': 0.005, 'hidden_layer_sizes': 30}   \n",
       "5                       50  {'alpha': 0.005, 'hidden_layer_sizes': 50}   \n",
       "\n",
       "   split0_test_score  split1_test_score  split2_test_score  mean_test_score  \\\n",
       "0           0.870690           0.831435           0.819441         0.840522   \n",
       "1           0.894979           0.726424           0.795789         0.805731   \n",
       "2           0.862977           0.742440           0.780383         0.795267   \n",
       "3           0.870588           0.841015           0.812264         0.841289   \n",
       "4           0.897396           0.807321           0.792485         0.832400   \n",
       "5           0.862319           0.755021           0.780704         0.799348   \n",
       "\n",
       "   std_test_score  rank_test_score  \n",
       "0        0.021887                2  \n",
       "1        0.069170                4  \n",
       "2        0.050322                6  \n",
       "3        0.023811                1  \n",
       "4        0.046356                3  \n",
       "5        0.045745                5  "
      ]
     },
     "execution_count": 31,
     "metadata": {},
     "output_type": "execute_result"
    }
   ],
   "source": [
    "param_grid = {'hidden_layer_sizes': [20,30,50], 'alpha': [0.001,0.005]}\n",
    "kf = KFold(n_splits=3, shuffle=True, random_state=123)\n",
    "gs = GridSearchCV(clf, param_grid, cv = kf)\n",
    "gs.fit(boston_train_X_scaled, boston_train_y)\n",
    "cv_results = pd.DataFrame(gs.cv_results_)\n",
    "cv_results"
   ]
  },
  {
   "cell_type": "code",
   "execution_count": 32,
   "id": "35006eb8-4abe-453b-95f8-81299391cc16",
   "metadata": {},
   "outputs": [
    {
     "data": {
      "text/plain": [
       "MLPRegressor(alpha=0.005, hidden_layer_sizes=20, learning_rate='adaptive',\n",
       "             learning_rate_init=0.1, random_state=123)"
      ]
     },
     "execution_count": 32,
     "metadata": {},
     "output_type": "execute_result"
    }
   ],
   "source": [
    "gs.best_estimator_"
   ]
  },
  {
   "cell_type": "code",
   "execution_count": 33,
   "id": "20e27e1d-8a29-4c0b-aa77-119d2e8bad1f",
   "metadata": {},
   "outputs": [
    {
     "data": {
      "image/png": "[encoded data removed]",
      "text/plain": [
       "<Figure size 432x288 with 1 Axes>"
      ]
     },
     "metadata": {
      "needs_background": "light"
     },
     "output_type": "display_data"
    }
   ],
   "source": [
    "fig, ax = plt.subplots()\n",
    "grouped = cv_results.groupby('param_alpha')\n",
    "for key, group in grouped:\n",
    "    group.plot(ax=ax, x='param_hidden_layer_sizes', y='mean_test_score', label=key)\n",
    "plt.show()"
   ]
  },
  {
   "cell_type": "code",
   "execution_count": 34,
   "id": "42e31201-1b38-48ed-bba1-402adfb1f8c6",
   "metadata": {},
   "outputs": [
    {
     "data": {
      "text/plain": [
       "MLPRegressor(alpha=0.005, hidden_layer_sizes=20, learning_rate='adaptive',\n",
       "             learning_rate_init=0.1, random_state=123)"
      ]
     },
     "execution_count": 34,
     "metadata": {},
     "output_type": "execute_result"
    }
   ],
   "source": [
    "clf = gs.best_estimator_\n",
    "clf.fit(boston_train_X_scaled, boston_train_y)"
   ]
  },
  {
   "cell_type": "markdown",
   "id": "2271eb72-1fda-4b08-949d-369ed4f39fc3",
   "metadata": {},
   "source": [
    "#### 2.3. 模型评估\n",
    "\n",
    "调用神经网络回归模型的函数`predict()`预测数值标签。\n"
   ]
  },
  {
   "cell_type": "code",
   "execution_count": 35,
   "id": "7991e33a-f014-42ba-b6ba-d8fdca329050",
   "metadata": {},
   "outputs": [],
   "source": [
    "boston_y_pred = clf.predict(boston_test_X_scaled)"
   ]
  },
  {
   "cell_type": "markdown",
   "id": "b4ee6f39-4164-41c2-a694-bc4cbdb17e1b",
   "metadata": {},
   "source": [
    "\n",
    "评估模型性能，计算模型的$R^2$、均方误差和均方根误差。\n"
   ]
  },
  {
   "cell_type": "code",
   "execution_count": 36,
   "id": "1ee67861-db8f-4e55-b268-ab962680c848",
   "metadata": {},
   "outputs": [
    {
     "data": {
      "text/plain": [
       "(0.7625571431031362, 19.645014148373868, 4.432269638500558)"
      ]
     },
     "execution_count": 36,
     "metadata": {},
     "output_type": "execute_result"
    }
   ],
   "source": [
    "r2_score(boston_test_y, boston_y_pred), mean_squared_error(boston_test_y, boston_y_pred),\n",
    "                        np.sqrt(mean_squared_error(boston_test_y, boston_y_pred))"
   ]
  },
  {
   "cell_type": "markdown",
   "id": "1f67b5ce-1704-4dd5-8bac-3728f5592cb6",
   "metadata": {},
   "source": [
    "\n",
    "\n",
    "可以看出，$R^2$远超50\\%，有较强的预测能力。\n",
    "\n",
    "### 3. 多分类问题\n",
    "\n",
    "读取鸢尾花卉数据集，并划分训练集和测试集。\n"
   ]
  },
  {
   "cell_type": "code",
   "execution_count": 38,
   "id": "c8bbf2e7-2d9f-4348-8055-3bee6ee57fa5",
   "metadata": {},
   "outputs": [],
   "source": [
    "iris = load_iris()\n",
    "iris_X = iris.data\n",
    "iris_y = iris.target\n",
    "iris_train_X, iris_test_X, iris_train_y, iris_test_y = train_test_split(iris_X, iris_y, test_size = 0.2, random_state = 123)"
   ]
  },
  {
   "cell_type": "markdown",
   "id": "7cce6063-67ea-4385-8987-b904e0e2dedd",
   "metadata": {},
   "source": [
    "\n",
    "调用程序包`sklearn.neural_network`中的构造函数`MLPClassifier()`创建神经网络分类模型，并训练，这里省略超参数调优过程。\n"
   ]
  },
  {
   "cell_type": "code",
   "execution_count": 40,
   "id": "2bc6f391-ceee-4644-a24b-17747eedad40",
   "metadata": {},
   "outputs": [
    {
     "data": {
      "text/plain": [
       "MLPClassifier(learning_rate='adaptive', learning_rate_init=0.1,\n",
       "              random_state=123)"
      ]
     },
     "execution_count": 40,
     "metadata": {},
     "output_type": "execute_result"
    }
   ],
   "source": [
    "clf = MLPClassifier(learning_rate_init=0.1, learning_rate='adaptive', random_state = 123)\n",
    "clf.fit(iris_train_X, iris_train_y)\n"
   ]
  },
  {
   "cell_type": "markdown",
   "id": "a261ea2c-f681-4061-b26a-25f98b110ff6",
   "metadata": {},
   "source": [
    "\n",
    "预测类别标签和其概率。\n"
   ]
  },
  {
   "cell_type": "code",
   "execution_count": 41,
   "id": "9566b702-90fe-43da-bd00-0305c20f8693",
   "metadata": {},
   "outputs": [
    {
     "data": {
      "text/plain": [
       "(array([1, 2, 2, 1, 0]),\n",
       " array([[2.79049555e-07, 6.60234743e-01, 3.39764978e-01],\n",
       "        [3.89623303e-11, 2.12307802e-03, 9.97876922e-01],\n",
       "        [8.88899955e-14, 2.25045572e-05, 9.99977495e-01],\n",
       "        [1.33539430e-04, 9.99788448e-01, 7.80125501e-05],\n",
       "        [9.99694521e-01, 3.05478717e-04, 1.04528051e-18]]))"
      ]
     },
     "execution_count": 41,
     "metadata": {},
     "output_type": "execute_result"
    }
   ],
   "source": [
    "iris_y_pred = clf.predict(iris_test_X)\n",
    "iris_y_probas = clf.predict_proba(iris_test_X)\n",
    "iris_y_pred[:5], iris_y_probas[:5]\n"
   ]
  },
  {
   "cell_type": "markdown",
   "id": "75e7fb9d-5240-4d4e-9c91-f10b123c3c1e",
   "metadata": {},
   "source": [
    "\n",
    "评估模型性能，计算模型的精度和对数损失。\n"
   ]
  },
  {
   "cell_type": "code",
   "execution_count": 42,
   "id": "f5812bf1-a4d0-4ee0-9890-b8a396aa96c7",
   "metadata": {},
   "outputs": [
    {
     "data": {
      "text/plain": [
       "(0.9333333333333333, 0.10708973083820833)"
      ]
     },
     "execution_count": 42,
     "metadata": {},
     "output_type": "execute_result"
    }
   ],
   "source": [
    "accuracy_score(iris_test_y, iris_y_pred), log_loss(iris_test_y, iris_y_probas)"
   ]
  },
  {
   "cell_type": "markdown",
   "id": "c530f86b-d31a-4208-b44d-7c80d4c079c6",
   "metadata": {},
   "source": [
    "\n",
    "可以看出，精度远超50%，有较强的预测能力。\n",
    "\n",
    "绘制神经网络分类模型在鸢尾花卉数据集的前个变量上的的决策边界。\n"
   ]
  },
  {
   "cell_type": "code",
   "execution_count": 43,
   "id": "b1a7af34-f426-4cf4-97ad-0c0d998cf2c4",
   "metadata": {},
   "outputs": [
    {
     "data": {
      "image/png": "[encoded data removed]",
      "text/plain": [
       "<Figure size 576x432 with 1 Axes>"
      ]
     },
     "metadata": {
      "needs_background": "light"
     },
     "output_type": "display_data"
    }
   ],
   "source": [
    "clf.fit(iris_train_X[:,:2], iris_train_y)\n",
    "h = 0.02\n",
    "x_min, x_max = iris_X[:, 0].min() - .5, iris_X[:, 0].max() + .5\n",
    "y_min, y_max = iris_X[:, 1].min() - .5, iris_X[:, 1].max() + .5\n",
    "xx, yy = np.meshgrid(np.arange(x_min, x_max, h), np.arange(y_min, y_max, h))\n",
    "Z = clf.predict(np.c_[xx.ravel(), yy.ravel()]).reshape(xx.shape)\n",
    "plt.figure(figsize = (8,6))\n",
    "plt.pcolormesh(xx, yy, Z, cmap=ListedColormap(['orange', 'cyan', 'cornflowerblue']), alpha=0.3)\n",
    "plt.scatter(iris_X[:, 0], iris_X[:, 1], c=iris_y, cmap=ListedColormap(['darkorange', 'c', 'darkblue']))\n",
    "plt.show()\n"
   ]
  },
  {
   "cell_type": "markdown",
   "id": "5b640b2b-e088-4942-ac69-fdb2fdff8a37",
   "metadata": {},
   "source": [
    "\n",
    "可以看出，神经网络回归模型的决策边界可以是一个不规则超曲面。\n",
    "\n",
    "### 4. 二分类问题\n",
    "\n",
    "生成两个交织的半圆环（`moons`）、一个大圆环套小圆环（`circles`）和两组线性可分的点（`linearly_separable`）这三个人工合成数据集。\n"
   ]
  },
  {
   "cell_type": "code",
   "execution_count": 45,
   "id": "42058291-6abf-43ed-a613-6e8570b48646",
   "metadata": {},
   "outputs": [],
   "source": [
    "moons = make_moons(noise=0.3, random_state=0)\n",
    "circles = make_circles(noise=0.2, factor=0.5, random_state=1)\n",
    "linearly_separable = make_classification(n_features=2, n_redundant=0, n_informative=1, random_state=8, n_clusters_per_class=1)\n",
    "synthetic_data = {\"moons\" : moons, \"circles\" : circles, \"linearly_separable\" : linearly_separable}"
   ]
  },
  {
   "cell_type": "markdown",
   "id": "66bafd86-e9ae-455f-a83f-b104c4b37c86",
   "metadata": {},
   "source": [
    "\n",
    "对数据集`moons`、`circles`和`linearly_separable`分别训练3个决策树分类模型，这里省略超参数调优过程。\n"
   ]
  },
  {
   "cell_type": "code",
   "execution_count": 46,
   "id": "f01b1641-7c07-466b-bd35-c5640e3177ed",
   "metadata": {},
   "outputs": [
    {
     "data": {
      "text/plain": [
       "{'moons': MLPClassifier(learning_rate='adaptive', learning_rate_init=0.5,\n",
       "               random_state=123),\n",
       " 'circles': MLPClassifier(learning_rate='adaptive', learning_rate_init=0.5,\n",
       "               random_state=123),\n",
       " 'linearly_separable': MLPClassifier(learning_rate='adaptive', learning_rate_init=0.5,\n",
       "               random_state=123)}"
      ]
     },
     "execution_count": 46,
     "metadata": {},
     "output_type": "execute_result"
    }
   ],
   "source": [
    "clfs = {}\n",
    "for name, (X, y) in synthetic_data.items():\n",
    "    train_X, test_X, train_y, test_y = train_test_split(X, y, test_size = 0.2, random_state = 123)\n",
    "    clf = MLPClassifier(learning_rate_init=0.5, learning_rate='adaptive', random_state = 123)\n",
    "    clf.fit(train_X, train_y)\n",
    "    clfs[name] = clf\n",
    "clfs"
   ]
  },
  {
   "cell_type": "markdown",
   "id": "0b65af0e-80d1-4ea5-ac00-d555b9126cb6",
   "metadata": {},
   "source": [
    "\n",
    "预测类别标签和其概率。\n"
   ]
  },
  {
   "cell_type": "code",
   "execution_count": 47,
   "id": "45c722e0-2d33-4f6d-a9a8-c7622b089d44",
   "metadata": {},
   "outputs": [],
   "source": [
    "\n",
    "y_preds = {}\n",
    "y_probas = {}\n",
    "for name, (X, y) in synthetic_data.items():\n",
    "    train_X, test_X, train_y, test_y = train_test_split(X, y, test_size = 0.2, random_state = 123)\n",
    "    y_preds[name] = clfs[name].predict(test_X)\n",
    "    y_probas[name] = clfs[name].predict_proba(test_X)\n"
   ]
  },
  {
   "cell_type": "markdown",
   "id": "02f9f65b-a379-4656-b13d-c2afa5adf660",
   "metadata": {},
   "source": [
    "\n",
    "评估模型性能，计算模型的精度、ROC曲线下面积和F1度量。\n"
   ]
  },
  {
   "cell_type": "code",
   "execution_count": 49,
   "id": "2a90b96a-4cff-45cb-8bd6-c01ebf5aaafa",
   "metadata": {},
   "outputs": [
    {
     "name": "stdout",
     "output_type": "stream",
     "text": [
      "moons 0.85 0.875 0.8571428571428571\n",
      "circles 0.95 0.9444444444444444 0.9411764705882353\n",
      "linearly_separable 0.95 0.9444444444444444 0.9411764705882353\n"
     ]
    }
   ],
   "source": [
    "for name, (X, y) in synthetic_data.items():\n",
    "    train_X, test_X, train_y, test_y = train_test_split(X, y, test_size = 0.2, random_state = 123)\n",
    "    print(name, accuracy_score(test_y, y_preds[name]), roc_auc_score(test_y, y_preds[name]), f1_score(test_y, y_preds[name]))\n"
   ]
  },
  {
   "cell_type": "markdown",
   "id": "0b4a6119-4aa7-45d1-8f7c-557784186c83",
   "metadata": {},
   "source": [
    "\n",
    "可以看出，三个人工合成数据集的精度远超50%，有较强的预测能力。\n",
    "\n",
    "绘制决策树分类模型的决策边界。\n"
   ]
  },
  {
   "cell_type": "code",
   "execution_count": 52,
   "id": "563fd8ef-bef6-4b07-ac46-2d5694c429b9",
   "metadata": {},
   "outputs": [
    {
     "data": {
      "image/png": "[encoded data removed]",
      "text/plain": [
       "<Figure size 1296x360 with 3 Axes>"
      ]
     },
     "metadata": {
      "needs_background": "light"
     },
     "output_type": "display_data"
    }
   ],
   "source": [
    "plt.figure(figsize = (18,5))\n",
    "i = 0\n",
    "for name, (X, y) in synthetic_data.items():\n",
    "    plt.subplot(131 + i)\n",
    "    plt.scatter(X[:, 0], X[:, 1], c=y, cmap=ListedColormap(['#FF0000', '#0000FF']))\n",
    "    h = 0.02\n",
    "    x_min, x_max = X[:, 0].min() - .5, X[:, 0].max() + .5\n",
    "    y_min, y_max = X[:, 1].min() - .5, X[:, 1].max() + .5\n",
    "    xx, yy = np.meshgrid(np.arange(x_min, x_max, h), np.arange(y_min, y_max, h))\n",
    "    Z = clfs[name].predict_proba(np.c_[xx.ravel(), yy.ravel()])[:, 1].reshape(xx.shape)\n",
    "    plt.contourf(xx, yy, Z, cmap=plt.cm.RdBu, alpha=.6)\n",
    "    plt.title(name)\n",
    "    i += 1\n",
    "plt.show()\n"
   ]
  },
  {
   "cell_type": "markdown",
   "id": "a13e4327-ed73-4cfa-bf0a-c504e4c73721",
   "metadata": {},
   "source": [
    "\n",
    "可以看出，神经网络分类模型的决策边界可以是一个不规则超曲面，可以学习出两个交织的半圆环（`moons`）以及一个大圆环套小圆环（`circles`）这类高度非线性的决策边界。"
   ]
  },
  {
   "cell_type": "code",
   "execution_count": null,
   "id": "ff7399cd-571b-4f0e-bdb7-025d19e60d8a",
   "metadata": {},
   "outputs": [],
   "source": []
  }
 ],
 "metadata": {
  "kernelspec": {
   "display_name": "Python 3 (ipykernel)",
   "language": "python",
   "name": "python3"
  },
  "language_info": {
   "codemirror_mode": {
    "name": "ipython",
    "version": 3
   },
   "file_extension": ".py",
   "mimetype": "text/x-python",
   "name": "python",
   "nbconvert_exporter": "python",
   "pygments_lexer": "ipython3",
   "version": "3.11.5"
  },
  "widgets": {
   "application/vnd.jupyter.widget-state+json": {
    "state": {},
    "version_major": 2,
    "version_minor": 0
   }
  }
 },
 "nbformat": 4,
 "nbformat_minor": 5
}
