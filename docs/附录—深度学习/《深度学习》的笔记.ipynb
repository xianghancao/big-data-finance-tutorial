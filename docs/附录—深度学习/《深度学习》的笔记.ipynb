{
 "cells": [
  {
   "cell_type": "markdown",
   "metadata": {},
   "source": [
    "# 概念"
   ]
  },
  {
   "cell_type": "markdown",
   "metadata": {},
   "source": [
    "# 自然语言处理"
   ]
  },
  {
   "cell_type": "markdown",
   "metadata": {},
   "source": [
    "## 停用词（Stop words）\n",
    "在深度学习中，停用词（Stop words）是指在文本分析或自然语言处理任务中，被认为对文本含义贡献较小，通常可以被忽略的常见词语。这些词语包括例如\"的\"、\"是\"、\"在\"等在语言中频繁出现但往往没有实际意义的词汇。\n",
    "\n",
    "停用词通常被移除或过滤掉，以减少文本数据的维度和噪音，从而提高模型的效果和性能。在文本分类、情感分析、信息检索等任务中，移除停用词可以帮助模型更好地关注于那些更有意义和区分性的词汇。\n",
    "\n",
    "需要注意的是，停用词的具体列表可能因任务、语言和领域而异。常见的停用词列表包括一些常见的虚词、介词、连词和代词等。在深度学习中，可以使用预定义的停用词列表，也可以根据具体任务和数据集的特点自定义停用词列表。"
   ]
  },
  {
   "cell_type": "markdown",
   "metadata": {},
   "source": [
    "# 核函数"
   ]
  },
  {
   "cell_type": "markdown",
   "metadata": {},
   "source": [
    "## 高斯核"
   ]
  },
  {
   "cell_type": "markdown",
   "metadata": {},
   "source": [
    "在数学中，高斯核（Gaussian kernel）是一种常用的核函数，它是基于高斯分布的函数。高斯核在信号处理、图像处理、机器学习等领域中广泛应用。\n",
    "\n",
    "高斯核函数的定义如下：\n",
    "$$\n",
    "K(x, y) = exp(-||x - y||^2 / (2 * sigma^2))\n",
    "$$\n",
    "其中，x和y是输入向量，||x - y||表示欧氏距离，sigma是高斯核的带宽参数。高斯核函数的值随着输入向量之间的距离增大而逐渐减小，且在距离为0时取最大值1。\n",
    "\n",
    "高斯核函数具有以下特点：\n",
    "- 具有平滑性：高斯核函数在输入向量之间的距离较小时，函数值较大，随着距离增大，函数值逐渐减小，呈现出平滑的特性。\n",
    "- 可调节带宽：通过调节高斯核的带宽参数sigma，可以控制高斯核函数的宽度，从而影响函数的平滑程度和衰减速度。\n",
    "- 用于非线性映射：高斯核函数可以将输入向量映射到高维特征空间，从而实现非线性的特征变换，常用于支持向量机（SVM）等机器学习算法中的核方法。\n",
    "\n",
    "高斯核函数在图像处理中常用于图像平滑、边缘检测、图像分割等任务，它可以有效地去除图像中的噪声、保留图像的细节信息，并提供更好的图像质量和视觉效果。"
   ]
  },
  {
   "cell_type": "code",
   "execution_count": 23,
   "metadata": {},
   "outputs": [
    {
     "data": {
      "text/plain": [
       "[<matplotlib.lines.Line2D at 0x1443c5150>]"
      ]
     },
     "execution_count": 23,
     "metadata": {},
     "output_type": "execute_result"
    },
    {
     "data": {
      "image/png": "[encoded data removed]",
      "text/plain": [
       "<Figure size 800x300 with 1 Axes>"
      ]
     },
     "metadata": {},
     "output_type": "display_data"
    }
   ],
   "source": [
    "import numpy as np\n",
    "def K(u):\n",
    "    return 1/(2*np.pi)**(0.5) * np.exp(-(u**2)/2)\n",
    "\n",
    "from matplotlib import pyplot as plt\n",
    "a = []\n",
    "for i in np.linspace(-1, 1, 100):\n",
    "    a.append([i, K(i)])\n",
    "plt.figure(figsize=(8,3))\n",
    "plt.plot(np.array(a)[:,0],np.array(a)[:,1])"
   ]
  },
  {
   "cell_type": "markdown",
   "metadata": {},
   "source": [
    "## 前馈神经网络\n",
    "前馈神经网络（Feedforward Neural Network）是一种最基本的人工神经网络模型，也被称为多层感知机（Multilayer Perceptron，MLP）。它由多个神经元按照层次结构组成，信息在网络中单向传递，不会形成循环连接。\n",
    "\n",
    "前馈神经网络的结构包括输入层、隐藏层和输出层。输入层接收外部输入的特征向量，隐藏层是中间层，可以有多个，每个隐藏层包含多个神经元，输出层产生最终的预测结果。\n",
    "\n",
    "每个神经元都有一组权重和偏置，通过对输入信号进行加权求和并经过激活函数的处理，产生输出。这些输出作为下一层神经元的输入，依次传递到输出层。在训练过程中，通过反向传播算法来调整权重和偏置，以最小化预测结果与真实结果之间的误差。\n",
    "\n",
    "前馈神经网络可以用于各种机器学习任务，如分类、回归和模式识别等。它的优点包括能够处理非线性关系、适应大规模数据和灵活性高等。然而，前馈神经网络也存在一些挑战，如需要大量的训练数据和计算资源，容易过拟合等。"
   ]
  },
  {
   "cell_type": "markdown",
   "metadata": {},
   "source": [
    "### 前向传播\n",
    "神经网络的前向传播是指从输入层到输出层的信息传递过程。在前向传播中，输入数据通过网络的各个层，经过一系列的线性变换和非线性激活函数的作用，最终得到网络的输出结果。\n",
    "\n",
    "具体来说，前向传播的过程如下：\n",
    "1. 将输入数据传递给输入层，作为网络的输入。\n",
    "2. 输入数据经过输入层的权重和偏置的线性变换，得到隐藏层的输入。\n",
    "3. 隐藏层的输入经过激活函数的作用，得到隐藏层的输出。\n",
    "4. 隐藏层的输出再次经过权重和偏置的线性变换，得到输出层的输入。\n",
    "5. 输出层的输入经过激活函数的作用，得到最终的输出结果。\n",
    "\n",
    "在每一层的线性变换中，使用的是矩阵乘法操作，将输入数据与权重矩阵相乘，并加上偏置向量。而激活函数则引入非线性特性，使得神经网络可以学习和表示更加复杂的函数关系。\n",
    "\n",
    "通过前向传播，神经网络能够将输入数据映射到输出空间，实现各种任务，如分类、回归等。"
   ]
  },
  {
   "cell_type": "markdown",
   "metadata": {},
   "source": [
    "## 残差神经网络\n",
    "残差神经网络（Residual Neural Network，简称ResNet）的思想是通过引入残差连接来解决深层神经网络训练过程中的梯度消失和梯度爆炸问题。传统的深层神经网络在训练过程中，随着网络层数的增加，梯度会逐渐变小，导致网络难以训练。而残差连接则允许信息在网络中直接跳过一层或多层，使得梯度能够更好地传播，从而加速网络的训练和收敛。\n",
    "\n",
    "具体来说，残差连接通过在网络中添加一个跳跃连接，将输入特征直接与输出特征相加，形成残差块。这样，网络可以学习到残差部分，即输入与输出之间的差异，而不是直接学习输出。通过残差连接，网络可以更容易地学习到恒等映射，即将输入直接传递到输出，从而避免了信息的丢失。\n",
    "\n",
    "残差神经网络的思想使得网络可以更深更复杂，同时保持较好的训练效果。这一思想的提出对于深度学习的发展具有重要意义，并在图像分类、目标检测等任务中取得了显著的性能提升。"
   ]
  },
  {
   "cell_type": "markdown",
   "metadata": {},
   "source": [
    "## Embedding\n",
    "在深度学习中，Embedding（嵌入）是一种将离散的符号或类别型数据转换为连续的向量表示的技术。它可以将高维的离散特征映射到低维的连续空间中，从而更好地表示特征之间的关系。\n",
    "\n",
    "具体来说，Embedding通过学习一个映射函数，将每个符号或类别型数据映射到一个固定长度的实数向量。这些向量可以捕捉到数据之间的语义和关联性，使得模型能够更好地理解和处理这些特征。\n",
    "\n",
    "在自然语言处理（NLP）中，Embedding常用于将单词或词组映射为连续的词向量，以便于计算机能够理解和处理文本数据。在图像处理中，Embedding可以将图像映射为向量表示，用于图像分类、检索等任务。\n",
    "\n",
    "总之，Embedding是一种将离散的符号或类别型数据转换为连续的向量表示的技术，它在深度学习中被广泛应用于各种任务中。"
   ]
  },
  {
   "cell_type": "markdown",
   "metadata": {},
   "source": [
    "## Epoch\n",
    "在深度学习训练中，Epoch（中文称为“时代”）是指将整个训练数据集完整地通过神经网络模型进行一次正向传播和反向传播的过程。简单来说，一个Epoch表示模型对整个训练数据集进行了一次学习。\n",
    "\n",
    "在每个Epoch中，训练数据集被分成一批批的小样本（也称为mini-batch），每个小样本都会经过前向传播计算损失函数，然后通过反向传播更新模型的参数。当所有的小样本都被处理完毕后，一个Epoch就完成了。\n",
    "\n",
    "通常情况下，我们会将整个训练数据集迭代多个Epoch，以便模型能够更好地学习数据集中的模式和特征。Epoch的数量是一个超参数，需要根据具体问题和数据集的大小来确定。"
   ]
  },
  {
   "cell_type": "markdown",
   "metadata": {},
   "source": [
    "## Seq2Seq\n",
    "Seq2Seq（Sequence-to-Sequence）模型是一种用于处理序列到序列（sequence-to-sequence）任务的深度学习模型。它由两个主要的神经网络组成：编码器（Encoder）和解码器（Decoder）。\n",
    "\n",
    "编码器负责将输入序列（如文本、语音等）转换为一个固定长度的向量，该向量包含了输入序列的语义信息。常用的编码器模型包括循环神经网络（RNN）和长短时记忆网络（LSTM）。\n",
    "\n",
    "解码器接收编码器输出的向量，并逐步生成目标序列。在生成过程中，解码器会根据之前生成的部分序列和编码器的输出，预测下一个序列元素。解码器也可以使用RNN或LSTM等模型。\n",
    "\n",
    "Seq2Seq模型在机器翻译、文本摘要、对话生成等任务中表现出色。它能够处理不定长的输入和输出序列，并且能够捕捉到序列之间的上下文信息，从而实现更准确的序列生成。"
   ]
  },
  {
   "cell_type": "markdown",
   "metadata": {},
   "source": [
    "## 为什么每个Decoder并不会直接接收前面所有Encoder的输出？\n",
    "在Transformer模型中，每个Decoder确实会接收到最后一个Encoder的输出。但是，每个Decoder并不会直接接收前面所有Encoder的输出。\n",
    "\n",
    "在Transformer中，Encoder和Decoder之间的连接是通过自注意力机制（Self-Attention）实现的。Encoder部分由多个相同的Encoder层组成，每个Encoder层都会对输入序列进行自注意力计算，并输出一个新的表示。这样，每个Encoder层都会对输入序列进行一次处理，从而逐步提取更高级别的特征。\n",
    "\n",
    "在Decoder部分，每个Decoder层也会进行自注意力计算，但是它还会进行另外两种注意力计算：一种是对Encoder的输出进行注意力计算，以获取输入序列的信息；另一种是对已生成的部分序列进行注意力计算，以便更好地预测下一个序列元素。\n",
    "\n",
    "因此，每个Decoder确实会接收到最后一个Encoder的输出，以获取输入序列的信息。但是，为了保持模型的简洁性和效率，每个Decoder并不直接接收前面所有Encoder的输出。通过自注意力机制，Transformer模型能够有效地捕捉序列中的长距离依赖关系，并实现高质量的序列生成。"
   ]
  },
  {
   "cell_type": "markdown",
   "metadata": {},
   "source": [
    "## Positional Encoding\n",
    "在Transformer模型中，Positional Encoding的向量表示使用正弦和余弦函数的原因是为了将位置信息引入模型，而不引入额外的可学习参数。这是因为Transformer模型是完全基于自注意力机制的，它不包含卷积或循环结构，因此没有明确的位置信息传递机制。\n",
    "\n",
    "使用正弦和余弦函数的组合有几个重要的好处：\n",
    "\n",
    "1. 周期性：正弦和余弦函数是周期性的，它们的周期不同。通过组合它们，可以为不同位置的标记分配不同的位置编码，从而使模型能够区分不同位置的标记。这是因为不同的位置编码将在不同的位置产生不同的值，为模型提供了位置信息。\n",
    "\n",
    "2. 固定编码：使用正弦和余弦函数生成位置编码是固定的，不会随着训练而改变。这有助于确保模型在不同的输入序列上表现一致，而不会受到位置信息的训练数据的影响。这种确定性的编码方式有助于模型泛化到未见过的序列。\n",
    "\n",
    "3. 消除顺序信息：由于Transformer模型不包含明确的序列顺序信息，位置编码的引入有助于模型理解标记之间的相对位置。这对于自注意力机制是至关重要的，因为它需要了解不同标记之间的相对距离，以便正确地计算注意力权重。\n",
    "\n",
    "总之，正弦和余弦函数的组合为Transformer模型提供了一种轻量级的、固定的位置编码方法，使模型能够处理不同位置的标记，而不引入额外的可学习参数。这是Transformer模型的一个重要组成部分，有助于其在各种序列处理任务中取得出色的性能。"
   ]
  },
  {
   "cell_type": "markdown",
   "metadata": {},
   "source": [
    "## 字向量\n",
    "字向量（Character Embeddings）是一种用于自然语言处理（NLP）和文本处理任务的向量表示方法，其中文本中的每个字符都被映射为一个固定长度的向量。字向量通常用于处理字符级别的文本，例如单词、短语或句子的字符级表示。\n",
    "\n",
    "字向量的主要优点包括：\n",
    "\n",
    "1. 处理未登录词：字向量可以用于处理未登录词，即在预训练词嵌入模型中未出现的单词。由于字向量是根据字符级别的信息生成的，因此可以为任何单词生成一个字符级别的表示，而不依赖于单词是否出现在训练数据中。\n",
    "\n",
    "2. 语言无关性：字向量是语言无关的，因为它们只关注文本的字符级别结构。这使得它们适用于处理多种语言的文本，而不需要针对每种语言训练不同的嵌入模型。\n",
    "\n",
    "3. 细粒度信息：字向量捕获了文本中字符的细粒度信息，有助于处理形态变化、拼写错误或特定字符级别的特征。这在拼写纠正、命名实体识别和语音识别等任务中非常有用。\n",
    "\n",
    "生成字向量的方法可以包括基本的字符嵌入（每个字符映射到一个固定长度的向量）、字符级别的卷积神经网络（CNN）、循环神经网络（RNN）或自注意力模型等。这些方法通常会考虑字符的相对顺序和上下文信息，以生成更富含语义的字符级别表示。\n",
    "\n",
    "字向量可以作为输入特征用于各种NLP任务，例如文本分类、命名实体识别、机器翻译和文本生成。它们通常与词向量或字节对编码（Byte Pair Encoding，BPE）等更高层次的嵌入一起使用，以获得更丰富的文本表示。字向量在处理特定领域的专业术语、拼写错误或非标准文本时特别有用。"
   ]
  },
  {
   "cell_type": "markdown",
   "metadata": {},
   "source": [
    "## 词元（Token）\n",
    "词元（Token）是指在自然语言处理（NLP）中，将文本分割成的最小单位。在文本处理中，将文本分割成词元是一个重要的预处理步骤，也被称为分词（Tokenization）。\n",
    "\n",
    "词元可以是单词、短语、符号或其他语言单位，具体取决于任务和语言。在英文中，通常将空格或标点符号作为分隔符来划分词元。例如，句子 \"I love natural language processing!\" 可以被分割成以下词元：[\"I\", \"love\", \"natural\", \"language\", \"processing\", \"!\"]。\n",
    "\n",
    "分词是自然语言处理中的一个重要步骤，它为后续的文本处理任务（如文本分类、机器翻译、信息检索等）提供了基础。通过将文本分割成词元，我们可以更好地理解和处理文本数据。"
   ]
  },
  {
   "cell_type": "markdown",
   "metadata": {},
   "source": [
    "## 梯度\n",
    "梯度（Gradient）是指在数学和机器学习中，用于表示函数在某一点上的变化率或斜率的概念。对于一个多元函数，梯度是一个向量，其中每个分量表示函数在相应变量方向上的偏导数。\n",
    "\n",
    "在机器学习中，梯度在优化算法中起着重要的作用。通过计算损失函数对模型参数的梯度，我们可以确定在当前参数值下，损失函数变化最快的方向。然后，我们可以沿着梯度的反方向更新模型参数，以最小化损失函数。"
   ]
  },
  {
   "cell_type": "markdown",
   "metadata": {},
   "source": [
    "## 反向传播算法\n",
    "反向传播算法（Backpropagation）是一种用于训练神经网络的常用优化算法。它通过计算损失函数对网络参数的梯度，然后沿着梯度的反方向更新参数，以最小化损失函数。\n",
    "\n",
    "反向传播算法的基本思想是利用链式法则，从输出层向输入层逐层计算梯度。具体步骤如下：\n",
    "\n",
    "1. 前向传播：将输入样本通过神经网络进行正向计算，得到预测输出。\n",
    "\n",
    "2. 计算损失：将预测输出与真实标签进行比较，计算损失函数的值。\n",
    "\n",
    "3. 反向传播：从输出层开始，根据损失函数对网络参数进行偏导数计算，得到梯度。\n",
    "\n",
    "4. 参数更新：根据梯度和学习率，更新网络参数，使损失函数逐步减小。\n",
    "\n",
    "5. 重复步骤1-4，直到达到停止条件（如达到最大迭代次数或损失函数收敛）。\n",
    "\n",
    "反向传播算法的关键在于梯度的计算和参数的更新。通过反向传播，神经网络可以根据样本的误差信号来调整参数，从而提高模型的性能。\n",
    "\n",
    "需要注意的是，反向传播算法是基于梯度的优化算法，它要求损失函数是可微的。因此，在应用反向传播算法之前，通常需要选择合适的损失函数，并确保网络的每一层都具有可微的激活函数。"
   ]
  },
  {
   "cell_type": "markdown",
   "metadata": {},
   "source": [
    "# 2. 预备知识"
   ]
  },
  {
   "cell_type": "markdown",
   "metadata": {},
   "source": [
    "## 2.5 自动微分\n",
    "自动微分（Automatic Differentiation，简称AD）是一种计算导数的方法，它利用计算图的方式来自动计算函数的导数。自动微分可以分为两种模式：前向模式和后向模式。\n",
    "\n",
    "前向模式（Forward Mode）是一种逐步计算导数的方法。它从输入变量开始，按照计算图的拓扑顺序逐步计算每个节点的导数，直到得到最终的输出变量的导数。前向模式适用于输入变量较少、输出变量较多的情况。\n",
    "\n",
    "后向模式（Reverse Mode），也称为反向传播（Backpropagation），是一种从输出变量开始逆向计算导数的方法。它首先计算输出变量对每个中间变量的导数，然后再根据链式法则计算中间变量对输入变量的导数。后向模式适用于输入变量较多、输出变量较少的情况，特别适用于深度学习中的神经网络。\n",
    "\n",
    "自动微分的优点是可以高效地计算复杂函数的导数，而无需手动推导导数表达式。它在机器学习和深度学习中被广泛应用，特别是在反向传播算法中，用于计算梯度并更新模型参数。"
   ]
  },
  {
   "cell_type": "markdown",
   "metadata": {},
   "source": [
    "### 2.5.3 分离计算\n",
    "在PyTorch中，`detach()`是一个用于从计算图中分离张量的方法。它可以将一个张量从当前计算图中分离出来，返回一个新的张量，但新的张量不再与原始计算图有任何关联。\n",
    "\n",
    "具体来说，`detach()`方法会返回一个新的张量，该张量与原始张量具有相同的数据，但不再保留梯度信息。这意味着，对于通过`detach()`方法分离的张量，它们不会对后续的梯度计算产生影响，也不会被用于参数更新。\n",
    "\n",
    "通常，`detach()`方法在需要保留某个张量的值，但不需要其梯度信息时使用。例如，在训练过程中，当我们需要使用某个中间结果进行计算，但不希望该中间结果对模型参数进行梯度传播时，可以使用`detach()`方法。\n",
    "\n",
    "下面是一个示例：\n",
    "```python\n",
    "import torch\n",
    "\n",
    "x = torch.tensor([1.0, 2.0, 3.0], requires_grad=True)\n",
    "y = x * 2\n",
    "z = y.detach()\n",
    "\n",
    "# z不再与原始计算图有关联\n",
    "print(z.requires_grad)  # False\n",
    "\n",
    "# 对z进行操作不会影响x的梯度\n",
    "z = z * 2\n",
    "z.backward(torch.tensor([1.0, 1.0, 1.0]))\n",
    "print(x.grad)  # tensor([2., 2., 2.])\n",
    "```\n",
    "在上述示例中，通过`detach()`方法将张量`y`从计算图中分离出来，得到了新的张量`z`。对`z`进行操作不会影响`x`的梯度，因此在进行反向传播时，`x`的梯度仍然为`[2.0, 2.0, 2.0]`。"
   ]
  },
  {
   "cell_type": "markdown",
   "metadata": {},
   "source": [
    "### 练习"
   ]
  },
  {
   "cell_type": "markdown",
   "metadata": {},
   "source": [
    "（1）\n",
    "\n",
    "在深度学习中，计算梯度是非常重要的，因为它用于更新模型参数以最小化损失函数。一阶导数（梯度）表示了函数在某一点的斜率，而二阶导数（Hessian矩阵）表示了函数的曲率。\n",
    "\n",
    "计算一阶导数的开销通常比较小，因为它只需要对函数进行一次前向传播和一次反向传播。而计算二阶导数的开销要大得多，因为它需要对函数进行两次前向传播和两次反向传播。\n",
    "\n",
    "在深度学习中，模型通常具有大量的参数和复杂的计算图，计算二阶导数会导致更多的计算量和内存消耗。此外，计算二阶导数还需要更多的存储空间来存储中间结果，增加了计算的复杂性和开销。\n",
    "\n",
    "因此，在实际应用中，通常只计算一阶导数，而不计算二阶导数。只有在特定的情况下，比如某些优化算法或者特定的问题需要使用二阶导数时，才会考虑计算二阶导数。"
   ]
  },
  {
   "cell_type": "markdown",
   "metadata": {},
   "source": [
    "(5)"
   ]
  },
  {
   "cell_type": "code",
   "execution_count": 1,
   "metadata": {},
   "outputs": [
    {
     "data": {
      "text/plain": [
       "tensor([0.0000, 0.0635, 0.1269, 0.1904, 0.2539, 0.3173, 0.3808, 0.4443, 0.5077,\n",
       "        0.5712, 0.6347, 0.6981, 0.7616, 0.8251, 0.8885, 0.9520, 1.0155, 1.0789,\n",
       "        1.1424, 1.2059, 1.2693, 1.3328, 1.3963, 1.4597, 1.5232, 1.5867, 1.6501,\n",
       "        1.7136, 1.7771, 1.8405, 1.9040, 1.9675, 2.0309, 2.0944, 2.1579, 2.2213,\n",
       "        2.2848, 2.3483, 2.4117, 2.4752, 2.5387, 2.6021, 2.6656, 2.7291, 2.7925,\n",
       "        2.8560, 2.9195, 2.9829, 3.0464, 3.1099, 3.1733, 3.2368, 3.3003, 3.3637,\n",
       "        3.4272, 3.4907, 3.5541, 3.6176, 3.6811, 3.7445, 3.8080, 3.8715, 3.9349,\n",
       "        3.9984, 4.0619, 4.1253, 4.1888, 4.2523, 4.3157, 4.3792, 4.4427, 4.5061,\n",
       "        4.5696, 4.6331, 4.6965, 4.7600, 4.8235, 4.8869, 4.9504, 5.0139, 5.0773,\n",
       "        5.1408, 5.2043, 5.2677, 5.3312, 5.3947, 5.4581, 5.5216, 5.5851, 5.6485,\n",
       "        5.7120, 5.7755, 5.8389, 5.9024, 5.9659, 6.0293, 6.0928, 6.1563, 6.2197,\n",
       "        6.2832])"
      ]
     },
     "execution_count": 1,
     "metadata": {},
     "output_type": "execute_result"
    }
   ],
   "source": [
    "import torch\n",
    "\n",
    "x = torch.linspace(0, 2*torch.pi, 100)\n",
    "x"
   ]
  },
  {
   "cell_type": "code",
   "execution_count": 2,
   "metadata": {},
   "outputs": [],
   "source": [
    "x.requires_grad_(True)\n",
    "x.grad"
   ]
  },
  {
   "cell_type": "code",
   "execution_count": 3,
   "metadata": {},
   "outputs": [
    {
     "data": {
      "text/plain": [
       "tensor([ 0.0000e+00,  6.3424e-02,  1.2659e-01,  1.8925e-01,  2.5115e-01,\n",
       "         3.1203e-01,  3.7166e-01,  4.2979e-01,  4.8620e-01,  5.4064e-01,\n",
       "         5.9291e-01,  6.4279e-01,  6.9008e-01,  7.3459e-01,  7.7615e-01,\n",
       "         8.1458e-01,  8.4973e-01,  8.8145e-01,  9.0963e-01,  9.3415e-01,\n",
       "         9.5490e-01,  9.7181e-01,  9.8481e-01,  9.9384e-01,  9.9887e-01,\n",
       "         9.9987e-01,  9.9685e-01,  9.8982e-01,  9.7880e-01,  9.6384e-01,\n",
       "         9.4500e-01,  9.2235e-01,  8.9599e-01,  8.6603e-01,  8.3257e-01,\n",
       "         7.9576e-01,  7.5575e-01,  7.1269e-01,  6.6677e-01,  6.1816e-01,\n",
       "         5.6706e-01,  5.1368e-01,  4.5823e-01,  4.0093e-01,  3.4202e-01,\n",
       "         2.8173e-01,  2.2031e-01,  1.5800e-01,  9.5056e-02,  3.1728e-02,\n",
       "        -3.1728e-02, -9.5056e-02, -1.5800e-01, -2.2031e-01, -2.8173e-01,\n",
       "        -3.4202e-01, -4.0093e-01, -4.5823e-01, -5.1368e-01, -5.6706e-01,\n",
       "        -6.1816e-01, -6.6677e-01, -7.1269e-01, -7.5575e-01, -7.9576e-01,\n",
       "        -8.3257e-01, -8.6603e-01, -8.9599e-01, -9.2235e-01, -9.4500e-01,\n",
       "        -9.6384e-01, -9.7880e-01, -9.8982e-01, -9.9685e-01, -9.9987e-01,\n",
       "        -9.9887e-01, -9.9384e-01, -9.8481e-01, -9.7181e-01, -9.5490e-01,\n",
       "        -9.3415e-01, -9.0963e-01, -8.8145e-01, -8.4973e-01, -8.1458e-01,\n",
       "        -7.7615e-01, -7.3459e-01, -6.9008e-01, -6.4279e-01, -5.9291e-01,\n",
       "        -5.4064e-01, -4.8620e-01, -4.2979e-01, -3.7166e-01, -3.1203e-01,\n",
       "        -2.5115e-01, -1.8925e-01, -1.2659e-01, -6.3424e-02,  1.7485e-07],\n",
       "       grad_fn=<SinBackward0>)"
      ]
     },
     "execution_count": 3,
     "metadata": {},
     "output_type": "execute_result"
    }
   ],
   "source": [
    "y = torch.sin(x)\n",
    "y"
   ]
  },
  {
   "cell_type": "code",
   "execution_count": 4,
   "metadata": {},
   "outputs": [
    {
     "data": {
      "text/plain": [
       "tensor([ 1.0000,  0.9980,  0.9920,  0.9819,  0.9679,  0.9501,  0.9284,  0.9029,\n",
       "         0.8738,  0.8413,  0.8053,  0.7660,  0.7237,  0.6785,  0.6306,  0.5801,\n",
       "         0.5272,  0.4723,  0.4154,  0.3569,  0.2969,  0.2358,  0.1736,  0.1108,\n",
       "         0.0476, -0.0159, -0.0793, -0.1423, -0.2048, -0.2665, -0.3271, -0.3863,\n",
       "        -0.4441, -0.5000, -0.5539, -0.6056, -0.6549, -0.7015, -0.7453, -0.7861,\n",
       "        -0.8237, -0.8580, -0.8888, -0.9161, -0.9397, -0.9595, -0.9754, -0.9874,\n",
       "        -0.9955, -0.9995, -0.9995, -0.9955, -0.9874, -0.9754, -0.9595, -0.9397,\n",
       "        -0.9161, -0.8888, -0.8580, -0.8237, -0.7861, -0.7453, -0.7015, -0.6549,\n",
       "        -0.6056, -0.5539, -0.5000, -0.4441, -0.3863, -0.3271, -0.2665, -0.2048,\n",
       "        -0.1423, -0.0793, -0.0159,  0.0476,  0.1108,  0.1736,  0.2358,  0.2969,\n",
       "         0.3569,  0.4154,  0.4723,  0.5272,  0.5801,  0.6306,  0.6785,  0.7237,\n",
       "         0.7660,  0.8053,  0.8413,  0.8738,  0.9029,  0.9284,  0.9501,  0.9679,\n",
       "         0.9819,  0.9920,  0.9980,  1.0000])"
      ]
     },
     "execution_count": 4,
     "metadata": {},
     "output_type": "execute_result"
    }
   ],
   "source": [
    "y.sum().backward()\n",
    "x.grad"
   ]
  },
  {
   "cell_type": "code",
   "execution_count": 11,
   "metadata": {},
   "outputs": [
    {
     "data": {
      "text/plain": [
       "[<matplotlib.lines.Line2D at 0x16af49cd0>]"
      ]
     },
     "execution_count": 11,
     "metadata": {},
     "output_type": "execute_result"
    },
    {
     "data": {
      "image/png": "[encoded data removed]",
      "text/plain": [
       "<Figure size 640x480 with 1 Axes>"
      ]
     },
     "metadata": {},
     "output_type": "display_data"
    }
   ],
   "source": [
    "from d2l import torch as d2l\n",
    "d2l.plt.plot(x.detach(), x.grad)\n",
    "d2l.plt.plot(x.detach(), y.detach())"
   ]
  },
  {
   "cell_type": "code",
   "execution_count": null,
   "metadata": {},
   "outputs": [],
   "source": []
  },
  {
   "cell_type": "markdown",
   "metadata": {},
   "source": [
    "## 10 注意力机制"
   ]
  },
  {
   "cell_type": "markdown",
   "metadata": {},
   "source": [
    "###t 10.3 注意力评分函数"
   ]
  },
  {
   "cell_type": "markdown",
   "metadata": {},
   "source": [
    "###### 10.3.2 加性注意力"
   ]
  },
  {
   "cell_type": "markdown",
   "metadata": {},
   "source": [
    "### 偏置项\n",
    "在多层感知机（Multilayer Perceptron，MLP）中，偏置项是神经网络中的一种参数。它是一个与每个神经元相关联的常数，用于调整神经元的激活阈值。\n",
    "\n",
    "偏置项的作用是引入一个偏移量，使得神经元可以更好地适应输入数据。它可以通过增加或减少神经元的激活阈值来改变神经元的输出。偏置项可以看作是神经元的偏好或倾向，它可以使神经元更容易激活或抑制。\n",
    "\n",
    "在多层感知机中，每个神经元都有一个偏置项，它与输入数据进行加权求和后，通过激活函数进行非线性变换。偏置项可以帮助神经网络学习更复杂的函数，增加网络的表达能力。\n",
    "\n",
    "在数学表示中，偏置项通常用符号b表示，与输入数据进行加权求和后，再通过激活函数进行非线性变换。"
   ]
  },
  {
   "cell_type": "markdown",
   "metadata": {},
   "source": [
    "### 10.7 Transformer"
   ]
  },
  {
   "cell_type": "code",
   "execution_count": null,
   "metadata": {},
   "outputs": [],
   "source": []
  }
 ],
 "metadata": {
  "kernelspec": {
   "display_name": "Python 3 (ipykernel)",
   "language": "python",
   "name": "python3"
  },
  "language_info": {
   "codemirror_mode": {
    "name": "ipython",
    "version": 3
   },
   "file_extension": ".py",
   "mimetype": "text/x-python",
   "name": "python",
   "nbconvert_exporter": "python",
   "pygments_lexer": "ipython3",
   "version": "3.11.5"
  }
 },
 "nbformat": 4,
 "nbformat_minor": 4
}
