{
 "cells": [
  {
   "cell_type": "markdown",
   "id": "2f71e47d-445b-48cc-96bd-485d3fc9bdf3",
   "metadata": {},
   "source": [
    "# 课程首页\n"
   ]
  },
  {
   "cell_type": "markdown",
   "id": "98eddd99-01ce-443a-99d2-a73e3d0f9d5f",
   "metadata": {},
   "source": [
    "![Jupyter Book Badge](https://jupyterbook.org/badge.svg)"
   ]
  },
  {
   "cell_type": "markdown",
   "id": "c75ae9ea-7a8e-497a-80d1-6af671ff6733",
   "metadata": {},
   "source": [
    "```{admonition} 公告 🪧\n",
    ":class: important\n",
    "<p>第2章 自主设计Python编程题目 作业日期：3月12日 - 3月29日\n",
    "<p>第2章 自主设计Python编程题目 作业地址: <a href=\"https://doc.weixin.qq.com/slide/p3_ALYAmQY8AO8uri2Sdi0RDqscD4VPs?scode=ANIAFAdhAAY4fWJDahALYAmQY8AO8\" target=\"_blank\">https://doc.weixin.qq.com/slide/p3_ALYAmQY8AO8uri2Sdi0RDqscD4VPs?scode=ANIAFAdhAAY4fWJDahALYAmQY8AO8</a> \n",
    "\n",
    "\n",
    "```\n"
   ]
  },
  {
   "cell_type": "markdown",
   "id": "76cf6444-d208-401d-b394-d87debb8e433",
   "metadata": {},
   "source": [
    "```{admonition} 链接 🔗\n",
    ":class: note\n",
    "<p>打字竞赛网址: <a href=\"https://www.keybr.com/typing-test\" target=\"_blank\">https://www.keybr.com/typing-test</a> \n",
    "<p>小组平时记录: <a href=\"https://doc.weixin.qq.com/sheet/e3_ALYAmQY8AO86twExKE9T36uT6YdzZ?scode=ANIAFAdhAAYSoiUGIW\" target=\"_blank\">地址</a> \n",
    "\n",
    "\n",
    "```"
   ]
  },
  {
   "cell_type": "markdown",
   "id": "ec1ba18e-daa9-4546-95cf-b3073a7721a2",
   "metadata": {},
   "source": [
    "随着信息技术的快速发展，金融业内产生了大量的数据，如何通过这些数据进行分析和应用成为了金融业面临的一个重要挑战。\n",
    "\n",
    "同时，传统的金融分析方法和技术也已经无法满足金融业日益增⻓的需求。金融大数据课程旨在帮助学生了解金融大数据的概念、理论、方法和应用，培养学生获取、处理和分析金融大数据的能力，并能够将金融大数据应用于金融实践。\n",
    "\n",
    "通过本课程的学习，学生应具备以下能力:\n",
    "\n",
    "- 掌握金融大数据的基本概念和理论;\n",
    "- 了解金融大数据的获取、存储和处理方法;\n",
    "- 掌握常用的金融大数据分析方法和工具;\n",
    "- 能够运用金融大数据进行金融分析和决策;\n",
    "- 具备金融大数据应用的创新思维和实践能力。\n",
    "\n",
    "课件特点：\n",
    "1. 练习多，且容易上手。每一个知识点均搭配一个练习，帮助学生迅速巩固对于知识点的理解；\n",
    "2. 案例多，避免编程知识和金融场景脱离；\n",
    "3. 图片多，大部分知识点应用可视化的方式，降低学习难度\n",
    "4. 每章节均搭配有ipynb格式的代码课件，学生可以本地运行代码\n",
    "5. 每章节均搭配在线互动网页，学生可以线上互动\n"
   ]
  },
  {
   "cell_type": "markdown",
   "id": "66677cb3-d4e3-4d63-b1ff-18c0de060184",
   "metadata": {},
   "source": [
    "## 参考材料\n",
    "![more_books](more_books.png)"
   ]
  },
  {
   "cell_type": "markdown",
   "id": "1ca351b1-9d0f-45c4-bb71-ec46c1808952",
   "metadata": {},
   "source": [
    "版本号：V1.06  \n",
    "更新日期：2024.3.2\n",
    "\n",
    "本课件限教学班级学生使用，勿做商业传播。如果侵权，请联系删除。\n"
   ]
  }
 ],
 "metadata": {
  "kernelspec": {
   "display_name": "Python 3 (ipykernel)",
   "language": "python",
   "name": "python3"
  },
  "language_info": {
   "codemirror_mode": {
    "name": "ipython",
    "version": 3
   },
   "file_extension": ".py",
   "mimetype": "text/x-python",
   "name": "python",
   "nbconvert_exporter": "python",
   "pygments_lexer": "ipython3",
   "version": "3.11.5"
  }
 },
 "nbformat": 4,
 "nbformat_minor": 5
}
