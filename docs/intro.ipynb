{
 "cells": [
  {
   "cell_type": "markdown",
   "id": "2f71e47d-445b-48cc-96bd-485d3fc9bdf3",
   "metadata": {},
   "source": [
    "# 课程首页\n"
   ]
  },
  {
   "cell_type": "markdown",
   "id": "98eddd99-01ce-443a-99d2-a73e3d0f9d5f",
   "metadata": {},
   "source": [
    "![Jupyter Book Badge](https://jupyterbook.org/badge.svg)"
   ]
  },
  {
   "cell_type": "markdown",
   "id": "c75ae9ea-7a8e-497a-80d1-6af671ff6733",
   "metadata": {},
   "source": [
    "```{admonition} 作业 \n",
    ":class: important\n",
    "<b>预习</b>：第5章 金融数据可视化\n",
    "<br><b>作业</b>: <a href=\"https://docs.qq.com/slide/DWlpJaGNHR1haaUpo\" target=\"_blank\">第4章作业链接 </a> 日期：4月1日 - 4月8日 \n",
    "\n",
    "```"
   ]
  },
  {
   "cell_type": "markdown",
   "id": "76cf6444-d208-401d-b394-d87debb8e433",
   "metadata": {},
   "source": [
    "```{admonition} 链接 \n",
    ":class: note\n",
    "<b>课程: </b>\n",
    "<a href=\"https://doc.weixin.qq.com/sheet/e3_ALYAmQY8AO86twExKE9T36uT6YdzZ?scode=ANIAFAdhAAYSoiUGIW\" target=\"_blank\">  小组记录  </a> \n",
    "<a href=\"https://doc.weixin.qq.com/slide/p3_ALYAmQY8AO8UOnA36ZQRuG04sypnW?scode=ANIAFAdhAAYG6iyFMDALYAmQY8AO8\" target=\"_blank\">  答疑互动   </a> \n",
    "<a href=\"https://www.keybr.com/typing-test\" target=\"_blank\">  打字竞赛  </a> \n",
    "<br><b>miniconda: </b>\n",
    "<a href=\"https://docs.conda.io/projects/miniconda/en/latest/\" target=\"_blank\"> 下载 </a> \n",
    "<br><b>jupyterlab: </b>\n",
    "<a href=\"https://big-data-finance-tutorial.readthedocs.io/2_Python编程基础/附录—Jupyter安装与启动.html\"> 安装与启动 </a> \n",
    "<br><b>课件压缩包: </b>\n",
    "<a href=\"https://github.com/xianghancao/big-data-finance-tutorial/raw/main/docs/1_导论.zip\" download> 1_导论.zip </a>\n",
    "<a href=\"https://github.com/xianghancao/big-data-finance-tutorial/raw/main/docs/2_Python编程基础.zip\" download> 2_Python编程基础.zip </a>\n",
    "<a href=\"https://github.com/xianghancao/big-data-finance-tutorial/raw/main/docs/3_NumPy科学计算.zip\" download> 3_NumPy科学计算.zip </a>\n",
    "<a href=\"https://github.com/xianghancao/big-data-finance-tutorial/raw/main/docs/4_Pandas数据分析.zip\" download> 4_Pandas数据分析.zip </a>\n",
    "<a href=\"https://github.com/xianghancao/big-data-finance-tutorial/raw/main/docs/5_金融数据可视化.zip\" download> 5_金融数据可视化.zip </a>\n",
    "<br><b>有趣: </b>\n",
    "<a href=\"https://www.youtube.com/@Thuvu5\" target=\"_blank\">  @Thuvu5  </a> \n",
    "<a href=\"https://www.youtube.com/user/dataschool\" target=\"_blank\"> @dataschool  </a>\n",
    "<a href=\"https://www.youtube.com/@coreyms/videos\" target=\"_blank\"> @coreyms  </a>\n",
    "<a href=\"https://www.youtube.com/user/sentdex\" target=\"_blank\"> @sentdex  </a>\n",
    "<a href=\"https://www.youtube.com/@KeithGalli/videos\" target=\"_blank\"> @KeithGalli  </a>\n",
    "<br><b>作业</b>: <a href=\"https://doc.weixin.qq.com/slide/p3_ALYAmQY8AO8uri2Sdi0RDqscD4VPs?scode=ANIAFAdhAAY4fWJDahALYAmQY8AO8\" target=\"_blank\"> 第2章作业链接 </a> 日期：3月12日 - 3月29日 \n",
    "<br><b>作业</b>: <a href=\"https://doc.weixin.qq.com/slide/p3_ALYAmQY8AO8M0cwtqIbQpm3SEkUBa?scode=ANIAFAdhAAYrc19z06ALYAmQY8AO8\" target=\"_blank\"> 第3章作业链接 </a> 日期：3月25日 - 3月31日 \n",
    "```"
   ]
  },
  {
   "cell_type": "markdown",
   "id": "c442f31d-0bc3-42a0-9fc4-f688d34d9bc4",
   "metadata": {},
   "source": [
    "## 课程介绍"
   ]
  },
  {
   "cell_type": "markdown",
   "id": "ec1ba18e-daa9-4546-95cf-b3073a7721a2",
   "metadata": {},
   "source": [
    "随着信息技术的快速发展，金融业内产生了大量的数据，如何通过这些数据进行分析和应用成为了金融业面临的一个重要挑战。同时，传统的金融分析方法和技术也已经无法满足金融业日益增⻓的需求。金融大数据课程旨在帮助学生了解金融大数据的概念、理论、方法和应用，培养学生获取、处理和分析金融大数据的能力，并能够将金融大数据应用于金融实践。\n",
    "\n"
   ]
  },
  {
   "cell_type": "markdown",
   "id": "e15b0af9-eb5f-4e82-9990-3c7f8bba9cec",
   "metadata": {},
   "source": [
    "## 教学目标\n",
    "通过本课程的学习，学生应具备以下能力:\n",
    "\n",
    "- 掌握金融大数据的基本概念和理论;\n",
    "- 了解金融大数据的获取、存储和处理方法;\n",
    "- 掌握常用的金融大数据分析方法和工具;\n",
    "- 能够运用金融大数据进行金融分析和决策;\n",
    "- 具备金融大数据应用的创新思维和实践能力。\n",
    "\n",
    "## 课件特点\n",
    "1. 学习本课程简单易上手，因为我们注重练习和案例。\n",
    "2. 每个知识点都有相应的练习，帮助学生快速巩固所学内容。\n",
    "3. 我们尽量避免脱离编程和金融场景，提供丰富的案例来帮助学生更好地理解。\n",
    "4. 课程中使用了大量图片和可视化，以降低学习难度，使知识更容易被理解。\n",
    "5. 每个章节都有ipynb格式的代码课件，学生可以本地运行代码。\n",
    "6. 此外，我们还提供在线互动网页，让学生可以在线参与互动，更好地掌握知识。"
   ]
  },
  {
   "cell_type": "markdown",
   "id": "66677cb3-d4e3-4d63-b1ff-18c0de060184",
   "metadata": {},
   "source": [
    "## 参考材料\n",
    "以下提供了本课件和课程的参考书籍，以及如果你对相关领域感兴趣，可以在豆瓣上检索相关书籍，然后通过图书馆借阅，或网购的方式获得。\n",
    "\n",
    "![more_books](more_books1.png)"
   ]
  },
  {
   "cell_type": "markdown",
   "id": "f5220a24-a0ad-4c3c-93c6-60903c7ec0d1",
   "metadata": {},
   "source": [
    "![more_books2](more_books2.png)"
   ]
  },
  {
   "cell_type": "markdown",
   "id": "9698a1f2-90ba-4263-8f70-46f934a498eb",
   "metadata": {},
   "source": [
    "![more_books3](more_books3.png)"
   ]
  },
  {
   "cell_type": "markdown",
   "id": "1ca351b1-9d0f-45c4-bb71-ec46c1808952",
   "metadata": {},
   "source": [
    "版本号：V1.08\n",
    "更新日期：2024.3.29\n",
    "\n",
    "本课件限教学班级学生使用，勿做商业传播。如果部分内容侵权，请联系删除。\n"
   ]
  }
 ],
 "metadata": {
  "kernelspec": {
   "display_name": "Python 3 (ipykernel)",
   "language": "python",
   "name": "python3"
  },
  "language_info": {
   "codemirror_mode": {
    "name": "ipython",
    "version": 3
   },
   "file_extension": ".py",
   "mimetype": "text/x-python",
   "name": "python",
   "nbconvert_exporter": "python",
   "pygments_lexer": "ipython3",
   "version": "3.11.5"
  }
 },
 "nbformat": 4,
 "nbformat_minor": 5
}
