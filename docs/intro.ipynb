{
 "cells": [
  {
   "cell_type": "markdown",
   "id": "2f71e47d-445b-48cc-96bd-485d3fc9bdf3",
   "metadata": {},
   "source": [
    "# 课程首页\n"
   ]
  },
  {
   "cell_type": "markdown",
   "id": "98eddd99-01ce-443a-99d2-a73e3d0f9d5f",
   "metadata": {},
   "source": [
    "![Jupyter Book Badge](https://jupyterbook.org/badge.svg)\n",
    "![访问量](https://img.shields.io/badge/截止6/30访问量-8492-blue)\n",
    "![教学班级](https://img.shields.io/badge/教学班级-4个-brightgreen)\n",
    "![小组分组](https://img.shields.io/badge/小组-44组-brightgreen)\n",
    "![小组讨论](https://img.shields.io/badge/小组讨论-32次-brightgreen)\n",
    "![作业提交](https://img.shields.io/badge/作业提交-146/172-brightgreen)\n",
    "![通过率](https://img.shields.io/badge/通过率-全部-brightgreen)"
   ]
  },
  {
   "cell_type": "markdown",
   "id": "76cf6444-d208-401d-b394-d87debb8e433",
   "metadata": {},
   "source": [
    "```{admonition} 链接 \n",
    ":class: note\n",
    "<b>课程记录: </b>\n",
    "<a href=\"https://doc.weixin.qq.com/sheet/e3_ALYAmQY8AO86twExKE9T36uT6YdzZ?scode=ANIAFAdhAAYSoiUGIW\" target=\"_blank\">  小组记录  </a> \n",
    "<br><b>课件下载: </b>\n",
    "<a href=\"https://drive.weixin.qq.com/s?k=ANIAFAdhAAY7qAlwmi\"> 全部链接 </a>\n",
    "<br><b>答疑: </b>\n",
    "<a href=\"https://docs.qq.com/slide/DWkxPZVlDWUtlVlBF\" target=\"_blank\">  期末报告答疑   </a> \n",
    "<a href=\"https://doc.weixin.qq.com/slide/p3_ALYAmQY8AO8UOnA36ZQRuG04sypnW?scode=ANIAFAdhAAYG6iyFMDALYAmQY8AO8\" target=\"_blank\">  平时答疑   </a> \n",
    "<br><b>打字竞赛: </b>\n",
    "<a href=\"https://www.keybr.com/typing-test\" target=\"_blank\">  keybr  </a> \n",
    "```"
   ]
  },
  {
   "cell_type": "markdown",
   "id": "47a5a12c-3eef-4281-83d6-3ff481806ea3",
   "metadata": {},
   "source": [
    "```{admonition} 小组讨论 \n",
    ":class: note\n",
    "<a href=\"1_导论/1.2_金融大数据的应用场景.html#GD\"> 1.1 小组讨论：另类数据的价值 </a>\n",
    "<br><a href=\"5_金融数据可视化/5.1_可视化入门.html#GD\">  5.1 小组讨论：数据可视化的魅力 </a>\n",
    "<br><a href=\"6_金融数据的获取/6.2_金融数据的门类.html#GD\">  6.2 小组讨论：寻找丰富多样的金融数据</a>\n",
    "<br><a href=\"7_机器学习的理论/7.1_什么是机器学习.html#GD\"> 7.1 小组讨论：机器学习概念评估问卷</a>\n",
    "<br><a href=\"8_回归模型II/8.6_时间序列分析.html#GD\"> 8 小组讨论：股票是否可以提前预测？</a>\n",
    "<br><a href=\"9_分类模型/9.1_分类模型理论.html#GD\"> 9.1 小组讨论：你的择偶标准有哪些？ </a>\n",
    "<br><a href=\"10_聚类模型/案例—配对交易聚类.html#GD\"> 10 小组讨论：配对交易策略如何设计？ </a>\n",
    "<br><a href=\"11_自然语言处理/案例—基于NLP和情感分析的交易策略.html#GD\"> 11 小组讨论：财报会影响股票价格么？ </a>\n",
    "```"
   ]
  },
  {
   "cell_type": "markdown",
   "id": "52db2815-d4d1-48bf-b436-19f09fff11ab",
   "metadata": {},
   "source": [
    "```{admonition} 作业 \n",
    ":class: note\n",
    "<a href=\"https://doc.weixin.qq.com/slide/p3_ALYAmQY8AO8uri2Sdi0RDqscD4VPs?scode=ANIAFAdhAAY4fWJDahALYAmQY8AO8\" target=\"_blank\"> 第2章作业链接 </a> （日期：3月12日 - 3月29日）\n",
    "<br><a href=\"https://doc.weixin.qq.com/slide/p3_ALYAmQY8AO8M0cwtqIbQpm3SEkUBa?scode=ANIAFAdhAAYrc19z06ALYAmQY8AO8\" target=\"_blank\"> 第3章作业链接 </a> （日期：3月25日 - 3月31日）\n",
    "<br><a href=\"https://docs.qq.com/slide/DWlpJaGNHR1haaUpo\" target=\"_blank\">第4章作业链接 </a> （日期：4月1日 - 4月8日）\n",
    "<br><a href=\"https://docs.qq.com/slide/DWmFvUkFTWURGYWVr\" target=\"_blank\">第5章作业链接 </a> （日期：4月8日 - 4月22日）\n",
    "<br><a href=\"https://drive.weixin.qq.com/s?k=ANIAFAdhAAYlgV1BY0\" target=\"_blank\">期中报告链接 </a> （日期：4月15日 - 4月29日） \n",
    "```"
   ]
  },
  {
   "cell_type": "markdown",
   "id": "cb887d6e-6e3f-4ee7-8d17-95197fb225b6",
   "metadata": {},
   "source": [
    "```{admonition} 考核方式 \n",
    ":class: note\n",
    "平时成绩：出勤、课堂练习、小组讨论、课后作业\n",
    "<br>总成绩：平时成绩（30%）、期中项目报告（10%）、期末项目报告（60%）\n",
    "```\n"
   ]
  },
  {
   "cell_type": "markdown",
   "id": "8c8b2048-bc71-4711-af64-30e350746b85",
   "metadata": {},
   "source": [
    "```{admonition} 课程调查问卷 \n",
    ":class: note\n",
    "课程调查问卷：<a href=\"https://docs.qq.com/form/page/DWklwQVJ6cVZ3TnhE\" target=\"_blank\"> \n",
    "https://docs.qq.com/form/page/DWklwQVJ6cVZ3TnhE </a> \n",
    "```\n"
   ]
  },
  {
   "cell_type": "markdown",
   "id": "c442f31d-0bc3-42a0-9fc4-f688d34d9bc4",
   "metadata": {},
   "source": [
    "## 课程介绍"
   ]
  },
  {
   "cell_type": "markdown",
   "id": "ec1ba18e-daa9-4546-95cf-b3073a7721a2",
   "metadata": {},
   "source": [
    "随着信息技术的快速发展，金融业内产生了大量的数据，如何通过这些数据进行分析和应用成为了金融业面临的一个重要挑战。同时，传统的金融分析方法和技术也已经无法满足金融业日益增⻓的需求。金融大数据课程旨在帮助学生了解金融大数据的概念、理论、方法和应用，培养学生获取、处理和分析金融大数据的能力，并能够将金融大数据应用于金融实践。\n",
    "\n"
   ]
  },
  {
   "cell_type": "markdown",
   "id": "e15b0af9-eb5f-4e82-9990-3c7f8bba9cec",
   "metadata": {},
   "source": [
    "## 教学目标\n",
    "通过本课程的学习，学生应具备以下能力:\n",
    "\n",
    "- 掌握金融大数据的基本概念和理论;\n",
    "- 了解金融大数据的获取、存储和处理方法;\n",
    "- 掌握常用的金融大数据分析方法和工具;\n",
    "- 能够运用金融大数据进行金融分析和决策;\n",
    "- 具备金融大数据应用的创新思维和实践能力。\n",
    "\n",
    "## 课件特点\n",
    "1. 学习本课程简单易上手，注重练习和案例\n",
    "2. 每个知识点都有相应的练习，帮助学生快速巩固所学内容\n",
    "3. 尽量避免脱离编程和金融场景，提供丰富的案例来帮助学生更好地理解\n",
    "4. 课程中使用了大量图片和可视化，以降低学习难度，使知识更容易被理解\n",
    "5. 每个章节都有ipynb格式的代码课件，学生可以本地运行代码\n",
    "6. 此外，提供在线互动网页，让学生可以在线参与互动，更好地掌握知识"
   ]
  },
  {
   "cell_type": "markdown",
   "id": "66677cb3-d4e3-4d63-b1ff-18c0de060184",
   "metadata": {},
   "source": [
    "## 参考材料\n",
    "以下提供了本课件和课程的参考书籍，以及如果你对相关领域感兴趣，可以在豆瓣上检索相关书籍，然后通过图书馆借阅，或网购的方式获得。\n",
    "\n",
    "![more_books](more_books1.png)"
   ]
  },
  {
   "cell_type": "markdown",
   "id": "f5220a24-a0ad-4c3c-93c6-60903c7ec0d1",
   "metadata": {},
   "source": [
    "![more_books2](more_books2.png)"
   ]
  },
  {
   "cell_type": "markdown",
   "id": "9698a1f2-90ba-4263-8f70-46f934a498eb",
   "metadata": {},
   "source": [
    "![more_books3](more_books3.png)"
   ]
  },
  {
   "cell_type": "markdown",
   "id": "1ca351b1-9d0f-45c4-bb71-ec46c1808952",
   "metadata": {},
   "source": [
    "版本号：V2\n",
    "更新日期：2024.7\n",
    "\n",
    "本课件限教学班级学生使用，勿做商业传播。如果部分内容侵权，请联系删除。\n"
   ]
  },
  {
   "cell_type": "markdown",
   "id": "c2b260d4-ad68-4629-9f60-def2bcab7151",
   "metadata": {},
   "source": []
  }
 ],
 "metadata": {
  "kernelspec": {
   "display_name": "Python 3 (ipykernel)",
   "language": "python",
   "name": "python3"
  },
  "language_info": {
   "codemirror_mode": {
    "name": "ipython",
    "version": 3
   },
   "file_extension": ".py",
   "mimetype": "text/x-python",
   "name": "python",
   "nbconvert_exporter": "python",
   "pygments_lexer": "ipython3",
   "version": "3.11.7"
  }
 },
 "nbformat": 4,
 "nbformat_minor": 5
}
