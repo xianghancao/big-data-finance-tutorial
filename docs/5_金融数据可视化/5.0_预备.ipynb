{
 "cells": [
  {
   "cell_type": "markdown",
   "id": "04a74df7-2c88-444d-9c10-b3505a048f51",
   "metadata": {},
   "source": [
    "# 5 金融数据可视化"
   ]
  },
  {
   "cell_type": "markdown",
   "id": "2526dfaf-2735-4d73-8883-056ad0af6f57",
   "metadata": {},
   "source": [
    "<div class=\"alert alert-block alert-success\">\n",
    "<b>知识点：</b>可视化的概念；matplotlib库的使用；可视化的金融应用\n",
    "<br><b>技能：</b>了解数据可视化的概念；掌握matplotlib绘图方法；掌握金融数据可视化的绘图方法\n",
    "<br><b>作业：</b>可视化金融数据集\n",
    "</div>"
   ]
  },
  {
   "cell_type": "markdown",
   "id": "420aecba-b113-41fa-a8d9-1fc1ccaf9fe2",
   "metadata": {},
   "source": [
    "## 名词解释"
   ]
  },
  {
   "cell_type": "markdown",
   "id": "52484453-1d8a-433a-a2df-b99d4183741e",
   "metadata": {},
   "source": [
    "请使用各类资源和工具，完成以下名词解释：\n",
    "- 图表类型（Chart Types）\n",
    "- 坐标系（Coordinate System）\n",
    "- 刻度（Ticks）\n",
    "- 轴（axis）\n",
    "- 标签（labels）\n",
    "- 散点图（scatter plot）\n",
    "- 网格（grid）\n",
    "- 图例（legend） "
   ]
  },
  {
   "cell_type": "markdown",
   "id": "0e2bf09e-e534-4437-9b09-a60fe0f531a8",
   "metadata": {},
   "source": [
    "## 视频\n"
   ]
  },
  {
   "cell_type": "markdown",
   "id": "fc1e51a9-54c7-46ea-b846-40840ff4de8c",
   "metadata": {},
   "source": [
    "观看以下[视频](https://player.bilibili.com/player.html?aid=461136862&bvid=BV1v5411K7LT&cid=354523956&p=8&autoplay=0)"
   ]
  },
  {
   "cell_type": "markdown",
   "id": "fcb5ff3f-89b9-4cf6-a7f7-15968ae8c775",
   "metadata": {},
   "source": [
    "<iframe src=\"https://player.bilibili.com/player.html?aid=461136862&bvid=BV1v5411K7LT&cid=354523956&p=8&autoplay=0\" allowfullscreen=\"allowfullscreen\" width=\"80%\" height=\"350\" scrolling=\"no\" frameborder=\"0\" sandbox=\"allow-top-navigation allow-same-origin allow-forms allow-scripts\"></iframe>"
   ]
  },
  {
   "cell_type": "markdown",
   "id": "7fbae5b4-78b4-46de-8161-b20b69f5b940",
   "metadata": {},
   "source": [
    "## 网络资源"
   ]
  },
  {
   "cell_type": "markdown",
   "id": "64f8bd2a-10c8-4c3a-9aed-5d1e8e6bb198",
   "metadata": {},
   "source": [
    "Matplotlib是一个流行的Python数据可视化库，有许多网络资源可以帮助你学习和使用它。以下是一些常见的Matplotlib网络资源：[Matplotlib官方文档](https://matplotlib.org/stable/contents.html)。 \n",
    "\n",
    "Matplotlib的官方网站提供了一个Gallery页面，展示了各种类型的图表示例，包括线图、散点图、柱状图、等高线图等。你可以在这里找到各种类型的图表示例，并学习如何使用Matplotlib创建它们：[Matplotlib Gallery](https://matplotlib.org/stable/gallery/index.html)。\n",
    "\n"
   ]
  }
 ],
 "metadata": {
  "kernelspec": {
   "display_name": "Python 3 (ipykernel)",
   "language": "python",
   "name": "python3"
  },
  "language_info": {
   "codemirror_mode": {
    "name": "ipython",
    "version": 3
   },
   "file_extension": ".py",
   "mimetype": "text/x-python",
   "name": "python",
   "nbconvert_exporter": "python",
   "pygments_lexer": "ipython3",
   "version": "3.11.5"
  }
 },
 "nbformat": 4,
 "nbformat_minor": 5
}
