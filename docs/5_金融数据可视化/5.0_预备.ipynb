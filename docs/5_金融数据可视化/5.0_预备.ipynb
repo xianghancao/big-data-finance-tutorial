{
 "cells": [
  {
   "cell_type": "markdown",
   "id": "04a74df7-2c88-444d-9c10-b3505a048f51",
   "metadata": {},
   "source": [
    "# 5 金融数据可视化"
   ]
  },
  {
   "cell_type": "markdown",
   "id": "420aecba-b113-41fa-a8d9-1fc1ccaf9fe2",
   "metadata": {},
   "source": [
    "## 名词解释"
   ]
  },
  {
   "cell_type": "markdown",
   "id": "52484453-1d8a-433a-a2df-b99d4183741e",
   "metadata": {},
   "source": []
  },
  {
   "cell_type": "markdown",
   "id": "0e2bf09e-e534-4437-9b09-a60fe0f531a8",
   "metadata": {},
   "source": [
    "## 视频\n"
   ]
  },
  {
   "cell_type": "markdown",
   "id": "7fbae5b4-78b4-46de-8161-b20b69f5b940",
   "metadata": {},
   "source": [
    "## 网络资源"
   ]
  },
  {
   "cell_type": "markdown",
   "id": "30f589a8-b67f-43ee-8ea1-55166875dba4",
   "metadata": {},
   "source": [
    "## 问题\n",
    "快速浏览本章节内容，并记录下遇到的问题：\n",
    "\n",
    "1. xxx\n",
    "2. xxx\n",
    "3. xxx\n",
    "\n",
    "请带着问题，来到课堂。"
   ]
  }
 ],
 "metadata": {
  "kernelspec": {
   "display_name": "Python 3 (ipykernel)",
   "language": "python",
   "name": "python3"
  },
  "language_info": {
   "codemirror_mode": {
    "name": "ipython",
    "version": 3
   },
   "file_extension": ".py",
   "mimetype": "text/x-python",
   "name": "python",
   "nbconvert_exporter": "python",
   "pygments_lexer": "ipython3",
   "version": "3.11.5"
  }
 },
 "nbformat": 4,
 "nbformat_minor": 5
}
