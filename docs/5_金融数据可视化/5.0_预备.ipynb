{
 "cells": [
  {
   "cell_type": "markdown",
   "id": "04a74df7-2c88-444d-9c10-b3505a048f51",
   "metadata": {},
   "source": [
    "# 5 金融数据可视化"
   ]
  },
  {
   "cell_type": "markdown",
   "id": "420aecba-b113-41fa-a8d9-1fc1ccaf9fe2",
   "metadata": {},
   "source": [
    "## 准备"
   ]
  },
  {
   "cell_type": "markdown",
   "id": "52484453-1d8a-433a-a2df-b99d4183741e",
   "metadata": {},
   "source": []
  }
 ],
 "metadata": {
  "kernelspec": {
   "display_name": "Python 3 (ipykernel)",
   "language": "python",
   "name": "python3"
  },
  "language_info": {
   "codemirror_mode": {
    "name": "ipython",
    "version": 3
   },
   "file_extension": ".py",
   "mimetype": "text/x-python",
   "name": "python",
   "nbconvert_exporter": "python",
   "pygments_lexer": "ipython3",
   "version": "3.11.5"
  }
 },
 "nbformat": 4,
 "nbformat_minor": 5
}
