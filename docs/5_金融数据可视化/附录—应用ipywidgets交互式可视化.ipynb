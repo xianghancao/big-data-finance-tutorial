{
 "cells": [
  {
   "cell_type": "markdown",
   "id": "3500a906-d15e-4f37-9fa1-c6dddbf1cadc",
   "metadata": {},
   "source": [
    "# 附录：ipywidgets交互式可视化\n",
    "当使用Pandas与Jupyter Notebook结合进行交互式可视化时，可以使用ipywidgets库来创建交互控件。下面是一个简单的例子：\n",
    "\n",
    "首先，我们需要安装ipywidgets库："
   ]
  },
  {
   "cell_type": "markdown",
   "id": "5c8c1ea7-e8b7-4ce8-a932-59697c0f3a0f",
   "metadata": {},
   "source": [
    "```\n",
    "pip install ipywidgets\n",
    "```\n"
   ]
  },
  {
   "cell_type": "markdown",
   "id": "d05b92da-f7a7-475a-87ec-073daed15b93",
   "metadata": {},
   "source": [
    "然后，导入所需的库和模块：\n",
    "\n",
    "```python\n",
    "from ipywidgets import interact\n",
    "```"
   ]
  },
  {
   "cell_type": "markdown",
   "id": "33cae78a-02dc-4afb-a91f-24b77ce8a1ea",
   "metadata": {},
   "source": [
    "## 交互式的折线图\n"
   ]
  },
  {
   "cell_type": "markdown",
   "id": "86d47616-3584-467a-a2da-32e56b19a384",
   "metadata": {},
   "source": [
    "下面是一个简单的示例，演示如何使用ipywidgets创建一个交互式的折线图："
   ]
  },
  {
   "cell_type": "code",
   "execution_count": 1,
   "id": "b78c6b5b-0b3b-4943-a82a-20247d04efd2",
   "metadata": {
    "tags": []
   },
   "outputs": [
    {
     "data": {
      "application/vnd.jupyter.widget-view+json": {
       "model_id": "1f794c58c68e48c5a2ad6cc5915af896",
       "version_major": 2,
       "version_minor": 0
      },
      "text/plain": [
       "interactive(children=(Checkbox(value=True, description='show_sin'), Checkbox(value=True, description='show_cos…"
      ]
     },
     "metadata": {},
     "output_type": "display_data"
    }
   ],
   "source": [
    "import numpy as np\n",
    "import matplotlib.pyplot as plt\n",
    "from ipywidgets import interact\n",
    "\n",
    "# 生成一些示例数据\n",
    "x = np.linspace(0, 10, 100)\n",
    "y1 = np.sin(x)\n",
    "y2 = np.cos(x)\n",
    "\n",
    "# 创建交互式函数\n",
    "@interact\n",
    "def plot_graph(show_sin=True, show_cos=True):\n",
    "    plt.figure(figsize=(8, 3))\n",
    "    \n",
    "    if show_sin:\n",
    "        plt.plot(x, y1, label='sin(x)')\n",
    "    if show_cos:\n",
    "        plt.plot(x, y2, label='cos(x)')\n",
    "    \n",
    "    plt.xlabel('x')\n",
    "    plt.ylabel('y')\n",
    "    plt.title('Interactive Plot')\n",
    "    plt.legend()\n",
    "    plt.grid(True)\n",
    "    plt.show()\n"
   ]
  },
  {
   "cell_type": "markdown",
   "id": "68894e94-1a58-4c5a-bb2d-b30c3d9dde73",
   "metadata": {},
   "source": [
    "请运行以上代码，生成交互图片"
   ]
  },
  {
   "cell_type": "markdown",
   "id": "b96211a1-de47-488e-a79d-fe5b5d4df131",
   "metadata": {},
   "source": [
    "## 交互式的散点图"
   ]
  },
  {
   "cell_type": "markdown",
   "id": "9e987abb-6c11-4521-8656-8b492ee997ae",
   "metadata": {},
   "source": [
    "下面是另一个例子，展示如何使用ipywidgets创建一个交互式的散点图，用户可以通过滑块调整散点的数量："
   ]
  },
  {
   "cell_type": "code",
   "execution_count": 2,
   "id": "a1890b32-e1e0-462d-bd02-69fe49d86c08",
   "metadata": {
    "tags": []
   },
   "outputs": [
    {
     "data": {
      "application/vnd.jupyter.widget-view+json": {
       "model_id": "14805c8420874465bb2b23e86fd97c7d",
       "version_major": 2,
       "version_minor": 0
      },
      "text/plain": [
       "interactive(children=(IntSlider(value=100, description='num_points', max=1000, min=10, step=10), Output()), _d…"
      ]
     },
     "metadata": {},
     "output_type": "display_data"
    }
   ],
   "source": [
    "import numpy as np\n",
    "import matplotlib.pyplot as plt\n",
    "from ipywidgets import interact, IntSlider\n",
    "\n",
    "# 创建一个交互式函数\n",
    "@interact(num_points=IntSlider(min=10, max=1000, step=10, value=100))\n",
    "def plot_scatter(num_points):\n",
    "    # 生成随机数据\n",
    "    x = np.random.rand(num_points)\n",
    "    y = np.random.rand(num_points)\n",
    "    \n",
    "    # 绘制散点图\n",
    "    plt.figure(figsize=(8, 3))\n",
    "    plt.scatter(x, y)\n",
    "    plt.title(f'Scatter Plot with {num_points} points')\n",
    "    plt.xlabel('x')\n",
    "    plt.ylabel('y')\n",
    "    plt.grid(True)\n",
    "    plt.show()\n"
   ]
  },
  {
   "cell_type": "markdown",
   "id": "d9e666ec-727e-43b1-a2b2-05104b839d94",
   "metadata": {},
   "source": [
    "请运行以上代码，生成交互图片"
   ]
  }
 ],
 "metadata": {
  "kernelspec": {
   "display_name": "Python 3 (ipykernel)",
   "language": "python",
   "name": "python3"
  },
  "language_info": {
   "codemirror_mode": {
    "name": "ipython",
    "version": 3
   },
   "file_extension": ".py",
   "mimetype": "text/x-python",
   "name": "python",
   "nbconvert_exporter": "python",
   "pygments_lexer": "ipython3",
   "version": "3.11.5"
  }
 },
 "nbformat": 4,
 "nbformat_minor": 5
}
