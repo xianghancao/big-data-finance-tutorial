{
 "cells": [
  {
   "cell_type": "markdown",
   "id": "7e898077-4db0-45c2-af68-a3b37dbd19d8",
   "metadata": {},
   "source": [
    "# panel的应用—投资组合分析"
   ]
  },
  {
   "cell_type": "markdown",
   "id": "c278fb76-858e-45af-b6df-1fb2c2b824ff",
   "metadata": {},
   "source": [
    "本节需要使用pip安装如下库：\n",
    "```\n",
    "pip install panel bokeh holoviews scipy --user -i https://mirrors.aliyun.com/pypi/simple\n",
    "```"
   ]
  },
  {
   "cell_type": "markdown",
   "id": "840444ad-b662-4594-aef7-60701c3541d7",
   "metadata": {},
   "source": [
    "使用Panel库可以创建交互式的可视化界面，使用户能够通过各种控件（如滑块、复选框、下拉菜单等）来调整图表的显示内容。下面是一个简单的示例，演示如何使用Panel创建一个交互式的折线图："
   ]
  },
  {
   "cell_type": "markdown",
   "id": "a79efdb3-246b-48e4-bfcc-d47ad0919657",
   "metadata": {},
   "source": [
    "https://hvplot.holoviz.org/getting_started/hvplot.html\n",
    "https://panel.holoviz.org/index.html"
   ]
  },
  {
   "cell_type": "markdown",
   "id": "7776d11f-23d2-4b9f-9125-0c85fd967bf0",
   "metadata": {},
   "source": [
    "## 参考\n",
    "1. https://panel.holoviz.org/gallery/portfolio_analyzer.html"
   ]
  }
 ],
 "metadata": {
  "kernelspec": {
   "display_name": "Python 3 (ipykernel)",
   "language": "python",
   "name": "python3"
  },
  "language_info": {
   "codemirror_mode": {
    "name": "ipython",
    "version": 3
   },
   "file_extension": ".py",
   "mimetype": "text/x-python",
   "name": "python",
   "nbconvert_exporter": "python",
   "pygments_lexer": "ipython3",
   "version": "3.11.5"
  }
 },
 "nbformat": 4,
 "nbformat_minor": 5
}
