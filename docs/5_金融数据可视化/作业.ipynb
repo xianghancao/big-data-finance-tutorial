{
 "cells": [
  {
   "cell_type": "markdown",
   "id": "3b05b4bb-9122-4842-850e-c9b4d3a1bfa5",
   "metadata": {},
   "source": [
    "# 作业"
   ]
  },
  {
   "cell_type": "markdown",
   "id": "9e90182b-b4a6-4428-b98f-f6bc0a0493e5",
   "metadata": {},
   "source": []
  },
  {
   "cell_type": "markdown",
   "id": "c4838685-4daf-42b7-8380-93f37b214434",
   "metadata": {},
   "source": [
    "完成以下任务：\n",
    "- 请寻找并下载一份金融数据集，可以来自于银行、证券、期货、保险、监管部门、互联网金融等；\n",
    "- 读取该数据集，绘制多种图表类型\n",
    "- 观察并描述上一步的图表结果"
   ]
  },
  {
   "cell_type": "markdown",
   "id": "fc722266-6db9-4a67-ab2c-42dc1db77ca9",
   "metadata": {},
   "source": [
    "如果需要在图片中使用中文字体，参见章节【附录：中文无法正常显示的问题】"
   ]
  },
  {
   "cell_type": "code",
   "execution_count": null,
   "id": "5a997d5b-e142-41d3-9825-bcec388255b3",
   "metadata": {},
   "outputs": [],
   "source": []
  }
 ],
 "metadata": {
  "kernelspec": {
   "display_name": "Python 3 (ipykernel)",
   "language": "python",
   "name": "python3"
  },
  "language_info": {
   "codemirror_mode": {
    "name": "ipython",
    "version": 3
   },
   "file_extension": ".py",
   "mimetype": "text/x-python",
   "name": "python",
   "nbconvert_exporter": "python",
   "pygments_lexer": "ipython3",
   "version": "3.11.5"
  },
  "widgets": {
   "application/vnd.jupyter.widget-state+json": {
    "state": {},
    "version_major": 2,
    "version_minor": 0
   }
  }
 },
 "nbformat": 4,
 "nbformat_minor": 5
}
