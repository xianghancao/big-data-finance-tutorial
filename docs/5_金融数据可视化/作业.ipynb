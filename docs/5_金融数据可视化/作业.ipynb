{
 "cells": [
  {
   "cell_type": "markdown",
   "id": "3b05b4bb-9122-4842-850e-c9b4d3a1bfa5",
   "metadata": {},
   "source": [
    "# 作业：可视化投资组合"
   ]
  },
  {
   "cell_type": "markdown",
   "id": "9e90182b-b4a6-4428-b98f-f6bc0a0493e5",
   "metadata": {},
   "source": [
    "<img src='images/portfolio_investing.jpg' width=500>"
   ]
  },
  {
   "cell_type": "markdown",
   "id": "c4838685-4daf-42b7-8380-93f37b214434",
   "metadata": {},
   "source": [
    "完成以下任务：\n",
    "1. 使用wind、东方财富（ichoice）、同花顺（iFind）、钱龙、investing.com等软件下载数据\n",
    "2. 设计投资组合策略\n",
    "3. 绘制投资组合的表现"
   ]
  },
  {
   "cell_type": "markdown",
   "id": "fc722266-6db9-4a67-ab2c-42dc1db77ca9",
   "metadata": {},
   "source": [
    "如果需要在图片中使用中文字体，参见章节【附录：中文无法正常显示的问题】"
   ]
  },
  {
   "cell_type": "markdown",
   "id": "710d7094-f322-446d-82e5-b9bd5199bc9d",
   "metadata": {},
   "source": [
    "完成后发布在如下共享链接中：\n",
    "<a href=\"https://docs.qq.com/slide/DWmFvUkFTWURGYWVr\" target=\"_blank\">https://docs.qq.com/slide/DWmFvUkFTWURGYWVr</a>，可以使用2页PPT完成\n",
    "\n"
   ]
  }
 ],
 "metadata": {
  "kernelspec": {
   "display_name": "Python 3 (ipykernel)",
   "language": "python",
   "name": "python3"
  },
  "language_info": {
   "codemirror_mode": {
    "name": "ipython",
    "version": 3
   },
   "file_extension": ".py",
   "mimetype": "text/x-python",
   "name": "python",
   "nbconvert_exporter": "python",
   "pygments_lexer": "ipython3",
   "version": "3.11.5"
  },
  "widgets": {
   "application/vnd.jupyter.widget-state+json": {
    "state": {},
    "version_major": 2,
    "version_minor": 0
   }
  }
 },
 "nbformat": 4,
 "nbformat_minor": 5
}
