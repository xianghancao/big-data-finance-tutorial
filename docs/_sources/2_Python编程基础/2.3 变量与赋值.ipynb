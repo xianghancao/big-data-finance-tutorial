{
 "cells": [
  {
   "cell_type": "markdown",
   "id": "447ed8b8-5892-47d2-98c2-2afeac7c5655",
   "metadata": {},
   "source": [
    "# 变量与赋值"
   ]
  },
  {
   "cell_type": "markdown",
   "id": "21ae3cd9-0842-4406-90eb-d8517913af86",
   "metadata": {},
   "source": [
    "变量（Variable）是计算机语言中能记忆数据的抽象概念。程序通过变量名（标识符表示）来访问变量。  \n",
    "在程序执行过程中，一个变量名代表其记忆的数据所存储的内存区域。\n",
    "Python程序通过变量名使用该变量指代的内存区域，从该内存区域读取数据或将某项数据保存到该区域中。  \n",
    "例如anInteger=100语句表示将整数100保存到变量anInteger所指代的内存区域。"
   ]
  },
  {
   "cell_type": "code",
   "execution_count": 1,
   "id": "b8f91d8f-faa1-4372-aa3c-f89109f5f027",
   "metadata": {
    "tags": []
   },
   "outputs": [],
   "source": [
    "anInteger = 100 # 一个整数型数据\n",
    "aFloat = 999.99 # 一个浮点型数据\n",
    "aString = 'Hello, world!' # 一个字符串"
   ]
  },
  {
   "cell_type": "code",
   "execution_count": 2,
   "id": "1c2abfd0-819b-441f-9b92-326ee66f235b",
   "metadata": {
    "tags": []
   },
   "outputs": [
    {
     "name": "stdout",
     "output_type": "stream",
     "text": [
      "100\n",
      "999.99\n",
      "Hello, world!\n",
      "anInteger= 100 ,aFloat= 999.99 ,aString= Hello, world!\n",
      "anInteger= 100, aFloat= 999.99, aString= Hello, world!\n"
     ]
    }
   ],
   "source": [
    "print(anInteger)\n",
    "print(aFloat)\n",
    "print(aString)\n",
    "print('anInteger=', anInteger, ',aFloat=', aFloat, ',aString=', aString)\n",
    "print('anInteger= %s, aFloat= %s, aString= %s' %(anInteger, aFloat, aString))"
   ]
  },
  {
   "cell_type": "markdown",
   "id": "894d36cd-3f79-4c67-843b-b0fd3d5faa4f",
   "metadata": {},
   "source": [
    "以#开头的语句是注释，注释是给人看的，可以是任意内容，解释器会忽略掉注释。"
   ]
  },
  {
   "cell_type": "markdown",
   "id": "68de66d6-d159-4ddb-820e-680a3778415d",
   "metadata": {},
   "source": [
    "### 练习：变量赋值\n",
    "1. 给一个变量名为“name”的变量，赋值给它\"John\"\n",
    "2. 定义一个变量表示学生的年龄，并赋值给它\"21\"\n",
    "3. 定义一个变量表示学生的专业，并赋值给它\"Math\"\n",
    "4. 使用print语句打印上面的三个变量"
   ]
  },
  {
   "cell_type": "code",
   "execution_count": null,
   "id": "c79e0aa5-56c1-4ad8-912c-01bf43de6bc3",
   "metadata": {},
   "outputs": [],
   "source": [
    "\n",
    "\n",
    "\n",
    "\n"
   ]
  },
  {
   "cell_type": "markdown",
   "id": "f579cbe2-f9bc-4861-ada2-a29c5d72c089",
   "metadata": {},
   "source": [
    "### 练习：定义变量\n",
    "\n",
    "- 给一个变量名为“year”的变量赋值字符串：'2023'\n",
    "- 给一个变量名为“month”的变量赋值字符串：'09'\n",
    "- 定义一个变量表示日期，赋值字符串：'01'\n",
    "- 拼接上述三个字符串，并使用'/'来连接"
   ]
  },
  {
   "cell_type": "code",
   "execution_count": null,
   "id": "ac079875-3e3a-4162-ab3d-55e973b54734",
   "metadata": {},
   "outputs": [],
   "source": [
    "\n",
    "\n",
    "\n",
    "\n"
   ]
  },
  {
   "cell_type": "markdown",
   "id": "8b89dd84-a2b7-4323-99e6-1b5eded477b5",
   "metadata": {},
   "source": [
    "## 练习答案：\n",
    "### 定义变量\n",
    "\n",
    "- 给一个变量名为“year”的变量赋值字符串：'2023'\n",
    "- 给一个变量名为“month”的变量赋值字符串：'09'\n",
    "- 定义一个变量表示日期，赋值字符串：'01'\n",
    "- 拼接上述三个字符串，并使用'/'来连接"
   ]
  },
  {
   "cell_type": "markdown",
   "id": "fea5e306-7450-4990-9b83-090d25da1e54",
   "metadata": {},
   "source": [
    "\n",
    "```python\n",
    "year = '2023'\n",
    "month = '09'\n",
    "date = '01'\n",
    "year + '/' + month + '/' + date\n",
    "```"
   ]
  }
 ],
 "metadata": {
  "kernelspec": {
   "display_name": "Python 3 (ipykernel)",
   "language": "python",
   "name": "python3"
  },
  "language_info": {
   "codemirror_mode": {
    "name": "ipython",
    "version": 3
   },
   "file_extension": ".py",
   "mimetype": "text/x-python",
   "name": "python",
   "nbconvert_exporter": "python",
   "pygments_lexer": "ipython3",
   "version": "3.11.5"
  }
 },
 "nbformat": 4,
 "nbformat_minor": 5
}
