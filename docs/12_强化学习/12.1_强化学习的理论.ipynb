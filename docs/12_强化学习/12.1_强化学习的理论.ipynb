{
 "cells": [
  {
   "cell_type": "markdown",
   "id": "c5eb80ad-7543-4213-8f63-0f11d9e3f398",
   "metadata": {},
   "source": [
    "# 强化学习的理论"
   ]
  },
  {
   "cell_type": "markdown",
   "id": "b972891f-0fa1-4ecf-8259-f0268d158c92",
   "metadata": {},
   "source": []
  }
 ],
 "metadata": {
  "kernelspec": {
   "display_name": "Python 3 (ipykernel)",
   "language": "python",
   "name": "python3"
  },
  "language_info": {
   "codemirror_mode": {
    "name": "ipython",
    "version": 3
   },
   "file_extension": ".py",
   "mimetype": "text/x-python",
   "name": "python",
   "nbconvert_exporter": "python",
   "pygments_lexer": "ipython3",
   "version": "3.11.5"
  }
 },
 "nbformat": 4,
 "nbformat_minor": 5
}
