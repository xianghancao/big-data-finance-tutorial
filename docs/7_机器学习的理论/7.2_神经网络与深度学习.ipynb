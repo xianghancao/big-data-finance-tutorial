{
 "cells": [
  {
   "cell_type": "markdown",
   "id": "628a8119-58f2-41f6-a4b1-e10c330db3e9",
   "metadata": {},
   "source": [
    "# 7.2 神经网络与深度学习"
   ]
  },
  {
   "cell_type": "markdown",
   "id": "bd5f0877-e097-4ffd-8d29-056451543ac0",
   "metadata": {},
   "source": [
    "## 1. 神经网络"
   ]
  },
  {
   "cell_type": "markdown",
   "id": "226ed61b-3494-4991-a766-883de6c47ea9",
   "metadata": {},
   "source": [
    "一直以来，人们都认为神经网络(Neural Network，NN)是模仿生物体的神经网络设计而成的。\n",
    "\n",
    "神经网络既可以用于回归，也可以用于分类，但在实际应用中常用于分类。基于神经网络的深 度学习因在图像识别和语音识别等领域表现优异而广为人知。"
   ]
  },
  {
   "cell_type": "markdown",
   "id": "2d2770f2-dc88-44f3-bd93-51068dfee5c1",
   "metadata": {},
   "source": [
    "<img src='images/NN.png' width=300>\n",
    "\n",
    "图1 神经网络的典型网络结构"
   ]
  },
  {
   "cell_type": "markdown",
   "id": "d52006e7-6300-4b96-8b4b-b5ce42e6b019",
   "metadata": {},
   "source": [
    "神经网络在输入数据和输出结果之间插入了叫作中间层的层，能够学习复杂的决策边界。它既可以用于回归，也可以用于分类，但主要还是应用于分类问题。本 节也以分类问题为例进行说明。"
   ]
  },
  {
   "cell_type": "markdown",
   "id": "0158c3da-c178-4a95-80ba-5bc1a71616e1",
   "metadata": {},
   "source": [
    "<img src='images/MNIST.png' width=300>\n",
    "\n",
    "图2 MNIST 手写数字数据示例"
   ]
  },
  {
   "cell_type": "markdown",
   "id": "8624828d-214b-48bf-81be-97d04d7154fb",
   "metadata": {},
   "source": [
    "本次创建的神经网络如图所示，图中省略了各个节点之间的连接线。"
   ]
  },
  {
   "cell_type": "markdown",
   "id": "c0dc98f0-17b4-47f7-a4cc-e7a70c4ee2b4",
   "metadata": {},
   "source": [
    "<img src='images/MNIST-NN.png' width=600>\n",
    "\n",
    "图3 MNIST神经网络构建"
   ]
  },
  {
   "cell_type": "markdown",
   "id": "b7bcad83-256a-4fac-b805-06867d409a4e",
   "metadata": {},
   "source": [
    "输入层表示输入图像(64 维向量)本身。如果将各个点的像素值存储在长度为 64 的一维数组的元 素中，则可以将其视为 64 维数据来处理。下面通过神经网络来学习使用上述方法得到的 64 维数据。\n",
    "中间层使用 Sigmoid 等非线性函数计算输入层传来的数据。中间层的维度是超参数。使维度变 大可以学习更加复杂的边界，但是容易发生过拟合。本次设置中间层为 16 维。下面的“算法说明” 部分将再次介绍中间层的计算方法、中间层的维度和学习结果的关系。\n",
    "输出层也同样使用非线性函数计算中间层传来的数据。本次任务是对 0 ~ 9 这 10 个数字进行 分类。因此，输出层输出的是输入手写图像分别为 0 ~ 9 这 10 个数字的概率。\n",
    "下面使用这个神经网络进行学习，并进行分类(图 4)。"
   ]
  },
  {
   "cell_type": "markdown",
   "id": "efe196bb-dff3-4637-9bbd-1336583113db",
   "metadata": {},
   "source": [
    "<img src='images/MNIST2.png' width=300>\n",
    "\n",
    "图4 使用神经网络进行分类"
   ]
  },
  {
   "cell_type": "markdown",
   "id": "b6746e9b-1bcd-4b74-9e6c-aa7ba529677a",
   "metadata": {},
   "source": [
    "图中的 Label 代表作为正确答案的数字，Prediction 代表作为神经网络的分类结果的数字，下方的图像是输入数据。可以看出，神经网络可以正确地识别出这些手写数字。"
   ]
  },
  {
   "cell_type": "markdown",
   "id": "6a2501ee-cc0a-4f37-84f9-25bc0b6bc63b",
   "metadata": {},
   "source": []
  }
 ],
 "metadata": {
  "kernelspec": {
   "display_name": "Python 3 (ipykernel)",
   "language": "python",
   "name": "python3"
  },
  "language_info": {
   "codemirror_mode": {
    "name": "ipython",
    "version": 3
   },
   "file_extension": ".py",
   "mimetype": "text/x-python",
   "name": "python",
   "nbconvert_exporter": "python",
   "pygments_lexer": "ipython3",
   "version": "3.11.5"
  }
 },
 "nbformat": 4,
 "nbformat_minor": 5
}
