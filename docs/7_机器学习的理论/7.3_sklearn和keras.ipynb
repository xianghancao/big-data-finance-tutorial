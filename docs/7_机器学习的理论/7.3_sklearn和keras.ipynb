{
 "cells": [
  {
   "cell_type": "markdown",
   "id": "c7be0cce-cc18-4968-8423-318156864db1",
   "metadata": {},
   "source": [
    "# 7.3 sklearn和keras\n"
   ]
  },
  {
   "cell_type": "markdown",
   "id": "c26400ae-b741-48e5-ac66-cb5ddc7e4d29",
   "metadata": {},
   "source": [
    "## 1. sklearn"
   ]
  },
  {
   "cell_type": "markdown",
   "id": "74852541-a14f-4d93-918a-edea3eae9354",
   "metadata": {},
   "source": [
    "<img src='images/sklearn.png' width=300>\n",
    "\n",
    "链接：[scikit-learn.org](https://scikit-learn.org/stable/index.html)\n",
    "\n",
    "sklearn 提供基于 Python 语言的包含监督学习、无监督学习相关的机器学习模型，以及数据预处理方法等。"
   ]
  },
  {
   "cell_type": "markdown",
   "id": "dcd99d98-ec69-4b4b-a6c2-7ae51b2fb03e",
   "metadata": {},
   "source": [
    "## 2. keras"
   ]
  },
  {
   "cell_type": "markdown",
   "id": "537bcb02-1a60-4147-95e0-d6c7100bfb0b",
   "metadata": {},
   "source": [
    "<img src='images/keras.png' width=300>\n",
    "\n",
    "链接：[keras.io](https://keras.io/)\n"
   ]
  },
  {
   "cell_type": "markdown",
   "id": "179591ab-bc45-4d3e-aca8-65d082a69a2b",
   "metadata": {},
   "source": [
    "Keras 提供基于 Python 语言的的深度神经网络API，使构建和训练神经网络相对简单。Keras 在研究、学术界和工业界广泛应用于图像识别、自然语言处理等任务。"
   ]
  },
  {
   "cell_type": "markdown",
   "id": "13ed3082-285d-456c-a81d-65a851ed7a5b",
   "metadata": {},
   "source": [
    "## 3. 机器学习社区\n",
    "<img src='images/kaggle2.png' width=200>\n",
    "\n",
    "链接：[kaggle.com](kaggle.com)\n",
    "\n",
    "Kaggle是全球最大的数据科学社区，提供了数据科学相关的竞赛和数据集[8]。很多著名企业，例如，在Kaggle平台上发布企业的数据和商业需求，并附带奖金。众多数据科学爱好者在网站上提交自己的解决方案，已赢取排名和奖金。此外，个人用户也可以上传和公开自己的数据集，开放给其他用户使用。这种竞争、开放和分享的氛围，让Kaggle在数据科学领域具有良好的口碑。\n"
   ]
  }
 ],
 "metadata": {
  "kernelspec": {
   "display_name": "Python 3 (ipykernel)",
   "language": "python",
   "name": "python3"
  },
  "language_info": {
   "codemirror_mode": {
    "name": "ipython",
    "version": 3
   },
   "file_extension": ".py",
   "mimetype": "text/x-python",
   "name": "python",
   "nbconvert_exporter": "python",
   "pygments_lexer": "ipython3",
   "version": "3.11.5"
  },
  "toc-autonumbering": false,
  "widgets": {
   "application/vnd.jupyter.widget-state+json": {
    "state": {},
    "version_major": 2,
    "version_minor": 0
   }
  }
 },
 "nbformat": 4,
 "nbformat_minor": 5
}
