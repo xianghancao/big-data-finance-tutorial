{
 "cells": [
  {
   "cell_type": "markdown",
   "id": "0a21740f-88be-4503-8ae5-f269d4cae2d8",
   "metadata": {},
   "source": [
    "# 7.2 机器学习的类别"
   ]
  },
  {
   "cell_type": "markdown",
   "id": "7cce6595-cd7c-4237-8442-f625ef679bf1",
   "metadata": {},
   "source": [
    "机器学习包含不同的种类。根据不同的输入数据，分类如下：\n",
    "- 有监督学习\n",
    "- 无监督学习\n",
    "- 强化学习\n",
    "\n",
    "下面我们依次详细地看一下。\n"
   ]
  },
  {
   "cell_type": "markdown",
   "id": "05395c93-ea68-4ca3-bd7f-17643fe07263",
   "metadata": {},
   "source": [
    "## 1. 有监督学习"
   ]
  },
  {
   "cell_type": "markdown",
   "id": "b3e329ba-8563-418a-8fd5-38b9ce01bb38",
   "metadata": {},
   "source": [
    "### 1.1 分类问题"
   ]
  },
  {
   "cell_type": "markdown",
   "id": "b5d0db6a-e105-466a-84dd-0731065a9af4",
   "metadata": {},
   "source": [
    "**有监督学习**是将问题的答案告知计算机，使计算机进行学习并给出机器学习模型的方法。这种方法要求数据中包含表示特征的数据和作为答案的目标变量数据。\n"
   ]
  },
  {
   "cell_type": "markdown",
   "id": "96638ccf-e8ba-48a1-86d5-ec3da84ae7b8",
   "metadata": {},
   "source": [
    "<img src='images/supervised.png' width=600>\n",
    "\n",
    "图 2 有监督分类的示意图"
   ]
  },
  {
   "cell_type": "markdown",
   "id": "ad67d2ad-4ad3-406a-8f81-140cd2e5e84a",
   "metadata": {},
   "source": [
    "\n",
    "如图 2 所示，已有表示特征的*身高*和*体重*数据，作为答案的数据是*性别(男 / 女)*。我们向计算机提供这些数据的组合，使计算机进行学习并给出预测模型。然后，将新的*身高*和*体重*数据提供给模型，由模型预测出*性别*。"
   ]
  },
  {
   "cell_type": "markdown",
   "id": "745003fb-5374-4416-8d9c-58a4c159e163",
   "metadata": {},
   "source": [
    "此外，表示特征的数据叫作**特征值**或者**特征变量**，作为答案的数据叫作**目标变量**或者**标签**。\n"
   ]
  },
  {
   "cell_type": "markdown",
   "id": "9c89e731-e5d4-446e-ade4-d039348fe4ed",
   "metadata": {},
   "source": [
    "### 1.2 回归问题"
   ]
  },
  {
   "cell_type": "markdown",
   "id": "26c1a1ea-4f58-46c7-ad68-6aa140a842a0",
   "metadata": {},
   "source": [
    "除了分类问题之外，有监督学习还包括回归问题。\n",
    "\n",
    "如图3所示，已有表示特征的性别和身高数据，以及答案数据——鞋的尺码。在分类问题中，男和女的标签分别被数值化为 0 和 1，这两个 数值之间的大小关系是没有意义的。与之相对，鞋的尺码26.5 cm和24 cm之间的大小关系则是有意义的。对这样的数据进行预测的问题就是回归问题。\n",
    "\n",
    "在回归问题中，目标变量是作为连续值处理的，所以预测值有可能是 23.7 cm 这种不存在的尺码。"
   ]
  },
  {
   "cell_type": "markdown",
   "id": "524df91c-6a68-40d0-a5a7-6dd64d12cd6f",
   "metadata": {},
   "source": [
    "<img src='images/ml_regression.png' width=600>\n",
    "\n",
    "图 3 回归问题的示意图"
   ]
  },
  {
   "cell_type": "markdown",
   "id": "c7fc0890-8cf3-4a12-a393-dd0adbb876de",
   "metadata": {},
   "source": [
    "## 2. 无监督学习\n"
   ]
  },
  {
   "cell_type": "markdown",
   "id": "ac252e93-b40c-4caa-9838-7c97742ed521",
   "metadata": {},
   "source": [
    "有监督学习是将特征值和目标变量(答案)作为一套数据进行学习的方法，而无监督学习的数 据中没有作为答案的目标变量。  \n",
    "\n",
    "有人可能会产生疑问:没有答案，该如何去学习呢? 无监督学习将表示特征的数据作为输入，通过将数据变形为其他形式或者找出数据中的部分集合，来理解输入数据的构造。此外，与有监督学习相比，无监督学习的结果难以解释，或者要求分析者基于经验加以主观的解释。有监督学习以“能否正确预测目标变量”为指标，相比之下，为了能够对结果进行解释，在进行无监督学习时， 用户需要对输入数据的前提知识有一定程度的了解。\n"
   ]
  },
  {
   "cell_type": "markdown",
   "id": "789c839c-3acd-43d4-81fd-f0c7d0ea5d04",
   "metadata": {},
   "source": [
    "\n",
    "这里举一个无监督学习的例子。我们思考一下对某个中学的学生成绩进行分析的场景。假设各科目之间存在着这样的关联性：擅长数学的学生也擅长理科，但不擅长语文和文科。\n",
    "\n",
    "对于这样的输入数据，在使用无监督学习的代表性算法主成分分析(Principal Component Analysis，PCA)时，我们引入了新的轴，以说明被称为第一主成分的数据。在第一主成分上的坐标可以解释为“小值表明该生擅长理科，大值表明该生擅长文科”，如表所示，可以将数学、理科、语文、文科这 4 个特征值归纳在 1 个轴上加以展示。"
   ]
  },
  {
   "cell_type": "markdown",
   "id": "71cfcb17-8b21-41ff-89ff-9201a5a0113b",
   "metadata": {},
   "source": [
    "表1 PCA的例子\n",
    "\n",
    "<img src='images/PCA.png' width=600>"
   ]
  },
  {
   "cell_type": "markdown",
   "id": "b304b40e-cc27-4799-90eb-b75cbe1356d1",
   "metadata": {},
   "source": [
    "这个例子使用 PCA 通俗易懂地解释了分析结果，但是需要根据输入数据选择合适的算法。 近年来，无监督学习的研究在图像和自然语言处理方面取得了进展，是当前备受瞩目的领域。这里介绍的 PCA 属于降维算法。降维是以更少的特征值来理解数据的算法。\n",
    "\n"
   ]
  },
  {
   "cell_type": "markdown",
   "id": "a342148d-e4fc-4143-acb9-f3f86b074510",
   "metadata": {},
   "source": [
    "<img src='images/cluster_intro.png' width=400>\n",
    "\n",
    "图 聚类算法的可视化"
   ]
  },
  {
   "cell_type": "markdown",
   "id": "939b772e-d830-402f-8032-388fe07ae6b1",
   "metadata": {},
   "source": [
    "无监督学习中也包括聚类算法。聚类是将数据分类为几个簇(相似数据的集合)的算法。人类很难直接理解多变量数据(由 3 个以上的变量构成的数据)，通过聚类，数据能够以簇这种简单的形式进行展现。"
   ]
  },
  {
   "cell_type": "markdown",
   "id": "7118c906-c64f-4a6a-9c71-f011f87052b5",
   "metadata": {},
   "source": [
    "## 3. 强化学习\n",
    "强化学习是以在某个环境下行动的智能体获得的奖励最大化为目标而进行学习的方法。\n",
    "\n",
    "这里简单地介绍一下强化学习。在主机游戏(环境)中，玩家(AI)为了获得分数(奖励)并取得最终的胜利，会无数次地重复尝试。我们也可以把强化学习看作有监督学习的目标变量被作为奖励提供的情况。拿主机游戏的例子来说，由于全部场景下所有操作的组合实在太多，很难通过人力进行评估，所以可以将游戏的场景和操作作为特征值，将游戏赛点作为目标变量，玩家无须依赖人力，通过无数次的游戏即可自行收集特征值和目标变量的数据组。强化学习在重复地玩游\n",
    "戏、查看结果中不断学习更恰当的行动。"
   ]
  },
  {
   "cell_type": "markdown",
   "id": "74257549-0c3f-4e63-9e33-31cc05a6609a",
   "metadata": {},
   "source": [
    "### 练习"
   ]
  },
  {
   "cell_type": "markdown",
   "id": "aa295e1e-2180-4e7a-a60e-2832fe76f4de",
   "metadata": {},
   "source": [
    "完成以下关于**机器学习基础概念**的在线练习：<a href=\"https://padlet.com/caoxianghan/padlet-ydcutpn5f19wz635\" target=\"_blank\">https://padlet.com/caoxianghan/padlet-ydcutpn5f19wz635 </a>\n"
   ]
  }
 ],
 "metadata": {
  "kernelspec": {
   "display_name": "Python 3 (ipykernel)",
   "language": "python",
   "name": "python3"
  },
  "language_info": {
   "codemirror_mode": {
    "name": "ipython",
    "version": 3
   },
   "file_extension": ".py",
   "mimetype": "text/x-python",
   "name": "python",
   "nbconvert_exporter": "python",
   "pygments_lexer": "ipython3",
   "version": "3.11.5"
  }
 },
 "nbformat": 4,
 "nbformat_minor": 5
}
