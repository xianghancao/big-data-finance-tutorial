{
 "cells": [
  {
   "cell_type": "markdown",
   "id": "ddd8bc3c-d11d-4bce-9858-2882a8c438ec",
   "metadata": {},
   "source": [
    "# 作业"
   ]
  },
  {
   "cell_type": "markdown",
   "id": "bc6af2f0-6a08-4602-9b3e-7f787038fb00",
   "metadata": {},
   "source": [
    "根据接下来的章节，进行期末选题，\n",
    "\n",
    "选题发送到如下链接中：\n"
   ]
  }
 ],
 "metadata": {
  "kernelspec": {
   "display_name": "Python 3 (ipykernel)",
   "language": "python",
   "name": "python3"
  },
  "language_info": {
   "codemirror_mode": {
    "name": "ipython",
    "version": 3
   },
   "file_extension": ".py",
   "mimetype": "text/x-python",
   "name": "python",
   "nbconvert_exporter": "python",
   "pygments_lexer": "ipython3",
   "version": "3.11.5"
  }
 },
 "nbformat": 4,
 "nbformat_minor": 5
}
