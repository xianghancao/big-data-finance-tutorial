{
 "cells": [
  {
   "cell_type": "markdown",
   "id": "ef49ccd8-d63e-4736-82f5-aea172c889bf",
   "metadata": {
    "editable": true,
    "slideshow": {
     "slide_type": ""
    },
    "tags": []
   },
   "source": [
    "## 附录：神经网络可视化\n",
    "\n"
   ]
  },
  {
   "cell_type": "markdown",
   "id": "24e72c0a-ba32-4a29-9097-314a4469cb12",
   "metadata": {},
   "source": [
    "\n",
    "\n",
    "![network_virsual](images/network_virsual.png)"
   ]
  },
  {
   "cell_type": "markdown",
   "id": "1b53b068-1471-4e01-8b4e-c73c71d1244f",
   "metadata": {},
   "source": [
    "[该应用链接](https://playground.tensorflow.org/#activation=tanh&batchSize=10&dataset=circle&regDataset=reg-plane&learningRate=0.03&regularizationRate=0&noise=0&networkShape=4,2&seed=0.93677&showTestData=false&discretize=false&percTrainData=50&x=true&y=true&xTimesY=false&xSquared=false&ySquared=false&cosX=false&sinX=false&cosY=false&sinY=false&collectStats=false&problem=classification&initZero=false&hideText=false&discretize_hide=false)"
   ]
  },
  {
   "cell_type": "markdown",
   "id": "2876f042-39b4-4ae1-ab3f-69c815102a18",
   "metadata": {},
   "source": [
    "这是一个交互式的可视化应用，用于探索神经网络的工作原理。你可以通过调整页面右侧的参数来改变网络的结构和训练数据，然后观察网络的学习过程和结果。具体步骤如下：\n",
    "\n",
    "1. **选择激活函数和数据集：** 在页面顶部，你可以选择不同的激活函数和数据集。激活函数影响神经元的激活方式，而数据集影响训练网络的数据分布。\n",
    "\n",
    "2. **调整网络参数：** 在页面右侧，你可以设置许多不同的网络参数，包括批量大小、学习率、正则化率等。你还可以改变网络的结构，比如添加或删除隐藏层，改变每个隐藏层中神经元的数量等。\n",
    "\n",
    "3. **观察训练过程：** 在页面左侧，你会看到一个神经网络的可视化图，以及训练数据的散点图。当你点击页面上方的“Run”按钮时，网络将开始训练，并且你将看到训练过程中损失函数的变化，以及网络对训练数据的拟合情况。\n",
    "\n",
    "4. **观察结果：** 训练完成后，你可以在可视化图中观察网络对训练数据和测试数据的分类效果。\n",
    "\n",
    "通过调整不同的参数和观察结果，你可以更好地理解神经网络的工作原理和不同参数对网络性能的影响。"
   ]
  },
  {
   "cell_type": "markdown",
   "id": "625e1977-bb15-4995-af54-b68404e56671",
   "metadata": {},
   "source": [
    "## 扩展阅读\n",
    "\n",
    "1. A Visual and Interactive Guide to the Basics of Neural Networks: https://jalammar.github.io/visual-interactive-guide-basics-neural-networks/\n",
    "2. Explaining neural networks in raw Python：https://bronwojtek.github.io/neuralnets-in-raw-python/docs/index.html\n",
    "3. 神经网络3D可视化：https://www.youtube.com/watch?v=3JQ3hYko51Y\n"
   ]
  },
  {
   "cell_type": "markdown",
   "id": "936eb26e-8ebc-4015-b816-ee7dee337a79",
   "metadata": {},
   "source": []
  }
 ],
 "metadata": {
  "kernelspec": {
   "display_name": "Python 3 (ipykernel)",
   "language": "python",
   "name": "python3"
  },
  "language_info": {
   "codemirror_mode": {
    "name": "ipython",
    "version": 3
   },
   "file_extension": ".py",
   "mimetype": "text/x-python",
   "name": "python",
   "nbconvert_exporter": "python",
   "pygments_lexer": "ipython3",
   "version": "3.11.5"
  },
  "widgets": {
   "application/vnd.jupyter.widget-state+json": {
    "state": {},
    "version_major": 2,
    "version_minor": 0
   }
  }
 },
 "nbformat": 4,
 "nbformat_minor": 5
}
