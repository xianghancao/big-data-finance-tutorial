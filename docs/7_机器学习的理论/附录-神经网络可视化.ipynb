{
 "cells": [
  {
   "cell_type": "markdown",
   "id": "ef49ccd8-d63e-4736-82f5-aea172c889bf",
   "metadata": {
    "editable": true,
    "slideshow": {
     "slide_type": ""
    },
    "tags": []
   },
   "source": [
    "## 附录：神经网络可视化\n",
    "\n"
   ]
  },
  {
   "cell_type": "markdown",
   "id": "24e72c0a-ba32-4a29-9097-314a4469cb12",
   "metadata": {},
   "source": [
    "\n",
    "\n",
    "![network_virsual](images/network_virsual.png)"
   ]
  },
  {
   "cell_type": "markdown",
   "id": "1b53b068-1471-4e01-8b4e-c73c71d1244f",
   "metadata": {},
   "source": [
    "[该应用链接](https://playground.tensorflow.org/#activation=tanh&batchSize=10&dataset=circle&regDataset=reg-plane&learningRate=0.03&regularizationRate=0&noise=0&networkShape=4,2&seed=0.93677&showTestData=false&discretize=false&percTrainData=50&x=true&y=true&xTimesY=false&xSquared=false&ySquared=false&cosX=false&sinX=false&cosY=false&sinY=false&collectStats=false&problem=classification&initZero=false&hideText=false&discretize_hide=false)"
   ]
  },
  {
   "cell_type": "markdown",
   "id": "625e1977-bb15-4995-af54-b68404e56671",
   "metadata": {},
   "source": [
    "## 扩展阅读\n",
    "\n",
    "1. A Visual and Interactive Guide to the Basics of Neural Networks: https://jalammar.github.io/visual-interactive-guide-basics-neural-networks/\n",
    "2. Explaining neural networks in raw Python：https://bronwojtek.github.io/neuralnets-in-raw-python/docs/index.html\n"
   ]
  },
  {
   "cell_type": "markdown",
   "id": "936eb26e-8ebc-4015-b816-ee7dee337a79",
   "metadata": {},
   "source": []
  }
 ],
 "metadata": {
  "kernelspec": {
   "display_name": "Python 3 (ipykernel)",
   "language": "python",
   "name": "python3"
  },
  "language_info": {
   "codemirror_mode": {
    "name": "ipython",
    "version": 3
   },
   "file_extension": ".py",
   "mimetype": "text/x-python",
   "name": "python",
   "nbconvert_exporter": "python",
   "pygments_lexer": "ipython3",
   "version": "3.11.5"
  },
  "widgets": {
   "application/vnd.jupyter.widget-state+json": {
    "state": {},
    "version_major": 2,
    "version_minor": 0
   }
  }
 },
 "nbformat": 4,
 "nbformat_minor": 5
}
