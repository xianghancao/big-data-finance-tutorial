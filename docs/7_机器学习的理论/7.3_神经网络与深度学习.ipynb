{
 "cells": [
  {
   "cell_type": "markdown",
   "id": "628a8119-58f2-41f6-a4b1-e10c330db3e9",
   "metadata": {},
   "source": [
    "# 7.3 神经网络与深度学习"
   ]
  },
  {
   "cell_type": "markdown",
   "id": "226ed61b-3494-4991-a766-883de6c47ea9",
   "metadata": {},
   "source": []
  }
 ],
 "metadata": {
  "kernelspec": {
   "display_name": "Python 3 (ipykernel)",
   "language": "python",
   "name": "python3"
  },
  "language_info": {
   "codemirror_mode": {
    "name": "ipython",
    "version": 3
   },
   "file_extension": ".py",
   "mimetype": "text/x-python",
   "name": "python",
   "nbconvert_exporter": "python",
   "pygments_lexer": "ipython3",
   "version": "3.11.5"
  }
 },
 "nbformat": 4,
 "nbformat_minor": 5
}
