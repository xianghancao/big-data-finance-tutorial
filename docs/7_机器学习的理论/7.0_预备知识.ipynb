{
 "cells": [
  {
   "cell_type": "markdown",
   "id": "30f37531-d2ef-4e3d-a74e-9e9936301123",
   "metadata": {},
   "source": [
    "# 7 机器学习的理论"
   ]
  },
  {
   "cell_type": "markdown",
   "id": "3681da46-ca1e-4bb0-ae2e-7c3e793b41a9",
   "metadata": {},
   "source": [
    "## 预习"
   ]
  },
  {
   "cell_type": "markdown",
   "id": "8d7f1022-4693-438e-9849-a15f55db017e",
   "metadata": {},
   "source": [
    "### 观看视频"
   ]
  },
  {
   "cell_type": "markdown",
   "id": "6eeec375-0904-47a7-bdb5-91ec50854be6",
   "metadata": {},
   "source": [
    "视频一：<a href=\"https://player.bilibili.com/player.html?aid=991521475&bvid=BV19x4y1573C&cid=1000387188&p=1&autoplay=0\" target=\"_blank\">吴恩达TED演讲：人工智能是如何赋能各个行业的？</a>"
   ]
  },
  {
   "cell_type": "markdown",
   "id": "b30f483a-d348-48df-a616-cd6c853b622b",
   "metadata": {},
   "source": [
    "<iframe src=\"https://player.bilibili.com/player.html?aid=991521475&bvid=BV19x4y1573C&cid=1000387188&p=1&autoplay=0\" allowfullscreen=\"allowfullscreen\" width=\"80%\" height=\"350\" scrolling=\"no\" frameborder=\"0\" sandbox=\"allow-top-navigation allow-same-origin allow-forms allow-scripts\"></iframe>"
   ]
  },
  {
   "cell_type": "markdown",
   "id": "7326e9e1-3cf3-47fe-bdf1-ab7f4b9abd00",
   "metadata": {},
   "source": [
    "视频二：<a href=\"https://player.bilibili.com/player.html?aid=24542060&bvid=BV1XW411A7sX&cid=41230273&p=1&autoplay=0\" target=\"_blank\">所谓“机器学习”是如何实现的？</a>"
   ]
  },
  {
   "cell_type": "markdown",
   "id": "a45d91ef-603c-4629-8e99-24825dfeac8c",
   "metadata": {},
   "source": [
    "<iframe src=\"https://player.bilibili.com/player.html?aid=24542060&bvid=BV1XW411A7sX&cid=41230273&p=1&autoplay=0\" allowfullscreen=\"allowfullscreen\" width=\"80%\" height=\"350\" scrolling=\"no\" frameborder=\"0\" sandbox=\"allow-top-navigation allow-same-origin allow-forms allow-scripts\"></iframe>"
   ]
  },
  {
   "cell_type": "markdown",
   "id": "564c4811-c3ec-49dd-a30f-8f27c889bae4",
   "metadata": {},
   "source": [
    "视频三：<a href=\"https://player.bilibili.com/player.html?aid=557792593&bvid=BV18e4y1o7LM&cid=827132489&p=1&autoplay=0\" target=\"_blank\">李飞飞TED演讲：怎么理解计算机视觉？</a>"
   ]
  },
  {
   "cell_type": "markdown",
   "id": "3c7e15ce-988b-4de3-b3e7-5a822c8d8407",
   "metadata": {},
   "source": [
    "<iframe src=\"https://player.bilibili.com/player.html?aid=557792593&bvid=BV18e4y1o7LM&cid=827132489&p=1&autoplay=0\" allowfullscreen=\"allowfullscreen\" width=\"80%\" height=\"350\" scrolling=\"no\" frameborder=\"0\" sandbox=\"allow-top-navigation allow-same-origin allow-forms allow-scripts\"></iframe>"
   ]
  },
  {
   "cell_type": "markdown",
   "id": "ac16cdbf-166a-4a3e-825f-473dde77d147",
   "metadata": {},
   "source": [
    "### 名词解释"
   ]
  },
  {
   "cell_type": "markdown",
   "id": "33f531de-5b8b-48f3-abef-297441e1b0b0",
   "metadata": {},
   "source": [
    "请使用各类资源和工具，完成以下名词解释：\n",
    "- 数据挖掘\n",
    "- 机器学习\n",
    "- 算法\n",
    "- 回归\n",
    "- 分类\n",
    "- 优化\n",
    "- 线性和非线性\n",
    "\n",
    "在下面链接中完成：：<a href=\"https://docs.qq.com/doc/DWmlhaFh6dEltT2tQ\" target=\"_blank\">名词解释 第7章 </a>\n"
   ]
  }
 ],
 "metadata": {
  "kernelspec": {
   "display_name": "Python 3 (ipykernel)",
   "language": "python",
   "name": "python3"
  },
  "language_info": {
   "codemirror_mode": {
    "name": "ipython",
    "version": 3
   },
   "file_extension": ".py",
   "mimetype": "text/x-python",
   "name": "python",
   "nbconvert_exporter": "python",
   "pygments_lexer": "ipython3",
   "version": "3.11.7"
  }
 },
 "nbformat": 4,
 "nbformat_minor": 5
}
