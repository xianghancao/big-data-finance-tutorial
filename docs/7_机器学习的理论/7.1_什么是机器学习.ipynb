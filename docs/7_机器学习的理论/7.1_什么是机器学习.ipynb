{
 "cells": [
  {
   "cell_type": "markdown",
   "id": "2f2afe5c-09a5-4b7b-bb3d-17b8dbbc371f",
   "metadata": {},
   "source": [
    "# 7.1 什么是机器学习"
   ]
  },
  {
   "cell_type": "markdown",
   "id": "cc867f95-3643-4e9f-bcc4-1aaf69652b32",
   "metadata": {},
   "source": [
    "过去几年，人工智能（AI）一直是媒体热炒的话题。机器学习、深度学习和人工智能出现在无数的文章中。人们向我们许诺了一个智能聊天机器人、自动驾驶汽车和虚拟助手的未来--这个未来有时会被描绘得黯淡无光，有时则是乌托邦式的，在那里，人类的工作岗位将变得稀缺，大部分经济活动都将由机器人或人工智能代理来处理。"
   ]
  },
  {
   "cell_type": "markdown",
   "id": "8d6e4814-48ce-4410-b218-72207c56cffa",
   "metadata": {},
   "source": [
    "<img src='images/AI-ML-DL.png' width=500>"
   ]
  },
  {
   "cell_type": "markdown",
   "id": "8228f876-cfab-401e-be7a-c9367d361146",
   "metadata": {},
   "source": [
    "人工智能诞生于20世纪50年代，当时来自新生计算机科学领域的一小部分先驱开始思考计算机是否可以“思考”——这个问题的影响至今仍在探讨中。\n",
    "虽然很多潜在的想法在之前的几年甚至几十年里一直在酝酿，但“人工智能”最终在1956年成为一个研究领域。当时年轻的达特茅斯学院数学助理教授约翰·麦卡锡组织了一个暑期研讨会，提出了以下建议："
   ]
  },
  {
   "cell_type": "markdown",
   "id": "e26442ea-e5c6-4916-9c0a-8ea4b40cedff",
   "metadata": {},
   "source": [
    "<div class=\"alert alert-block alert-info\">\n",
    "The study is to proceed on the basis of the conjecture that every aspect of learning or any other feature of intelligence can in principle be so precisely described that a machine can be made to simulate it. An attempt will be made to find how to make machines use language, form abstractions and concepts, solve kinds of problems now reserved for humans, and improve themselves. We think that a significant advance can be made in one or more of these problems if a carefully selected group of scientists work on it together for a summer.\n",
    "\n",
    "</div>"
   ]
  },
  {
   "cell_type": "markdown",
   "id": "c6147138-1b57-4022-9166-270f26d06de2",
   "metadata": {},
   "source": [
    "在夏天结束时，研讨会未能完全解决其旨在调查的谜题而结束。然而，许多参与者后来成为该领域的先驱，并引发了一场至今仍在进行的思想革命。\n",
    "\n",
    "简而言之，人工智能可以被描述为试图自动化通常由人类执行的智力任务的努力。因此，人工智能是一个涵盖机器学习和深度学习的普遍领域，但也包括许多不涉及任何学习的其他方法。考虑到直到1980年代，大多数人工智能教科书根本没有提到“学习”！例如，早期的国际象棋程序只涉及由程序员制定的硬编码规则，并不符合机器学习的标准。事实上，很长一段时间，大多数专家认为可以通过让程序员手工制作足够大的一组明确规则来达到人类水平的人工智能，以操纵存储在明确数据库中的知识。这种方法被称为符号人工智能。从1950年代到1980年代末，它是人工智能的主导范式，并在1980年代的专家系统热潮中达到了其最高的流行度。\n",
    "\n",
    "尽管符号人工智能被证明适用于解决定义良好的逻辑问题，如下棋，但发现解决更复杂、模糊的问题，如图像分类、语音识别或自然语言翻译的明确规则是不可行的。一个新的方法出现来取代符号人工智能：机器学习。"
   ]
  },
  {
   "cell_type": "markdown",
   "id": "e237f234-5cfe-47a0-86ad-7ccd9121efbe",
   "metadata": {},
   "source": [
    "## 1. 什么是机器学习"
   ]
  },
  {
   "cell_type": "markdown",
   "id": "0480f048-d322-4bb7-98b4-30bc3ff15be5",
   "metadata": {},
   "source": [
    "机器学习指的是计算机根据给定的问题或环境进行学习，并利用学习结果解决问题的一整套机制(图 1)。"
   ]
  },
  {
   "cell_type": "markdown",
   "id": "4e3036fb-f4e3-4501-b258-d33541309143",
   "metadata": {},
   "source": [
    "<img src='images/machine_learning2.png' width=600>\n",
    "\n",
    "图 1 机器学习示意图"
   ]
  },
  {
   "cell_type": "markdown",
   "id": "5fb70de4-1f51-4368-b6b3-ae50001cee8a",
   "metadata": {},
   "source": [
    "## 2. 机器学习的种类"
   ]
  },
  {
   "cell_type": "markdown",
   "id": "888887bc-3be7-4835-a851-d8bc9a72d2bc",
   "metadata": {},
   "source": [
    "机器学习包含不同的种类。根据不同的输入数据，分类如下：\n",
    "- 有监督学习\n",
    "- 无监督学习\n",
    "- 强化学习\n",
    "\n",
    "下面我们依次详细地看一下。\n"
   ]
  },
  {
   "cell_type": "markdown",
   "id": "3c129b9f-08f8-4ebe-9f35-0f2cfd52ed34",
   "metadata": {},
   "source": [
    "### 2.1 有监督学习"
   ]
  },
  {
   "cell_type": "markdown",
   "id": "3d803e52-9819-4dd0-8931-89b0a214a70f",
   "metadata": {},
   "source": [
    "#### 2.1.1 分类问题"
   ]
  },
  {
   "cell_type": "markdown",
   "id": "b6427b89-445e-483f-a638-dfc959822577",
   "metadata": {},
   "source": [
    "**有监督学习**是将问题的答案告知计算机，使计算机进行学习并给出机器学习模型的方法。这种方法要求数据中包含表示特征的数据和作为答案的目标变量数据。\n"
   ]
  },
  {
   "cell_type": "markdown",
   "id": "36e2a290-3d9b-4625-a8c1-c4407cbce354",
   "metadata": {},
   "source": [
    "<img src='images/supervised.png' width=600>\n",
    "\n",
    "图 2 有监督分类的示意图"
   ]
  },
  {
   "cell_type": "markdown",
   "id": "cab458d6-a5ac-4834-9d62-e0f4998a0c98",
   "metadata": {},
   "source": [
    "\n",
    "如图 2 所示，已有表示特征的*身高*和*体重*数据，作为答案的数据是*性别(男 / 女)*。我们向计算机提供这些数据的组合，使计算机进行学习并给出预测模型。然后，将新的*身高*和*体重*数据提供给模型，由模型预测出*性别*。"
   ]
  },
  {
   "cell_type": "markdown",
   "id": "b4761587-7d42-4d1d-b646-7eae7c584020",
   "metadata": {},
   "source": [
    "此外，表示特征的数据叫作**特征值**或者**特征变量**，作为答案的数据叫作**目标变量**或者**标签**。\n"
   ]
  },
  {
   "cell_type": "markdown",
   "id": "6e6b2bcb-e87b-43cb-b968-5c97852a673b",
   "metadata": {},
   "source": [
    "#### 2.1.2 回归问题"
   ]
  },
  {
   "cell_type": "markdown",
   "id": "999bb11d-eb72-4154-a2e6-d97752bc683d",
   "metadata": {},
   "source": [
    "除了分类问题之外，有监督学习还包括回归问题。\n",
    "\n",
    "如图3所示，已有表示特征的性别和身高数据，以及答案数据——鞋的尺码。在分类问题中，男和女的标签分别被数值化为 0 和 1，这两个 数值之间的大小关系是没有意义的。与之相对，鞋的尺码26.5 cm和24 cm之间的大小关系则是有意义的。对这样的数据进行预测的问题就是回归问题。\n",
    "\n",
    "在回归问题中，目标变量是作为连续值处理的，所以预测值有可能是 23.7 cm 这种不存在的尺码。"
   ]
  },
  {
   "cell_type": "markdown",
   "id": "e79de6f6-470d-41e2-9729-cf10093c1735",
   "metadata": {},
   "source": [
    "<img src='images/ml_regression.png' width=600>\n",
    "\n",
    "图 3 回归问题的示意图"
   ]
  },
  {
   "cell_type": "markdown",
   "id": "c4069bea-b8fb-4fdf-99b9-e891e308e974",
   "metadata": {},
   "source": [
    "### 2.2 无监督学习\n"
   ]
  },
  {
   "cell_type": "markdown",
   "id": "f82f1857-1075-44a9-b642-30601a0c9469",
   "metadata": {},
   "source": [
    "有监督学习是将特征值和目标变量(答案)作为一套数据进行学习的方法，而无监督学习的数 据中没有作为答案的目标变量。  \n",
    "\n",
    "有人可能会产生疑问:没有答案，该如何去学习呢? 无监督学习将表示特征的数据作为输入，通过将数据变形为其他形式或者找出数据中的部分集合，来理解输入数据的构造。此外，与有监督学习相比，无监督学习的结果难以解释，或者要求分析者基于经验加以主观的解释。有监督学习以“能否正确预测目标变量”为指标，相比之下，为了能够对结果进行解释，在进行无监督学习时， 用户需要对输入数据的前提知识有一定程度的了解。\n"
   ]
  },
  {
   "cell_type": "markdown",
   "id": "736a06cd-315a-4870-a72e-81a917125719",
   "metadata": {},
   "source": [
    "\n",
    "这里举一个无监督学习的例子。我们思考一下对某个中学的学生成绩进行分析的场景。假设各科目之间存在着这样的关联性：擅长数学的学生也擅长理科，但不擅长语文和文科。\n",
    "\n",
    "对于这样的输入数据，在使用无监督学习的代表性算法主成分分析(Principal Component Analysis，PCA)时，我们引入了新的轴，以说明被称为第一主成分的数据。在第一主成分上的坐标可以解释为“小值表明该生擅长理科，大值表明该生擅长文科”，如表所示，可以将数学、理科、语文、文科这 4 个特征值归纳在 1 个轴上加以展示。"
   ]
  },
  {
   "cell_type": "markdown",
   "id": "36653394-ab6e-4320-811a-ed77abe49f6b",
   "metadata": {},
   "source": [
    "表1 PCA的例子\n",
    "\n",
    "<img src='images/PCA.png' width=600>"
   ]
  },
  {
   "cell_type": "markdown",
   "id": "bf04146b-54f1-4362-919f-e79be210c342",
   "metadata": {},
   "source": [
    "这个例子使用 PCA 通俗易懂地解释了分析结果，但是需要根据输入数据选择合适的算法。 近年来，无监督学习的研究在图像和自然语言处理方面取得了进展，是当前备受瞩目的领域。这里介绍的 PCA 属于降维算法。降维是以更少的特征值来理解数据的算法。\n",
    "\n"
   ]
  },
  {
   "cell_type": "markdown",
   "id": "2b465759-d5ec-4b45-9350-129e83e09095",
   "metadata": {},
   "source": [
    "<img src='images/cluster_intro.png' width=400>\n",
    "\n",
    "图 聚类算法的可视化"
   ]
  },
  {
   "cell_type": "markdown",
   "id": "79c9181a-7548-4fa6-a398-f0e95b7ac751",
   "metadata": {},
   "source": [
    "无监督学习中也包括聚类算法。聚类是将数据分类为几个簇(相似数据的集合)的算法。人类很难直接理解多变量数据(由 3 个以上的变量构成的数据)，通过聚类，数据能够以簇这种简单的形式进行展现。"
   ]
  },
  {
   "cell_type": "markdown",
   "id": "fa811085-38a1-42a9-be68-24fee3fa8bba",
   "metadata": {},
   "source": [
    "### 2.3 强化学习\n",
    "强化学习是以在某个环境下行动的智能体获得的奖励最大化为目标而进行学习的方法。\n",
    "\n",
    "这里简单地介绍一下强化学习。在主机游戏(环境)中，玩家(AI)为了获得分数(奖励)并取得最终的胜利，会无数次地重复尝试。我们也可以把强化学习看作有监督学习的目标变量被作为奖励提供的情况。拿主机游戏的例子来说，由于全部场景下所有操作的组合实在太多，很难通过人力进行评估，所以可以将游戏的场景和操作作为特征值，将游戏赛点作为目标变量，玩家无须依赖人力，通过无数次的游戏即可自行收集特征值和目标变量的数据组。强化学习在重复地玩游\n",
    "戏、查看结果中不断学习更恰当的行动。"
   ]
  },
  {
   "cell_type": "markdown",
   "id": "1a43e4e7-e1bc-45c2-9094-bc95493da4d4",
   "metadata": {},
   "source": [
    "### 练习"
   ]
  },
  {
   "cell_type": "markdown",
   "id": "111b823d-e921-4a58-9ec3-f6caf0c8c66d",
   "metadata": {},
   "source": [
    "完成以下关于**机器学习基础概念**的在线练习：<a href=\"https://padlet.com/caoxianghan/padlet-ydcutpn5f19wz635\" target=\"_blank\">https://padlet.com/caoxianghan/padlet-ydcutpn5f19wz635 </a>\n"
   ]
  },
  {
   "cell_type": "markdown",
   "id": "2fd1705b-ca90-417b-8746-92c7703195d9",
   "metadata": {},
   "source": []
  },
  {
   "cell_type": "markdown",
   "id": "b34c6f3e-cb5a-434d-aa89-9d377cf6ee7b",
   "metadata": {},
   "source": [
    "## 参考"
   ]
  },
  {
   "cell_type": "markdown",
   "id": "5c729ebd-3d36-4b4a-a76b-cf0e427a092a",
   "metadata": {},
   "source": [
    "1. 秋庭伸也，《图解机器学习算法》\n",
    "2. Francois Chollet，Deep Learning with Python 2nd Edition"
   ]
  }
 ],
 "metadata": {
  "kernelspec": {
   "display_name": "Python 3 (ipykernel)",
   "language": "python",
   "name": "python3"
  },
  "language_info": {
   "codemirror_mode": {
    "name": "ipython",
    "version": 3
   },
   "file_extension": ".py",
   "mimetype": "text/x-python",
   "name": "python",
   "nbconvert_exporter": "python",
   "pygments_lexer": "ipython3",
   "version": "3.11.5"
  }
 },
 "nbformat": 4,
 "nbformat_minor": 5
}
