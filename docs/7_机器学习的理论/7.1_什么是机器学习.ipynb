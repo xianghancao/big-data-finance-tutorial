{
 "cells": [
  {
   "cell_type": "markdown",
   "id": "2f2afe5c-09a5-4b7b-bb3d-17b8dbbc371f",
   "metadata": {},
   "source": [
    "# 7.1 什么是机器学习"
   ]
  },
  {
   "cell_type": "markdown",
   "id": "b677b264-66f7-4185-9eb6-bde045045aa3",
   "metadata": {},
   "source": [
    "```{admonition} 小组讨论：机器学习概念评估问卷\n",
    ":class: note\n",
    "完成本章学习后，填写以下关于机器学习基础概念的在线评估问卷，来检查自己是否已经掌握了相关概念：<a href=\"https://padlet.com/caoxianghan/padlet-ydcutpn5f19wz635\" target=\"_blank\">https://padlet.com/caoxianghan/padlet-ydcutpn5f19wz635 </a>\n",
    "```\n",
    "\n",
    "\n"
   ]
  },
  {
   "cell_type": "markdown",
   "id": "cc867f95-3643-4e9f-bcc4-1aaf69652b32",
   "metadata": {},
   "source": [
    "过去几年，人工智能（AI）一直是媒体热炒的话题。机器学习、深度学习和人工智能出现在无数的文章中。人们向我们许诺了一个智能聊天机器人、自动驾驶汽车和虚拟助手的未来--这个未来有时会被描绘得黯淡无光，有时则是乌托邦式的，在那里，人类的工作岗位将变得稀缺，大部分经济活动都将由机器人或人工智能代理来处理。"
   ]
  },
  {
   "cell_type": "markdown",
   "id": "8d6e4814-48ce-4410-b218-72207c56cffa",
   "metadata": {},
   "source": [
    "<img src='images/AI-ML-DL.png' width=500>"
   ]
  },
  {
   "cell_type": "markdown",
   "id": "8228f876-cfab-401e-be7a-c9367d361146",
   "metadata": {},
   "source": [
    "人工智能诞生于20世纪50年代，当时来自新生计算机科学领域的一小部分先驱开始思考计算机是否可以“思考”——这个问题的影响至今仍在探讨中。\n",
    "虽然很多潜在的想法在之前的几年甚至几十年里一直在酝酿，但“人工智能”最终在1956年成为一个研究领域。当时年轻的达特茅斯学院数学助理教授约翰·麦卡锡组织了一个暑期研讨会，提出了以下建议："
   ]
  },
  {
   "cell_type": "markdown",
   "id": "e26442ea-e5c6-4916-9c0a-8ea4b40cedff",
   "metadata": {},
   "source": [
    "<div class=\"alert alert-block alert-info\">\n",
    "The study is to proceed on the basis of the conjecture that every aspect of learning or any other feature of intelligence can in principle be so precisely described that a machine can be made to simulate it. An attempt will be made to find how to make machines use language, form abstractions and concepts, solve kinds of problems now reserved for humans, and improve themselves. We think that a significant advance can be made in one or more of these problems if a carefully selected group of scientists work on it together for a summer.\n",
    "\n",
    "</div>"
   ]
  },
  {
   "cell_type": "markdown",
   "id": "c6147138-1b57-4022-9166-270f26d06de2",
   "metadata": {},
   "source": [
    "在夏天结束时，研讨会未能完全解决其旨在调查的谜题而结束。然而，许多参与者后来成为该领域的先驱，并引发了一场至今仍在进行的思想革命。\n",
    "\n",
    "简而言之，人工智能可以被描述为试图自动化通常由人类执行的智力任务的努力。因此，人工智能是一个涵盖机器学习和深度学习的普遍领域，但也包括许多不涉及任何学习的其他方法。考虑到直到1980年代，大多数人工智能教科书根本没有提到“学习”！例如，早期的国际象棋程序只涉及由程序员制定的硬编码规则，并不符合机器学习的标准。事实上，很长一段时间，大多数专家认为可以通过让程序员手工制作足够大的一组明确规则来达到人类水平的人工智能，以操纵存储在明确数据库中的知识。这种方法被称为符号人工智能。从1950年代到1980年代末，它是人工智能的主导范式，并在1980年代的专家系统热潮中达到了其最高的流行度。\n",
    "\n",
    "尽管符号人工智能被证明适用于解决定义良好的逻辑问题，如下棋，但发现解决更复杂、模糊的问题，如图像分类、语音识别或自然语言翻译的明确规则是不可行的。一个新的方法出现来取代符号人工智能：机器学习。"
   ]
  },
  {
   "cell_type": "markdown",
   "id": "e237f234-5cfe-47a0-86ad-7ccd9121efbe",
   "metadata": {},
   "source": [
    "## 1. 什么是机器学习"
   ]
  },
  {
   "cell_type": "markdown",
   "id": "0480f048-d322-4bb7-98b4-30bc3ff15be5",
   "metadata": {},
   "source": [
    "机器学习指的是计算机根据给定的问题或环境进行学习，并利用学习结果解决问题的一整套机制(图 1)。"
   ]
  },
  {
   "cell_type": "markdown",
   "id": "4e3036fb-f4e3-4501-b258-d33541309143",
   "metadata": {},
   "source": [
    "<img src='images/machine_learning2.png' width=600>\n",
    "\n",
    "图 1 机器学习示意图"
   ]
  },
  {
   "cell_type": "markdown",
   "id": "b34c6f3e-cb5a-434d-aa89-9d377cf6ee7b",
   "metadata": {},
   "source": [
    "## 参考"
   ]
  },
  {
   "cell_type": "markdown",
   "id": "5c729ebd-3d36-4b4a-a76b-cf0e427a092a",
   "metadata": {},
   "source": [
    "1. 秋庭伸也，《图解机器学习算法》\n",
    "2. Francois Chollet，Deep Learning with Python 2nd Edition"
   ]
  }
 ],
 "metadata": {
  "kernelspec": {
   "display_name": "Python 3 (ipykernel)",
   "language": "python",
   "name": "python3"
  },
  "language_info": {
   "codemirror_mode": {
    "name": "ipython",
    "version": 3
   },
   "file_extension": ".py",
   "mimetype": "text/x-python",
   "name": "python",
   "nbconvert_exporter": "python",
   "pygments_lexer": "ipython3",
   "version": "3.11.7"
  }
 },
 "nbformat": 4,
 "nbformat_minor": 5
}
