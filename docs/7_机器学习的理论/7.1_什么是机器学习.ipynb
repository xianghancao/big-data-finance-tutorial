{
 "cells": [
  {
   "cell_type": "markdown",
   "id": "672fdafb-f287-4432-89b7-df1259064796",
   "metadata": {},
   "source": [
    "# 7.1 什么是机器学习\n",
    "## 1. 机器学习的历史"
   ]
  },
  {
   "cell_type": "markdown",
   "id": "16422def-01c4-4e55-a5bc-7ecd8271365f",
   "metadata": {},
   "source": [
    "<img src='images/history.png' width=600>\n",
    "\n",
    "图1-1 机器学习的历史"
   ]
  },
  {
   "cell_type": "markdown",
   "id": "d2fd2654-05fb-4093-8e9f-f5b10a41a00f",
   "metadata": {},
   "source": [
    "从上世纪战后50年的**符号推理**(Symbolic reasoning)开始，经过近70年的发展，经历了数次寒冬。终于21世纪10年后，随着计算机算力的提升，以及互联网大数据存储和计算技术的普及，以**机器学习**（Machine Learning）和**深度学习**（Deep Learning）为代表的AI模型开始进入大规模应用。"
   ]
  },
  {
   "cell_type": "markdown",
   "id": "7d2613de-2c1a-4f66-aadd-1fddafbffa4e",
   "metadata": {},
   "source": [
    "大多数人听到“机器学习”，往往会在脑海中勾勒出一个机器人：一个可靠的管家，或是一个可怕的终结者，这取决于你问的是谁。但是机器学习并不是未来的幻想，它已经来到我们身边了。\n",
    "\n",
    "事实上，一些特定领域已经应用机器学习几十年了，比如光学字符识别 （Optical Character Recognition，OCR）。但是直到 1990 年代，第一个影响了数亿人的机器学习应用才真正成熟，它就是垃圾邮件过滤器（spam filter）。虽然并不是一个有自我意识的天网系统（Skynet），垃圾邮件过滤器从技术上是符合机器学习的（它可以很好地进行学习，用户几乎不用再标记某个邮件为垃圾邮件）。后来出现了更多的数以百计的机器学习产品，支撑了更多你经常使用的产品和功能，从推荐系统到语音识别。"
   ]
  },
  {
   "cell_type": "markdown",
   "id": "f72bf403-0722-4f57-b75c-1811340b3023",
   "metadata": {},
   "source": [
    "## 2. 什么是机器学习？\n",
    "<img src='images/machine_learning.png' width=400>\n",
    "\n",
    "图1-2 什么是机器学习\n"
   ]
  },
  {
   "cell_type": "markdown",
   "id": "d17b9493-daf0-4ff9-b518-fe5cc128e1b0",
   "metadata": {},
   "source": [
    "\n",
    "**机器学习**（Machine Learning）就是教机器自己来完成任务，就这么简单，而复杂性来源于细节。[1] \n",
    "\n",
    "\n"
   ]
  },
  {
   "cell_type": "markdown",
   "id": "76061cd3-97f2-4b96-9cc9-3215cce3bc06",
   "metadata": {},
   "source": [
    "> Machine Learning is the science (and art) of programming computers so they can learn from data. [2]\n",
    "\n",
    "更一般化的定义:\n",
    "\n",
    "> [Machine Learning is the] field of study that gives computers the ability to learn without being explicitly programmed.\n",
    "—Arthur Samuel, 1959\n",
    "\n",
    "或者更工程导向的定义:\n",
    "\n",
    ">A computer program is said to learn from experience E with respect to some task T and some performance measure P, if its performance on T, as measured by P, improves with experience E.\n",
    "—Tom Mitchell, 1997\n"
   ]
  },
  {
   "cell_type": "markdown",
   "id": "e079a1b4-40e0-4049-95e9-627edd6fed38",
   "metadata": {},
   "source": [
    "\n",
    "想象一下，你手里有很多数据，需要对数据进行识别、分类和预测。但是你又很忙，你想安排机器来完成这些任务。那么机器是你的学生，你就需要扮演老师角色，教一教机器如何自己来完成上述任务。\n",
    "\n",
    "机器学习的目标就是通过若干示例（怎样做或不做）让机器自主学习完成任务。\n",
    "\n"
   ]
  },
  {
   "cell_type": "markdown",
   "id": "4f817061-76e5-4ce9-a7f6-70dbb0edbdd6",
   "metadata": {},
   "source": [
    "机器学习的起点和终点分别是什么呢？确切的讲，机器进行学习是什么意思？如果我下载了一份维基百科的拷贝，我的电脑就真的学会了什么吗？它马上就变聪明了吗？"
   ]
  },
  {
   "cell_type": "markdown",
   "id": "5de7600b-9532-49bc-98e3-68a4c9d0be34",
   "metadata": {},
   "source": [
    "## 参考\n",
    "1. 《机器学习系统设计》Willi Richert等著，图灵程序设计丛书\n",
    "2. 《Hands-On Machine Learning with Scikit-Learn, Keras, and Tensorflow》, Aurelien Geron, OREILLY，中文版在线阅读：https://hands1ml.apachecn.org/#/\n",
    "2. Machine Learning Fundamentals: Bias and Variance, https://www.youtube.com/watch?v=EuBBz3bI-aA&t=191s"
   ]
  }
 ],
 "metadata": {
  "kernelspec": {
   "display_name": "Python 3 (ipykernel)",
   "language": "python",
   "name": "python3"
  },
  "language_info": {
   "codemirror_mode": {
    "name": "ipython",
    "version": 3
   },
   "file_extension": ".py",
   "mimetype": "text/x-python",
   "name": "python",
   "nbconvert_exporter": "python",
   "pygments_lexer": "ipython3",
   "version": "3.11.5"
  },
  "widgets": {
   "application/vnd.jupyter.widget-state+json": {
    "state": {},
    "version_major": 2,
    "version_minor": 0
   }
  }
 },
 "nbformat": 4,
 "nbformat_minor": 5
}
