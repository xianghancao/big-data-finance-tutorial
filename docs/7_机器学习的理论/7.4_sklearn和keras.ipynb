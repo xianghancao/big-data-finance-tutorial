{
 "cells": [
  {
   "cell_type": "markdown",
   "id": "c7be0cce-cc18-4968-8423-318156864db1",
   "metadata": {},
   "source": [
    "# 7.4 sklearn和keras\n"
   ]
  },
  {
   "cell_type": "markdown",
   "id": "e1435439-8633-4d98-9ae0-e7e629ebefd2",
   "metadata": {},
   "source": [
    "了解当前机器学习算法和工具的现状的一个很好的方式是观察Kaggle上的机器学习竞赛。由于其高度竞争的环境（一些比赛有数千名参赛者和百万美元的奖金）以及涵盖的各种机器学习问题。2019年初，Kaggle进行了一项调查，询问了自2017年以来任何一项比赛中进入前五名的团队使用的主要软件工具。结果显示，顶尖团队倾向于使用深度学习方法（最常见的是通过Keras库）或梯度提升树（最常见的是通过LightGBM或XGBoost库）。"
   ]
  },
  {
   "cell_type": "markdown",
   "id": "20873bf8-b751-44e1-a385-c119ea40bad7",
   "metadata": {},
   "source": [
    "<img src='images/Kaggle-tools.png' width=500>"
   ]
  },
  {
   "cell_type": "markdown",
   "id": "59ba751d-bbf0-413c-bb35-7fe6586d85b3",
   "metadata": {},
   "source": [
    "图 Kaggle竞赛中使用的软件工具"
   ]
  },
  {
   "cell_type": "markdown",
   "id": "556846ee-a314-423e-8002-34d9a375fdac",
   "metadata": {},
   "source": [
    "## 1. 机器学习社区\n",
    "<img src='images/kaggle2.png' width=200>\n",
    "\n",
    "链接：<a href=\"https://kaggle.com\" target=\"_blank\">kaggle.com</a>\n",
    "\n",
    "Kaggle是全球最大的数据科学社区，提供了数据科学相关的竞赛和数据集。很多著名企业，例如，在Kaggle平台上发布企业的数据和商业需求，并附带奖金。众多数据科学爱好者在网站上提交自己的解决方案，已赢取排名和奖金。此外，个人用户也可以上传和公开自己的数据集，开放给其他用户使用。这种竞争、开放和分享的氛围，让Kaggle在数据科学领域具有良好的口碑。\n"
   ]
  },
  {
   "cell_type": "markdown",
   "id": "c26400ae-b741-48e5-ac66-cb5ddc7e4d29",
   "metadata": {},
   "source": [
    "## 2. scikit-learn"
   ]
  },
  {
   "cell_type": "markdown",
   "id": "74852541-a14f-4d93-918a-edea3eae9354",
   "metadata": {},
   "source": [
    "<img src='images/sklearn.png' width=300>\n",
    "\n",
    "链接：<a href=\"https://scikit-learn.org/stable/index.html\" target=\"_blank\">scikit-learn.org</a>\n",
    "\n",
    "sklearn 提供基于 Python 语言的包含监督学习、无监督学习相关的机器学习模型，以及数据预处理方法等。"
   ]
  },
  {
   "cell_type": "markdown",
   "id": "92d1d694-c097-40da-bed9-74154fdb8665",
   "metadata": {
    "tags": []
   },
   "source": [
    "### 练习：\n",
    "使用之前学过的pip安装第三方库的方法，来安装scikit-learn，安装方法也可以参考scikit-learn的官网。\n"
   ]
  },
  {
   "cell_type": "markdown",
   "id": "52621226-ce69-4e0d-b95e-586e6fba8a01",
   "metadata": {},
   "source": []
  },
  {
   "cell_type": "markdown",
   "id": "dcd99d98-ec69-4b4b-a6c2-7ae51b2fb03e",
   "metadata": {},
   "source": [
    "## 3. keras"
   ]
  },
  {
   "cell_type": "markdown",
   "id": "537bcb02-1a60-4147-95e0-d6c7100bfb0b",
   "metadata": {},
   "source": [
    "<img src='images/keras.png' width=300>\n",
    "\n",
    "链接：<a href=\"https://keras.io/\" target=\"_blank\">keras.io</a>"
   ]
  },
  {
   "cell_type": "markdown",
   "id": "179591ab-bc45-4d3e-aca8-65d082a69a2b",
   "metadata": {},
   "source": [
    "Keras 提供基于 Python 语言的的深度神经网络API，使构建和训练神经网络相对简单。Keras 在研究、学术界和工业界广泛应用于图像识别、自然语言处理等任务。"
   ]
  },
  {
   "cell_type": "markdown",
   "id": "817a442e-6163-4ffb-9a7a-2fcebb364c29",
   "metadata": {},
   "source": [
    "### 练习：\n",
    "使用之前学过的pip安装第三方库的方法，来安装keras，安装方法也可以参考keras的官网。\n"
   ]
  },
  {
   "cell_type": "markdown",
   "id": "5d837f47-0122-4a7c-85e8-443c2a7a7eec",
   "metadata": {},
   "source": []
  }
 ],
 "metadata": {
  "kernelspec": {
   "display_name": "Python 3 (ipykernel)",
   "language": "python",
   "name": "python3"
  },
  "language_info": {
   "codemirror_mode": {
    "name": "ipython",
    "version": 3
   },
   "file_extension": ".py",
   "mimetype": "text/x-python",
   "name": "python",
   "nbconvert_exporter": "python",
   "pygments_lexer": "ipython3",
   "version": "3.11.5"
  },
  "toc-autonumbering": false,
  "widgets": {
   "application/vnd.jupyter.widget-state+json": {
    "state": {},
    "version_major": 2,
    "version_minor": 0
   }
  }
 },
 "nbformat": 4,
 "nbformat_minor": 5
}
