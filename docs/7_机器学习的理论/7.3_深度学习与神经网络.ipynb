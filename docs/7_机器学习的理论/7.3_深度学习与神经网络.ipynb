{
 "cells": [
  {
   "cell_type": "markdown",
   "id": "628a8119-58f2-41f6-a4b1-e10c330db3e9",
   "metadata": {},
   "source": [
    "# 7.3 深度学习与神经网络"
   ]
  },
  {
   "cell_type": "markdown",
   "id": "6a2501ee-cc0a-4f37-84f9-25bc0b6bc63b",
   "metadata": {},
   "source": [
    "## 深度学习"
   ]
  },
  {
   "cell_type": "markdown",
   "id": "03851b73-6f3e-4184-9583-02dda62fc2b8",
   "metadata": {},
   "source": [
    "深度学习是机器学习的一个特定子领域：一种从数据中学习表示的新方法，它强调学习有意义的连续层次的表示。\n",
    "\n",
    "\"深度\"在\"深度学习\"中并不是指该方法实现了更深层次的理解；相反，它代表了逐渐学习连续层次的表示的想法。模型中有多少层贡献到数据的模型中被称为模型的深度。该领域的其他合适名称可能是分层表示学习或层次化表示学习。现代深度学习通常涉及到数十甚至数百个连续的表示层，它们都是通过暴露于训练数据而自动学习的。"
   ]
  },
  {
   "cell_type": "markdown",
   "id": "2b89ac44-c732-4d45-a4df-b7e60c7e4d5d",
   "metadata": {},
   "source": [
    "在深度学习中，这些分层表示是通过称为神经网络的模型学习的，这些模型被组织成逐层堆叠在一起的字面上的层次结构。\n",
    "\n",
    "术语\"神经网络\"是指神经生物学，但尽管深度学习的一些核心概念部分是受到我们对大脑的理解（尤其是视觉皮层）的启发而发展的，但深度学习模型并不是大脑的模型。没有证据表明大脑实现了任何类似于现代深度学习模型中使用的学习机制。你可能会遇到一些普及科学文章声称深度学习就像大脑一样工作或者是大脑的模型，但事实并非如此。让初学者误以为深度学习与神经生物学有任何关联会很令人困惑且适得其反；你不需要将深度学习包装成与我们的思维方式\"一模一样\"的神秘事物，你也可以忘记你可能读到的有关深度学习与生物学之间假想联系的任何东西。\n",
    "\n",
    "在我们这里，深度学习是一个从数据中学习表示的数学框架。"
   ]
  },
  {
   "cell_type": "markdown",
   "id": "ff5e23d2-10d5-4366-bb57-1daddbd2f9db",
   "metadata": {},
   "source": [
    "<img src='images/DL-digit-classification.png' width=500>"
   ]
  },
  {
   "cell_type": "markdown",
   "id": "a33d6457-c18e-4eda-9b93-c92c7db10fc7",
   "metadata": {},
   "source": [
    "深度学习算法学习到的表示是什么样子的呢？让我们来看一看一个几层深的网络（见上图）是如何将一个数字的图像转换为识别它是什么数字的。"
   ]
  },
  {
   "cell_type": "markdown",
   "id": "02ab10a7-cf11-4a90-9ced-e5afd10d84aa",
   "metadata": {},
   "source": [
    "正如您在图下中所看到的，网络将数字图像转换为与原始图像越来越不同的表示，并且越来越能提供有关最终结果的信息。您可以将深度网络看作是一个多阶段的信息提取过程，在这个过程中，信息经过连续的过滤器，变得越来越纯净。"
   ]
  },
  {
   "cell_type": "markdown",
   "id": "5bef58ce-a503-41fb-8682-358d1f43fce8",
   "metadata": {},
   "source": [
    "<img src='images/DL-digit-classification2.png' width=500>"
   ]
  },
  {
   "cell_type": "markdown",
   "id": "45fb61d6-1424-41f1-b424-cd22339e0c9a",
   "metadata": {},
   "source": [
    "因此，从技术上讲，这就是深度学习：一种学习数据表示的多阶段方法。这是一个简单的想法——但事实证明，足够大规模的简单机制最终可能看起来像魔术一样。"
   ]
  },
  {
   "cell_type": "markdown",
   "id": "a077e465-b6ab-4de8-8319-b4efef47ec33",
   "metadata": {},
   "source": [
    "## 神经网络"
   ]
  },
  {
   "cell_type": "markdown",
   "id": "698fbedb-c808-421e-a3b3-1fa4fd7b49a6",
   "metadata": {},
   "source": [
    "神经网络(Neural Network，NN)既可以用于回归，也可以用于分类，但在实际应用中常用于分类。基于神经网络的深度学习因在图像识别和语音识别等领域表现优异而广为人知。"
   ]
  },
  {
   "cell_type": "markdown",
   "id": "1a1c2881-6a1c-467b-aa46-ec770d8d6e76",
   "metadata": {},
   "source": [
    "<img src='images/NN.png' width=300>\n",
    "\n",
    "图 神经网络的典型网络结构"
   ]
  },
  {
   "cell_type": "markdown",
   "id": "22ee01ef-ca24-4b3b-971f-88798463ebab",
   "metadata": {},
   "source": [
    "神经网络在输入数据和输出结果之间插入了叫作中间层的层，能够学习复杂的决策边界。它既可以用于回归，也可以用于分类，但主要还是应用于分类问题。本 节也以分类问题为例进行说明。"
   ]
  },
  {
   "cell_type": "markdown",
   "id": "52bef383-e85d-47f1-91d9-bd017b9ce1b2",
   "metadata": {},
   "source": [
    "<img src='images/MNIST.png' width=400>\n",
    "\n",
    "图 MNIST 手写数字数据示例"
   ]
  },
  {
   "cell_type": "markdown",
   "id": "9cb4e089-6e9c-4867-8949-cafc4ad48802",
   "metadata": {},
   "source": [
    "本次创建的神经网络如图所示，图中省略了各个节点之间的连接线。"
   ]
  },
  {
   "cell_type": "markdown",
   "id": "c931ce4b-47af-48ab-9337-5acb87218857",
   "metadata": {},
   "source": [
    "<img src='images/MNIST-NN.png' width=600>\n",
    "\n",
    "图 MNIST神经网络构建"
   ]
  },
  {
   "cell_type": "markdown",
   "id": "adb87905-321e-44d7-85d2-27bd92f20c3e",
   "metadata": {},
   "source": [
    "输入层表示输入图像(64 维向量)本身。如果将各个点的像素值存储在长度为 64 的一维数组的元 素中，则可以将其视为 64 维数据来处理。下面通过神经网络来学习使用上述方法得到的 64 维数据。\n",
    "中间层使用 Sigmoid 等非线性函数计算输入层传来的数据。中间层的维度是超参数。使维度变 大可以学习更加复杂的边界，但是容易发生过拟合。本次设置中间层为 16 维。下面的“算法说明” 部分将再次介绍中间层的计算方法、中间层的维度和学习结果的关系。\n",
    "输出层也同样使用非线性函数计算中间层传来的数据。本次任务是对 0 ~ 9 这 10 个数字进行 分类。因此，输出层输出的是输入手写图像分别为 0 ~ 9 这 10 个数字的概率。\n",
    "下面使用这个神经网络进行学习，并进行分类(图 4)。"
   ]
  },
  {
   "cell_type": "markdown",
   "id": "ed2effb7-8518-4fcb-ae5f-d457a70f589a",
   "metadata": {},
   "source": [
    "<img src='images/MNIST2.png' width=400>\n",
    "\n",
    "图 使用神经网络进行分类"
   ]
  },
  {
   "cell_type": "markdown",
   "id": "0bf5db63-4727-418b-9bbb-0dc9cd3ab58b",
   "metadata": {},
   "source": [
    "图中的 Label 代表作为正确答案的数字，Prediction 代表作为神经网络的分类结果的数字，下方的图像是输入数据。可以看出，神经网络可以正确地识别出这些手写数字。"
   ]
  },
  {
   "cell_type": "markdown",
   "id": "d88749e2-8db7-4cf1-8691-d9c871156053",
   "metadata": {},
   "source": [
    "## 参考"
   ]
  },
  {
   "cell_type": "markdown",
   "id": "84a55a06-77af-4b81-b65f-cc032ca6cd73",
   "metadata": {},
   "source": [
    "1. 秋庭伸也，《图解机器学习算法》\n",
    "2. Francois Chollet，Deep Learning with Python 2nd Edition"
   ]
  }
 ],
 "metadata": {
  "kernelspec": {
   "display_name": "Python 3 (ipykernel)",
   "language": "python",
   "name": "python3"
  },
  "language_info": {
   "codemirror_mode": {
    "name": "ipython",
    "version": 3
   },
   "file_extension": ".py",
   "mimetype": "text/x-python",
   "name": "python",
   "nbconvert_exporter": "python",
   "pygments_lexer": "ipython3",
   "version": "3.11.5"
  }
 },
 "nbformat": 4,
 "nbformat_minor": 5
}
