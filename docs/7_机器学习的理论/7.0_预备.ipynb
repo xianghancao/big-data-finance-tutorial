{
 "cells": [
  {
   "cell_type": "markdown",
   "id": "30f37531-d2ef-4e3d-a74e-9e9936301123",
   "metadata": {},
   "source": [
    "# 7 机器学习模型"
   ]
  },
  {
   "cell_type": "markdown",
   "id": "ac16cdbf-166a-4a3e-825f-473dde77d147",
   "metadata": {},
   "source": [
    "## 名词解释"
   ]
  },
  {
   "cell_type": "markdown",
   "id": "33f531de-5b8b-48f3-abef-297441e1b0b0",
   "metadata": {},
   "source": [
    "请使用各类资源和工具，完成以下名词解释：\n",
    "- 数据挖掘\n",
    "- 机器学习\n",
    "- 算法\n",
    "- 回归\n",
    "- 分类\n",
    "- 优化\n",
    "- 线性和非线性\n"
   ]
  },
  {
   "cell_type": "markdown",
   "id": "8d7f1022-4693-438e-9849-a15f55db017e",
   "metadata": {},
   "source": [
    "## 视频"
   ]
  },
  {
   "cell_type": "markdown",
   "id": "6eeec375-0904-47a7-bdb5-91ec50854be6",
   "metadata": {},
   "source": []
  },
  {
   "cell_type": "markdown",
   "id": "dc350d14-def0-465a-a8e4-0ec02ffc0b65",
   "metadata": {},
   "source": [
    "## 网络资源"
   ]
  },
  {
   "cell_type": "markdown",
   "id": "c6f2d7bc-b1f7-427d-a798-03b48905202a",
   "metadata": {},
   "source": []
  }
 ],
 "metadata": {
  "kernelspec": {
   "display_name": "Python 3 (ipykernel)",
   "language": "python",
   "name": "python3"
  },
  "language_info": {
   "codemirror_mode": {
    "name": "ipython",
    "version": 3
   },
   "file_extension": ".py",
   "mimetype": "text/x-python",
   "name": "python",
   "nbconvert_exporter": "python",
   "pygments_lexer": "ipython3",
   "version": "3.11.5"
  }
 },
 "nbformat": 4,
 "nbformat_minor": 5
}
