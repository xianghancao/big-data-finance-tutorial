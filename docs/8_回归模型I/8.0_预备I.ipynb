{
 "cells": [
  {
   "cell_type": "markdown",
   "id": "5f22c7f7-4aa1-46b8-a696-1b5a1864df69",
   "metadata": {},
   "source": [
    "# 8 回归模型I"
   ]
  },
  {
   "cell_type": "markdown",
   "id": "8e273d4f-9e6c-43e4-a3a8-861eafe1e913",
   "metadata": {},
   "source": [
    "基于监督回归的机器学习是一种预测性的建模形式，其目标是通过建模目标变量与预测变量之间的关系，从而估计一系列可能的连续性结果。这类模型是金融领域应用最广泛的机器学习模型之一。\n"
   ]
  },
  {
   "cell_type": "markdown",
   "id": "3cfbe73b-b69e-420b-9031-65d27836ea89",
   "metadata": {},
   "source": [
    "线性回归模型在金融市场中具有广泛的应用。它可以用来分析和预测金融资产的价格、收益率、波动率等重要指标，帮助投资者进行风险管理、资产配置和交易决策。 资产定价模型（CAPM）是一种线性回归模型，用来解释资产的预期收益率与市场风险之间的关系。它可以帮助投资者确定资产的预期回报，并评估资产的风险水平。"
   ]
  },
  {
   "cell_type": "markdown",
   "id": "adc99a63-fb3a-49a6-a006-352e9b1c8aa7",
   "metadata": {},
   "source": [
    "## 名词解释"
   ]
  },
  {
   "cell_type": "markdown",
   "id": "6000e5f0-5604-4404-b2ef-57380d5a8041",
   "metadata": {},
   "source": [
    "请使用网络工具和图书馆资源，完成以下名词解释：\n"
   ]
  },
  {
   "cell_type": "markdown",
   "id": "a32d09c2-58e3-4fdc-bfa0-b24705dc0aae",
   "metadata": {},
   "source": [
    "- 解释变量\n",
    "- OLS\n",
    "- 相关系数\n",
    "- 线性回归\n",
    "- 拟合优度\n",
    "- 预测误差\n",
    "- 多因子模型"
   ]
  },
  {
   "cell_type": "markdown",
   "id": "b650ef02-9ffa-405c-9ae0-42dc24b74cf6",
   "metadata": {},
   "source": [
    "## 视频"
   ]
  },
  {
   "cell_type": "markdown",
   "id": "ad33e8ee-6947-4c08-bc65-bf5afca64054",
   "metadata": {},
   "source": [
    "视频一：<a href=\"https://player.bilibili.com/player.html?aid=27266418&bvid=BV16s411N798&cid=47007836&p=1&autoplay=0\" target=\"_blank\">诺贝尔奖得主Fama和Thaler辩论市场是否有效</a>"
   ]
  },
  {
   "cell_type": "markdown",
   "id": "df9a2232-75e8-4100-90ab-08f26be0625b",
   "metadata": {},
   "source": [
    "<iframe src=\"https://player.bilibili.com/player.html?aid=27266418&bvid=BV16s411N798&cid=47007836&p=1&autoplay=0 allowfullscreen=\"allowfullscreen\" width=\"80%\" height=\"350\" scrolling=\"no\" frameborder=\"0\" sandbox=\"allow-top-navigation allow-same-origin allow-forms allow-scripts\"></iframe>"
   ]
  }
 ],
 "metadata": {
  "kernelspec": {
   "display_name": "Python 3 (ipykernel)",
   "language": "python",
   "name": "python3"
  },
  "language_info": {
   "codemirror_mode": {
    "name": "ipython",
    "version": 3
   },
   "file_extension": ".py",
   "mimetype": "text/x-python",
   "name": "python",
   "nbconvert_exporter": "python",
   "pygments_lexer": "ipython3",
   "version": "3.11.5"
  }
 },
 "nbformat": 4,
 "nbformat_minor": 5
}
