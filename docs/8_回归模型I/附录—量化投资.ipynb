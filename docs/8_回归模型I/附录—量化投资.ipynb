{
 "cells": [
  {
   "cell_type": "markdown",
   "id": "2f7c9bd9-e986-4d75-909e-f1d8de15af1f",
   "metadata": {},
   "source": [
    "# 附录：量化投资"
   ]
  },
  {
   "cell_type": "markdown",
   "id": "b2ed4ce3-dbc9-413e-af34-42bc08f143b0",
   "metadata": {},
   "source": [
    "\n",
    "如果说投资是一场冒险，那么以数据和模型为依托的量化投资就是一场科学的冒险。相比起挑选主动基金时辨人的风险，量化投资可以用更加科学严谨的模型来确保投资风格不漂移，规避主观情绪波动带来的非理性操作。尽管机器学习算法在图像识别和语音识别等方面取得了颠覆性突破，90%以上的识别准确率确实让人热血澎湃，但我们要深刻认识到资产定价与简单预测问题的本质区别，要清楚金融数据与图像、信号等数据的差异性。\n"
   ]
  },
  {
   "cell_type": "markdown",
   "id": "fea1b216-a83b-4b89-8a03-ddeae03b1542",
   "metadata": {
    "tags": []
   },
   "source": [
    "量化基金已经逐渐跻身到美国投资市场的主流，顶尖的量化机构也都形成了自己鲜明的特色，如以海外 AQR 为代表的学术量化派；以WorldQuant为代表的因子数据挖掘派和以西蒙斯的Medallion(大奖章)基金为代表的高频科技派等。不管哪种流派，背后都是海量的数据和神秘的模型。"
   ]
  },
  {
   "cell_type": "markdown",
   "id": "5f540de5-365f-42c4-89d8-08f068868951",
   "metadata": {},
   "source": []
  }
 ],
 "metadata": {
  "kernelspec": {
   "display_name": "Python 3 (ipykernel)",
   "language": "python",
   "name": "python3"
  },
  "language_info": {
   "codemirror_mode": {
    "name": "ipython",
    "version": 3
   },
   "file_extension": ".py",
   "mimetype": "text/x-python",
   "name": "python",
   "nbconvert_exporter": "python",
   "pygments_lexer": "ipython3",
   "version": "3.11.5"
  }
 },
 "nbformat": 4,
 "nbformat_minor": 5
}
