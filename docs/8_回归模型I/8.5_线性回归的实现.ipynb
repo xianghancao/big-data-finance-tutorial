{
 "cells": [
  {
   "cell_type": "markdown",
   "id": "15ccd106-75be-45f8-a3a6-24c1c234c508",
   "metadata": {},
   "source": [
    "# 8.5 线性回归的实现"
   ]
  },
  {
   "cell_type": "markdown",
   "id": "3dab58be-55a6-42ed-9cd9-ce44d85cfa27",
   "metadata": {},
   "source": [
    "在Python中，你可以使用scikit-learn库或者statsmodels库来实现一元线性回归。"
   ]
  },
  {
   "cell_type": "markdown",
   "id": "1f06e78e-e9cb-4a94-940f-ee5fd697eab0",
   "metadata": {},
   "source": [
    "## 1. sklearn机器学习库linear_model模块"
   ]
  },
  {
   "cell_type": "markdown",
   "id": "6a6c4865-260b-4944-b5d8-98afd3b848d9",
   "metadata": {},
   "source": [
    "sklearn机器学习库linear_model模块下的LinearRegression类如下：\n",
    "```python\n",
    "class sklearn.linear_model.LinearRegression(*, fit_intercept=True, copy_X=True, n_jobs=None, positive=False)[source]¶\n",
    "```"
   ]
  },
  {
   "cell_type": "markdown",
   "id": "b3bd561e-afa4-4206-867b-16d2b3d49db4",
   "metadata": {},
   "source": [
    "|类别|名称|含义|\n",
    "|---|---|---|\n",
    "|**参数**|**fit_intercept**|默认为True，是否计算模型的截距，如果设为False，是指数据是以原点为中心的，不会计算截距。|\n",
    "|**属性**|**coef_**|线性回归问题的估计系数。|\n",
    "||**intercept_**|线性模型中的独立项，也就是截距|\n",
    "|**方法**|**fit(X, y)**|训练模型（或称估计器、学习器）|\n",
    "||**predict(X)**|在训练后，使用模型预测|\n",
    "||**score(X, y)**|用来计算模型的精度|\n",
    "||**get_params()**|获得模型的参数|"
   ]
  },
  {
   "cell_type": "markdown",
   "id": "4f1d6af7-78bd-4d7b-8662-6323fa85d36d",
   "metadata": {},
   "source": [
    "### 1.1 模型输入X和y"
   ]
  },
  {
   "cell_type": "markdown",
   "id": "eac338a8-e93a-4a4a-93c3-10c6872269ab",
   "metadata": {},
   "source": [
    "上述回归模型中使用$X$和$y$的数据结构如下，$X$包含多个样本，以及每个样本的属性，也就是自变量，和X的每个样本对应的就是我们的预测目标$y$，也就是因变量。\n",
    "\n",
    "在实际编程中，一般使用pd.DataFrame来表示$X$和$y$。"
   ]
  },
  {
   "cell_type": "markdown",
   "id": "27d0bdd3-78cf-4c49-a9ab-a68b2ea591d0",
   "metadata": {},
   "source": [
    "![X&y](images/X&y.png)"
   ]
  },
  {
   "cell_type": "markdown",
   "id": "97390d0f-4eca-4ae0-a2a5-2f7cb44eeabc",
   "metadata": {},
   "source": [
    "### 1.2 实现流程\n",
    "针对于多元回归分析，其一般化的流程如下：\n",
    "\n",
    "![regression_steps](images/regression_steps.jpg)"
   ]
  },
  {
   "cell_type": "markdown",
   "id": "a8994f9e-7fae-46ce-a0c4-ff710376c506",
   "metadata": {},
   "source": [
    "1）创建学习器，也就是初始化线性回归模型\n",
    "```python\n",
    "from sklearn.linear_model import LinearRegression\n",
    "model = LinearRegression()\n",
    "```"
   ]
  },
  {
   "cell_type": "markdown",
   "id": "38eb44b1-503d-4143-a2c3-cfc2b12493e3",
   "metadata": {},
   "source": [
    "也可以这样表述：\n",
    "```python\n",
    "from sklearn import linear_model\n",
    "model = linear_model.LinearRegression()\n",
    "```"
   ]
  },
  {
   "cell_type": "markdown",
   "id": "e11ef978-00a8-47a2-8040-70af7c062b4f",
   "metadata": {},
   "source": [
    "2）训练模型\n",
    "```python\n",
    "model.fit(X, y)\n",
    "```"
   ]
  },
  {
   "cell_type": "markdown",
   "id": "92793a74-c41f-42b9-8ac0-4f10eba90180",
   "metadata": {},
   "source": [
    "3）生成预测结果\n",
    "```python\n",
    "predicted_y = model.predict(X)\n",
    "```"
   ]
  },
  {
   "cell_type": "markdown",
   "id": "a65c2db9-3f55-4f45-a699-d021843ccb73",
   "metadata": {},
   "source": [
    "4）计算模型预测精度和拟合优度$R^2$\n",
    "```python\n",
    "precision = model.score(X, y)\n",
    "```\n",
    "```python\n",
    "from sklearn.metrics import r2_score\n",
    "r2 = r2_score(predicted_y, y)\n",
    "```"
   ]
  },
  {
   "cell_type": "markdown",
   "id": "27646ec6-6c4e-4811-ba64-22b6a9a7284c",
   "metadata": {},
   "source": [
    "5）生成汇总信息（summary）\n",
    "```python\n",
    "print(\"系数（beta1）: %s\" %model.coef_)\n",
    "print(\"截距（beta0）: %.4f\" %model.intercept_)\n",
    "print(\"样本内(IS)训练集精度:%.2f\" %precision)\n",
    "print(\"拟合优度R-squared: %.2f\" % r2)\n",
    "```"
   ]
  },
  {
   "cell_type": "markdown",
   "id": "63f5b477-43cb-485a-b824-42941c6c22aa",
   "metadata": {},
   "source": [
    "## 2. 使用statsmodels库来实现一元线性回归"
   ]
  },
  {
   "cell_type": "markdown",
   "id": "5a6562e8-e691-4b52-82be-dfec65dd20ca",
   "metadata": {},
   "source": [
    "使用statsmodels库来实现一元线性回归也很简单。以下是一个示例代码："
   ]
  },
  {
   "cell_type": "code",
   "execution_count": 1,
   "id": "be7eed65-0dc0-4fa7-8f22-107a42c1e389",
   "metadata": {
    "tags": []
   },
   "outputs": [
    {
     "name": "stdout",
     "output_type": "stream",
     "text": [
      "                            OLS Regression Results                            \n",
      "==============================================================================\n",
      "Dep. Variable:                      y   R-squared:                       1.000\n",
      "Model:                            OLS   Adj. R-squared:                  1.000\n",
      "Method:                 Least Squares   F-statistic:                 3.042e+31\n",
      "Date:                Sun, 05 May 2024   Prob (F-statistic):           1.31e-47\n",
      "Time:                        21:00:55   Log-Likelihood:                 169.66\n",
      "No. Observations:                   5   AIC:                            -335.3\n",
      "Df Residuals:                       3   BIC:                            -336.1\n",
      "Df Model:                           1                                         \n",
      "Covariance Type:            nonrobust                                         \n",
      "==============================================================================\n",
      "                 coef    std err          t      P>|t|      [0.025      0.975]\n",
      "------------------------------------------------------------------------------\n",
      "const          1.0000   6.01e-16   1.66e+15      0.000       1.000       1.000\n",
      "x1             1.0000   1.81e-16   5.52e+15      0.000       1.000       1.000\n",
      "==============================================================================\n",
      "Omnibus:                          nan   Durbin-Watson:                   0.400\n",
      "Prob(Omnibus):                    nan   Jarque-Bera (JB):                0.770\n",
      "Skew:                          -0.844   Prob(JB):                        0.680\n",
      "Kurtosis:                       2.078   Cond. No.                         8.37\n",
      "==============================================================================\n",
      "\n",
      "Notes:\n",
      "[1] Standard Errors assume that the covariance matrix of the errors is correctly specified.\n"
     ]
    },
    {
     "name": "stderr",
     "output_type": "stream",
     "text": [
      "/Users/xhc/miniconda3/envs/d2l/lib/python3.11/site-packages/statsmodels/stats/stattools.py:74: ValueWarning: omni_normtest is not valid with less than 8 observations; 5 samples were given.\n",
      "  warn(\"omni_normtest is not valid with less than 8 observations; %i \"\n"
     ]
    }
   ],
   "source": [
    "import statsmodels.api as sm\n",
    "import numpy as np\n",
    "\n",
    "# 构造样本数据\n",
    "x = np.array([1, 2, 3, 4, 5])\n",
    "y = np.array([2, 3, 4, 5, 6])\n",
    "\n",
    "# 添加常数项（截距）\n",
    "x = sm.add_constant(x)\n",
    "\n",
    "# 创建模型对象\n",
    "model = sm.OLS(y, x)\n",
    "\n",
    "# 拟合模型\n",
    "result = model.fit()\n",
    "\n",
    "# 打印模型摘要\n",
    "print(result.summary())\n"
   ]
  },
  {
   "cell_type": "markdown",
   "id": "201d0a25-1b5f-457a-a637-ac6d1f55fcc8",
   "metadata": {},
   "source": []
  },
  {
   "cell_type": "markdown",
   "id": "889a2a99-24ef-4a0e-a87a-9ec78689302e",
   "metadata": {},
   "source": [
    "## 参考\n",
    "1. https://www.jmp.com/en_us/statistics-knowledge-portal/what-is-regression.html\n",
    "2. 詹姆斯\\*斯托克，马克\\*沃森《计量经济学》第三版\n",
    "1. sklearn官网：[链接](https://scikit-learn.org/stable/modules/generated/sklearn.linear_model.LinearRegression.html#sklearn.linear_model.LinearRegression)"
   ]
  }
 ],
 "metadata": {
  "kernelspec": {
   "display_name": "Python 3 (ipykernel)",
   "language": "python",
   "name": "python3"
  },
  "language_info": {
   "codemirror_mode": {
    "name": "ipython",
    "version": 3
   },
   "file_extension": ".py",
   "mimetype": "text/x-python",
   "name": "python",
   "nbconvert_exporter": "python",
   "pygments_lexer": "ipython3",
   "version": "3.11.5"
  },
  "widgets": {
   "application/vnd.jupyter.widget-state+json": {
    "state": {},
    "version_major": 2,
    "version_minor": 0
   }
  }
 },
 "nbformat": 4,
 "nbformat_minor": 5
}
