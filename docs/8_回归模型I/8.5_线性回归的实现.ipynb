{
 "cells": [
  {
   "cell_type": "markdown",
   "id": "15ccd106-75be-45f8-a3a6-24c1c234c508",
   "metadata": {},
   "source": [
    "# 8.5 线性回归的实现"
   ]
  },
  {
   "cell_type": "markdown",
   "id": "6a6c4865-260b-4944-b5d8-98afd3b848d9",
   "metadata": {},
   "source": [
    "线性回归的Python实现主要使用sklearn机器学习库linear_model模块下的LinearRegression类。\n",
    "```python\n",
    "class sklearn.linear_model.LinearRegression(*, fit_intercept=True, copy_X=True, n_jobs=None, positive=False)[source]¶\n",
    "```"
   ]
  },
  {
   "cell_type": "markdown",
   "id": "b3bd561e-afa4-4206-867b-16d2b3d49db4",
   "metadata": {},
   "source": [
    "|类别|名称|含义|\n",
    "|---|---|---|\n",
    "|**参数**|**fit_intercept**|默认为True，是否计算模型的截距，如果设为False，是指数据是以原点为中心的，不会计算截距。|\n",
    "|**属性**|**coef_**|线性回归问题的估计系数。|\n",
    "||**intercept_**|线性模型中的独立项，也就是截距|\n",
    "|**方法**|**fit(X, y)**|训练模型（或称估计器、学习器）|\n",
    "||**predict(X)**|在训练后，使用模型预测|\n",
    "||**score(X, y)**|用来计算模型的精度|\n",
    "||**get_params()**|获得模型的参数|"
   ]
  },
  {
   "cell_type": "markdown",
   "id": "4f1d6af7-78bd-4d7b-8662-6323fa85d36d",
   "metadata": {},
   "source": [
    "## 1. 模型输入X和y"
   ]
  },
  {
   "cell_type": "markdown",
   "id": "eac338a8-e93a-4a4a-93c3-10c6872269ab",
   "metadata": {},
   "source": [
    "上述回归模型中使用$X$和$y$的数据结构如下，$X$包含多个样本，以及每个样本的属性，也就是自变量，和X的每个样本对应的就是我们的预测目标$y$，也就是因变量。\n",
    "\n",
    "在实际编程中，一般使用pd.DataFrame来表示$X$和$y$。"
   ]
  },
  {
   "cell_type": "markdown",
   "id": "27d0bdd3-78cf-4c49-a9ab-a68b2ea591d0",
   "metadata": {},
   "source": [
    "![X&y](images/X&y.png)"
   ]
  },
  {
   "cell_type": "markdown",
   "id": "97390d0f-4eca-4ae0-a2a5-2f7cb44eeabc",
   "metadata": {},
   "source": [
    "## 2. 实现流程\n",
    "针对于多元回归分析，其一般化的流程如下：\n",
    "\n",
    "![regression_steps](images/regression_steps.jpg)"
   ]
  },
  {
   "cell_type": "markdown",
   "id": "a8994f9e-7fae-46ce-a0c4-ff710376c506",
   "metadata": {},
   "source": [
    "1）创建学习器，也就是初始化线性回归模型\n",
    "```python\n",
    "from sklearn.linear_model import LinearRegression\n",
    "model = LinearRegression()\n",
    "```"
   ]
  },
  {
   "cell_type": "markdown",
   "id": "38eb44b1-503d-4143-a2c3-cfc2b12493e3",
   "metadata": {},
   "source": [
    "也可以这样表述：\n",
    "```python\n",
    "from sklearn import linear_model\n",
    "model = linear_model.LinearRegression()\n",
    "```"
   ]
  },
  {
   "cell_type": "markdown",
   "id": "e11ef978-00a8-47a2-8040-70af7c062b4f",
   "metadata": {},
   "source": [
    "2）训练模型\n",
    "```python\n",
    "model.fit(X, y)\n",
    "```"
   ]
  },
  {
   "cell_type": "markdown",
   "id": "92793a74-c41f-42b9-8ac0-4f10eba90180",
   "metadata": {},
   "source": [
    "3）生成预测结果\n",
    "```python\n",
    "predicted_y = model.predict(X)\n",
    "```"
   ]
  },
  {
   "cell_type": "markdown",
   "id": "a65c2db9-3f55-4f45-a699-d021843ccb73",
   "metadata": {},
   "source": [
    "4）计算模型预测精度和拟合优度$R^2$\n",
    "```python\n",
    "precision = model.score(X, y)\n",
    "```\n",
    "```python\n",
    "from sklearn.metrics import r2_score\n",
    "r2 = r2_score(predicted_y, y)\n",
    "```"
   ]
  },
  {
   "cell_type": "markdown",
   "id": "27646ec6-6c4e-4811-ba64-22b6a9a7284c",
   "metadata": {},
   "source": [
    "5）生成汇总信息（summary）\n",
    "```python\n",
    "print(\"系数: %s\" %model.coef_)\n",
    "print(\"截距: %.4f\" %model.intercept_)\n",
    "print(\"样本内(IS)训练集精度:%.2f\" %precision)\n",
    "print(\"拟合优度R-squared: %.2f\" % r2)\n",
    "```"
   ]
  },
  {
   "cell_type": "markdown",
   "id": "889a2a99-24ef-4a0e-a87a-9ec78689302e",
   "metadata": {},
   "source": [
    "## 参考\n",
    "1. https://www.jmp.com/en_us/statistics-knowledge-portal/what-is-regression.html\n",
    "2. 詹姆斯\\*斯托克，马克\\*沃森《计量经济学》第三版\n",
    "1. sklearn官网：[链接](https://scikit-learn.org/stable/modules/generated/sklearn.linear_model.LinearRegression.html#sklearn.linear_model.LinearRegression)"
   ]
  }
 ],
 "metadata": {
  "kernelspec": {
   "display_name": "Python 3 (ipykernel)",
   "language": "python",
   "name": "python3"
  },
  "language_info": {
   "codemirror_mode": {
    "name": "ipython",
    "version": 3
   },
   "file_extension": ".py",
   "mimetype": "text/x-python",
   "name": "python",
   "nbconvert_exporter": "python",
   "pygments_lexer": "ipython3",
   "version": "3.11.5"
  },
  "widgets": {
   "application/vnd.jupyter.widget-state+json": {
    "state": {},
    "version_major": 2,
    "version_minor": 0
   }
  }
 },
 "nbformat": 4,
 "nbformat_minor": 5
}
