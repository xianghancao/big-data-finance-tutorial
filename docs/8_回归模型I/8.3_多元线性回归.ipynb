{
 "cells": [
  {
   "cell_type": "markdown",
   "id": "88880618-3dec-4f68-bfa6-f5285500ae11",
   "metadata": {},
   "source": [
    "## 8.3 多元线性回归"
   ]
  },
  {
   "cell_type": "markdown",
   "id": "722ccaac-6557-4291-a7cd-35b768a0bb8a",
   "metadata": {},
   "source": [
    "![multi_regression](images/multi_regression.png)"
   ]
  },
  {
   "cell_type": "markdown",
   "id": "0bbb9edc-50c8-4b2c-8a0a-a837dc670431",
   "metadata": {},
   "source": [
    "多元回归模型是：\n",
    "\n",
    "$$\n",
    "Y_i = \\beta_0 + \\beta_1X_{1i} + \\beta_2X_{2i} + ... +\\beta_kX_{ki} + \\mu_i,i=1,...,n\n",
    "$$\n",
    "\n",
    "其中：\n",
    "\n",
    "- $Y_i$是被解释变量的第$i$个观测值；$X_{1i},X_{2i},...,X_{ki}$是$k$个解释变量的第$i$个观测值；$\\mu_i$是误差项。\n",
    "- 总体回归线表示的是$Y$和$X$之间的总体平均关系。\n",
    "- $\\beta_1$是$X_1$的斜率系数；$\\beta2$是$X_2$的斜率系数，等等。\n",
    "- 截距$\\beta_0$是当所有解释变量$X$取值为零时$Y$期望值。\n",
    "\n"
   ]
  },
  {
   "cell_type": "markdown",
   "id": "56364176-1fb2-4852-9597-2ccb4179e357",
   "metadata": {},
   "source": [
    "\n",
    "估计量$\\hat{\\beta_0},\\hat{\\beta_1},...,\\hat{\\beta_k}$为使得预测误差平方和$\\sum^n_{i=1}(Y_i-\\beta_0-\\beta_1X_{1i}-...-\\beta_kX_{ki})^2$达到最小的$\\beta_0,\\beta_1,...,\\beta_k$取值。\n",
    "\n",
    "预测值$\\hat{Y_i}$和残差$\\hat{u_i}$分别为：\n",
    "\n",
    "$$\n",
    "\\hat{Y_i}=\\hat{\\beta_0} + \\hat{\\beta_1}X_{1i} + ... + \\hat{\\beta_k}X_{ki}, i=1,...,n\n",
    "$$\n",
    "\n",
    "$$\n",
    "\\hat{u_i}=Y_i-\\hat{Y_i}, i=1,...,n\n",
    "$$\n",
    "\n",
    "其中估计量$\\hat{\\beta_0},\\hat{\\beta_1},...,\\hat{\\beta_k}$和残差$\\hat{u_i}$都是利用$n$组样本观测数据$(X_{1i}, ..., X_{ki},Y_i), i=1,...n$计算得到的。它们分别是未知真实总体系数$\\beta_0,\\beta_1,...,\\beta_k$和误差项$\\mu_i$的估计量。\n",
    "\n",
    "我们使用OLS方法求的$\\hat{\\beta_0},\\hat{\\beta_1},...,\\hat{\\beta_k}$，为普通最小二乘(OLS)估计量。"
   ]
  }
 ],
 "metadata": {
  "kernelspec": {
   "display_name": "Python 3 (ipykernel)",
   "language": "python",
   "name": "python3"
  },
  "language_info": {
   "codemirror_mode": {
    "name": "ipython",
    "version": 3
   },
   "file_extension": ".py",
   "mimetype": "text/x-python",
   "name": "python",
   "nbconvert_exporter": "python",
   "pygments_lexer": "ipython3",
   "version": "3.11.5"
  },
  "widgets": {
   "application/vnd.jupyter.widget-state+json": {
    "state": {},
    "version_major": 2,
    "version_minor": 0
   }
  }
 },
 "nbformat": 4,
 "nbformat_minor": 5
}
