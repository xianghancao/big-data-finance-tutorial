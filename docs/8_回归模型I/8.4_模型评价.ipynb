{
 "cells": [
  {
   "cell_type": "markdown",
   "id": "2f4f1a6e-6790-4933-afc0-961890034653",
   "metadata": {},
   "source": [
    "# 8.4 模型评价\n"
   ]
  },
  {
   "cell_type": "markdown",
   "id": "3b936077-57f6-4820-8c9e-7a8beac6d31a",
   "metadata": {},
   "source": [
    "\n",
    "## 1. SER\n",
    "\n",
    "回归标准误（SER）是对误差项$\\mu_i$标准差的估计，故SER可用来度量$Y$的分布在回归线周围的离散程度。\n",
    "\n",
    "$$\n",
    "SER = s_{\\hat{u}}=\\sqrt{s^2_{\\hat{u}}}\n",
    "$$\n",
    "\n",
    "\n"
   ]
  },
  {
   "cell_type": "markdown",
   "id": "0866285f-983f-460f-a035-920b5deadac4",
   "metadata": {},
   "source": [
    "\n",
    "## 2. $R^2$\n",
    "\n",
    "$$\n",
    "R^2 = \\frac{ESS}{TSS}=\\frac{\\sum^n_{i=1}{(\\hat{Y_i}-\\bar{Y})^2}}{\\sum^n_{i=1}{(Y_i-\\bar{Y})^2}}\n",
    "$$\n",
    "\n",
    "$$\n",
    "R^2 = \\frac{ESS}{TSS}=1-\\frac{SSR}{TSS}\n",
    "$$\n",
    "\n",
    "$$\n",
    "R^2 = 1-\\frac{SSR}{TSS}\n",
    "$$\n",
    "\n",
    "$$\n",
    "SSR为残差平方和\n",
    "$$\n",
    "\n"
   ]
  },
  {
   "cell_type": "markdown",
   "id": "34a5474d-daa7-48b7-85f6-d5d73709f2df",
   "metadata": {},
   "source": [
    "\n",
    "### 2.1  调整$R^2$\n",
    "\n",
    "$$\n",
    "\\bar{R}^2=1-\\frac{n-1}{n-k-1}\\frac{SSR}{TSS}=1-\\frac{s^2_\\hat{u}}{s^2_Y}\n",
    "$$\n",
    "\n",
    "$$\n",
    "k:斜率系数和截距的数量\n",
    "$$"
   ]
  }
 ],
 "metadata": {
  "kernelspec": {
   "display_name": "Python 3 (ipykernel)",
   "language": "python",
   "name": "python3"
  },
  "language_info": {
   "codemirror_mode": {
    "name": "ipython",
    "version": 3
   },
   "file_extension": ".py",
   "mimetype": "text/x-python",
   "name": "python",
   "nbconvert_exporter": "python",
   "pygments_lexer": "ipython3",
   "version": "3.11.5"
  },
  "widgets": {
   "application/vnd.jupyter.widget-state+json": {
    "state": {},
    "version_major": 2,
    "version_minor": 0
   }
  }
 },
 "nbformat": 4,
 "nbformat_minor": 5
}
