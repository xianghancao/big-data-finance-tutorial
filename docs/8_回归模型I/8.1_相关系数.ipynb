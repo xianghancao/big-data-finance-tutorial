{
 "cells": [
  {
   "cell_type": "markdown",
   "id": "1df15a68-9f8d-421c-ad28-fc11b65180f5",
   "metadata": {},
   "source": [
    "# 8.1 相关性分析\n"
   ]
  },
  {
   "cell_type": "markdown",
   "id": "40f4fa81-9030-4eba-9e68-538d22b6b688",
   "metadata": {},
   "source": [
    "## 1. 两个变量之间的相关系数\n",
    "我们先考虑下两个连续变量之间的统计关系。"
   ]
  },
  {
   "cell_type": "markdown",
   "id": "bd3ab8ed-2310-4954-87fe-cf359b7dd655",
   "metadata": {},
   "source": [
    "![simple_regression](images/simple_regression.gif)"
   ]
  },
  {
   "cell_type": "markdown",
   "id": "d1f84533-0b76-433a-be82-df8908398b12",
   "metadata": {
    "tags": []
   },
   "source": [
    "在线性回归分析开始前，一般计算自变量和因变量的相关系数，我们把这一步称之为相关分析。  "
   ]
  },
  {
   "cell_type": "markdown",
   "id": "e726502c-d3c6-4521-abba-416ac84d7f0f",
   "metadata": {},
   "source": [
    "相关系数r检验y和x两个变量之间的线性相关的显著程度，其算式为\n",
    "\n",
    "$$\n",
    "r = \\frac{\\sum{(x_i-\\bar{x})(y_i-\\bar{y})}}{\\sqrt{\\sum{(x_i-\\bar{x})^2\\sum{(y_i-\\bar{y})^2}}}}\n",
    "$$\n",
    "\n",
    "数学上可以证明：r在[-1, 1]范围，有：\n",
    "- r>0时，y与x有一定的正线性相关，越接近1正的相关性越大\n",
    "- r<0时，y与x有一定的负线性相关，越接近-1负的相关性越大"
   ]
  },
  {
   "cell_type": "markdown",
   "id": "f43f33d8-d679-4b56-b8c0-fbe22120554d",
   "metadata": {},
   "source": [
    "## 2. 相关性系数的实现"
   ]
  },
  {
   "cell_type": "markdown",
   "id": "d4841b51-1750-469a-a862-607b244f60f3",
   "metadata": {},
   "source": [
    "调用scipy.stats.pearsonr计算相关系数：\n",
    "```python\n",
    "import scipy.stats as stats\n",
    "r = stats.pearsonr(x1, x2)\n",
    "```"
   ]
  },
  {
   "cell_type": "markdown",
   "id": "a520e51e-bf37-480e-9223-698b1f176e7d",
   "metadata": {},
   "source": [
    "也可以使用`pd.DataFrame.corr()`来计算相关系数矩阵，然后绘制图形，详细见下一节。\n",
    "```python\n",
    "df = pd.DataFrame([(.2, .3), (.0, .6), (.6, .0), (.2, .1)],\n",
    "                                columns=['dogs', 'cats'])\n",
    "df.corr(method='pearson')\n",
    "      dogs  cats\n",
    "dogs   1.0   0.3\n",
    "cats   0.3   1.0\n",
    "```"
   ]
  }
 ],
 "metadata": {
  "kernelspec": {
   "display_name": "Python 3 (ipykernel)",
   "language": "python",
   "name": "python3"
  },
  "language_info": {
   "codemirror_mode": {
    "name": "ipython",
    "version": 3
   },
   "file_extension": ".py",
   "mimetype": "text/x-python",
   "name": "python",
   "nbconvert_exporter": "python",
   "pygments_lexer": "ipython3",
   "version": "3.11.5"
  },
  "widgets": {
   "application/vnd.jupyter.widget-state+json": {
    "state": {},
    "version_major": 2,
    "version_minor": 0
   }
  }
 },
 "nbformat": 4,
 "nbformat_minor": 5
}
