{
 "cells": [
  {
   "cell_type": "markdown",
   "id": "505d014d-03c1-44c3-8861-5db17cf14f82",
   "metadata": {},
   "source": [
    "# 12.1 关联规则算法的概念、原理、流程和程序实现"
   ]
  },
  {
   "cell_type": "markdown",
   "id": "bdf65ca2-795c-4789-8412-1dea7354e380",
   "metadata": {},
   "source": [
    "观看本章节视频："
   ]
  },
  {
   "cell_type": "markdown",
   "id": "4962eac2-0269-455f-8123-db3f3122ba8e",
   "metadata": {},
   "source": [
    "<iframe src=\"https://player.bilibili.com/player.html?isOutside=true&aid=114956980787653&bvid=BV1Hthbz1EeY&cid=31433949569&p=1&autoplay=0\" allowfullscreen=\"allowfullscreen\" width=\"80%\" height=\"350\" scrolling=\"no\" frameborder=\"0\" sandbox=\"allow-top-navigation allow-same-origin allow-forms allow-scripts\"></iframe>"
   ]
  },
  {
   "cell_type": "markdown",
   "id": "ceb96d4a-1841-4144-83ba-b2fbc4633b3b",
   "metadata": {},
   "source": [
    "<iframe src=\"https://player.bilibili.com/player.html?isOutside=true&aid=114956980787653&bvid=BV1Hthbz1EeY&cid=31433949569&p=1\" scrolling=\"no\" border=\"0\" frameborder=\"no\" framespacing=\"0\" allowfullscreen=\"true\"></iframe>"
   ]
  },
  {
   "cell_type": "markdown",
   "id": "1ca3b01e-01f6-440c-960c-ec0b031d77e4",
   "metadata": {},
   "source": [
    "## 一、关联规则的核心概念\n",
    "关联规则分析（Association Rule Learning）是发现大数据集中变量间有趣关系的无监督学习方法。在金融领域典型应用包括：\n",
    "- 信用卡交叉销售推荐（A→B：申请信用卡客户同时购买保险概率）\n",
    "- 金融产品组合分析\n",
    "- 反欺诈规则挖掘（异常交易行为关联）\n",
    "\n",
    "关键术语：\n",
    "1. 支持度(Support)：P(A∩B)，项目集同时出现的概率\n",
    "2. 置信度(Confidence)：P(B|A)，A出现时B的条件概率\n",
    "3. 提升度(Lift)：P(B|A)/P(B)，规则的有效性指标\n",
    "4. 杠杆率（Leverage）：实际共现频率与独立假设下的期望频率之差\n",
    "5. 事务项集: 由一组项（items）组成的集合，这些项通常来自某个事务数据库（transaction database）中的一条记录（即一个事务）\n",
    "6. 频繁项集: 数据集中出现频率不低于给定最小支持度阈值（min_support）的项集。\n"
   ]
  },
  {
   "cell_type": "markdown",
   "id": "0b2797ce-5032-4f91-a5e0-46a00374f76b",
   "metadata": {},
   "source": [
    "# 二、Apriori算法流程"
   ]
  },
  {
   "cell_type": "markdown",
   "id": "66cfc05e-bfad-4516-8b66-a59439e3bd11",
   "metadata": {},
   "source": [
    "\n",
    "\n",
    "1. 生成事务项集\n",
    "2. 生成频繁项集（（满足最小支持度阈值）\n",
    "3. 基于频繁项集产生关联规则\n",
    "4. 基于置信度、提升度、业务需求等赛选关联规则\n"
   ]
  },
  {
   "cell_type": "markdown",
   "id": "76910e27-c998-491a-8a38-65c0589dcb0e",
   "metadata": {},
   "source": [
    "## 三、Python实战演示\n",
    "### 1 生成事务项集\n"
   ]
  },
  {
   "cell_type": "markdown",
   "id": "af9e9dea-1df9-4152-99f1-3a655976dcd6",
   "metadata": {},
   "source": [
    "从 mlxtend 库的 preprocessing 模块中引入 TransactionEncoder 类，专门用于将事务型数据（如购买清单）转换为机器学习算法（ Apriori）所需的布尔（0-1）矩阵格式。 "
   ]
  },
  {
   "cell_type": "code",
   "execution_count": null,
   "id": "192e683e-e552-40cc-94d9-cf572a8a2b7e",
   "metadata": {},
   "outputs": [],
   "source": [
    "import pandas as pd   #导入pandas库\n",
    "from mlxtend.preprocessing \n",
    "import TransactionEncoder "
   ]
  },
  {
   "cell_type": "code",
   "execution_count": null,
   "id": "215eefd1-20e0-4be6-8ba5-2650cad3aab2",
   "metadata": {},
   "outputs": [],
   "source": [
    "df = pd.read_csv(\"purchase_list.csv\")  # 从购买清单表读取数据 \n",
    "transactions = df[\"商品列表\"].apply(lambda x: x.split(\", \")).tolist() # 将表中数据转化为事务列表数据 \n",
    "te = TransactionEncoder() \n",
    "te_ary = te.fit(transactions).transform(transactions) \n",
    "df_encoded = pd.DataFrame(te_ary, columns=te.columns_)  #将事务列表转化为布尔矩阵"
   ]
  },
  {
   "cell_type": "markdown",
   "id": "9ba1fbbb-3e7e-4a20-bcde-6f2d8ce0fc01",
   "metadata": {},
   "source": [
    "### 2. 生成频繁项集\n"
   ]
  },
  {
   "cell_type": "code",
   "execution_count": null,
   "id": "4e3e8354-7930-4112-aede-925797b0737d",
   "metadata": {},
   "outputs": [],
   "source": [
    "from mlxtend.frequent_patterns \n",
    "import apriori, association_rules  #挖掘频繁项集（min_support=0.15） \n",
    "frequent_itemsets = apriori(df_encoded, min_support=0.15, use_colnames=True) "
   ]
  },
  {
   "cell_type": "markdown",
   "id": "c9a492fd-b671-4e0b-b373-8180fa59d52b",
   "metadata": {},
   "source": [
    "### 3. 基于频繁项集产生关联规则并根据置信度过滤关联规则"
   ]
  },
  {
   "cell_type": "code",
   "execution_count": null,
   "id": "62807a1c-40d0-4aa4-9fff-84aa82add4af",
   "metadata": {},
   "outputs": [],
   "source": [
    "rules = association_rules(frequent_itemsets, metric=\"confidence\", min_threshold=0.6) \n",
    "print(rules[[\"antecedents\", \"consequents\", \"support\", \"confidence\"]])"
   ]
  },
  {
   "cell_type": "markdown",
   "id": "f1544daf-d70f-4603-8e19-946116bbee43",
   "metadata": {},
   "source": [
    "## 四、扩展思考\n",
    "1. 如何将关联规则与监督学习结合构建金融风控模型？\n",
    "2. 高频交易数据中关联规则的应用局限？\n",
    "3. 非结构化金融文本信息的关联分析可能？"
   ]
  }
 ],
 "metadata": {
  "kernelspec": {
   "display_name": "Python 3 (ipykernel)",
   "language": "python",
   "name": "python3"
  },
  "language_info": {
   "codemirror_mode": {
    "name": "ipython",
    "version": 3
   },
   "file_extension": ".py",
   "mimetype": "text/x-python",
   "name": "python",
   "nbconvert_exporter": "python",
   "pygments_lexer": "ipython3",
   "version": "3.9.17"
  }
 },
 "nbformat": 4,
 "nbformat_minor": 5
}
