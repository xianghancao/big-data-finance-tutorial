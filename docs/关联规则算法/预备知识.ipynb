{
 "cells": [
  {
   "cell_type": "markdown",
   "id": "0c99a41d-6dd7-40a8-84ad-48e3cc836540",
   "metadata": {},
   "source": [
    "# 12 关联规则算法"
   ]
  },
  {
   "cell_type": "markdown",
   "id": "9835f2dd-301b-46ea-81ae-b238b344e615",
   "metadata": {},
   "source": [
    "<div class=\"alert alert-block alert-success\">\n",
    "<b>知识点：</b>_____\n",
    "<br><b>重点：</b>_____\n",
    "<br><b>难点：</b>_____\n",
    "</div>\n",
    "\n",
    "\n",
    "\n"
   ]
  },
  {
   "cell_type": "markdown",
   "id": "92139a9a-5b6f-4f05-8dee-e043958ade50",
   "metadata": {},
   "source": [
    "关联规则算法是______。用途______。"
   ]
  },
  {
   "cell_type": "markdown",
   "id": "2801b54e-3638-4f8c-8d67-c80048eec234",
   "metadata": {},
   "source": [
    "## 预习"
   ]
  },
  {
   "cell_type": "markdown",
   "id": "c0223b95-e3b2-4755-b611-08ccceba510c",
   "metadata": {},
   "source": [
    "xxxxx"
   ]
  },
  {
   "cell_type": "markdown",
   "id": "a5fab530-510f-4763-a892-facea8b357dc",
   "metadata": {},
   "source": [
    "### 名词解释"
   ]
  },
  {
   "cell_type": "markdown",
   "id": "d733d766-afd2-48c9-a35d-7b1b73a5b749",
   "metadata": {},
   "source": [
    "请使用网络工具和图书馆资源，完成以下名词解释：\n"
   ]
  },
  {
   "cell_type": "markdown",
   "id": "36f820d8-4d1b-49bc-8c44-24edbd485a9a",
   "metadata": {},
   "source": [
    "- 关联规则\n",
    "- xxx\n",
    "- xx\n",
    "- xx\n",
    "- xx"
   ]
  },
  {
   "cell_type": "markdown",
   "id": "29404f1d-9d34-4e2d-bef1-4f659c632222",
   "metadata": {},
   "source": []
  }
 ],
 "metadata": {
  "kernelspec": {
   "display_name": "Python 3 (ipykernel)",
   "language": "python",
   "name": "python3"
  },
  "language_info": {
   "codemirror_mode": {
    "name": "ipython",
    "version": 3
   },
   "file_extension": ".py",
   "mimetype": "text/x-python",
   "name": "python",
   "nbconvert_exporter": "python",
   "pygments_lexer": "ipython3",
   "version": "3.9.17"
  }
 },
 "nbformat": 4,
 "nbformat_minor": 5
}
