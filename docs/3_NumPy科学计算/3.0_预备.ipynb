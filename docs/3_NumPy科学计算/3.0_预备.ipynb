{
 "cells": [
  {
   "cell_type": "markdown",
   "id": "2e7a938d-b12b-4363-b3ad-5189686120ee",
   "metadata": {},
   "source": [
    "# 3 NumPy科学计算"
   ]
  },
  {
   "cell_type": "markdown",
   "id": "e763a7d8-d1e1-488d-88fd-3f8cefccfc97",
   "metadata": {},
   "source": [
    "> 用一种以上的方法认识一个事物，才能真正理解它。——马文\\*明斯基(计算机科学家、认知科学家)"
   ]
  },
  {
   "cell_type": "markdown",
   "id": "27560c66-fe34-42d1-b2e1-ed9c3a8e5c92",
   "metadata": {},
   "source": [
    "**知识点｜**NumPy一维数组；NumPy的应用  \n",
    "**技能｜**掌握NumPy一维数组的创建、索引、切片和操作方法； 了解NumPy在金融价格序列、文本等各类场景上的应用   \n",
    "**作业｜**在金融领域应用NumPy  "
   ]
  },
  {
   "cell_type": "markdown",
   "id": "92b8f3f5-cac2-4e3d-92d6-3fdf111333f5",
   "metadata": {},
   "source": [
    "## 预备\n",
    "### 名词解释"
   ]
  },
  {
   "cell_type": "markdown",
   "id": "e703f611-a1b6-441e-9738-c4ab1cb0bd6c",
   "metadata": {},
   "source": [
    "请使用各类资源和工具，完成以下名词解释：\n",
    "- 开源\n",
    "- 科学计算\n",
    "- 金融价格序列\n",
    "- 数组\n",
    "- 一维、二维和多维\n",
    "- 随机数\n",
    "- 数据集"
   ]
  },
  {
   "cell_type": "markdown",
   "id": "e2e51c14-7977-4402-b753-0beeaf181862",
   "metadata": {},
   "source": [
    "## 视频\n",
    "\n"
   ]
  },
  {
   "cell_type": "markdown",
   "id": "2f03995b-ffb8-41f5-a396-a3a3fc6fb71a",
   "metadata": {},
   "source": [
    "观看以下视频"
   ]
  },
  {
   "cell_type": "markdown",
   "id": "62692bc9-2a4f-4744-920f-ffcfbe947456",
   "metadata": {},
   "source": [
    "<iframe src=\"https://player.bilibili.com/player.html?aid=55317742&bvid=BV1R4411A7ne&cid=96724272&p=1&autoplay=0\" allowfullscreen=\"allowfullscreen\" width=\"100%\" height=\"350\" scrolling=\"no\" frameborder=\"0\" sandbox=\"allow-top-navigation allow-same-origin allow-forms allow-scripts\"></iframe>"
   ]
  },
  {
   "cell_type": "markdown",
   "id": "c86cd349-a4db-450d-a243-e9cb918d2c1f",
   "metadata": {},
   "source": [
    "## 网络资源"
   ]
  },
  {
   "cell_type": "markdown",
   "id": "f0b3c79d-1768-4698-848b-c339d2c386d7",
   "metadata": {},
   "source": [
    "浏览以下网络资源"
   ]
  },
  {
   "cell_type": "markdown",
   "id": "cf311ab9-f2d5-4ba2-999b-cd3823dbb70b",
   "metadata": {},
   "source": [
    "- NumPy官方文档：https://numpy.org/doc/stable/user/absolute_beginners.html  \n",
    "- NumPy官方网址：https://numpy.org/doc/stable/index.html"
   ]
  },
  {
   "cell_type": "markdown",
   "id": "38f6ab6b-adc3-46bb-8228-6af0e8b95b72",
   "metadata": {},
   "source": [
    "## 问题\n",
    "快速浏览本章节内容，并记录下遇到的问题：\n",
    "\n",
    "1. xxx\n",
    "2. xxx\n",
    "3. xxx\n",
    "\n",
    "请带着问题，来到课堂。"
   ]
  },
  {
   "cell_type": "markdown",
   "id": "923ede61-33ef-4031-a2ef-0af425765fd7",
   "metadata": {},
   "source": []
  }
 ],
 "metadata": {
  "kernelspec": {
   "display_name": "Python 3 (ipykernel)",
   "language": "python",
   "name": "python3"
  },
  "language_info": {
   "codemirror_mode": {
    "name": "ipython",
    "version": 3
   },
   "file_extension": ".py",
   "mimetype": "text/x-python",
   "name": "python",
   "nbconvert_exporter": "python",
   "pygments_lexer": "ipython3",
   "version": "3.11.5"
  }
 },
 "nbformat": 4,
 "nbformat_minor": 5
}
