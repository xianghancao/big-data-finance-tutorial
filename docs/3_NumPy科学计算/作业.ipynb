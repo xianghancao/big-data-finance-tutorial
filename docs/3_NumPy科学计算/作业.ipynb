{
 "cells": [
  {
   "cell_type": "markdown",
   "id": "aa7e2b54-9215-4a86-828d-0f4b734bae1c",
   "metadata": {},
   "source": [
    "<img src='images/stocks-6377806_1280.jpg' width=600>\n",
    "\n",
    "Image from Pixabay"
   ]
  },
  {
   "cell_type": "markdown",
   "id": "ecad4d66-0932-41d0-bf73-060a3b06898c",
   "metadata": {},
   "source": [
    "# 作业：在金融领域应用NumPy"
   ]
  },
  {
   "cell_type": "markdown",
   "id": "b18ed331-a78b-4d9c-9eaa-407bc4da22e6",
   "metadata": {},
   "source": [
    "当将NumPy应用于金融领域时，有许多吸引人的场景和主题，其中一些包括：\n",
    "|主题|内容|\n",
    "|---|---|\n",
    "|**投资组合优化**|使用NumPy来执行投资组合优化，根据历史资产收益率和风险指标，找到最优的资产配置方案，以达到投资目标。|\n",
    "|**技术分析**|利用NumPy计算金融市场的技术指标，例如移动平均线、相对强弱指标（RSI）和布林带等，帮助进行交易决策。|\n",
    "|**风险管理**|使用NumPy计算金融资产的Value-at-risk（VaR）和条件价值-at-risk（CVaR），以评估投资组合的风险水平，并采取适当的风险管理措施。|\n",
    "|**时间序列分析**|利用NumPy进行金融时间序列的分析，包括数据清洗、预处理、模型拟合和预测，例如使用ARIMA模型或神经网络模型进行股票价格预测。|\n",
    "|**量化交易策略**|利用NumPy开发量化交易策略，通过分析历史数据和市场因素，自动执行交易决策，以获取利润。|\n",
    "|**金融建模**|使用NumPy构建金融模型，例如期权定价模型（如Black-Scholes模型）、资本资产定价模型（CAPM）或均衡模型，以评估金融资产的价值和风险。|"
   ]
  },
  {
   "cell_type": "markdown",
   "id": "544c2b3b-4276-47ca-9a13-6d7ef5c0f743",
   "metadata": {},
   "source": [
    "根据以上主题，并不限于以上主题。通过网络和图书馆，获取相关资料、技术方法等，完成以下内容：\n",
    "1. 选择一个较小的概念，使用numpy来实现相关概念\n",
    "2. 控制代码长度，不超过20行\n",
    "3. 制作小样本数据，测试并验证上述代码有效"
   ]
  },
  {
   "cell_type": "markdown",
   "id": "87d15f84-d1d8-489d-a89f-f2394dd14003",
   "metadata": {},
   "source": [
    "完成后发布在如下共享链接中：https://doc.weixin.qq.com/slide/p3_ALYAmQY8AO8M0cwtqIbQpm3SEkUBa?scode=ANIAFAdhAAY55GwRpPALYAmQY8AO8"
   ]
  },
  {
   "cell_type": "code",
   "execution_count": null,
   "id": "6ee2c6e2-c8d0-4408-b1d9-b437abcdf9e9",
   "metadata": {},
   "outputs": [],
   "source": [
    "\n",
    "\n",
    "\n",
    "\n",
    "\n"
   ]
  }
 ],
 "metadata": {
  "kernelspec": {
   "display_name": "Python 3 (ipykernel)",
   "language": "python",
   "name": "python3"
  },
  "language_info": {
   "codemirror_mode": {
    "name": "ipython",
    "version": 3
   },
   "file_extension": ".py",
   "mimetype": "text/x-python",
   "name": "python",
   "nbconvert_exporter": "python",
   "pygments_lexer": "ipython3",
   "version": "3.11.5"
  },
  "toc-showmarkdowntxt": false
 },
 "nbformat": 4,
 "nbformat_minor": 5
}
