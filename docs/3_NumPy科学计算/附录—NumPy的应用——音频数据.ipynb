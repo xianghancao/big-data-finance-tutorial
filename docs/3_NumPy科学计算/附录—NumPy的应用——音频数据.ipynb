{
 "cells": [
  {
   "cell_type": "markdown",
   "id": "db07e6c8-b2fa-4089-92f2-0e62786649a4",
   "metadata": {
    "tags": []
   },
   "source": [
    "# 附录：NumPy的应用——音频数据\n",
    "\n",
    "一个音频文件是一个一维数组的样本。 每个样本都是一个数字，代表一小块音频信号。 CD的音频每秒可能有44,100个样本，每个样本是-32767到32768之间的整数。 这意味着如果您有一个10秒的CD的WAVE文件，您可以将它装入一个长度为441,000（也就是10 * 44,100）的NumPy数组中。 如果想提取音频的第一秒，只需将该文件加载到一个NumPy数组`audio` 中，并使用 `audio[:44100]`即可获取到。\n",
    "\n",
    "下面是一个音频文件的一个切片：\n",
    "\n",
    "![numpy-audio](images/numpy-audio.png)"
   ]
  },
  {
   "cell_type": "code",
   "execution_count": 3,
   "id": "650dbf92-dba3-4aa2-b46e-624affe658a2",
   "metadata": {
    "tags": []
   },
   "outputs": [
    {
     "name": "stdout",
     "output_type": "stream",
     "text": [
      "pygame 2.5.2 (SDL 2.28.3, Python 3.11.5)\n",
      "Hello from the pygame community. https://www.pygame.org/contribute.html\n"
     ]
    },
    {
     "ename": "error",
     "evalue": "No file 'heart-beat.wav' found in working directory '/Users/xhc/Documents/课程-Big-Data-in-Finance/big-data-finance-tutorial/docs/3_NumPy科学计算'.",
     "output_type": "error",
     "traceback": [
      "\u001b[0;31m---------------------------------------------------------------------------\u001b[0m",
      "\u001b[0;31merror\u001b[0m                                     Traceback (most recent call last)",
      "Cell \u001b[0;32mIn[3], line 7\u001b[0m\n\u001b[1;32m      4\u001b[0m pygame\u001b[38;5;241m.\u001b[39minit()\n\u001b[1;32m      6\u001b[0m \u001b[38;5;66;03m# 加载音乐文件\u001b[39;00m\n\u001b[0;32m----> 7\u001b[0m \u001b[43mpygame\u001b[49m\u001b[38;5;241;43m.\u001b[39;49m\u001b[43mmixer\u001b[49m\u001b[38;5;241;43m.\u001b[39;49m\u001b[43mmusic\u001b[49m\u001b[38;5;241;43m.\u001b[39;49m\u001b[43mload\u001b[49m\u001b[43m(\u001b[49m\u001b[38;5;124;43m'\u001b[39;49m\u001b[38;5;124;43mheart-beat.wav\u001b[39;49m\u001b[38;5;124;43m'\u001b[39;49m\u001b[43m)\u001b[49m\n\u001b[1;32m      9\u001b[0m \u001b[38;5;66;03m# 播放音乐\u001b[39;00m\n\u001b[1;32m     10\u001b[0m pygame\u001b[38;5;241m.\u001b[39mmixer\u001b[38;5;241m.\u001b[39mmusic\u001b[38;5;241m.\u001b[39mplay()\n",
      "\u001b[0;31merror\u001b[0m: No file 'heart-beat.wav' found in working directory '/Users/xhc/Documents/课程-Big-Data-in-Finance/big-data-finance-tutorial/docs/3_NumPy科学计算'."
     ]
    }
   ],
   "source": [
    "import pygame\n",
    "\n",
    "# 初始化pygame\n",
    "pygame.init()\n",
    "\n",
    "# 加载音乐文件\n",
    "pygame.mixer.music.load('heart-beat.wav')\n",
    "\n",
    "# 播放音乐\n",
    "pygame.mixer.music.play()\n",
    "print('start...')\n",
    "# 等待音乐播放结束\n",
    "while pygame.mixer.music.get_busy():\n",
    "    pygame.time.Clock().tick(10)\n"
   ]
  },
  {
   "cell_type": "markdown",
   "id": "ac4832ec-4f23-4aee-b6ee-79e8cae98173",
   "metadata": {},
   "source": [
    "## 参考：\n",
    "A Visual Intro to NumPy and Data Representation, https://jalammar.github.io/visual-numpy/"
   ]
  },
  {
   "cell_type": "markdown",
   "id": "8422ba74-c258-4032-a03f-c288cecbcd77",
   "metadata": {},
   "source": []
  }
 ],
 "metadata": {
  "kernelspec": {
   "display_name": "Python 3 (ipykernel)",
   "language": "python",
   "name": "python3"
  },
  "language_info": {
   "codemirror_mode": {
    "name": "ipython",
    "version": 3
   },
   "file_extension": ".py",
   "mimetype": "text/x-python",
   "name": "python",
   "nbconvert_exporter": "python",
   "pygments_lexer": "ipython3",
   "version": "3.11.5"
  }
 },
 "nbformat": 4,
 "nbformat_minor": 5
}
