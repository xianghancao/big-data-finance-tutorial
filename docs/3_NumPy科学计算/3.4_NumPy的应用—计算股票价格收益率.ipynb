{
 "cells": [
  {
   "cell_type": "markdown",
   "id": "606921c1-91a7-443b-bcc3-4593b23ba6a5",
   "metadata": {},
   "source": [
    "# 3.4 应用：计算股票价格收益率"
   ]
  },
  {
   "cell_type": "markdown",
   "id": "bd15068f-7901-4804-aa22-51bffd9966b5",
   "metadata": {},
   "source": [
    "\n",
    "<div class=\"alert alert-block alert-success\">\n",
    "本应用将利用NumPy构架和获取股票价格序列，并计算价格的平均值、标准差，以及计算简单和对数收益率。通过本应用，将熟悉股票价格分析的一般过程。\n",
    "</div>\n"
   ]
  },
  {
   "cell_type": "markdown",
   "id": "3c29a679-1f4f-4633-8b75-fc53bda8d7bd",
   "metadata": {},
   "source": [
    "## 1. 获取股票价格序列"
   ]
  },
  {
   "cell_type": "markdown",
   "id": "755a67b4-a898-4704-af09-48e34ba9564b",
   "metadata": {},
   "source": [
    "股票价格是投资者观察市场最直接的指标，它反映了市场对股票价值的评估。股票价格的变动可以帮助投资者识别价格趋势和可能的市场走向。"
   ]
  },
  {
   "cell_type": "markdown",
   "id": "2f360fb7-4bb6-4732-bc89-7cf57b65b221",
   "metadata": {},
   "source": [
    "### 1.1 使用一维数组的方法"
   ]
  },
  {
   "cell_type": "markdown",
   "id": "f9e18a40-8e7b-442e-b123-1955981d9cd0",
   "metadata": {},
   "source": [
    "以下是一个简单的示例，说明如何使用NumPy数组来表示股票价格序列："
   ]
  },
  {
   "cell_type": "code",
   "execution_count": 1,
   "id": "a08c7b42-eedc-4095-a72e-fa79953cfa6e",
   "metadata": {
    "tags": []
   },
   "outputs": [
    {
     "name": "stdout",
     "output_type": "stream",
     "text": [
      "股票价格序列: [100.  102.5  98.3 105.2  99.7]\n"
     ]
    }
   ],
   "source": [
    "import numpy as np\n",
    "\n",
    "prices = np.array([100.0, 102.5, 98.3, 105.2, 99.7])   # 创建一个包含股票价格的NumPy数组\n",
    "\n",
    "print(\"股票价格序列:\", prices)                           # 打印股票价格序列"
   ]
  },
  {
   "cell_type": "markdown",
   "id": "95d29ec8-a606-4007-8860-f5d8dde14f0a",
   "metadata": {},
   "source": [
    "### 1.2 使用NumPy的load()函数"
   ]
  },
  {
   "cell_type": "markdown",
   "id": "0ca9a855-e707-4fff-82b9-6c4476ddc4d0",
   "metadata": {},
   "source": [
    "当然，我们可以使用NumPy的load()函数从.npy格式的文件中读取股票价格。首先，确保已经保存了股票价格数据为.npy格式的文件。然后，可以使用以下代码加载数据："
   ]
  },
  {
   "cell_type": "code",
   "execution_count": 2,
   "id": "5dbe8431-3fc5-4310-bf90-91b98f6cff29",
   "metadata": {
    "tags": []
   },
   "outputs": [
    {
     "name": "stdout",
     "output_type": "stream",
     "text": [
      "展示前十个价格序列： [199 212 213 215 222 221 223 224 222 220]\n",
      "展示前十个日期序列： ['2018-01-02' '2018-01-03' '2018-01-04' '2018-01-05' '2018-01-08'\n",
      " '2018-01-09' '2018-01-10' '2018-01-11' '2018-01-12' '2018-01-16']\n"
     ]
    }
   ],
   "source": [
    "import numpy as np\n",
    "\n",
    "prices = np.load('datasets/NVDA.npy')   # 从.npy文件中加载英伟达的股票价格数据，获得价格序列\n",
    "dates = np.load('datasets/dates.npy')   # 从.npy文件中加载对应的日期数据，获得日期序列\n",
    "\n",
    "print('展示前十个价格序列：', prices[:10])  # 打印加载的股票价格数据\n",
    "print('展示前十个日期序列：', dates[:10])"
   ]
  },
  {
   "cell_type": "markdown",
   "id": "9ce46dc9-205f-466e-a320-5060b6bdd7b6",
   "metadata": {},
   "source": [
    "\n",
    "在这个例子中，假设你的股票价格数据保存在名为`stock_prices.npy`的文件中。`np.load()`函数将这个.npy文件加载到一个NumPy数组中。然后你可以对这个数组进行进一步的分析和处理。"
   ]
  },
  {
   "cell_type": "markdown",
   "id": "4e4b7b3e-8ab4-4d33-8ec1-87a2fea75416",
   "metadata": {},
   "source": [
    "## 2. 股票价格的分析"
   ]
  },
  {
   "cell_type": "markdown",
   "id": "51e2abbb-a9f2-497a-baa6-c5b6dee78e7d",
   "metadata": {},
   "source": [
    "下面指标在股票价格分析和预测中都扮演着重要的角色，它们提供了关于股票价格变动和市场行为的重要信息，有助于投资者做出明智的决策。"
   ]
  },
  {
   "cell_type": "markdown",
   "id": "fe9cad54-ec45-47a4-8811-eefe2d762317",
   "metadata": {},
   "source": [
    "### 2.1 特定日期的股票价格\n",
    "\n",
    "\n",
    "如果你有一个日期序列和相应的股票价格序列，并且想要访问特定日期的股票价格，你可以使用NumPy的索引功能"
   ]
  },
  {
   "cell_type": "code",
   "execution_count": 3,
   "id": "fa311c20-a77f-4509-aeb9-486de1a359c2",
   "metadata": {
    "tags": []
   },
   "outputs": [
    {
     "name": "stdout",
     "output_type": "stream",
     "text": [
      "2018-01-02 的股票价格: 213\n"
     ]
    }
   ],
   "source": [
    "query_date = '2018-01-02'     # 要查询的日期\n",
    "\n",
    "index = np.where(dates == query_date)[0]             # 找到查询日期在日期序列中的索引\n",
    "print(\"%s 的股票价格: %s\" %(query_date, prices[2]))"
   ]
  },
  {
   "cell_type": "markdown",
   "id": "47fdd5e9-c12d-46b9-a455-ac19471de117",
   "metadata": {},
   "source": [
    "### 2.2 价格序列的平均值\n",
    "股票价格的平均值提供了价格的中心趋势。它可以用来评估当前价格相对于历史价格的表现，以及价格是否处于过高或过低水平。\n",
    "\n",
    "要计算股票价格序列的平均值，你可以使用NumPy的`mean()`函数"
   ]
  },
  {
   "cell_type": "code",
   "execution_count": 4,
   "id": "6cb6a250-3243-4845-8a9c-20aae46cd4d9",
   "metadata": {
    "tags": []
   },
   "outputs": [
    {
     "name": "stdout",
     "output_type": "stream",
     "text": [
      "股票价格序列的平均价格: 201.828125\n"
     ]
    }
   ],
   "source": [
    "mean_price = np.mean(prices)\n",
    "print(\"股票价格序列的平均价格:\", mean_price)"
   ]
  },
  {
   "cell_type": "markdown",
   "id": "e4eab996-236e-4597-99ca-291d2d45f7ab",
   "metadata": {},
   "source": [
    "### 2.3 价格序列的标准差\n",
    "票价格的标准差度量了价格的波动性或风险。较高的标准差意味着价格波动较大，可能存在较大的风险，而较低的标准差则表示价格波动较小，风险较低。\n",
    "\n",
    "要计算股票价格序列的标准差，你可以使用NumPy的`std()`函数"
   ]
  },
  {
   "cell_type": "code",
   "execution_count": 5,
   "id": "14b4d5e1-4e59-4641-8c49-6ed2ef1d246d",
   "metadata": {
    "tags": []
   },
   "outputs": [
    {
     "name": "stdout",
     "output_type": "stream",
     "text": [
      "股票价格序列的标准差: 44.66116895644139\n"
     ]
    }
   ],
   "source": [
    "std_dev = np.std(prices)\n",
    "print(\"股票价格序列的标准差:\", std_dev)"
   ]
  },
  {
   "cell_type": "markdown",
   "id": "c4bee343-2281-491c-beb8-eb8539ca9884",
   "metadata": {},
   "source": [
    "\n",
    "### 2.4 价格的变化\n",
    "价格变化指示了股票价格在一段时间内的涨跌情况。对价格变化的分析可以帮助投资者理解市场的波动性和趋势，从而制定相应的投资策略。\n",
    "\n",
    "要计算股票价格序列的变化，你可以使用NumPy的`diff()`函数"
   ]
  },
  {
   "cell_type": "code",
   "execution_count": 6,
   "id": "316e18ab-b372-4df4-9ff9-482abdc862f8",
   "metadata": {
    "tags": []
   },
   "outputs": [],
   "source": [
    "price_diff = np.diff(prices)"
   ]
  },
  {
   "cell_type": "markdown",
   "id": "3ee7d253-8076-4a29-9da3-dae763ed6be7",
   "metadata": {},
   "source": [
    "### 2.5 简单收益率"
   ]
  },
  {
   "cell_type": "markdown",
   "id": "c40c307a-7686-4e34-993d-59ad52b8f9df",
   "metadata": {},
   "source": [
    "收益率表示股票在一段时间内的收益情况。它可以帮助投资者评估投资的回报率和风险，并比较不同股票或投资组合的表现。\n",
    "\n",
    "$$ r_t = \\frac{P_t - P_{t-1}}{P_{t-1}} $$\n",
    "\n",
    "\n",
    "要计算每日收益率，你可以使用NumPy的`diff()`函数来计算价格的变化，然后将其除以前一天的价格。"
   ]
  },
  {
   "cell_type": "code",
   "execution_count": 7,
   "id": "7ff1f999-16e3-47d7-a35c-1e4a93594299",
   "metadata": {
    "tags": []
   },
   "outputs": [],
   "source": [
    "returns = np.diff(prices) / prices[:-1]"
   ]
  },
  {
   "cell_type": "markdown",
   "id": "5a09ea37-d007-486b-af5e-25bb6fb046ff",
   "metadata": {},
   "source": [
    "\n",
    "### 2.6 对数收益率\n",
    "对数收益率是收益率的对数，它具有对称性和正态分布特性。对数收益率的分析可以更准确地评估风险和回报，并用于建立数学模型进行风险管理和资产定价。"
   ]
  },
  {
   "cell_type": "markdown",
   "id": "af15e74f-294e-464c-ac45-32a222da1bb8",
   "metadata": {},
   "source": [
    "对数收益率（logarithmic return）可以使用以下公式计算：\n",
    "\n",
    "$$ r_t = \\ln\\left(\\frac{P_t}{P_{t-1}}\\right) $$\n",
    "\n",
    "其中：\n",
    "- $ r_t $ 是在时间 $ t $ 的对数收益率；\n",
    "- $ P_t $ 是在时间 $ t $ 的资产价格；\n",
    "- $ P_{t-1} $ 是在时间 $ t-1 $ 的资产价格；\n",
    "- $ \\ln $ 表示自然对数。\n"
   ]
  },
  {
   "cell_type": "markdown",
   "id": "2922f14e-b132-4215-9399-c0e4c4d31029",
   "metadata": {},
   "source": [
    "要计算对数收益率，你可以先使用NumPy的`log()`函数计算股票价格的自然对数，然后使用`diff()`函数计算对数价格序列的差值。"
   ]
  },
  {
   "cell_type": "code",
   "execution_count": 8,
   "id": "bb544090-8eec-4116-b623-a07b3f27b52a",
   "metadata": {
    "tags": []
   },
   "outputs": [],
   "source": [
    "log_returns = np.diff(np.log(prices))"
   ]
  }
 ],
 "metadata": {
  "kernelspec": {
   "display_name": "Python 3 (ipykernel)",
   "language": "python",
   "name": "python3"
  },
  "language_info": {
   "codemirror_mode": {
    "name": "ipython",
    "version": 3
   },
   "file_extension": ".py",
   "mimetype": "text/x-python",
   "name": "python",
   "nbconvert_exporter": "python",
   "pygments_lexer": "ipython3",
   "version": "3.11.5"
  }
 },
 "nbformat": 4,
 "nbformat_minor": 5
}
