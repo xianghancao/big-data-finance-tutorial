{
 "cells": [
  {
   "cell_type": "markdown",
   "id": "10adfbb5-6fc6-4d7a-8128-9c83346a6c6b",
   "metadata": {},
   "source": [
    "# NumPy的应用——语言文本"
   ]
  },
  {
   "cell_type": "markdown",
   "id": "b33efab0-d32f-4725-a1aa-8c63f59c0710",
   "metadata": {},
   "source": [
    "如果我们处理的是文本的话，情况可能有点不同。要用数值表示一段文本需要构建一个词汇表（模型需要知道的所有的唯一词）以及一个[词嵌入（embedding）](https://jalammar.github.io/illustrated-word2vec/)过程。 让我们看看用数字表示这个谚语的步骤：**”Have the bards who preceded me left any theme unsung?”** *翻译：在我之前的吟游诗人有没有留下任何主题？*"
   ]
  },
  {
   "cell_type": "markdown",
   "id": "dcf82d23-ac22-4853-bfb8-f898a8591446",
   "metadata": {},
   "source": [
    "我们可以使用[一个词汇数据集](http://mattmahoney.net/dc/textdata.html)来构建一个词汇表（71,290个单词）："
   ]
  },
  {
   "cell_type": "markdown",
   "id": "230434ef-757b-4f3c-b09e-adaea4d49581",
   "metadata": {},
   "source": [
    "<img src='images/numpy-nlp-vocabulary.png' width=300>"
   ]
  },
  {
   "cell_type": "markdown",
   "id": "d3f23dec-d186-4da1-91b5-27c2e489aa6c",
   "metadata": {},
   "source": [
    "这个句子可以被划分为一系列词：\n",
    "\n",
    "![numpy-nlp-tokenization](images/numpy-nlp-tokenization.png)"
   ]
  },
  {
   "cell_type": "markdown",
   "id": "38733f1a-9d08-4428-8d1c-fc31a7319cf5",
   "metadata": {},
   "source": [
    "然后我们用词汇表中单词的ID来替换它：\n",
    "\n",
    "![numpy-nlp-ids](images/numpy-nlp-ids.png)"
   ]
  },
  {
   "cell_type": "markdown",
   "id": "64b9769e-a2f7-403d-a0e5-88325d6662f5",
   "metadata": {},
   "source": [
    "然后进一步使用word2vec词嵌入、卷积向量等技术来处理文本，详见：\n",
    "https://jalammar.github.io/illustrated-word2vec/"
   ]
  },
  {
   "cell_type": "markdown",
   "id": "1a2b9df0-84d4-462c-a385-fe86eea0b8ab",
   "metadata": {},
   "source": []
  },
  {
   "cell_type": "code",
   "execution_count": 2,
   "id": "4b45b443-8f0f-47af-813a-f0fa134199fd",
   "metadata": {
    "tags": []
   },
   "outputs": [],
   "source": [
    "import numpy as np\n",
    "\n",
    "# 示例文本数据\n",
    "text_data = [\n",
    "    \"This is a sample sentence.\",\n",
    "    \"Another sample sentence.\",\n",
    "    \"Yet another example of text data.\"\n",
    "]\n"
   ]
  },
  {
   "cell_type": "markdown",
   "id": "55b86601-4236-4a32-badb-fdbb19f59cb9",
   "metadata": {},
   "source": [
    "## 构建词汇表"
   ]
  },
  {
   "cell_type": "code",
   "execution_count": 3,
   "id": "bfd6f467-eefc-4027-b6e3-e2e7be4f0c8d",
   "metadata": {
    "tags": []
   },
   "outputs": [],
   "source": [
    "\n",
    "# 构建词汇表\n",
    "vocab = set()\n",
    "for sentence in text_data:\n",
    "    words = sentence.lower().split()\n",
    "    vocab.update(words)\n"
   ]
  },
  {
   "cell_type": "markdown",
   "id": "e5694d4d-ff99-48a2-bcf3-04401a525833",
   "metadata": {},
   "source": []
  },
  {
   "cell_type": "code",
   "execution_count": 4,
   "id": "2d43e4d1-ae6f-43ea-8ccf-cb36d11abe47",
   "metadata": {
    "tags": []
   },
   "outputs": [],
   "source": [
    "\n",
    "# 创建词袋模型表示的矩阵\n",
    "vocab = sorted(vocab)\n",
    "vocab_size = len(vocab)\n",
    "word_to_index = {word: i for i, word in enumerate(vocab)}\n"
   ]
  },
  {
   "cell_type": "code",
   "execution_count": 5,
   "id": "58b3c0f2-c5a0-462b-91ec-ff05b07df28e",
   "metadata": {
    "tags": []
   },
   "outputs": [],
   "source": [
    "\n",
    "# 初始化词袋模型矩阵\n",
    "bag_of_words = np.zeros((len(text_data), vocab_size), dtype=int)\n"
   ]
  },
  {
   "cell_type": "code",
   "execution_count": 6,
   "id": "482be9de-6999-4497-8374-5eedebd7966c",
   "metadata": {
    "tags": []
   },
   "outputs": [],
   "source": [
    "\n",
    "# 填充词袋模型矩阵\n",
    "for i, sentence in enumerate(text_data):\n",
    "    words = sentence.lower().split()\n",
    "    for word in words:\n",
    "        word_index = word_to_index[word]\n",
    "        bag_of_words[i, word_index] += 1\n"
   ]
  },
  {
   "cell_type": "code",
   "execution_count": 7,
   "id": "aa16cfd5-9ffc-41d6-803e-96af2d65d338",
   "metadata": {
    "tags": []
   },
   "outputs": [
    {
     "name": "stdout",
     "output_type": "stream",
     "text": [
      "词袋模型矩阵:\n",
      "[[1 0 0 0 1 0 1 1 0 1 0]\n",
      " [0 1 0 0 0 0 1 1 0 0 0]\n",
      " [0 1 1 1 0 1 0 0 1 0 1]]\n"
     ]
    }
   ],
   "source": [
    "\n",
    "# 打印词袋模型矩阵\n",
    "print(\"词袋模型矩阵:\")\n",
    "print(bag_of_words)\n"
   ]
  },
  {
   "cell_type": "code",
   "execution_count": 8,
   "id": "5035d7b0-49ab-464e-8426-25ee80e86f29",
   "metadata": {
    "tags": []
   },
   "outputs": [
    {
     "name": "stdout",
     "output_type": "stream",
     "text": [
      "\n",
      "词汇表:\n",
      "['a', 'another', 'data.', 'example', 'is', 'of', 'sample', 'sentence.', 'text', 'this', 'yet']\n"
     ]
    }
   ],
   "source": [
    "\n",
    "# 打印词汇表\n",
    "print(\"\\n词汇表:\")\n",
    "print(vocab)\n"
   ]
  },
  {
   "cell_type": "markdown",
   "id": "d9c8e776-00dd-4e1b-8fe9-e0e3ecd4c44a",
   "metadata": {},
   "source": [
    "## 参考：\n",
    "A Visual Intro to NumPy and Data Representation, https://jalammar.github.io/visual-numpy/"
   ]
  }
 ],
 "metadata": {
  "kernelspec": {
   "display_name": "Python 3 (ipykernel)",
   "language": "python",
   "name": "python3"
  },
  "language_info": {
   "codemirror_mode": {
    "name": "ipython",
    "version": 3
   },
   "file_extension": ".py",
   "mimetype": "text/x-python",
   "name": "python",
   "nbconvert_exporter": "python",
   "pygments_lexer": "ipython3",
   "version": "3.11.5"
  }
 },
 "nbformat": 4,
 "nbformat_minor": 5
}
