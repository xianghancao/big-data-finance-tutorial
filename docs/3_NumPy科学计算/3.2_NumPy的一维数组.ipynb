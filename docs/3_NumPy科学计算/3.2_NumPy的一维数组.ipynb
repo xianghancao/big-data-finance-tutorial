{
 "cells": [
  {
   "cell_type": "markdown",
   "id": "53e7994b-a014-45b4-8c0e-fe2a4f1294b8",
   "metadata": {},
   "source": [
    "# 3.2 Numpy的一维数组"
   ]
  },
  {
   "cell_type": "markdown",
   "id": "c006d812-6902-43fe-93db-f4b90e8bf2e6",
   "metadata": {},
   "source": [
    "## 1. Numpy的数组介绍"
   ]
  },
  {
   "cell_type": "markdown",
   "id": "5c9935e8-b182-4a32-8b41-04f34b9035ae",
   "metadata": {},
   "source": [
    "在学习python基础编程时，我们已经掌握了列表（Lists）的创建和使用。Numpy中的有一种数据结构叫：数组（Arrays）。它和Lists有什么不同呢？\n",
    "\n",
    "- Numpy 数组比列表运行速度更快，更省计算机资源。\n",
    "- 作为NumPy中主要的数据结构，数组是一些值组成的网格，它包含关于原始数据的信息，以及如何定位元素，意思是可以以各种方式对其进行索引。这些元素都是相同的类型，称为数组dtype。"
   ]
  },
  {
   "cell_type": "markdown",
   "id": "34178583-5262-408c-a9c2-98d077ea7232",
   "metadata": {
    "tags": []
   },
   "source": [
    "数组被称为“ndarray”，它是“n维数组”的简写，d是单词dimension的缩写。n维数组就是具有任意维数的数组。你可能还听说过一维数组，二维数组，等等。NumPy ndarray用于表示矩阵和向量。向量是一维的数组(行向量和列向量没有区别)，而矩阵是二维的数组。对于三维或更高维度的数组，张量这个术语也常用。"
   ]
  },
  {
   "cell_type": "markdown",
   "id": "811c06a7-1a75-4292-b2b8-2f9f8671c26d",
   "metadata": {},
   "source": [
    "数组通常是固定大小的容器，包含相同类型的项。数组中的维数和项数由数组的形状定义。数组的形状是由非负整数组成的元组，指定每个维度的大小。"
   ]
  },
  {
   "cell_type": "markdown",
   "id": "43bef720-55d8-413a-91ae-66bc086cc8b8",
   "metadata": {},
   "source": [
    "在NumPy中，维度称为轴。这意味着如果你有一个像这样的2D数组:\n",
    "```python\n",
    "[[0., 0., 0.],\n",
    " [1., 1., 1.]]\n",
    "```\n",
    "数组有两个轴。第一个轴的长度是2，第二个轴的长度是3。"
   ]
  },
  {
   "cell_type": "markdown",
   "id": "9f349476-eb13-429b-9c5f-7b169d58c79c",
   "metadata": {},
   "source": [
    "## 2.如何创建一个一维数组"
   ]
  },
  {
   "cell_type": "markdown",
   "id": "a6c2ad27-2c23-48cd-bfac-3483b0466b61",
   "metadata": {},
   "source": [
    "### 2.1 创建一维数组"
   ]
  },
  {
   "cell_type": "code",
   "execution_count": 1,
   "id": "51138810-a559-4112-8cb2-c1860ae177a7",
   "metadata": {},
   "outputs": [
    {
     "data": {
      "text/plain": [
       "array([1, 2, 3])"
      ]
     },
     "execution_count": 1,
     "metadata": {},
     "output_type": "execute_result"
    }
   ],
   "source": [
    "import numpy as np\n",
    "np.array([1, 2, 3])"
   ]
  },
  {
   "cell_type": "markdown",
   "id": "8b65d3a9-8a0d-419f-a779-b92dc82781ec",
   "metadata": {},
   "source": [
    "用一种可视化方式来理解："
   ]
  },
  {
   "cell_type": "markdown",
   "id": "2a341143-72c4-45dd-9648-82d7cfc9dd37",
   "metadata": {},
   "source": [
    "![ndarray](images/np_array.png)"
   ]
  },
  {
   "cell_type": "markdown",
   "id": "3161dc9f-2e0c-45b6-8239-7acebbf6a010",
   "metadata": {},
   "source": [
    "创建数组的时候，可以指定其中元素的类型，使用参数dtype。dtype可以等于np.int64, np.float64, np.str等等。"
   ]
  },
  {
   "cell_type": "markdown",
   "id": "96f7259f-3f9b-4b70-9f47-b72192bffd45",
   "metadata": {},
   "source": [
    "虽然默认的数据类型是浮点数(np.float64)，但您可以使用dtype关键字显式指定想要的数据类型。"
   ]
  },
  {
   "cell_type": "code",
   "execution_count": 2,
   "id": "3c4309bf-4f7e-4a89-b68b-f139fe3ccddf",
   "metadata": {},
   "outputs": [
    {
     "data": {
      "text/plain": [
       "array([1., 2., 3., 4., 5., 6.])"
      ]
     },
     "execution_count": 2,
     "metadata": {},
     "output_type": "execute_result"
    }
   ],
   "source": [
    "a = np.array([1, 2, 3, 4, 5, 6], dtype=np.float64)\n",
    "a"
   ]
  },
  {
   "cell_type": "markdown",
   "id": "94321124-c771-4416-8378-66ddbb1edda7",
   "metadata": {},
   "source": [
    "### 练习：创建一维数组\n",
    "请创建一个包含以下元素的一维数组：3.1, 5.2, 2.9, 6.6, 3.4, 5.5, 4.7。"
   ]
  },
  {
   "cell_type": "code",
   "execution_count": null,
   "id": "89b89521-b069-41de-b791-e71bba0beb2e",
   "metadata": {},
   "outputs": [],
   "source": [
    "\n",
    "\n"
   ]
  },
  {
   "cell_type": "markdown",
   "id": "30727d03-647a-4057-8da5-854e1361cef3",
   "metadata": {},
   "source": [
    "### 2.2 数组的形状和尺寸"
   ]
  },
  {
   "cell_type": "markdown",
   "id": "65972764-f680-44db-9b8e-7786aa120a30",
   "metadata": {},
   "source": [
    "`ndarray.ndim` 会告诉你数组的轴数，或者说是维度。\n",
    "\n",
    "`ndarray.size` 会告诉你数组元素的总数。这是数组的形状元素的乘积。\n",
    "\n",
    "`ndarray.shape` 将显示一个整数元组，该元组指示数组每个维度上存储的元素数量。"
   ]
  },
  {
   "cell_type": "code",
   "execution_count": 4,
   "id": "e82f10ff-7e67-47b7-b97e-1714364d85dd",
   "metadata": {
    "tags": []
   },
   "outputs": [],
   "source": [
    "import numpy as np\n",
    "arr = np.array([1, 2, 3, 4, 5, 6])"
   ]
  },
  {
   "cell_type": "code",
   "execution_count": 5,
   "id": "d3aba4b7-f99f-4b28-9181-1f198d20b4d2",
   "metadata": {
    "tags": []
   },
   "outputs": [
    {
     "name": "stdout",
     "output_type": "stream",
     "text": [
      "维度: 1\n",
      "尺寸: 6\n",
      "形状: (6,)\n"
     ]
    }
   ],
   "source": [
    "print('维度:', arr.ndim)\n",
    "print('尺寸:', arr.size)\n",
    "print('形状:', arr.shape)"
   ]
  },
  {
   "cell_type": "markdown",
   "id": "a1bcd8b4-3934-4938-ad4b-6bd04d13a97e",
   "metadata": {},
   "source": [
    "## 3. 几种生成常见数组的方法\n",
    "除了指定每个元素来创建数组之外，你还可以轻松创建一个由0填充的数组，或者由1填充的数组，或者是创建一组随机数。\n",
    "![np_ones_zeros_random](images/np_ones_zeros_random.png)"
   ]
  },
  {
   "cell_type": "markdown",
   "id": "6d8f5092-dd3a-4434-aa24-c46a79699e90",
   "metadata": {},
   "source": [
    "包含指定范围的数组："
   ]
  },
  {
   "cell_type": "code",
   "execution_count": 3,
   "id": "b5b699dc-26d0-462d-beef-7bee67618d72",
   "metadata": {},
   "outputs": [
    {
     "data": {
      "text/plain": [
       "array([0, 1, 2, 3])"
      ]
     },
     "execution_count": 3,
     "metadata": {},
     "output_type": "execute_result"
    }
   ],
   "source": [
    "np.arange(4)"
   ]
  },
  {
   "cell_type": "markdown",
   "id": "414ded9e-bddf-4db6-af9c-4675b261934e",
   "metadata": {},
   "source": [
    "甚至包含等距间隔的数组。为此，您需要指定第一个数字、最后一个数字和步长。下面这个例子，就是从2开始，到9结束，间隔为2。"
   ]
  },
  {
   "cell_type": "code",
   "execution_count": 4,
   "id": "bdb8b196-db63-4bbc-be8f-b69c5e1c95ac",
   "metadata": {},
   "outputs": [
    {
     "data": {
      "text/plain": [
       "array([2, 4, 6, 8])"
      ]
     },
     "execution_count": 4,
     "metadata": {},
     "output_type": "execute_result"
    }
   ],
   "source": [
    "np.arange(2, 9, 2) #step=2"
   ]
  },
  {
   "cell_type": "markdown",
   "id": "a9d93032-a1aa-46c4-906b-e1b7c30fe1f7",
   "metadata": {},
   "source": [
    "你也可以使用np.linspace()来创建一个数组，该数组的值按指定的间隔线性排列:"
   ]
  },
  {
   "cell_type": "code",
   "execution_count": 5,
   "id": "848a7558-6f93-4e1a-b573-e7748dbd2a27",
   "metadata": {},
   "outputs": [
    {
     "data": {
      "text/plain": [
       "array([ 0. ,  2.5,  5. ,  7.5, 10. ])"
      ]
     },
     "execution_count": 5,
     "metadata": {},
     "output_type": "execute_result"
    }
   ],
   "source": [
    "np.linspace(0, 10, num=5)"
   ]
  },
  {
   "cell_type": "markdown",
   "id": "76d724a7-ef12-4aed-9838-9000297ae7d0",
   "metadata": {
    "tags": []
   },
   "source": [
    "### 练习：生成等差数列\n",
    "生成以一个等差数列：$19, 16, 13, 10, 7, 4, 1$"
   ]
  },
  {
   "cell_type": "code",
   "execution_count": null,
   "id": "f1e9b5a0-0db5-426b-b803-55a158257d85",
   "metadata": {},
   "outputs": [],
   "source": [
    "\n",
    "\n"
   ]
  },
  {
   "cell_type": "markdown",
   "id": "bab65276-2cf4-4640-896f-f8ee6c5e263e",
   "metadata": {},
   "source": [
    "## 4.索引和切片"
   ]
  },
  {
   "cell_type": "markdown",
   "id": "8f77aaba-5597-4b57-8752-486a3a188522",
   "metadata": {},
   "source": [
    "您可能希望获取数组的一部分或特定数组元素，以便在进一步的分析或其他操作中使用。要做到这一点，您需要对数组进行子集、切片或索引。"
   ]
  },
  {
   "cell_type": "markdown",
   "id": "131aaa32-433d-46d7-8925-52f40f07ef69",
   "metadata": {},
   "source": [
    "就像使用列表(lists)一样，你可以用同样的方式索引和切片，选择数组中的部分元素。下面用一种可视化的方式：\n",
    "![np_indexing.png](images/np_indexing.png)\n",
    "代码如下："
   ]
  },
  {
   "cell_type": "code",
   "execution_count": 7,
   "id": "0b391a2d-755a-4d3c-9a78-fd9648c6fe80",
   "metadata": {
    "tags": []
   },
   "outputs": [
    {
     "data": {
      "text/plain": [
       "1"
      ]
     },
     "execution_count": 7,
     "metadata": {},
     "output_type": "execute_result"
    }
   ],
   "source": [
    "data = np.array([1,2,3])\n",
    "data[0]"
   ]
  },
  {
   "cell_type": "code",
   "execution_count": 8,
   "id": "5c880265-0365-42ef-bea0-3dc8a4cc0e02",
   "metadata": {
    "tags": []
   },
   "outputs": [
    {
     "data": {
      "text/plain": [
       "2"
      ]
     },
     "execution_count": 8,
     "metadata": {},
     "output_type": "execute_result"
    }
   ],
   "source": [
    "data[1] "
   ]
  },
  {
   "cell_type": "code",
   "execution_count": 9,
   "id": "dad950a9-40ed-4c5c-b02c-8a10dfc301d8",
   "metadata": {
    "tags": []
   },
   "outputs": [
    {
     "data": {
      "text/plain": [
       "array([2, 3])"
      ]
     },
     "execution_count": 9,
     "metadata": {},
     "output_type": "execute_result"
    }
   ],
   "source": [
    "data[1:]"
   ]
  },
  {
   "cell_type": "code",
   "execution_count": 10,
   "id": "8f647bd1-3dce-49c5-ba7f-41055380eb5d",
   "metadata": {
    "tags": []
   },
   "outputs": [
    {
     "data": {
      "text/plain": [
       "array([2, 3])"
      ]
     },
     "execution_count": 10,
     "metadata": {},
     "output_type": "execute_result"
    }
   ],
   "source": [
    "data[-2:]"
   ]
  },
  {
   "cell_type": "markdown",
   "id": "1e386456-4824-4178-baaa-9b9e8376dbf0",
   "metadata": {},
   "source": [
    "### 练习：选取数组元素\n",
    "给定下列数组[52, 11, 26, 35, 41, 71]，请选取出部分元素:[26, 35], 再倒序选取[35,41]。"
   ]
  },
  {
   "cell_type": "code",
   "execution_count": null,
   "id": "13d4f496-e065-434e-8636-0ec9a43350da",
   "metadata": {},
   "outputs": [],
   "source": [
    "\n",
    "\n"
   ]
  },
  {
   "cell_type": "markdown",
   "id": "6fb1cb5e-0ba6-4895-8e66-aeb0240b2c4e",
   "metadata": {},
   "source": [
    "### 练习：数据集划分——固定划分"
   ]
  },
  {
   "cell_type": "markdown",
   "id": "a98445f9-2af8-4587-b4cd-de7905062c00",
   "metadata": {},
   "source": [
    "在机器学习中，样本内和样本外是指数据集中的一部分样本，其中来说，样本内是指用于训练模型、调整模型参数、验证模型性能的数据；样本外是指未在训练过程中使用的数据，通常用于测试模型的性能和泛化能力。这些相关知识点，会在后面章节学习到。"
   ]
  },
  {
   "cell_type": "markdown",
   "id": "37233adc-2ccb-4d6d-a1e8-9f1861173556",
   "metadata": {},
   "source": [
    "![fix_split](images/fix_split.png)"
   ]
  },
  {
   "cell_type": "markdown",
   "id": "cdb56d02-fcce-4523-b4d1-abcf8b8e3c52",
   "metadata": {},
   "source": [
    "一般将80%的原始数据集的子样本集作为样本内(In-sample, IS)，剩余20%作为样本外(Out-of-sample, OOS)。\n",
    "样本总数为500个，一种简单的切割方法是直接指定前400个样本为IS，后面为OOS。"
   ]
  },
  {
   "cell_type": "code",
   "execution_count": 48,
   "id": "4cd4d490-2f78-48a5-a41c-54f81ece8f9b",
   "metadata": {},
   "outputs": [],
   "source": [
    "X = np.array([0.36707772, 0.30442107, 0.09602864, 0.72140911, 0.30727176,\n",
    "       0.30332833, 0.82704939, 0.0547752 , 0.91921485, 0.54352647,\n",
    "       0.45263199, 0.1654269 , 0.42571673, 0.38253443, 0.11461271,\n",
    "       0.56558215, 0.78277293, 0.82637154, 0.48652071, 0.49557472])"
   ]
  },
  {
   "cell_type": "markdown",
   "id": "2d9bb05c-2ed1-4601-ab8e-9d83e0eba212",
   "metadata": {},
   "source": [
    "如果给定一个X序列，那么其样本内和样本外分别是："
   ]
  },
  {
   "cell_type": "code",
   "execution_count": null,
   "id": "0d0a7f08-a6a7-4552-889e-bc5eb2579d5a",
   "metadata": {},
   "outputs": [],
   "source": [
    "X_IS = \n",
    "X_OOS = "
   ]
  },
  {
   "cell_type": "markdown",
   "id": "3dae5580-b2fd-435d-8876-ea340e1a43e9",
   "metadata": {},
   "source": [
    "## 5.数组的操作方法"
   ]
  },
  {
   "cell_type": "markdown",
   "id": "088830bf-bd0a-43f3-b281-a56532d53ae8",
   "metadata": {},
   "source": [
    "### 5.1 排序数组元素"
   ]
  },
  {
   "cell_type": "markdown",
   "id": "d70ffc51-29da-4215-b0a2-e407035f1ab0",
   "metadata": {},
   "source": [
    "使用np.sort()对元素进行排序很简单。您可以在调用函数时指定轴、类型和顺序。"
   ]
  },
  {
   "cell_type": "code",
   "execution_count": 6,
   "id": "b2fe8d33-6598-47d5-8b06-9f92453d1b78",
   "metadata": {},
   "outputs": [],
   "source": [
    "import numpy as np\n",
    "arr = np.array([2, 1, 5, 3, 7, 4, 6, 8])  #使用np.array创建一个1维无序数组"
   ]
  },
  {
   "cell_type": "markdown",
   "id": "34c661dc-b018-4eea-a0c6-e60dc5fd92b3",
   "metadata": {},
   "source": [
    "你可以按照升序进行排序:"
   ]
  },
  {
   "cell_type": "code",
   "execution_count": 7,
   "id": "c58154f3-c7a4-48aa-a5d2-bc0a4128d326",
   "metadata": {},
   "outputs": [
    {
     "data": {
      "text/plain": [
       "array([1, 2, 3, 4, 5, 6, 7, 8])"
      ]
     },
     "execution_count": 7,
     "metadata": {},
     "output_type": "execute_result"
    }
   ],
   "source": [
    "np.sort(arr)"
   ]
  },
  {
   "cell_type": "markdown",
   "id": "84ea140d-0f02-4134-b802-1e20260d3862",
   "metadata": {},
   "source": [
    "### 5.2 数学运算"
   ]
  },
  {
   "cell_type": "markdown",
   "id": "78cfafd8-0bfb-4549-92a8-29e05c49e264",
   "metadata": {},
   "source": [
    "一旦创建了数组，就可以开始使用它们了。比如说，你创建了两个数组，一个叫data，一个叫ones，它们之间的数学运算为：\n",
    "![np_array_dataones](images/np_array_dataones.png)\n",
    "![np_data_plus_ones](images/np_data_plus_ones.png)\n",
    "![np_sub_mult_divide](images/np_sub_mult_divide.png)"
   ]
  },
  {
   "cell_type": "markdown",
   "id": "4968b39c-66a0-4705-82ef-b4f8b12de493",
   "metadata": {},
   "source": [
    "代码如下："
   ]
  },
  {
   "cell_type": "code",
   "execution_count": 8,
   "id": "03c92c55-2c5b-4f50-96c2-421dc58ae861",
   "metadata": {},
   "outputs": [
    {
     "data": {
      "text/plain": [
       "array([2, 3])"
      ]
     },
     "execution_count": 8,
     "metadata": {},
     "output_type": "execute_result"
    }
   ],
   "source": [
    "data = np.array([1, 2])\n",
    "ones = np.ones(2, dtype=int)\n",
    "data + ones"
   ]
  },
  {
   "cell_type": "code",
   "execution_count": 9,
   "id": "2e6c11a9-9d1f-42ff-8b27-7079762437f4",
   "metadata": {},
   "outputs": [
    {
     "data": {
      "text/plain": [
       "array([0, 1])"
      ]
     },
     "execution_count": 9,
     "metadata": {},
     "output_type": "execute_result"
    }
   ],
   "source": [
    "data - ones"
   ]
  },
  {
   "cell_type": "code",
   "execution_count": 10,
   "id": "17fedcd0-75ce-491e-9b74-2211017e9daa",
   "metadata": {},
   "outputs": [
    {
     "data": {
      "text/plain": [
       "array([1, 4])"
      ]
     },
     "execution_count": 10,
     "metadata": {},
     "output_type": "execute_result"
    }
   ],
   "source": [
    "data * data"
   ]
  },
  {
   "cell_type": "code",
   "execution_count": 11,
   "id": "e1615882-482d-442a-a91b-29da275cb30d",
   "metadata": {},
   "outputs": [
    {
     "data": {
      "text/plain": [
       "array([1., 1.])"
      ]
     },
     "execution_count": 11,
     "metadata": {},
     "output_type": "execute_result"
    }
   ],
   "source": [
    "data / data"
   ]
  },
  {
   "cell_type": "markdown",
   "id": "691ca1d7-dfb6-49fb-a54b-070c755ae6b3",
   "metadata": {},
   "source": [
    "### 5.3 求和、最大值、最小值"
   ]
  },
  {
   "cell_type": "markdown",
   "id": "b38144b5-f5e7-415a-bfb1-b3be3d9dc6cb",
   "metadata": {},
   "source": [
    "NumPy还执行聚合函数。除了min、max和sum之外，您还可以轻松地运行mean以得到平均值，prod以得到元素相乘的结果，std以得到标准差，等等。"
   ]
  },
  {
   "cell_type": "markdown",
   "id": "5b529e81-7ee5-465a-b06e-a8937847749d",
   "metadata": {},
   "source": [
    "![np_aggregation](images/np_aggregation.png)"
   ]
  },
  {
   "cell_type": "code",
   "execution_count": 12,
   "id": "8642e3b5-f920-4d76-a949-ff4efa209f7f",
   "metadata": {
    "tags": []
   },
   "outputs": [
    {
     "name": "stdout",
     "output_type": "stream",
     "text": [
      "序列[1,2,3]\n",
      "最大值:\t3\n",
      "最小值:\t1\n",
      "总和:\t6\n"
     ]
    }
   ],
   "source": [
    "data = np.array([1, 2, 3])\n",
    "print('序列[1,2,3]\\n最大值:\\t%i\\n最小值:\\t%i\\n总和:\\t%i'\n",
    "      %(data.max(), data.min(), data.sum()))"
   ]
  },
  {
   "cell_type": "markdown",
   "id": "f639f10a-0baa-46dd-92c7-a34ba058ffa6",
   "metadata": {},
   "source": [
    "#### 练习： 评估销售信息\n",
    "假设有一个销售数据集：[100, 150, 200, 120, 180, 90, 160, 220, 130, 190]，\n",
    "1. 计算销售数量的总和\n",
    "2. 计算销售数量的平均值\n",
    "3. 计算销售数量的标准差"
   ]
  },
  {
   "cell_type": "code",
   "execution_count": null,
   "id": "5e04079a-a089-43ec-a35d-2e2c9436d385",
   "metadata": {},
   "outputs": [],
   "source": []
  },
  {
   "cell_type": "markdown",
   "id": "60fe46d5-a746-4025-be66-d833e4a942e7",
   "metadata": {},
   "source": [
    "#### 练习：最小最大标准化"
   ]
  },
  {
   "cell_type": "markdown",
   "id": "46cfd226-7466-43e0-bd23-ca362f3efe1d",
   "metadata": {},
   "source": [
    "最小最大标准化（Min-Max Normalization）是一种常用的数据标准化方法，用于将数据缩放到指定的范围内。\n",
    "该方法通过对数据进行线性变换，使其值域被缩放到指定的范围内，通常是 [0,1] 或 [-1,1]。\n",
    "\n",
    "该方法的公式如下：\n",
    "\n",
    "$$\n",
    "X_{norm} = (X - X_{min}) / (X_{max} - X_{min})\n",
    "$$\n",
    "\n",
    "通过最小最大标准化，可以使得不同量纲的数据在同一标度下进行比较，且可以使得数据具有可比性。\n",
    "在机器学习、数据挖掘等领域中，常常需要对数据进行标准化，以提高算法的性能和效果。"
   ]
  },
  {
   "cell_type": "markdown",
   "id": "97e9327f-3665-4bfa-a2d4-0e161540f8cf",
   "metadata": {},
   "source": [
    "应用上述方法，将序列[16, 46, 33, 90, 64, 34, 91, 33, 24, 32, 30, 91, 85, 58, 77, 35,  1,34, 51, 36]进行最小最大标准化操作，放缩到[0,1]。"
   ]
  },
  {
   "cell_type": "code",
   "execution_count": null,
   "id": "8b8308c6-9b4c-460e-9d71-aebb00f2000c",
   "metadata": {},
   "outputs": [],
   "source": []
  },
  {
   "cell_type": "markdown",
   "id": "e7cf018d-2622-41d4-94e5-37bb39719ebf",
   "metadata": {},
   "source": [
    "### 5.4 包含随机数的数组"
   ]
  },
  {
   "cell_type": "markdown",
   "id": "ae754c02-cf43-40d2-8acc-ea25d7fc7a1f",
   "metadata": {},
   "source": [
    "在很多实际场景中，我们需要使用随机数，NumPy包提供了random模块，使用`np.random.函数名`方法调用，可以使用`help(np.random.函数名)`或`np.random.函数名?`来查看函数参数和具体使用方法。\n",
    "|函数|作用|\n",
    "|---|---|\n",
    "|random|生成一个符合均匀分布[0,1)的随机数|\n",
    "|permutation|随机排序序列或生成一个随机序列|\n",
    "|choice|给定1维数组进行随机采样|\n",
    "|rand |生成均匀分布的值|\n",
    "|randn|生成正态分布的值|\n",
    "|randint|给定范围生成均匀分布的整数|\n",
    "|seed| 为随机数生成器添加种子|"
   ]
  },
  {
   "cell_type": "markdown",
   "id": "09dcbbfe-7dba-407a-9df3-98ddc954ac0d",
   "metadata": {},
   "source": [
    "例如，给定一个序列[0, 1, 2, 3, 4, 5, 6, 7, 8, 9]，我们可以进行随机排序："
   ]
  },
  {
   "cell_type": "code",
   "execution_count": 33,
   "id": "8c24b7e0-e538-4223-8fb8-462c93620d28",
   "metadata": {
    "tags": []
   },
   "outputs": [
    {
     "data": {
      "text/plain": [
       "array([9, 2, 7, 8, 0, 6, 4, 1, 3, 5])"
      ]
     },
     "execution_count": 33,
     "metadata": {},
     "output_type": "execute_result"
    }
   ],
   "source": [
    "arr = np.array([0, 1, 2, 3, 4, 5, 6, 7, 8, 9])\n",
    "arr = np.random.permutation(arr)\n",
    "arr"
   ]
  },
  {
   "cell_type": "markdown",
   "id": "260fecee-0805-4fea-9636-093495959a91",
   "metadata": {},
   "source": [
    "#### 练习：数据集划分——简单随机划分"
   ]
  },
  {
   "cell_type": "markdown",
   "id": "7b550f04-7f80-44fe-895d-77688470e307",
   "metadata": {},
   "source": [
    "简单随机划分（Simple Random Sampling）：将原始数据集随机划分为训练集和测试集两部分，通常将数据集的 70% 到 80% 作为训练集，剩余部分作为测试集。"
   ]
  },
  {
   "cell_type": "markdown",
   "id": "25ca6980-c0fc-4f6b-8a00-a2253f5c0417",
   "metadata": {},
   "source": [
    "![random_split](images/random_split.png)"
   ]
  },
  {
   "cell_type": "markdown",
   "id": "d3c69e83-4fb2-41c3-9859-d8903be2cd77",
   "metadata": {},
   "source": [
    "当我们并不了解原始数据集是不是被刻意排列了，最好的办法是使用随机抽样，即随机抽80%为IS，剩余的20%为OOS。"
   ]
  },
  {
   "cell_type": "code",
   "execution_count": null,
   "id": "e520a5b1-15a6-4562-8ce6-fe5dfd3e9a6b",
   "metadata": {},
   "outputs": [],
   "source": [
    "X_random_IS = \n",
    "X_random_OOS = "
   ]
  },
  {
   "cell_type": "markdown",
   "id": "01ff70df-2dc7-4041-be79-e130633fcd47",
   "metadata": {},
   "source": [
    "## 6. 一个例子"
   ]
  },
  {
   "cell_type": "markdown",
   "id": "8a643e9b-2e59-401a-bc82-bf45593dc70c",
   "metadata": {},
   "source": [
    "实现在矩阵和向量上的数学公式是NumPy的一个关键用处，这也是为什么 NumPy 是python 科学计算领域的宠儿。\n",
    "\n",
    "例如， 均方误差公式是解决回归问题的有监督机器学习模型的一个关键。\n",
    "![1](images/1.png)\n",
    "\n",
    "用 NumPy 来实现是一件轻而易举的事：\n",
    "\n",
    "![2](images/2.png)\n",
    "\n",
    "优雅之处在于 numpy 不关心 predictions 和 labels 的容量是 1 还是几百个值（只要它们有同样的容量）。我们可以通过如下四个步骤来对这行代码进行一个序列解读：\n",
    "![3](images/3.png)\n",
    "\n",
    "predictions 和 labels 向量都有3个值，也就是说 n = 3, 计算完减法后，我们得到如下的公式：\n",
    "![4](images/4.png)\n",
    "\n",
    "然后对这个向量求平方操作：\n",
    "![5](images/5.png)\n",
    "\n",
    "现在，我们对三个数进行求和：\n",
    "![6](images/6.png)\n",
    "\n",
    "error 中的值就是模型预测的误差。"
   ]
  },
  {
   "cell_type": "markdown",
   "id": "93ba0a09-0026-4416-8d7c-38a4d009be6c",
   "metadata": {},
   "source": [
    "### 练习：设计一个计算均方误差的函数"
   ]
  },
  {
   "cell_type": "code",
   "execution_count": null,
   "id": "41bdd351-8e90-49be-bdc9-e9d1b1d6d852",
   "metadata": {},
   "outputs": [],
   "source": [
    "\n",
    "\n",
    "\n",
    "\n",
    "\n"
   ]
  },
  {
   "cell_type": "markdown",
   "id": "cfb74e54-04ef-4904-8bfc-cea8be6fb15d",
   "metadata": {},
   "source": [
    "给定Y（或称为label）序列值为[10.1, 9.8, 10.5, 10.0, 10.3], 其预测的结果，也就是predictions为[10, 10, 10, 10, 10]时，MSE的值是多少？"
   ]
  },
  {
   "cell_type": "code",
   "execution_count": null,
   "id": "ade1a1f0-d710-476a-b6d3-e767e9b7d7d5",
   "metadata": {},
   "outputs": [],
   "source": [
    "\n",
    "\n",
    "\n"
   ]
  },
  {
   "cell_type": "markdown",
   "id": "05646a90-5dfa-485f-8fad-7b7707c8fedc",
   "metadata": {},
   "source": [
    "## 7. 保存数组"
   ]
  },
  {
   "cell_type": "markdown",
   "id": "ff6af7d1-16b7-4004-8ca9-718a406edd4e",
   "metadata": {},
   "source": [
    "\n",
    "需要将数组从内存中保存到文件时，可以使用NumPy的save()函数来保存数据为.npy格式。下面是一个示例代码：\n"
   ]
  },
  {
   "cell_type": "code",
   "execution_count": 1,
   "id": "b9926bba-e45d-42cc-ae44-e77405dd3568",
   "metadata": {
    "tags": []
   },
   "outputs": [],
   "source": [
    "import numpy as np\n",
    "\n",
    "# 创建一个示例数据\n",
    "data = np.array([1, 2, 3, 4, 5])\n",
    "\n",
    "# 保存数据为.npy文件，存放在路径\"datasets/\"下\n",
    "np.save('datasets/example_data.npy', data)\n"
   ]
  },
  {
   "cell_type": "markdown",
   "id": "1e7ec0ac-ad1e-4868-9df5-34c67e758213",
   "metadata": {},
   "source": [
    "## 参考\n",
    "1. NumPy: the absolute basics for beginners, https://numpy.org/doc/stable/user/absolute_beginners.html\n",
    "2. A Visual Intro to NumPy and Data Representation, https://jalammar.github.io/visual-numpy/"
   ]
  }
 ],
 "metadata": {
  "kernelspec": {
   "display_name": "Python 3 (ipykernel)",
   "language": "python",
   "name": "python3"
  },
  "language_info": {
   "codemirror_mode": {
    "name": "ipython",
    "version": 3
   },
   "file_extension": ".py",
   "mimetype": "text/x-python",
   "name": "python",
   "nbconvert_exporter": "python",
   "pygments_lexer": "ipython3",
   "version": "3.11.5"
  },
  "toc-autonumbering": false,
  "toc-showmarkdowntxt": false
 },
 "nbformat": 4,
 "nbformat_minor": 5
}
