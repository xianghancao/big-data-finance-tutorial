{
 "cells": [
  {
   "cell_type": "markdown",
   "id": "2e7a938d-b12b-4363-b3ad-5189686120ee",
   "metadata": {},
   "source": [
    "# 3 NumPy科学计算"
   ]
  },
  {
   "cell_type": "markdown",
   "id": "e763a7d8-d1e1-488d-88fd-3f8cefccfc97",
   "metadata": {},
   "source": [
    "> 用一种以上的方法认识一个事物，才能真正理解它。——马文\\*明斯基(计算机科学家、认知科学家)"
   ]
  },
  {
   "cell_type": "markdown",
   "id": "27560c66-fe34-42d1-b2e1-ed9c3a8e5c92",
   "metadata": {},
   "source": [
    "\n",
    "<div class=\"alert alert-block alert-success\">\n",
    "<b>知识点：</b>NumPy一维数组；NumPy的应用  \n",
    "<br><b>技能：</b>掌握NumPy一维数组的创建、索引、切片和操作方法； 了解NumPy在金融价格序列、文本、图像等各类场景上的应用   \n",
    "<br><b>作业：</b>在金融领域应用NumPy  \n",
    "</div>"
   ]
  },
  {
   "cell_type": "markdown",
   "id": "0a0d0f64-5353-4aea-843c-782ff149da37",
   "metadata": {},
   "source": [
    "## 预习"
   ]
  },
  {
   "cell_type": "markdown",
   "id": "e2e51c14-7977-4402-b753-0beeaf181862",
   "metadata": {},
   "source": [
    "### 观看视频\n",
    "\n"
   ]
  },
  {
   "cell_type": "markdown",
   "id": "2f03995b-ffb8-41f5-a396-a3a3fc6fb71a",
   "metadata": {},
   "source": [
    "观看以下[《股票市场是怎样运作的》](https://player.bilibili.com/player.html?aid=549830886&bvid=BV1Wi4y1d7fW&cid=460249168&p=1&autoplay=0)"
   ]
  },
  {
   "cell_type": "markdown",
   "id": "74e09262-c981-49ff-93b9-70bc26cd2569",
   "metadata": {},
   "source": [
    "<iframe src=\"https://player.bilibili.com/player.html?aid=549830886&bvid=BV1Wi4y1d7fW&cid=460249168&p=1&autoplay=0\" allowfullscreen=\"allowfullscreen\" width=\"80%\" height=\"350\" scrolling=\"no\" frameborder=\"0\" sandbox=\"allow-top-navigation allow-same-origin allow-forms allow-scripts\"></iframe>"
   ]
  },
  {
   "cell_type": "markdown",
   "id": "92b8f3f5-cac2-4e3d-92d6-3fdf111333f5",
   "metadata": {},
   "source": [
    "### 名词解释"
   ]
  },
  {
   "cell_type": "markdown",
   "id": "e703f611-a1b6-441e-9738-c4ab1cb0bd6c",
   "metadata": {},
   "source": [
    "请使用各类资源和工具，完成以下名词解释：\n",
    "- 开源\n",
    "- 科学计算\n",
    "- 金融价格序列\n",
    "- 数组\n",
    "- 一维、二维和多维\n",
    "- 随机数\n",
    "- 数据集"
   ]
  },
  {
   "cell_type": "markdown",
   "id": "c86cd349-a4db-450d-a243-e9cb918d2c1f",
   "metadata": {},
   "source": [
    "### 浏览网络资源"
   ]
  },
  {
   "cell_type": "markdown",
   "id": "f0b3c79d-1768-4698-848b-c339d2c386d7",
   "metadata": {},
   "source": [
    "浏览以下网络资源"
   ]
  },
  {
   "cell_type": "markdown",
   "id": "cf311ab9-f2d5-4ba2-999b-cd3823dbb70b",
   "metadata": {},
   "source": [
    "- NumPy官方文档：<https://numpy.org/doc/stable/user/absolute_beginners.html>\n",
    "- NumPy官方网址：<https://numpy.org/doc/stable/index.html>"
   ]
  }
 ],
 "metadata": {
  "kernelspec": {
   "display_name": "Python 3 (ipykernel)",
   "language": "python",
   "name": "python3"
  },
  "language_info": {
   "codemirror_mode": {
    "name": "ipython",
    "version": 3
   },
   "file_extension": ".py",
   "mimetype": "text/x-python",
   "name": "python",
   "nbconvert_exporter": "python",
   "pygments_lexer": "ipython3",
   "version": "3.11.7"
  }
 },
 "nbformat": 4,
 "nbformat_minor": 5
}
