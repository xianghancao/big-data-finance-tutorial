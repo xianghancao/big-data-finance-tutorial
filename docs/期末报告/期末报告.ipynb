{
 "cells": [
  {
   "cell_type": "markdown",
   "id": "b76c3d20-0709-4dc1-9c7e-fa5ad51bbdbf",
   "metadata": {},
   "source": [
    "# 期末报告"
   ]
  },
  {
   "cell_type": "markdown",
   "id": "ee7f3757-5332-4815-8a23-e9ac72722f15",
   "metadata": {},
   "source": [
    "<img src='images/analysis-1841158_1280.jpg' width=400>\n",
    "\n"
   ]
  },
  {
   "cell_type": "markdown",
   "id": "1add6410-2e80-463d-8a48-1c93ab7d059e",
   "metadata": {},
   "source": [
    "请选择和本课程相关的研究领域和方向，进行报告的研究、实验和文字撰写。"
   ]
  },
  {
   "cell_type": "markdown",
   "id": "de1850ec-3956-4781-8d48-bdaf7afe64e3",
   "metadata": {},
   "source": [
    "请在第13周前，将报告题目填写到如下共享链接中：\n",
    "<a href=\"https://docs.qq.com/sheet/DWnlrRkpCT2RscFlW\" target=\"_blank\">  https://docs.qq.com/sheet/DWnlrRkpCT2RscFlW  </a> \n"
   ]
  },
  {
   "cell_type": "markdown",
   "id": "12c3c6c2-e332-4668-80f2-fd69cf610b2a",
   "metadata": {},
   "source": [
    "报告应包含如下部分：\n",
    "\n",
    "1. 问题定义\n",
    "2. 数据的加载\n",
    "3. 数据预处理\n",
    "4. 模型\n",
    "5. 模型评估\n",
    "6. 结论\n",
    "7. 参考文献\n"
   ]
  },
  {
   "cell_type": "markdown",
   "id": "98a1ef62-c052-463a-b712-4f9c1b1a5658",
   "metadata": {},
   "source": [
    "上传文件：\n",
    "1. 包含代码、数据集等文件的压缩包（.zip或.rar格式）\n",
    "2. 更改压缩包为“组名.zip”或“组名.rar”\n",
    "2. 上传该压缩包文件至如下共享文件夹中：\n",
    "<a href=\"https://drive.weixin.qq.com/s?k=ANIAFAdhAAYHMTuTE0\" target=\"_blank\">https://drive.weixin.qq.com/s?k=ANIAFAdhAAYHMTuTE0</a>\n",
    "\n",
    "打印存档\n",
    "1. 点击`File`，选择`Save and Export Notebook As`为`HTML`\n",
    "2. 找到刚才下载的文件:“组名.html”\n",
    "3. 打印该HTML格式文件，单面打印，或者在jupyterlab界面下，使用快捷键`CTRL + P`来进行打印，打印时应去除页眉和页尾，单面打印\n",
    "4. 下载期末报告模版：\n",
    "<br><a href=\"https://github.com/xianghancao/big-data-finance-tutorial/raw/main/docs/期末报告/2024年春季期末实验报告.docx\" download> 2024年春季期末实验报告.docx </a>，打印报告封面，单面打印\n",
    "5. 使用订书钉装订\n",
    "6. 16周结束时上交\n",
    "\n",
    "\n",
    "\n"
   ]
  },
  {
   "cell_type": "markdown",
   "id": "3aab65c5-e98d-49a0-93be-9de3acc23825",
   "metadata": {},
   "source": [
    "## 评分标准"
   ]
  },
  {
   "cell_type": "markdown",
   "id": "5cd54273-413c-45f0-8609-913a09dec352",
   "metadata": {},
   "source": [
    "评分标准如下，详细见word版本的报告"
   ]
  },
  {
   "cell_type": "markdown",
   "id": "66b25974-db10-413e-9010-354316b3b49f",
   "metadata": {},
   "source": [
    "- 课堂汇报的质量\n",
    "- 报告的内容\n",
    "- 报告的格式\n",
    "- 流程的完整性\n",
    "- 创新性\n",
    "- 团队合作\n"
   ]
  }
 ],
 "metadata": {
  "kernelspec": {
   "display_name": "Python 3 (ipykernel)",
   "language": "python",
   "name": "python3"
  },
  "language_info": {
   "codemirror_mode": {
    "name": "ipython",
    "version": 3
   },
   "file_extension": ".py",
   "mimetype": "text/x-python",
   "name": "python",
   "nbconvert_exporter": "python",
   "pygments_lexer": "ipython3",
   "version": "3.11.5"
  }
 },
 "nbformat": 4,
 "nbformat_minor": 5
}
