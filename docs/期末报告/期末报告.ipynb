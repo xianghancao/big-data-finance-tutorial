{
 "cells": [
  {
   "cell_type": "markdown",
   "id": "b76c3d20-0709-4dc1-9c7e-fa5ad51bbdbf",
   "metadata": {},
   "source": [
    "# 课程期末报告"
   ]
  },
  {
   "cell_type": "markdown",
   "id": "ee7f3757-5332-4815-8a23-e9ac72722f15",
   "metadata": {},
   "source": [
    "<img src='images/portfolio_investing.jpg' width=400>"
   ]
  },
  {
   "cell_type": "markdown",
   "id": "1add6410-2e80-463d-8a48-1c93ab7d059e",
   "metadata": {},
   "source": [
    "请选择和本课程相关的研究领域和方向（），进行报告的研究、实验和文字撰写，报告应包含如下部分："
   ]
  },
  {
   "cell_type": "markdown",
   "id": "12c3c6c2-e332-4668-80f2-fd69cf610b2a",
   "metadata": {},
   "source": [
    "\n",
    "1. 问题陈述\n",
    "2. 数据的加载\n",
    "3. 数据预处理\n",
    "4. 模型\n",
    "5. 模型评估\n",
    "6. 结论\n",
    "7. 参考文献\n"
   ]
  },
  {
   "cell_type": "markdown",
   "id": "98a1ef62-c052-463a-b712-4f9c1b1a5658",
   "metadata": {},
   "source": [
    "上传文件：\n",
    "1. 修改文件名为“组名”\n",
    "2. 上传该文件至如下共享文件夹中：\n",
    "<a href=\"\" target=\"_blank\">https:xxx</a>\n",
    "\n",
    "打印存档\n",
    "1. 点击`File`，选择`Save and Export Notebook As`为`HTML`\n",
    "2. 找到刚才下载的文件:“组名.html”\n",
    "3. 打印该HTML格式文件\n",
    "4. 打印报告封面\n",
    "5. 使用订书钉装订\n",
    "6. 上交\n",
    "\n"
   ]
  },
  {
   "cell_type": "markdown",
   "id": "3aab65c5-e98d-49a0-93be-9de3acc23825",
   "metadata": {},
   "source": [
    "## 评分标准"
   ]
  },
  {
   "cell_type": "markdown",
   "id": "66b25974-db10-413e-9010-354316b3b49f",
   "metadata": {},
   "source": [
    "- presentation的次数、质量\n",
    "- 报告的内容\n",
    "- 报告的格式\n",
    "- 流程的完整性\n",
    "- 创新性\n",
    "- 团队合作\n"
   ]
  }
 ],
 "metadata": {
  "kernelspec": {
   "display_name": "Python 3 (ipykernel)",
   "language": "python",
   "name": "python3"
  },
  "language_info": {
   "codemirror_mode": {
    "name": "ipython",
    "version": 3
   },
   "file_extension": ".py",
   "mimetype": "text/x-python",
   "name": "python",
   "nbconvert_exporter": "python",
   "pygments_lexer": "ipython3",
   "version": "3.11.5"
  }
 },
 "nbformat": 4,
 "nbformat_minor": 5
}
