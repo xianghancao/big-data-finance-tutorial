{
 "cells": [
  {
   "cell_type": "markdown",
   "id": "b76c3d20-0709-4dc1-9c7e-fa5ad51bbdbf",
   "metadata": {},
   "source": [
    "# 期末报告"
   ]
  },
  {
   "cell_type": "markdown",
   "id": "ee7f3757-5332-4815-8a23-e9ac72722f15",
   "metadata": {},
   "source": [
    "<img src='images/analysis-1841158_1280.jpg' width=400>\n",
    "\n"
   ]
  },
  {
   "cell_type": "markdown",
   "id": "a4009b50-d5bc-444b-ad3d-48ad050238ea",
   "metadata": {},
   "source": [
    "请参考本课程案例分析章节的授课内容，选择一个金融场景，提出一个具体的问题，进行报告的研究、实验和文字撰写。\n",
    "\n",
    "金融场景**包含但不限于以下**：\n",
    "1. 金融资产价格收益率的分析和预测；\n",
    "1. 金融资产价格波动率的分析和预测；\n",
    "2. 投资组合的构建和评估；\n",
    "3. Fama-French多因子的实践应用；\n",
    "4. 量化交易策略的构建与评估；\n",
    "5. 信贷违约的预测；\n",
    "6. 财经文本的NLP挖掘；\n",
    "7. 财经文本的情感分析\n",
    "\n",
    "以个人或小组为单位完成，小组成员小于4人。"
   ]
  },
  {
   "cell_type": "markdown",
   "id": "de1850ec-3956-4781-8d48-bdaf7afe64e3",
   "metadata": {},
   "source": [
    "请在第13周前，将报告题目填写到如下共享链接中：\n",
    "<a href=\"https://docs.qq.com/sheet/DWnlrRkpCT2RscFlW\" target=\"_blank\">  https://docs.qq.com/sheet/DWnlrRkpCT2RscFlW  </a> \n"
   ]
  },
  {
   "cell_type": "markdown",
   "id": "12c3c6c2-e332-4668-80f2-fd69cf610b2a",
   "metadata": {},
   "source": [
    "报告应包含如下部分：\n",
    "\n",
    "创新点（非必要）\n",
    "\n",
    "1. 问题定义\n",
    "2. 数据的加载\n",
    "3. 数据预处理\n",
    "4. 模型\n",
    "5. 模型评估\n",
    "6. 结论\n",
    "7. 参考文献\n",
    "\n",
    "最后，在报告结尾处，不得缺少小组分工说明\n"
   ]
  },
  {
   "cell_type": "markdown",
   "id": "98a1ef62-c052-463a-b712-4f9c1b1a5658",
   "metadata": {},
   "source": [
    "上传电子版：\n",
    "1. 包含代码、数据集等文件的压缩包（.zip或.rar格式）\n",
    "2. 更改压缩包为“组名.zip”或“组名.rar”\n",
    "3. 使用腾讯会议录制视频，控制视频大小<=50MB\n",
    "4. 网盘容量有限，视频等材料发邮件 2111003@xdsisu.edu.cn\n",
    "\n",
    "打印纸质版：\n",
    "1. 在jupyterlab界面下，使用快捷键`CTRL + P`来进行打印，去除页眉和页尾，保存为PDF格式，单双面均可；\n",
    "2. 下载期末报告模版：\n",
    "<br><a href=\"https://drive.weixin.qq.com/s?k=ANIAFAdhAAYvV8r1DJ\" download> 2024年春季期末实验报告.docx </a>，打印报告封面、评分页、小结页，单面打印；\n",
    "3. 装订第1步和第2步的纸质材料，订书机装订\n",
    "4. 16周周五前上交班长，班长学习通联系我，放到指定位置"
   ]
  },
  {
   "cell_type": "markdown",
   "id": "2cfc883d-b179-4369-ab44-0351d4a8a231",
   "metadata": {},
   "source": [
    "```{admonition} 期末报告注意\n",
    ":class: note\n",
    "1.评分标准页，不要遗漏打印这一行： 阅卷人：  核分人：\n",
    "<br>2.建议使用jupyter来完成期末报告并打印，不建议在word中编辑和粘贴报告内容\n",
    "<br>3.小结写报告完成过程的收获和感受，不是报告内容的总结\n",
    "<br>4.使用腾讯会议录制视频，控制视频大小<=50MB，网盘容量有限，视频等材料发邮件 2111003@xdsisu.edu.cn\n",
    "```\n"
   ]
  },
  {
   "cell_type": "markdown",
   "id": "3aab65c5-e98d-49a0-93be-9de3acc23825",
   "metadata": {},
   "source": [
    "## 评分标准"
   ]
  },
  {
   "cell_type": "markdown",
   "id": "5cd54273-413c-45f0-8609-913a09dec352",
   "metadata": {},
   "source": [
    "评分标准如下：\n",
    "- 课堂汇报的质量\n",
    "- 报告的内容\n",
    "- 报告的格式\n",
    "- 流程的完整性\n",
    "- 创新性\n",
    "- 团队合作\n",
    "\n",
    "详细细则见word版本的报告"
   ]
  },
  {
   "cell_type": "markdown",
   "id": "66b25974-db10-413e-9010-354316b3b49f",
   "metadata": {},
   "source": []
  }
 ],
 "metadata": {
  "kernelspec": {
   "display_name": "Python 3 (ipykernel)",
   "language": "python",
   "name": "python3"
  },
  "language_info": {
   "codemirror_mode": {
    "name": "ipython",
    "version": 3
   },
   "file_extension": ".py",
   "mimetype": "text/x-python",
   "name": "python",
   "nbconvert_exporter": "python",
   "pygments_lexer": "ipython3",
   "version": "3.11.7"
  }
 },
 "nbformat": 4,
 "nbformat_minor": 5
}
