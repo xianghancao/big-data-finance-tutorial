{
 "cells": [
  {
   "cell_type": "markdown",
   "id": "b070299a-0585-4527-a04f-c7d5e4b2761f",
   "metadata": {},
   "source": [
    "# 选题"
   ]
  },
  {
   "cell_type": "markdown",
   "id": "3e65eb9f-337e-4089-b20b-f9ecc4851d01",
   "metadata": {},
   "source": [
    "选题示例：\n",
    "1. "
   ]
  },
  {
   "cell_type": "markdown",
   "id": "07696b53-272b-4477-9849-dfc85a717f94",
   "metadata": {},
   "source": []
  }
 ],
 "metadata": {
  "kernelspec": {
   "display_name": "Python 3 (ipykernel)",
   "language": "python",
   "name": "python3"
  },
  "language_info": {
   "codemirror_mode": {
    "name": "ipython",
    "version": 3
   },
   "file_extension": ".py",
   "mimetype": "text/x-python",
   "name": "python",
   "nbconvert_exporter": "python",
   "pygments_lexer": "ipython3",
   "version": "3.11.5"
  }
 },
 "nbformat": 4,
 "nbformat_minor": 5
}
