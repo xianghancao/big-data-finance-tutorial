{
 "cells": [
  {
   "cell_type": "markdown",
   "id": "b6b8c782-cedf-456f-a916-9bcffcf4ab47",
   "metadata": {},
   "source": [
    "# 期末报告"
   ]
  },
  {
   "cell_type": "markdown",
   "id": "a929d1c7-ded3-4ffe-a311-9a81669ee9fe",
   "metadata": {},
   "source": [
    "## 流程"
   ]
  },
  {
   "cell_type": "markdown",
   "id": "271e857b-6163-4107-9498-59234263cde6",
   "metadata": {},
   "source": [
    "- 第9周：下发期末报告\n",
    "- 第10周：选题presentation，在线文件夹\n",
    "- 第11周：进度presentation\n",
    "- 第12周：进度presentation\n",
    "- 第13周：进度presentation\n",
    "- 第14周：进度presentation\n",
    "- 第15周：进度presentation\n",
    "- 第16周：最终的presentation并提交纸质版"
   ]
  },
  {
   "cell_type": "markdown",
   "id": "da15d777-d518-49a1-8693-95c45131fc14",
   "metadata": {},
   "source": [
    "## 评分标准"
   ]
  },
  {
   "cell_type": "markdown",
   "id": "cb5b3ce5-6e93-4345-a399-9eb8286c4a5e",
   "metadata": {},
   "source": [
    "- presentation的次数、质量\n",
    "- 报告的内容\n",
    "- 报告的格式\n",
    "- 流程的完整性\n",
    "- 创新性\n",
    "- 团队合作\n"
   ]
  },
  {
   "cell_type": "markdown",
   "id": "31a9120d-9e74-4fc4-abf6-ff70bf788d3d",
   "metadata": {},
   "source": []
  }
 ],
 "metadata": {
  "kernelspec": {
   "display_name": "Python 3 (ipykernel)",
   "language": "python",
   "name": "python3"
  },
  "language_info": {
   "codemirror_mode": {
    "name": "ipython",
    "version": 3
   },
   "file_extension": ".py",
   "mimetype": "text/x-python",
   "name": "python",
   "nbconvert_exporter": "python",
   "pygments_lexer": "ipython3",
   "version": "3.11.5"
  }
 },
 "nbformat": 4,
 "nbformat_minor": 5
}
