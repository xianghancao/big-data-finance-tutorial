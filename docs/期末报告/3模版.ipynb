{
 "cells": [
  {
   "cell_type": "markdown",
   "id": "b76c3d20-0709-4dc1-9c7e-fa5ad51bbdbf",
   "metadata": {},
   "source": [
    "# 课程论文模版"
   ]
  },
  {
   "cell_type": "markdown",
   "id": "29aec52c-7921-421f-9837-e20e09f00152",
   "metadata": {},
   "source": [
    "使用以下模版："
   ]
  },
  {
   "cell_type": "markdown",
   "id": "12c3c6c2-e332-4668-80f2-fd69cf610b2a",
   "metadata": {},
   "source": [
    "# 课程论文标题\n",
    "## 1. 问题陈述\n",
    "## 2. 数据的加载\n",
    "## 3. 数据预处理\n",
    "## 4. 模型\n",
    "## 5. 模型评估\n",
    "## 6. 结论\n",
    "## 参考文献\n"
   ]
  },
  {
   "cell_type": "markdown",
   "id": "e9b388b9-7e78-4b67-a2cb-e0723dbafea2",
   "metadata": {},
   "source": []
  }
 ],
 "metadata": {
  "kernelspec": {
   "display_name": "Python 3 (ipykernel)",
   "language": "python",
   "name": "python3"
  },
  "language_info": {
   "codemirror_mode": {
    "name": "ipython",
    "version": 3
   },
   "file_extension": ".py",
   "mimetype": "text/x-python",
   "name": "python",
   "nbconvert_exporter": "python",
   "pygments_lexer": "ipython3",
   "version": "3.11.5"
  }
 },
 "nbformat": 4,
 "nbformat_minor": 5
}
