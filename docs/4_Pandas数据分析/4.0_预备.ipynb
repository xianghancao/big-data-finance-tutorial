{
 "cells": [
  {
   "cell_type": "markdown",
   "id": "19aa2490-6cf4-4120-9e65-119737020910",
   "metadata": {},
   "source": [
    "# 4 Pandas数据分析"
   ]
  },
  {
   "cell_type": "markdown",
   "id": "03f89ab0-d501-4ad5-b7e1-47f2b54a8165",
   "metadata": {},
   "source": [
    "## 准备"
   ]
  }
 ],
 "metadata": {
  "kernelspec": {
   "display_name": "Python 3 (ipykernel)",
   "language": "python",
   "name": "python3"
  },
  "language_info": {
   "codemirror_mode": {
    "name": "ipython",
    "version": 3
   },
   "file_extension": ".py",
   "mimetype": "text/x-python",
   "name": "python",
   "nbconvert_exporter": "python",
   "pygments_lexer": "ipython3",
   "version": "3.11.5"
  }
 },
 "nbformat": 4,
 "nbformat_minor": 5
}
