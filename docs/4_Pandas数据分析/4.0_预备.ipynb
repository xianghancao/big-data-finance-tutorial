{
 "cells": [
  {
   "cell_type": "markdown",
   "id": "19aa2490-6cf4-4120-9e65-119737020910",
   "metadata": {
    "tags": []
   },
   "source": [
    "# 4 Pandas数据分析"
   ]
  },
  {
   "cell_type": "markdown",
   "id": "7dc8ce5a-3589-4daf-8f44-242793096b01",
   "metadata": {},
   "source": [
    "**知识点｜**DataFrame数据框；描述性统计的方法  \n",
    "**技能｜**掌握pandas库的数据结构；掌握pandas库常用分析方法和工具；掌握描述性统计的方法  \n",
    "**作业｜**在金融领域应用Pandas"
   ]
  },
  {
   "cell_type": "markdown",
   "id": "74637703-3bfd-4725-b97c-a40d79e35ee7",
   "metadata": {},
   "source": [
    "## 名词解释"
   ]
  },
  {
   "cell_type": "markdown",
   "id": "ae2d95b1-9ad9-4c66-816d-36f91fbbb32d",
   "metadata": {},
   "source": [
    "请使用各类资源和工具，完成以下名词解释：\n",
    "- 数据框\n",
    "- 描述性统计方法\n",
    "- CSV格式文件\n",
    "- XLS格式文件\n",
    "- 行和行名\n",
    "- 列和列名"
   ]
  },
  {
   "cell_type": "markdown",
   "id": "bf19d60d-b8ac-4e38-970b-8e53e1e178db",
   "metadata": {},
   "source": [
    "## 视频\n",
    "\n"
   ]
  },
  {
   "cell_type": "markdown",
   "id": "2dd156ad-8f57-415c-a98a-e0d19d78a84c",
   "metadata": {},
   "source": [
    "观看[《探索“海量数据”的前沿》](https://player.bilibili.com/player.html?aid=76325166&bvid=BV1zJ41117me&cid=130555852&p=1&autoplay=0)"
   ]
  },
  {
   "cell_type": "markdown",
   "id": "8ac4bcff-3d94-426e-a278-127f86b73d21",
   "metadata": {},
   "source": [
    "<iframe src=\"https://player.bilibili.com/player.html?aid=76325166&bvid=BV1zJ41117me&cid=130555852&p=1&autoplay=0\" allowfullscreen=\"allowfullscreen\" width=\"80%\" height=\"350\" scrolling=\"no\" frameborder=\"0\" sandbox=\"allow-top-navigation allow-same-origin allow-forms allow-scripts\"></iframe>"
   ]
  },
  {
   "cell_type": "markdown",
   "id": "864a385d-9a6c-4794-a12b-1865c49e2a1f",
   "metadata": {
    "tags": []
   },
   "source": [
    "## 网络资源"
   ]
  },
  {
   "cell_type": "markdown",
   "id": "3b273bcc-8213-439f-a0be-1e08776fecb5",
   "metadata": {},
   "source": [
    "浏览以下网络资源"
   ]
  },
  {
   "cell_type": "markdown",
   "id": "ed28b8d3-c666-4224-bb7d-2cd351c7687b",
   "metadata": {},
   "source": [
    "- 10 Minutes to pandas: https://pandas.pydata.org/pandas-docs/stable/10min.html"
   ]
  },
  {
   "cell_type": "markdown",
   "id": "cfb21c77-3977-469b-97df-940cf376939e",
   "metadata": {},
   "source": [
    "## 问题\n",
    "快速浏览本章节内容，并记录下遇到的问题：\n",
    "\n",
    "1. xxx\n",
    "2. xxx\n",
    "3. xxx\n",
    "\n",
    "请带着问题，来到课堂。"
   ]
  }
 ],
 "metadata": {
  "kernelspec": {
   "display_name": "Python 3 (ipykernel)",
   "language": "python",
   "name": "python3"
  },
  "language_info": {
   "codemirror_mode": {
    "name": "ipython",
    "version": 3
   },
   "file_extension": ".py",
   "mimetype": "text/x-python",
   "name": "python",
   "nbconvert_exporter": "python",
   "pygments_lexer": "ipython3",
   "version": "3.11.5"
  }
 },
 "nbformat": 4,
 "nbformat_minor": 5
}
