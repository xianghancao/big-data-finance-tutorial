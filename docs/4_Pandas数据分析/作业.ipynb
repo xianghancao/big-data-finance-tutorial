{
 "cells": [
  {
   "cell_type": "markdown",
   "id": "868479d5-23ba-472f-86a6-8b736fddee83",
   "metadata": {},
   "source": [
    "<img src='images/Pandas_Finance.png' width=600>"
   ]
  },
  {
   "cell_type": "markdown",
   "id": "1a9277b8-4738-455a-b055-0765dc615def",
   "metadata": {},
   "source": [
    "# 作业：探索一份金融数据集"
   ]
  },
  {
   "cell_type": "markdown",
   "id": "0e67529c-6266-4293-97b4-2e0bcf9c77f6",
   "metadata": {},
   "source": [
    "完成以下任务："
   ]
  },
  {
   "cell_type": "markdown",
   "id": "ded534b2-d42e-46cc-a638-3efede52fb87",
   "metadata": {},
   "source": [
    "- 请寻找并下载一份金融数据集，可以来自于银行、证券、期货、保险、监管部门、互联网金融等；\n",
    "- 将其保存成CSV文件格式；\n",
    "- 应用本章节的数据框操作方法和描述性统计方法，探索该数据集。"
   ]
  },
  {
   "cell_type": "code",
   "execution_count": null,
   "id": "e249eb33-255f-4dad-ac4a-05f68c916fdb",
   "metadata": {},
   "outputs": [],
   "source": []
  }
 ],
 "metadata": {
  "kernelspec": {
   "display_name": "Python 3 (ipykernel)",
   "language": "python",
   "name": "python3"
  },
  "language_info": {
   "codemirror_mode": {
    "name": "ipython",
    "version": 3
   },
   "file_extension": ".py",
   "mimetype": "text/x-python",
   "name": "python",
   "nbconvert_exporter": "python",
   "pygments_lexer": "ipython3",
   "version": "3.11.5"
  }
 },
 "nbformat": 4,
 "nbformat_minor": 5
}
