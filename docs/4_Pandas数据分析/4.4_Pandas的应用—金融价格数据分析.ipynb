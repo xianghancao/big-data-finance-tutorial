{
 "cells": [
  {
   "cell_type": "markdown",
   "id": "eeca902f-507d-4bbf-b262-2e822845c95d",
   "metadata": {},
   "source": [
    "# 金融价格数据分析"
   ]
  },
  {
   "cell_type": "markdown",
   "id": "f0917fe3-0138-40fb-bdb0-fc20543c36ff",
   "metadata": {},
   "source": [
    "## 1. 从Yahoo Finance获取股票数据"
   ]
  },
  {
   "cell_type": "markdown",
   "id": "f5b7e621-90c8-4ced-b202-a65130b6c5de",
   "metadata": {},
   "source": [
    "yfinance是一个Python库，它提供了一个简单的方式来获取和处理Yahoo Finance上的金融数据。通过yfinance，你可以轻松地获取股票、ETF、指数等金融工具的历史价格数据、股息数据、公司基本信息等。这个库可以让用户在他们的Python应用程序中方便地访问Yahoo Finance的数据，以便进行分析、可视化或其他操作。"
   ]
  },
  {
   "cell_type": "code",
   "execution_count": 1,
   "id": "9ba09dba-37e1-4feb-86e8-781cff2a31d2",
   "metadata": {
    "tags": []
   },
   "outputs": [
    {
     "name": "stderr",
     "output_type": "stream",
     "text": [
      "[*********************100%%**********************]  1 of 1 completed"
     ]
    },
    {
     "name": "stdout",
     "output_type": "stream",
     "text": [
      "                  Open        High         Low       Close   Adj Close  \\\n",
      "Date                                                                     \n",
      "2021-12-27  177.089996  180.419998  177.070007  180.330002  178.065659   \n",
      "2021-12-28  180.160004  181.330002  178.529999  179.289993  177.038681   \n",
      "2021-12-29  179.330002  180.630005  178.139999  179.380005  177.127609   \n",
      "2021-12-30  179.470001  180.570007  178.089996  178.199997  175.962402   \n",
      "2021-12-31  178.089996  179.229996  177.259995  177.570007  175.340317   \n",
      "\n",
      "              Volume  \n",
      "Date                  \n",
      "2021-12-27  74919600  \n",
      "2021-12-28  79144300  \n",
      "2021-12-29  62348900  \n",
      "2021-12-30  59773000  \n",
      "2021-12-31  64062300  \n"
     ]
    },
    {
     "name": "stderr",
     "output_type": "stream",
     "text": [
      "\n"
     ]
    }
   ],
   "source": [
    "import pandas as pd\n",
    "import yfinance as yf\n",
    "\n",
    "stock_data = yf.download('AAPL', start='2015-01-01', end='2022-01-01')\n",
    "\n",
    "print(stock_data.tail())"
   ]
  },
  {
   "cell_type": "markdown",
   "id": "755fb6cc-e741-4c72-8781-ddfb7c947194",
   "metadata": {},
   "source": [
    "可以观察到，我们获取的数据是`pandas.DataFrame数据框`格式的数据，里面包含了开、高、低、收、调整后的收盘价、成交量。\n",
    "\n",
    "> 在金融数据中，通常会同时提供原始收盘价（Close）和调整后的收盘价（Adj Close），投资者和分析师在进行回报率计算和其他分析时更倾向于使用调整后的收盘价。\"Adj Close\"指的是调整后的收盘价，它是指股票或其他金融资产的收盘价经过了调整后的值。这种调整通常包括了分红、拆股、合并等因素的影响，目的是为了更准确地反映资产的实际价值。\n",
    "\n"
   ]
  },
  {
   "cell_type": "markdown",
   "id": "3d7b8946-6ebb-4c25-8677-2319d5d2d1ff",
   "metadata": {},
   "source": [
    "### 1.1 保存数据到CSV文件"
   ]
  },
  {
   "cell_type": "markdown",
   "id": "5934e5f0-aef2-4c88-bab1-2a2946d5430d",
   "metadata": {},
   "source": [
    "要将DataFrame保存到CSV文件中，你可以使用to_csv()方法。这个方法允许你将DataFrame的内容写入到一个CSV文件中。"
   ]
  },
  {
   "cell_type": "code",
   "execution_count": 16,
   "id": "431dae40-2545-4c81-8460-43a13bda4465",
   "metadata": {
    "tags": []
   },
   "outputs": [],
   "source": [
    "stock_data.to_csv('datasets/AAPL.csv')"
   ]
  },
  {
   "cell_type": "markdown",
   "id": "948c0902-a8e7-4a75-8903-7eee10d3ea32",
   "metadata": {},
   "source": [
    "### 1.2 获取基本信息"
   ]
  },
  {
   "cell_type": "markdown",
   "id": "c502d52b-5d37-4761-85f1-8fda83ca962e",
   "metadata": {
    "tags": []
   },
   "source": [
    "`pd.DataFrame.info()`方法用于显示DataFrame的基本信息摘要，包括列的数据类型、非空值数量以及占用内存的信息等。调用`info()`方法将会输出以下内容：\n",
    "\n",
    "1. DataFrame的行数和列数。\n",
    "2. 每列的名称。\n",
    "3. 每列中非空值的数量。\n",
    "4. 每列的数据类型。\n",
    "5. 内存占用情况。\n",
    "\n",
    "这个方法对于快速查看DataFrame的结构和总体信息非常有用，特别是在处理大型数据集时，可以帮助你了解数据的规模、缺失值情况和数据类型，以便进行进一步的数据清洗和分析。"
   ]
  },
  {
   "cell_type": "code",
   "execution_count": 2,
   "id": "effd8419-1b1a-42aa-8228-5034ab381549",
   "metadata": {
    "tags": []
   },
   "outputs": [
    {
     "name": "stdout",
     "output_type": "stream",
     "text": [
      "<class 'pandas.core.frame.DataFrame'>\n",
      "DatetimeIndex: 1763 entries, 2015-01-02 to 2021-12-31\n",
      "Data columns (total 6 columns):\n",
      " #   Column     Non-Null Count  Dtype  \n",
      "---  ------     --------------  -----  \n",
      " 0   Open       1763 non-null   float64\n",
      " 1   High       1763 non-null   float64\n",
      " 2   Low        1763 non-null   float64\n",
      " 3   Close      1763 non-null   float64\n",
      " 4   Adj Close  1763 non-null   float64\n",
      " 5   Volume     1763 non-null   int64  \n",
      "dtypes: float64(5), int64(1)\n",
      "memory usage: 96.4 KB\n"
     ]
    }
   ],
   "source": [
    "stock_data.info()"
   ]
  },
  {
   "cell_type": "markdown",
   "id": "e628579f-a539-49a6-b3c4-03c45af89c6a",
   "metadata": {},
   "source": [
    "### 1.3 获取日期序列"
   ]
  },
  {
   "cell_type": "markdown",
   "id": "3b01da90-d9c7-4585-9bfc-0c93910178f6",
   "metadata": {},
   "source": [
    "在Pandas中，`DataFrame.index`属性可以用来获取DataFrame的索引，它返回一个表示DataFrame索引的对象。这个对象通常是一个`Index`或`DatetimeIndex`。"
   ]
  },
  {
   "cell_type": "code",
   "execution_count": 3,
   "id": "1ebda27a-9613-4516-ae32-8e5f1c3d377f",
   "metadata": {
    "tags": []
   },
   "outputs": [
    {
     "data": {
      "text/plain": [
       "DatetimeIndex(['2015-01-02', '2015-01-05', '2015-01-06', '2015-01-07',\n",
       "               '2015-01-08', '2015-01-09', '2015-01-12', '2015-01-13',\n",
       "               '2015-01-14', '2015-01-15',\n",
       "               ...\n",
       "               '2021-12-17', '2021-12-20', '2021-12-21', '2021-12-22',\n",
       "               '2021-12-23', '2021-12-27', '2021-12-28', '2021-12-29',\n",
       "               '2021-12-30', '2021-12-31'],\n",
       "              dtype='datetime64[ns]', name='Date', length=1763, freq=None)"
      ]
     },
     "execution_count": 3,
     "metadata": {},
     "output_type": "execute_result"
    }
   ],
   "source": [
    "stock_data.index  "
   ]
  },
  {
   "cell_type": "markdown",
   "id": "66e20b5f-1dd8-42cb-8fce-4b008bcc1c6b",
   "metadata": {
    "tags": []
   },
   "source": [
    "如果使用`stock_data.index.values`将获取np.ndarray数据类型的数据。"
   ]
  },
  {
   "cell_type": "markdown",
   "id": "524a99db-be42-43e0-93ae-2bd64f83a35c",
   "metadata": {},
   "source": [
    "### 1.4 获取数据框的列名"
   ]
  },
  {
   "cell_type": "markdown",
   "id": "826ee517-e137-4c07-978f-e44af338b010",
   "metadata": {},
   "source": [
    "`pandas.DataFrame.columns`属性用于获取DataFrame的列标签，返回一个表示DataFrame列标签的对象，通常是一个`Index`对象或类似的数据结构。这个属性可以让你轻松地访问DataFrame的列名，进行列的筛选、重命名、迭代等操作，以及在数据分析和处理过程中进行列相关的操作。"
   ]
  },
  {
   "cell_type": "code",
   "execution_count": 4,
   "id": "8e5b1580-fce2-415c-aced-af465f9892eb",
   "metadata": {
    "tags": []
   },
   "outputs": [
    {
     "data": {
      "text/plain": [
       "Index(['Open', 'High', 'Low', 'Close', 'Adj Close', 'Volume'], dtype='object')"
      ]
     },
     "execution_count": 4,
     "metadata": {},
     "output_type": "execute_result"
    }
   ],
   "source": [
    "stock_data.columns  "
   ]
  },
  {
   "cell_type": "markdown",
   "id": "928f9537-2ddc-4baf-b223-3b9d5cde36d5",
   "metadata": {},
   "source": [
    "如果使用`stock_data.columns.values`将获取np.ndarray数据类型的数据。"
   ]
  },
  {
   "cell_type": "markdown",
   "id": "0f5b5f8e-af61-4c65-8855-ed5ded609769",
   "metadata": {},
   "source": [
    "## 2. 计算每日收益率"
   ]
  },
  {
   "cell_type": "markdown",
   "id": "ca10f182-a15c-43de-a90b-054c8c3c7b9c",
   "metadata": {},
   "source": [
    "使用`pd.DataFrame.pct_change()`方法可以计算DataFrame中每个元素与其前一个元素之间的变化百分比，即计算每个元素的变化率。对于股票收益率的计算，通常将每个交易日的股票收盘价作为DataFrame的一列，然后使用`pct_change()`方法计算每日收益率。\n",
    "\n",
    "具体来说，`pct_change()`方法将每个元素与其前一个元素进行比较，并计算出相对变化的百分比。例如，如果一个DataFrame包含每日的股票收盘价，调用`pct_change()`将返回一个新的DataFrame，其中包含每日收益率，即每日收盘价相对于前一日收盘价的变化百分比。"
   ]
  },
  {
   "cell_type": "code",
   "execution_count": 5,
   "id": "1f3f92e6-9213-47ce-ba9b-05bdb21ca1f9",
   "metadata": {
    "tags": []
   },
   "outputs": [],
   "source": [
    "stock_data['Daily_Return'] = stock_data['Adj Close'].pct_change()"
   ]
  },
  {
   "cell_type": "code",
   "execution_count": 6,
   "id": "de760c10-c0dc-41c0-a2c2-73014a988acf",
   "metadata": {
    "tags": []
   },
   "outputs": [
    {
     "data": {
      "text/plain": [
       "Date\n",
       "2015-01-02         NaN\n",
       "2015-01-05   -0.028172\n",
       "2015-01-06    0.000094\n",
       "2015-01-07    0.014022\n",
       "2015-01-08    0.038422\n",
       "                ...   \n",
       "2021-12-27    0.022975\n",
       "2021-12-28   -0.005767\n",
       "2021-12-29    0.000502\n",
       "2021-12-30   -0.006578\n",
       "2021-12-31   -0.003535\n",
       "Name: Daily_Return, Length: 1763, dtype: float64"
      ]
     },
     "execution_count": 6,
     "metadata": {},
     "output_type": "execute_result"
    }
   ],
   "source": [
    "stock_data['Daily_Return']"
   ]
  },
  {
   "cell_type": "markdown",
   "id": "83e1729e-5b8f-439e-a1b2-32ae014d137e",
   "metadata": {},
   "source": [
    "## 3. 计算移动平均"
   ]
  },
  {
   "cell_type": "markdown",
   "id": "01e03b54-ae61-4c39-bdbb-a2882fe37a92",
   "metadata": {},
   "source": [
    "`pd.DataFrame.rolling(window=20)`方法是用于执行滚动窗口操作的功能。具体来说，它会在DataFrame的数据上创建一个滚动窗口对象，该窗口将应用于指定的窗口大小（这里是20）以执行各种操作，如计算移动平均值、移动总和等。\n",
    "\n",
    "当你调用`pd.DataFrame.rolling(window=20)`时，它会返回一个Rolling对象，该对象可以用于执行基于窗口的函数操作，例如计算滚动窗口内的平均值、方差等。这个滚动窗口对象可以进一步与其他函数配合使用，比如`.mean()`、`.sum()`等，以计算在每个窗口内的特定操作结果。"
   ]
  },
  {
   "cell_type": "code",
   "execution_count": 7,
   "id": "3522bc2a-04c0-4bbd-81af-9ba121d4e5c1",
   "metadata": {
    "tags": []
   },
   "outputs": [],
   "source": [
    "stock_data['MA_20'] = stock_data['Adj Close'].rolling(window=20).mean()"
   ]
  },
  {
   "cell_type": "code",
   "execution_count": 8,
   "id": "e4b845c3-ba35-45e3-8417-56220260994a",
   "metadata": {
    "tags": []
   },
   "outputs": [
    {
     "data": {
      "text/plain": [
       "Date\n",
       "2015-01-02           NaN\n",
       "2015-01-05           NaN\n",
       "2015-01-06           NaN\n",
       "2015-01-07           NaN\n",
       "2015-01-08           NaN\n",
       "                 ...    \n",
       "2021-12-27    169.309995\n",
       "2021-12-28    170.250534\n",
       "2021-12-29    170.945695\n",
       "2021-12-30    171.608764\n",
       "2021-12-31    172.290594\n",
       "Name: MA_20, Length: 1763, dtype: float64"
      ]
     },
     "execution_count": 8,
     "metadata": {},
     "output_type": "execute_result"
    }
   ],
   "source": [
    "stock_data['MA_20']"
   ]
  },
  {
   "cell_type": "markdown",
   "id": "e840aac7-0321-4edc-878b-7d6a22c89ff0",
   "metadata": {},
   "source": [
    "## 4. 将日收益率转换成月度收益率"
   ]
  },
  {
   "cell_type": "code",
   "execution_count": 9,
   "id": "db564dbb-40ac-457f-bb91-c0209548473a",
   "metadata": {
    "tags": []
   },
   "outputs": [],
   "source": [
    "resample_close = stock_data['Adj Close'].reindex(pd.date_range(start=stock_data.index.min(),\n",
    "                                         end=stock_data.index.max(),\n",
    "                                         freq='D'))"
   ]
  },
  {
   "cell_type": "code",
   "execution_count": 15,
   "id": "f47330f8-cc04-41f1-b57e-2502f12edbcc",
   "metadata": {
    "tags": []
   },
   "outputs": [
    {
     "data": {
      "text/plain": [
       "2015-01-31    0.071618\n",
       "2015-02-28    0.087136\n",
       "2015-03-31   -0.036099\n",
       "2015-04-30    0.007243\n",
       "2015-05-31    0.014534\n",
       "                ...   \n",
       "2021-08-31    0.044925\n",
       "2021-09-30   -0.072192\n",
       "2021-10-31    0.050123\n",
       "2021-11-30    0.111313\n",
       "2021-12-31    0.077684\n",
       "Freq: M, Name: Adj Close, Length: 84, dtype: float64"
      ]
     },
     "execution_count": 15,
     "metadata": {},
     "output_type": "execute_result"
    }
   ],
   "source": [
    "diff = resample_close.resample('M').last() - resample_close.resample('M').first()\n",
    "diff/resample_close.resample('M').first()"
   ]
  },
  {
   "cell_type": "markdown",
   "id": "f16fc86b-d8bc-4d37-bac1-8bae6d8b73ba",
   "metadata": {},
   "source": [
    "Pandas的DataFrame对象具有许多聚合函数，用于在数据上执行汇总操作。这些聚合函数允许你在DataFrame的行或列上执行各种统计计算。以下是一些常用的DataFrame聚合函数：\n",
    "1. `mean()`: 计算均值。\n",
    "2. `sum()`: 计算总和。\n",
    "3. `median()`: 计算中位数。\n",
    "4. `min()`: 计算最小值。\n",
    "5. `max()`: 计算最大值。\n",
    "6. `std()`: 计算标准差。\n",
    "7. `var()`: 计算方差。\n",
    "8. `count()`: 计算非缺失值的数量。\n",
    "9. `quantile()`: 计算分位数。\n",
    "10. `describe()`: 生成描述性统计摘要。\n",
    "11. `first()`: 返回第一个非空值。\n",
    "12. `last()`: 返回最后一个非空值。\n",
    "13. `idxmin()`: 返回最小值的索引。\n",
    "14. `idxmax()`: 返回最大值的索引。\n",
    "\n",
    "除了上述常见的聚合函数之外，你还可以自定义函数并使用`agg()`或`apply()`方法应用它们。这样你可以执行各种自定义的聚合操作。"
   ]
  }
 ],
 "metadata": {
  "kernelspec": {
   "display_name": "Python 3 (ipykernel)",
   "language": "python",
   "name": "python3"
  },
  "language_info": {
   "codemirror_mode": {
    "name": "ipython",
    "version": 3
   },
   "file_extension": ".py",
   "mimetype": "text/x-python",
   "name": "python",
   "nbconvert_exporter": "python",
   "pygments_lexer": "ipython3",
   "version": "3.11.5"
  }
 },
 "nbformat": 4,
 "nbformat_minor": 5
}
