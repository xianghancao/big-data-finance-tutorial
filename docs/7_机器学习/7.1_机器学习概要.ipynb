{
 "cells": [
  {
   "cell_type": "code",
   "execution_count": null,
   "id": "f2cb0689-5cdc-45fe-a924-5a6f8b48023b",
   "metadata": {},
   "outputs": [],
   "source": []
  },
  {
   "cell_type": "markdown",
   "id": "e919d0af-1a00-4f03-9b78-1a2cac242b40",
   "metadata": {},
   "source": [
    "## 参考\n",
    "1. Machine Learning Fundamentals: Bias and Variance, https://www.youtube.com/watch?v=EuBBz3bI-aA&t=191s"
   ]
  },
  {
   "cell_type": "markdown",
   "id": "ca18030a-580a-4fc7-a5e1-7208bbdf0afa",
   "metadata": {},
   "source": []
  }
 ],
 "metadata": {
  "kernelspec": {
   "display_name": "Python 3 (ipykernel)",
   "language": "python",
   "name": "python3"
  },
  "language_info": {
   "codemirror_mode": {
    "name": "ipython",
    "version": 3
   },
   "file_extension": ".py",
   "mimetype": "text/x-python",
   "name": "python",
   "nbconvert_exporter": "python",
   "pygments_lexer": "ipython3",
   "version": "3.11.5"
  }
 },
 "nbformat": 4,
 "nbformat_minor": 5
}
