{
 "cells": [
  {
   "cell_type": "markdown",
   "id": "2f71e47d-445b-48cc-96bd-485d3fc9bdf3",
   "metadata": {},
   "source": [
    "# 《大数据金融》\n"
   ]
  },
  {
   "cell_type": "markdown",
   "id": "98eddd99-01ce-443a-99d2-a73e3d0f9d5f",
   "metadata": {},
   "source": [
    "![访问量](https://img.shields.io/badge/截止6/30访问量-8492-blue)\n",
    "![教学班级](https://img.shields.io/badge/教学班级-4个-brightgreen)\n",
    "![小组分组](https://img.shields.io/badge/小组-44组-brightgreen)\n",
    "![小组讨论](https://img.shields.io/badge/小组讨论-32次-brightgreen)\n",
    "![作业提交](https://img.shields.io/badge/作业提交-146/172-brightgreen)\n",
    "![通过率](https://img.shields.io/badge/通过率-全部-brightgreen)\n",
    "![Jupyter Book Badge](https://jupyterbook.org/badge.svg)"
   ]
  },
  {
   "cell_type": "markdown",
   "id": "bed7796c-ffb1-4bc9-be76-5544b09d9e4e",
   "metadata": {},
   "source": [
    "## 课程介绍"
   ]
  },
  {
   "cell_type": "markdown",
   "id": "e8975244-4e16-49a2-8dc9-3b1590f195b8",
   "metadata": {},
   "source": [
    "随着信息技术的快速发展，金融业内产生了大量的数据，如何通过这些数据进行分析和应用成为了金融业面临的一个重要挑战。同时，传统的金融分析方法和技术也已经无法满足金融业日益增⻓的需求。金融大数据课程旨在帮助学生了解金融大数据的概念、理论、方法和应用，培养学生获取、处理和分析金融大数据的能力，并能够将金融大数据应用于金融实践。\n",
    "\n"
   ]
  },
  {
   "cell_type": "markdown",
   "id": "153cbc13-52d9-4a03-ac0f-57e7e256cf34",
   "metadata": {
    "tags": []
   },
   "source": [
    "## 教学目标\n",
    "通过本课程的学习，学生应具备以下能力:\n",
    "\n",
    "1. 通过本课程的学习，使学生具备数据分析的思维、批判性思维、创新精神和实践能力\n",
    "2. 通过本课程的学习，使学生具备Python计算机语言基础编程技能、金融数据采集、金融数据处理、金融数据分析和金融数据可视化的技能 \n",
    "3. 通过本课程的学习，使学生能够理论联系实际，运用所学理论发现金融问题、分析金融问题和解决金融问题的能力                        \n",
    "4. 通过本课程的学习，使学生掌握金融数据分析的应用场景、分析流程、金融数据分析报告的写作方法。 \n"
   ]
  },
  {
   "cell_type": "markdown",
   "id": "d8a465dc-5caf-4d9c-a6ca-fe8e9dcdaac2",
   "metadata": {},
   "source": [
    "## 课程考核"
   ]
  },
  {
   "cell_type": "markdown",
   "id": "47a5a12c-3eef-4281-83d6-3ff481806ea3",
   "metadata": {},
   "source": [
    "```{admonition} 课程考核\n",
    ":class: note\n",
    "<b>考核方式: </b>\n",
    "<br>平时成绩 = 出勤 + 课堂练习 + 小组讨论 + 课后作业\n",
    "<br>总成绩 = 平时成绩（30%） + 期中项目报告（10%） + 期末项目报告（60%）\n",
    "\n",
    "<b>小组讨论: </b>\n",
    "<br><a href=\"../1_导论/1.2_金融大数据的应用场景.html#GD\"> 1.1 小组讨论：另类数据的价值 </a>\n",
    "<br><a href=\"../5_金融数据可视化/5.1_可视化入门.html#GD\">  5.1 小组讨论：数据可视化的魅力 </a>\n",
    "<br><a href=\"../6_金融数据的获取/6.2_金融数据的门类.html#GD\">  6.2 小组讨论：寻找丰富多样的金融数据</a>\n",
    "<br><a href=\"../7_机器学习的理论/7.1_什么是机器学习.html#GD\"> 7.1 小组讨论：机器学习概念评估问卷</a>\n",
    "<br><a href=\"../8_回归模型II/8.6_时间序列分析.html#GD\"> 8 小组讨论：股票是否可以提前预测？</a>\n",
    "<br><a href=\"../9_分类模型/9.1_分类模型理论.html#GD\"> 9.1 小组讨论：你的择偶标准有哪些？ </a>\n",
    "<br><a href=\"../10_聚类模型/案例—配对交易聚类.html#GD\"> 10 小组讨论：配对交易策略如何设计？ </a>\n",
    "<br><a href=\"../11_自然语言处理/案例—基于NLP和情感分析的交易策略.html#GD\"> 11 小组讨论：财报会影响股票价格么？ </a>\n",
    "\n",
    "<b>作业: </b>\n",
    "<br><a href=\"https://doc.weixin.qq.com/slide/p3_ALYAmQY8AO8uri2Sdi0RDqscD4VPs?scode=ANIAFAdhAAY4fWJDahALYAmQY8AO8\" target=\"_blank\"> 第2章作业链接 </a> （日期：3月12日 - 3月29日）\n",
    "<br><a href=\"https://doc.weixin.qq.com/slide/p3_ALYAmQY8AO8M0cwtqIbQpm3SEkUBa?scode=ANIAFAdhAAYrc19z06ALYAmQY8AO8\" target=\"_blank\"> 第3章作业链接 </a> （日期：3月25日 - 3月31日）\n",
    "<br><a href=\"https://docs.qq.com/slide/DWlpJaGNHR1haaUpo\" target=\"_blank\">第4章作业链接 </a> （日期：4月1日 - 4月8日）\n",
    "<br><a href=\"https://docs.qq.com/slide/DWmFvUkFTWURGYWVr\" target=\"_blank\">第5章作业链接 </a> （日期：4月8日 - 4月22日）\n",
    "<br><a href=\"https://drive.weixin.qq.com/s?k=ANIAFAdhAAYlgV1BY0\" target=\"_blank\">期中报告链接 </a> （日期：4月15日 - 4月29日） \n",
    "\n",
    "<b>期中报告: </b>\n",
    "<br><a href=\"../期中报告/期中报告.html\">设计投资组合策略</a>\n",
    "\n",
    "<b>期末报告: </b>\n",
    "<br><a href=\"../期末报告/期末报告.html\">大数据金融场景应用</a>\n",
    "\n",
    "\n",
    "```"
   ]
  },
  {
   "cell_type": "markdown",
   "id": "de9491a2-d37d-4338-a6a5-85143d739e57",
   "metadata": {},
   "source": [
    "```{admonition} 链接 \n",
    ":class: note\n",
    "<b>课程记录: </b>\n",
    "<a href=\"https://doc.weixin.qq.com/sheet/e3_ALYAmQY8AO86twExKE9T36uT6YdzZ?scode=ANIAFAdhAAYSoiUGIW\" target=\"_blank\">  小组记录  </a> \n",
    "<br><b>课件下载: </b>\n",
    "<a href=\"https://drive.weixin.qq.com/s?k=ANIAFAdhAAY7qAlwmi\"> 全部链接 </a>\n",
    "<br><b>答疑: </b>\n",
    "<a href=\"https://docs.qq.com/slide/DWkxPZVlDWUtlVlBF\" target=\"_blank\">  期末报告答疑   </a> \n",
    "<a href=\"https://doc.weixin.qq.com/slide/p3_ALYAmQY8AO8UOnA36ZQRuG04sypnW?scode=ANIAFAdhAAYG6iyFMDALYAmQY8AO8\" target=\"_blank\">  平时答疑   </a> \n",
    "<br><b>打字竞赛: </b>\n",
    "<a href=\"https://www.keybr.com/typing-test\" target=\"_blank\">  keybr  </a> \n",
    "<br><b>课程调查问卷</b>\n",
    "<a href=\"https://docs.qq.com/form/page/DWklwQVJ6cVZ3TnhE\" target=\"_blank\"> \n",
    "https://docs.qq.com/form/page/DWklwQVJ6cVZ3TnhE </a> \n",
    "```"
   ]
  },
  {
   "cell_type": "markdown",
   "id": "1cca58d0-fcc6-46ee-b738-5738ef36cc80",
   "metadata": {},
   "source": [
    "## 教学团队"
   ]
  },
  {
   "cell_type": "markdown",
   "id": "1671ff57-9564-449a-a81f-f16a3fda9a72",
   "metadata": {},
   "source": [
    "本课程拥有一支专业的教学团队，包括课程负责人、主讲教师以及负责教研和科研支持的教师。团队成员包括1位高级职称和3位中级职称教师，年龄结构合理，配备科学。\n",
    "\n",
    "团队成员均具有理工科背景，拥有丰富的教学和科研经验，多个成员在金融和数据分析行业一线工作超过5年。团队过去三年讲授《商务数据分析》（Python语言）、《商务统计学》、《金融科技概论》、《计量经济学》及实训课程，累计教授超过2000名学生，覆盖商学院各个系。\n",
    "\n",
    "团队成员主持和参与了多项与大数据金融相关的科研项目，并发表了20余篇论文，其中数篇发表在核心期刊。过去三年中，团队成员通过师资培训均获得工业和信息化部颁发的“机器学习工程师”和“大数据工程师”等认证。此外，负责人积极参加并获得强师工程培优“混合式教学培训项目”证书、“一带一路金砖大数据委员会”委员。这些努力大幅提升了团队的教育教学能力。\n",
    "\n",
    "在教学成果方面，团队成员指导的学生多次在大数据金融相关领域的竞赛中获得团体和个人奖项。例如，美国大学生数学建模竞赛/交叉学科竞赛、全国财经大数据技能比赛、跨境电子商务技能大赛及数据分析赛项、金砖国家职业技能大赛（“金砖大赛”）数据分析与可视化赛项国际总决赛、“上证杯”全国高校ETF菁英选拔赛等。这些证明了团队在大数据金融领域教学和科研方面努力的成效。"
   ]
  },
  {
   "cell_type": "markdown",
   "id": "2b35e43f-437b-402e-bba0-a1c4884f3aae",
   "metadata": {},
   "source": [
    "## 教材&参考材料\n",
    "以下提供了本课程的教材和参考书籍，以及如果你对相关领域感兴趣，可以在豆瓣上检索相关书籍，然后通过图书馆借阅，或网购的方式获得。\n",
    "\n",
    "![book](book.png)\n"
   ]
  },
  {
   "cell_type": "markdown",
   "id": "6cc08311-6268-4721-ac9c-41e7a7d79554",
   "metadata": {},
   "source": [
    "\n",
    "![more_books](more_books1.png)"
   ]
  },
  {
   "cell_type": "markdown",
   "id": "87e48068-c968-4a76-bc8f-4030dbedd528",
   "metadata": {},
   "source": [
    "![more_books2](more_books2.png)"
   ]
  },
  {
   "cell_type": "markdown",
   "id": "08de16b0-5452-4180-a44a-e11e178e1fa9",
   "metadata": {},
   "source": [
    "![more_books3](more_books3.png)"
   ]
  },
  {
   "cell_type": "markdown",
   "id": "7222d898-8a01-4380-8507-5fe58376f66a",
   "metadata": {},
   "source": [
    "\n",
    "## 本课程网站课件特点\n",
    "1. 学习本课程简单易上手，注重练习和案例\n",
    "2. 每个知识点都有相应的练习，帮助学生快速巩固所学内容\n",
    "3. 尽量避免脱离编程和金融场景，提供丰富的案例来帮助学生更好地理解\n",
    "4. 课程中使用了大量图片和可视化，以降低学习难度，使知识更容易被理解\n",
    "5. 每个章节都有ipynb格式的代码课件，学生可以本地运行代码"
   ]
  },
  {
   "cell_type": "markdown",
   "id": "1ca351b1-9d0f-45c4-bb71-ec46c1808952",
   "metadata": {},
   "source": [
    "版本号：V2.0\n",
    "更新日期：2024.7\n",
    "\n",
    "本课件限教学班级学生使用，勿做商业传播。如果部分内容侵权，请联系删除。\n"
   ]
  }
 ],
 "metadata": {
  "kernelspec": {
   "display_name": "Python 3 (ipykernel)",
   "language": "python",
   "name": "python3"
  },
  "language_info": {
   "codemirror_mode": {
    "name": "ipython",
    "version": 3
   },
   "file_extension": ".py",
   "mimetype": "text/x-python",
   "name": "python",
   "nbconvert_exporter": "python",
   "pygments_lexer": "ipython3",
   "version": "3.11.5"
  }
 },
 "nbformat": 4,
 "nbformat_minor": 5
}
