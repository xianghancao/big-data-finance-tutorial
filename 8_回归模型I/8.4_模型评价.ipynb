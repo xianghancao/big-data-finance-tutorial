{
 "cells": [
  {
   "cell_type": "markdown",
   "id": "2f4f1a6e-6790-4933-afc0-961890034653",
   "metadata": {},
   "source": [
    "# 8.4 模型评价\n"
   ]
  },
  {
   "cell_type": "markdown",
   "id": "3b936077-57f6-4820-8c9e-7a8beac6d31a",
   "metadata": {},
   "source": [
    "\n",
    "## 1. SER"
   ]
  },
  {
   "cell_type": "markdown",
   "id": "0d1c162b-c0b7-4efb-92fb-05545bcc3a60",
   "metadata": {},
   "source": [
    "回归标准误（SER）是指对回归系数的标准误。在统计学中，标准误是一个用于衡量样本统计量与总体统计量之间差异的指标。对于回归分析中的回归系数，标准误可以帮助我们评估回归系数的稳定性和可靠性。\n",
    "\n",
    "对于简单线性回归模型，回归标准误可以通过下式计算得到：\n",
    "\n",
    "$$ SER = \\sqrt{\\frac{\\sum_{i=1}^{n}(y_i - \\hat{y}_i)^2}{n-2}} $$\n",
    "\n",
    "其中：\n",
    "- $ y_i $ 表示第 $ i $ 个观测值的因变量值；\n",
    "- $ \\hat{y}_i $ 表示第 $ i $ 个观测值的预测值（根据回归方程预测的值）；\n",
    "- $ n $ 表示样本数量。\n",
    "\n",
    "\n",
    "回归标准误的意义在于：\n",
    "- 它是回归系数估计值的标准差，用于评估回归系数的稳定性和精确度。\n",
    "- 它可以用于构建置信区间和进行假设检验，例如t检验。\n",
    "- 通过比较不同模型的回归标准误，可以帮助我们选择最合适的模型。\n",
    "\n",
    "总之，回归标准误是回归分析中一个重要的指标，用于评估回归系数的可靠性和模型的拟合效果。"
   ]
  },
  {
   "cell_type": "markdown",
   "id": "0866285f-983f-460f-a035-920b5deadac4",
   "metadata": {},
   "source": [
    "\n",
    "## 2. R平方\n",
    "\n",
    "$R^2$（R-squared，R平方）是回归分析中用于评估模型拟合优度的统计指标之一。它是一个介于0和1之间的值，表示因变量的变异性中被自变量解释的比例。$R^2$越接近1，说明模型拟合得越好；$R^2$越接近0，则说明模型对数据的拟合程度较差。\n"
   ]
  },
  {
   "cell_type": "markdown",
   "id": "6b29f4e0-6414-47bd-bf8a-c1d292c19f0e",
   "metadata": {},
   "source": [
    "\n",
    "$R^2 $ 的计算公式如下：\n",
    "\n",
    "$$\n",
    "R^2 = \\frac{ESS}{TSS}=\\frac{\\sum^n_{i=1}{(\\hat{Y_i}-\\bar{Y})^2}}{\\sum^n_{i=1}{(Y_i-\\bar{Y})^2}}\n",
    "$$\n",
    "\n",
    "$$\n",
    "R^2 = \\frac{ESS}{TSS}=1-\\frac{SSR}{TSS}\n",
    "$$\n",
    "\n",
    "$$\n",
    "R^2 = 1-\\frac{SSR}{TSS}\n",
    "$$\n",
    "\n",
    "其中：\n",
    "- $ SSR $ 是残差平方和，表示模型预测值与实际观测值之间的差异的平方和；\n",
    "- $ TSS $ 是总平方和，表示实际观测值与因变量均值之间的差异的平方和。\n"
   ]
  },
  {
   "cell_type": "markdown",
   "id": "9c893fd6-bd2b-41b0-b54c-3f99e5ab1571",
   "metadata": {},
   "source": [
    "\n",
    "换句话说，$R^2$ 是残差平方和占总平方和的比例的补数。它衡量了模型所能解释的因变量变异性的比例，即模型对数据的拟合程度。$R^2$ 的取值范围为0到1，其中1表示模型完美拟合数据，0表示模型未能解释因变量的任何变异性。\n",
    "\n",
    "在回归分析中，$R^2$ 通常作为一个重要的指标来评估模型的拟合优度。然而，需要注意的是，$R^2$ 并不是模型拟合程度的唯一评价指标，有时候模型的解释能力可能不够好，但 $R^2$ 仍然较高，因此在进行模型评估时，需要结合其他指标进行综合考虑。"
   ]
  }
 ],
 "metadata": {
  "kernelspec": {
   "display_name": "Python 3 (ipykernel)",
   "language": "python",
   "name": "python3"
  },
  "language_info": {
   "codemirror_mode": {
    "name": "ipython",
    "version": 3
   },
   "file_extension": ".py",
   "mimetype": "text/x-python",
   "name": "python",
   "nbconvert_exporter": "python",
   "pygments_lexer": "ipython3",
   "version": "3.11.7"
  },
  "widgets": {
   "application/vnd.jupyter.widget-state+json": {
    "state": {},
    "version_major": 2,
    "version_minor": 0
   }
  }
 },
 "nbformat": 4,
 "nbformat_minor": 5
}
