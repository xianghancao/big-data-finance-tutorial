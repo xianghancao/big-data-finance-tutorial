{
 "cells": [
  {
   "cell_type": "markdown",
   "id": "1df15a68-9f8d-421c-ad28-fc11b65180f5",
   "metadata": {},
   "source": [
    "# 8.1 相关性分析\n"
   ]
  },
  {
   "cell_type": "markdown",
   "id": "2a19ef11-a029-4cdc-afe0-e7dfc1d5f1f8",
   "metadata": {},
   "source": [
    "相关性分析是一种统计方法，用于评估两个或多个变量之间的关系或相关性。它可以帮助我们了解变量之间的相关程度，即一个变量如何随着另一个变量的变化而变化。"
   ]
  },
  {
   "cell_type": "markdown",
   "id": "40f4fa81-9030-4eba-9e68-538d22b6b688",
   "metadata": {},
   "source": [
    "## 1. 两个变量之间的相关系数\n",
    "我们先考虑下两个连续变量之间的统计关系。"
   ]
  },
  {
   "cell_type": "markdown",
   "id": "bd3ab8ed-2310-4954-87fe-cf359b7dd655",
   "metadata": {},
   "source": [
    "![simple_regression](images/simple_regression.gif)"
   ]
  },
  {
   "cell_type": "markdown",
   "id": "136542d0-a8bc-4a81-84ce-14076410c805",
   "metadata": {},
   "source": [
    "Pearson相关系数是用于衡量两个连续变量之间线性相关程度的统计指标。它通常用于评估两个变量之间的线性关系，即当一个变量增加时，另一个变量是否也随之增加或减少。Pearson相关系数的取值范围在-1到1之间，其具体计算公式如下：\n",
    "\n",
    "$$ r = \\frac{{\\sum_{i=1}^{n}(X_i - \\bar{X})(Y_i - \\bar{Y})}}{{\\sqrt{\\sum_{i=1}^{n}(X_i - \\bar{X})^2}\\sqrt{\\sum_{i=1}^{n}(Y_i - \\bar{Y})^2}}} $$\n",
    "\n",
    "其中：\n",
    "- $ r $ 表示Pearson相关系数；\n",
    "- $ X_i $ 和 $ Y_i $ 分别表示第 $ i $ 个样本的两个变量的取值；\n",
    "- $ \\bar{X} $ 和 $ \\bar{Y} $ 分别表示两个变量的样本均值；\n",
    "- $ n \\) 表示样本数量。\n",
    "\n",
    "Pearson相关系数的解释如下：\n",
    "- 当 $ r = 1 $ 时，表示两个变量完全正相关，即随着一个变量的增加，另一个变量也呈现增加的趋势。\n",
    "- 当 $ r = -1 $ 时，表示两个变量完全负相关，即随着一个变量的增加，另一个变量呈现减少的趋势。\n",
    "- 当 $ r = 0 $ 时，表示两个变量之间不存在线性关系。\n",
    "\n",
    "需要注意的是，Pearson相关系数只能衡量线性相关性，对于非线性关系或者异常值敏感的情况，可能不适合使用Pearson相关系数。在这种情况下，可以考虑使用Spearman相关系数或者Kendall Tau相关系数等非参数方法。"
   ]
  },
  {
   "cell_type": "markdown",
   "id": "f43f33d8-d679-4b56-b8c0-fbe22120554d",
   "metadata": {},
   "source": [
    "## 2. 相关性系数的实现"
   ]
  },
  {
   "cell_type": "markdown",
   "id": "253ce476-10e3-4ab5-85b3-8ae2ff0dbccc",
   "metadata": {},
   "source": [
    "### 2.1 numpy库计算Pearson相关系数"
   ]
  },
  {
   "cell_type": "code",
   "execution_count": 1,
   "id": "96047d7e-b9ed-40c8-b575-490315e2d918",
   "metadata": {
    "tags": []
   },
   "outputs": [
    {
     "name": "stdout",
     "output_type": "stream",
     "text": [
      "Pearson相关系数： 0.9999999999999999\n"
     ]
    }
   ],
   "source": [
    "import numpy as np\n",
    "\n",
    "# 定义两个变量的样本数据\n",
    "x = np.array([1, 2, 3, 4, 5])\n",
    "y = np.array([2, 3, 4, 5, 6])\n",
    "\n",
    "# 计算Pearson相关系数\n",
    "r = np.corrcoef(x, y)[0, 1]\n",
    "\n",
    "print(\"Pearson相关系数：\", r)\n"
   ]
  },
  {
   "cell_type": "markdown",
   "id": "b2ef7726-4b3b-4c3c-854b-cfb29a45b82d",
   "metadata": {},
   "source": [
    "### 2.2 scipy库计算Pearson相关系数"
   ]
  },
  {
   "cell_type": "markdown",
   "id": "d4841b51-1750-469a-a862-607b244f60f3",
   "metadata": {},
   "source": [
    "调用scipy.stats.pearsonr计算相关系数：\n"
   ]
  },
  {
   "cell_type": "code",
   "execution_count": 5,
   "id": "f8f90314-16e7-406c-90a6-c0f49c5782bd",
   "metadata": {
    "tags": []
   },
   "outputs": [
    {
     "data": {
      "text/plain": [
       "1.0"
      ]
     },
     "execution_count": 5,
     "metadata": {},
     "output_type": "execute_result"
    }
   ],
   "source": [
    "import scipy.stats as stats\n",
    "r = stats.pearsonr(x, y)\n",
    "r.correlation"
   ]
  },
  {
   "cell_type": "markdown",
   "id": "834bdbeb-8ede-4594-9b95-a8afca4d0b24",
   "metadata": {},
   "source": [
    "### 2.3 Pandas库计算Pearson相关系数"
   ]
  },
  {
   "cell_type": "markdown",
   "id": "a520e51e-bf37-480e-9223-698b1f176e7d",
   "metadata": {},
   "source": [
    "也可以使用`pd.DataFrame.corr()`来计算相关系数矩阵:\n"
   ]
  },
  {
   "cell_type": "code",
   "execution_count": 9,
   "id": "be66e4f3-205d-4ed0-bc17-a2651815d9ae",
   "metadata": {
    "tags": []
   },
   "outputs": [
    {
     "data": {
      "text/html": [
       "<div>\n",
       "<style scoped>\n",
       "    .dataframe tbody tr th:only-of-type {\n",
       "        vertical-align: middle;\n",
       "    }\n",
       "\n",
       "    .dataframe tbody tr th {\n",
       "        vertical-align: top;\n",
       "    }\n",
       "\n",
       "    .dataframe thead th {\n",
       "        text-align: right;\n",
       "    }\n",
       "</style>\n",
       "<table border=\"1\" class=\"dataframe\">\n",
       "  <thead>\n",
       "    <tr style=\"text-align: right;\">\n",
       "      <th></th>\n",
       "      <th>x</th>\n",
       "      <th>y</th>\n",
       "    </tr>\n",
       "  </thead>\n",
       "  <tbody>\n",
       "    <tr>\n",
       "      <th>x</th>\n",
       "      <td>1.0</td>\n",
       "      <td>1.0</td>\n",
       "    </tr>\n",
       "    <tr>\n",
       "      <th>y</th>\n",
       "      <td>1.0</td>\n",
       "      <td>1.0</td>\n",
       "    </tr>\n",
       "  </tbody>\n",
       "</table>\n",
       "</div>"
      ],
      "text/plain": [
       "     x    y\n",
       "x  1.0  1.0\n",
       "y  1.0  1.0"
      ]
     },
     "execution_count": 9,
     "metadata": {},
     "output_type": "execute_result"
    }
   ],
   "source": [
    "import pandas as pd\n",
    "df = pd.DataFrame()\n",
    "df['x'] = x\n",
    "df['y'] = y\n",
    "df.corr(method='pearson')   # 计算相关系数矩阵"
   ]
  }
 ],
 "metadata": {
  "kernelspec": {
   "display_name": "Python 3 (ipykernel)",
   "language": "python",
   "name": "python3"
  },
  "language_info": {
   "codemirror_mode": {
    "name": "ipython",
    "version": 3
   },
   "file_extension": ".py",
   "mimetype": "text/x-python",
   "name": "python",
   "nbconvert_exporter": "python",
   "pygments_lexer": "ipython3",
   "version": "3.11.7"
  },
  "widgets": {
   "application/vnd.jupyter.widget-state+json": {
    "state": {},
    "version_major": 2,
    "version_minor": 0
   }
  }
 },
 "nbformat": 4,
 "nbformat_minor": 5
}
