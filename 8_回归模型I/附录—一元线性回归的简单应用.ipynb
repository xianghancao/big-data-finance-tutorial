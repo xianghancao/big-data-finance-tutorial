{
 "cells": [
  {
   "cell_type": "markdown",
   "id": "9012cdd4-f57d-4e2a-8296-96ad0f386727",
   "metadata": {},
   "source": [
    "# 附录：一元线性回归的简单应用"
   ]
  },
  {
   "cell_type": "markdown",
   "id": "5f51026a-64f1-4a83-ae4e-1b56b8a7a0fa",
   "metadata": {},
   "source": [
    "某公司计划研究销售人员数量对于新产品销售额的影响。\n",
    "\n",
    "从其下属多家公司中随机抽取10个子公司，这10个子公司当你新产品销售额和销售人员数量统计数据在路径\"数据/销售人员和销售量.csv\"。\n",
    "\n",
    "请试用一元线性回归方法研究人员数量对新产品销售额的计量关系。"
   ]
  },
  {
   "cell_type": "code",
   "execution_count": 1,
   "id": "f9066a99-d74d-42af-879c-b8945d9d7f8f",
   "metadata": {},
   "outputs": [
    {
     "data": {
      "text/html": [
       "<div>\n",
       "<style scoped>\n",
       "    .dataframe tbody tr th:only-of-type {\n",
       "        vertical-align: middle;\n",
       "    }\n",
       "\n",
       "    .dataframe tbody tr th {\n",
       "        vertical-align: top;\n",
       "    }\n",
       "\n",
       "    .dataframe thead th {\n",
       "        text-align: right;\n",
       "    }\n",
       "</style>\n",
       "<table border=\"1\" class=\"dataframe\">\n",
       "  <thead>\n",
       "    <tr style=\"text-align: right;\">\n",
       "      <th></th>\n",
       "      <th>地区</th>\n",
       "      <th>新产品销售额/万元</th>\n",
       "      <th>销售人员数量/人</th>\n",
       "    </tr>\n",
       "  </thead>\n",
       "  <tbody>\n",
       "    <tr>\n",
       "      <th>0</th>\n",
       "      <td>1</td>\n",
       "      <td>385</td>\n",
       "      <td>17</td>\n",
       "    </tr>\n",
       "    <tr>\n",
       "      <th>1</th>\n",
       "      <td>2</td>\n",
       "      <td>251</td>\n",
       "      <td>10</td>\n",
       "    </tr>\n",
       "    <tr>\n",
       "      <th>2</th>\n",
       "      <td>3</td>\n",
       "      <td>701</td>\n",
       "      <td>44</td>\n",
       "    </tr>\n",
       "    <tr>\n",
       "      <th>3</th>\n",
       "      <td>4</td>\n",
       "      <td>479</td>\n",
       "      <td>30</td>\n",
       "    </tr>\n",
       "    <tr>\n",
       "      <th>4</th>\n",
       "      <td>5</td>\n",
       "      <td>433</td>\n",
       "      <td>22</td>\n",
       "    </tr>\n",
       "    <tr>\n",
       "      <th>5</th>\n",
       "      <td>6</td>\n",
       "      <td>411</td>\n",
       "      <td>15</td>\n",
       "    </tr>\n",
       "    <tr>\n",
       "      <th>6</th>\n",
       "      <td>7</td>\n",
       "      <td>355</td>\n",
       "      <td>11</td>\n",
       "    </tr>\n",
       "    <tr>\n",
       "      <th>7</th>\n",
       "      <td>8</td>\n",
       "      <td>217</td>\n",
       "      <td>5</td>\n",
       "    </tr>\n",
       "    <tr>\n",
       "      <th>8</th>\n",
       "      <td>9</td>\n",
       "      <td>581</td>\n",
       "      <td>31</td>\n",
       "    </tr>\n",
       "    <tr>\n",
       "      <th>9</th>\n",
       "      <td>10</td>\n",
       "      <td>653</td>\n",
       "      <td>36</td>\n",
       "    </tr>\n",
       "  </tbody>\n",
       "</table>\n",
       "</div>"
      ],
      "text/plain": [
       "   地区  新产品销售额/万元  销售人员数量/人\n",
       "0   1        385        17\n",
       "1   2        251        10\n",
       "2   3        701        44\n",
       "3   4        479        30\n",
       "4   5        433        22\n",
       "5   6        411        15\n",
       "6   7        355        11\n",
       "7   8        217         5\n",
       "8   9        581        31\n",
       "9  10        653        36"
      ]
     },
     "execution_count": 1,
     "metadata": {},
     "output_type": "execute_result"
    }
   ],
   "source": [
    "import pandas as pd\n",
    "data = pd.read_csv(\"datasets/销售人员和销售量.csv\")\n",
    "data"
   ]
  },
  {
   "cell_type": "markdown",
   "id": "d0cc1d56-e565-4a07-8846-c2cc19b9aa8d",
   "metadata": {},
   "source": [
    "## 1. 对变量作相关性分析\n",
    "这里使用相关系数作相关分析，调用scipy.stats.pearsonr皮尔逊相关系数计算方法："
   ]
  },
  {
   "cell_type": "markdown",
   "id": "60829810-6b9b-4462-9bf0-1e750b8c5800",
   "metadata": {},
   "source": [
    "相关系数r检验y和x两个变量之间的线性相关的显著程度，其算式为\n",
    "\n",
    "$$\n",
    "r = \\frac{\\sum{(x_i-\\bar{x})(y_i-\\bar{y})}}{\\sqrt{\\sum{(x_i-\\bar{x})^2\\sum{(y_i-\\bar{y})}}}}\n",
    "$$\n",
    "数学上可以证明：r在[-1, 1]范围，有：\n",
    "- r>0时，y与x有一定的正线性相关，越接近1正的相关性越大\n",
    "- r<0时，y与x有一定的负线性相关，越接近-1负的相关性越大"
   ]
  },
  {
   "cell_type": "code",
   "execution_count": 2,
   "id": "4dd8d1d3-ca41-40d8-852e-2b2d3a580da9",
   "metadata": {},
   "outputs": [
    {
     "data": {
      "text/plain": [
       "0.969906207108702"
      ]
     },
     "execution_count": 2,
     "metadata": {},
     "output_type": "execute_result"
    }
   ],
   "source": [
    "import scipy.stats as stats\n",
    "x = data[\"销售人员数量/人\"]\n",
    "y = data[\"新产品销售额/万元\"]\n",
    "r = stats.pearsonr(x, y)[0]\n",
    "r"
   ]
  },
  {
   "cell_type": "markdown",
   "id": "2791af48-a028-45a1-91f4-d96f09398ab2",
   "metadata": {},
   "source": [
    "观察相关系数的值为0.97，说明两者的存在很强的正相关关系，我们下面使用回归分析来计量两者的统计关系。"
   ]
  },
  {
   "cell_type": "markdown",
   "id": "6a97a6f5-a09d-4448-b159-6ee41d90bb07",
   "metadata": {},
   "source": [
    "## 2. 使用statsmodels作一元线性回归"
   ]
  },
  {
   "cell_type": "code",
   "execution_count": 3,
   "id": "44023619-8f6d-41c8-baa5-06711468c713",
   "metadata": {},
   "outputs": [
    {
     "name": "stderr",
     "output_type": "stream",
     "text": [
      "/Users/hans/opt/anaconda3/lib/python3.9/site-packages/scipy/stats/stats.py:1541: UserWarning: kurtosistest only valid for n>=20 ... continuing anyway, n=10\n",
      "  warnings.warn(\"kurtosistest only valid for n>=20 ... continuing \"\n"
     ]
    },
    {
     "data": {
      "text/html": [
       "<table class=\"simpletable\">\n",
       "<tr>\n",
       "        <td>Model:</td>               <td>OLS</td>         <td>Adj. R-squared:</td>     <td>0.933</td> \n",
       "</tr>\n",
       "<tr>\n",
       "  <td>Dependent Variable:</td>     <td>新产品销售额/万元</td>           <td>AIC:</td>         <td>104.6022</td>\n",
       "</tr>\n",
       "<tr>\n",
       "         <td>Date:</td>        <td>2022-09-27 17:37</td>        <td>BIC:</td>         <td>105.2073</td>\n",
       "</tr>\n",
       "<tr>\n",
       "   <td>No. Observations:</td>         <td>10</td>          <td>Log-Likelihood:</td>    <td>-50.301</td>\n",
       "</tr>\n",
       "<tr>\n",
       "       <td>Df Model:</td>              <td>1</td>           <td>F-statistic:</td>       <td>126.9</td> \n",
       "</tr>\n",
       "<tr>\n",
       "     <td>Df Residuals:</td>            <td>8</td>        <td>Prob (F-statistic):</td> <td>3.46e-06</td>\n",
       "</tr>\n",
       "<tr>\n",
       "      <td>R-squared:</td>            <td>0.941</td>            <td>Scale:</td>         <td>1712.1</td> \n",
       "</tr>\n",
       "</table>\n",
       "<table class=\"simpletable\">\n",
       "<tr>\n",
       "      <td></td>        <th>Coef.</th>  <th>Std.Err.</th>    <th>t</th>     <th>P>|t|</th>  <th>[0.025</th>   <th>0.975]</th> \n",
       "</tr>\n",
       "<tr>\n",
       "  <th>Intercept</th> <td>176.2952</td>  <td>27.3269</td> <td>6.4514</td>  <td>0.0002</td> <td>113.2793</td> <td>239.3111</td>\n",
       "</tr>\n",
       "<tr>\n",
       "  <th>销售人员数量/人</th>   <td>12.2310</td>  <td>1.0855</td>  <td>11.2671</td> <td>0.0000</td>  <td>9.7277</td>   <td>14.7343</td>\n",
       "</tr>\n",
       "</table>\n",
       "<table class=\"simpletable\">\n",
       "<tr>\n",
       "     <td>Omnibus:</td>     <td>0.718</td>  <td>Durbin-Watson:</td>   <td>1.407</td>\n",
       "</tr>\n",
       "<tr>\n",
       "  <td>Prob(Omnibus):</td>  <td>0.698</td> <td>Jarque-Bera (JB):</td> <td>0.588</td>\n",
       "</tr>\n",
       "<tr>\n",
       "       <td>Skew:</td>     <td>-0.198</td>     <td>Prob(JB):</td>     <td>0.745</td>\n",
       "</tr>\n",
       "<tr>\n",
       "     <td>Kurtosis:</td>    <td>1.879</td>  <td>Condition No.:</td>    <td>53</td>  \n",
       "</tr>\n",
       "</table>"
      ],
      "text/plain": [
       "<class 'statsmodels.iolib.summary2.Summary'>\n",
       "\"\"\"\n",
       "                 Results: Ordinary least squares\n",
       "=================================================================\n",
       "Model:              OLS              Adj. R-squared:     0.933   \n",
       "Dependent Variable: 新产品销售额/万元        AIC:                104.6022\n",
       "Date:               2022-09-27 17:37 BIC:                105.2073\n",
       "No. Observations:   10               Log-Likelihood:     -50.301 \n",
       "Df Model:           1                F-statistic:        126.9   \n",
       "Df Residuals:       8                Prob (F-statistic): 3.46e-06\n",
       "R-squared:          0.941            Scale:              1712.1  \n",
       "------------------------------------------------------------------\n",
       "            Coef.    Std.Err.     t     P>|t|    [0.025    0.975] \n",
       "------------------------------------------------------------------\n",
       "Intercept  176.2952   27.3269   6.4514  0.0002  113.2793  239.3111\n",
       "销售人员数量/人    12.2310    1.0855  11.2671  0.0000    9.7277   14.7343\n",
       "-----------------------------------------------------------------\n",
       "Omnibus:               0.718        Durbin-Watson:          1.407\n",
       "Prob(Omnibus):         0.698        Jarque-Bera (JB):       0.588\n",
       "Skew:                  -0.198       Prob(JB):               0.745\n",
       "Kurtosis:              1.879        Condition No.:          53   \n",
       "=================================================================\n",
       "\n",
       "\"\"\""
      ]
     },
     "execution_count": 3,
     "metadata": {},
     "output_type": "execute_result"
    }
   ],
   "source": [
    "import statsmodels.api as sm\n",
    "data['Intercept'] = 1.\n",
    "y = data[\"新产品销售额/万元\"]\n",
    "x = data[['Intercept', \"销售人员数量/人\"]]\n",
    "model = sm.OLS(y, x)\n",
    "result = model.fit()\n",
    "result.summary2(alpha=0.05)"
   ]
  },
  {
   "cell_type": "code",
   "execution_count": 4,
   "id": "01a74c04-d370-4a26-8434-2741ecf69388",
   "metadata": {},
   "outputs": [
    {
     "name": "stdout",
     "output_type": "stream",
     "text": [
      "斜率: 12.23\n",
      "截距: 176.30\n",
      "拟合优度R-squared: 0.96\n",
      "斜率估计量的标准误差: 1.09\n",
      "截距估计量的标准误差: 27.33\n"
     ]
    }
   ],
   "source": [
    "print(\"斜率: %.2f\" %12.23)\n",
    "print(\"截距: %.2f\" %176.30)\n",
    "print(\"拟合优度R-squared: %.2f\" % 0.958)\n",
    "print(\"斜率估计量的标准误差: %.2f\" % 1.086)\n",
    "print(\"截距估计量的标准误差: %.2f\" % 27.327)"
   ]
  },
  {
   "cell_type": "markdown",
   "id": "7ae9a9ba-7cf0-400d-8dc1-f1ca8a4d41ae",
   "metadata": {},
   "source": [
    "模型的回归方程是\n",
    "$$\n",
    "新产品销售额/万元 = 12.23 \\times 销售人员数量/人 + 176.3 \n",
    "$$"
   ]
  },
  {
   "cell_type": "markdown",
   "id": "a9b85a01-fa49-44b3-b252-9b651a393fbe",
   "metadata": {},
   "source": [
    "根据方程能够得到以下结论：**销售人员数量每增加1人，平均会带来12.23万元新产品销售额的增加。**"
   ]
  },
  {
   "cell_type": "markdown",
   "id": "accce54b-82bf-448a-9097-c635c86faf4e",
   "metadata": {},
   "source": [
    "## 3. 绘制回归图"
   ]
  },
  {
   "cell_type": "code",
   "execution_count": 10,
   "id": "a4617595-e9e0-4e18-a519-5356718d507a",
   "metadata": {},
   "outputs": [
    {
     "data": {
      "image/png": "[encoded data removed]",
      "text/plain": [
       "<Figure size 600x300 with 1 Axes>"
      ]
     },
     "metadata": {},
     "output_type": "display_data"
    }
   ],
   "source": [
    "x = data[\"销售人员数量/人\"]\n",
    "y = data[\"新产品销售额/万元\"]\n",
    "\n",
    "import matplotlib.pyplot as plt\n",
    "plt.figure(figsize=(6,3))\n",
    "plt.scatter(x, y, label='original data')\n",
    "plt.plot(x,  12.23*x+176.3, label='fitted line', color='orange')\n",
    "plt.title('Simple Regression')\n",
    "plt.legend()\n",
    "plt.show()"
   ]
  }
 ],
 "metadata": {
  "kernelspec": {
   "display_name": "Python 3 (ipykernel)",
   "language": "python",
   "name": "python3"
  },
  "language_info": {
   "codemirror_mode": {
    "name": "ipython",
    "version": 3
   },
   "file_extension": ".py",
   "mimetype": "text/x-python",
   "name": "python",
   "nbconvert_exporter": "python",
   "pygments_lexer": "ipython3",
   "version": "3.11.5"
  }
 },
 "nbformat": 4,
 "nbformat_minor": 5
}
