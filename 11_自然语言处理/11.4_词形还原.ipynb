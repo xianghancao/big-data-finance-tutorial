{
 "cells": [
  {
   "cell_type": "markdown",
   "id": "6981219f-4c32-41d2-b2e9-632742fe33ff",
   "metadata": {},
   "source": [
    "# 11.4 词形还原\n",
    "词形还原（Lemmatization）是词干提取的一种变体。两个过程之间的主要区别是，词干提取通常会创建不存在的单词，而词形还原是实际存在的单词。词形还原的一个例子是将 run 作为诸如 running 和 ran 这样的单词的基本形式，或者将 better 和 good 视为相同的词形。"
   ]
  },
  {
   "cell_type": "code",
   "execution_count": 3,
   "id": "ee569140-b3c2-4e70-a8bf-969bd51534e0",
   "metadata": {
    "tags": []
   },
   "outputs": [],
   "source": [
    "words = [\"running\", \"ran\", \"runs\", \"easily\", \"fairly\", \"cats\", \"geese\", \"better\", \"worse\"]"
   ]
  },
  {
   "cell_type": "code",
   "execution_count": 5,
   "id": "0f882c22-9557-4c7c-acd7-16db834f03f3",
   "metadata": {
    "tags": []
   },
   "outputs": [
    {
     "name": "stdout",
     "output_type": "stream",
     "text": [
      "running -> running\n",
      "ran -> ran\n",
      "runs -> run\n",
      "easily -> easily\n",
      "fairly -> fairly\n",
      "cats -> cat\n",
      "geese -> goose\n",
      "better -> better\n",
      "worse -> worse\n"
     ]
    }
   ],
   "source": [
    "import nltk\n",
    "from nltk.stem import WordNetLemmatizer\n",
    "\n",
    "lemmatizer = WordNetLemmatizer()\n",
    "# 对每个单词进行词形还原\n",
    "lemmatized_words = []\n",
    "for word in words:\n",
    "    w = lemmatizer.lemmatize(word)\n",
    "    lemmatized_words.append(w)\n",
    "\n",
    "# 输出还原后的单词\n",
    "for word, lemmatized in zip(words, lemmatized_words):\n",
    "    print(f\"{word} -> {lemmatized}\")\n"
   ]
  }
 ],
 "metadata": {
  "kernelspec": {
   "display_name": "Python 3 (ipykernel)",
   "language": "python",
   "name": "python3"
  },
  "language_info": {
   "codemirror_mode": {
    "name": "ipython",
    "version": 3
   },
   "file_extension": ".py",
   "mimetype": "text/x-python",
   "name": "python",
   "nbconvert_exporter": "python",
   "pygments_lexer": "ipython3",
   "version": "3.11.5"
  }
 },
 "nbformat": 4,
 "nbformat_minor": 5
}
