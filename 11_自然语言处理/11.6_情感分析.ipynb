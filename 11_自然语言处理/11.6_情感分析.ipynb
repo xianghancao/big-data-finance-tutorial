{
 "cells": [
  {
   "cell_type": "markdown",
   "id": "1c865892-a687-4989-a387-d032bf4edc8f",
   "metadata": {},
   "source": [
    "# 11.6 情感分析\n",
    "TextBlob 是一个简单易用的Python库，提供了一些基本的自然语言处理功能，其中包括情感分析。TextBlob 使用内置的情感分析器来评估文本的情感极性（polarity）和主观性（subjectivity）。"
   ]
  },
  {
   "cell_type": "markdown",
   "id": "72899ca6-7804-4d1b-a187-cff34b08b510",
   "metadata": {},
   "source": [
    "TextBlob 的情感分析功能通过 TextBlob 对象的 sentiment 属性来实现。情感分析结果包含两个主要指标：\n",
    "\n",
    "- 极性（Polarity）：范围从 -1 到 1，表示负面和正面情感的强度。\n",
    "- 主观性（Subjectivity）：范围从 0 到 1，表示主观性和客观性的程度。"
   ]
  },
  {
   "cell_type": "code",
   "execution_count": null,
   "id": "eadcd328-b77f-44a0-a570-35796572ea3f",
   "metadata": {
    "tags": []
   },
   "outputs": [
    {
     "name": "stdout",
     "output_type": "stream",
     "text": [
      "1.0\n"
     ]
    }
   ],
   "source": [
    "from textblob import TextBlob\n",
    "\n",
    "def get_sentiment(text):\n",
    "    blob = TextBlob(text)\n",
    "    sentiment = blob.sentiment.polarity  #情感极性（Polarity）\n",
    "    return sentiment\n",
    "\n",
    "sentiment = get_sentiment(\"This is an excellent product!\")\n",
    "print(sentiment) "
   ]
  },
  {
   "cell_type": "markdown",
   "id": "f0ee7aa5-7359-4e7c-a0ea-1fb18d0b9347",
   "metadata": {},
   "source": [
    "这里情感极性为1，表明正面情感。"
   ]
  },
  {
   "cell_type": "markdown",
   "id": "c19a31e0-6d94-4bf0-90d9-3b93ea2c7594",
   "metadata": {},
   "source": []
  }
 ],
 "metadata": {
  "kernelspec": {
   "display_name": "Python 3 (ipykernel)",
   "language": "python",
   "name": "python3"
  },
  "language_info": {
   "codemirror_mode": {
    "name": "ipython",
    "version": 3
   },
   "file_extension": ".py",
   "mimetype": "text/x-python",
   "name": "python",
   "nbconvert_exporter": "python",
   "pygments_lexer": "ipython3",
   "version": "3.11.7"
  }
 },
 "nbformat": 4,
 "nbformat_minor": 5
}
