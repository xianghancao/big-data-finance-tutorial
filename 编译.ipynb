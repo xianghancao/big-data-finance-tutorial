{
 "cells": [
  {
   "cell_type": "markdown",
   "id": "e19f66a2-b66a-4595-bec2-ef84a00627b8",
   "metadata": {},
   "source": [
    "jupyter-book:https://jupyterbook.org/en/stable/publish/gh-pages.html"
   ]
  },
  {
   "cell_type": "markdown",
   "id": "6a372d07-872a-4586-9c6b-67f08ee9be17",
   "metadata": {},
   "source": [
    "## ZIP"
   ]
  },
  {
   "cell_type": "markdown",
   "id": "b79c5d63-ea59-4a5f-9108-1d5a59e574cf",
   "metadata": {},
   "source": [
    "cd /Users/xhc/Documents/大数据金融/big-data-finance-tutorial/docs/\n",
    "\n",
    "zip -r 1_导论.zip 1_导论  -x \"*.DS_Store\" -x \"__MACOSX*\" -x \"*.ipynb_checkpoints*\" -q\n",
    "\n",
    "zip -r 2_Python编程基础.zip 2_Python编程基础  -x \"*.DS_Store\" -x \"__MACOSX*\" -x \"*.ipynb_checkpoints*\"  -q\n",
    "\n",
    "zip -r 3_NumPy科学计算.zip 3_NumPy科学计算  -x \"*.DS_Store\" -x \"__MACOSX*\" -x \"*.ipynb_checkpoints*\" -q\n",
    "\n",
    "zip -r 4_Pandas数据分析.zip 4_Pandas数据分析  -x \"*.DS_Store\" -x \"__MACOSX*\" -x \"*.ipynb_checkpoints*\" -q\n",
    "\n",
    "zip -r 5_金融数据可视化.zip 5_金融数据可视化  -x \"*.DS_Store\" -x \"__MACOSX*\" -x \"*.ipynb_checkpoints*\"  -q\n",
    "\n",
    "zip -r 6_金融数据的获取.zip 6_金融数据的获取  -x \"*.DS_Store\" -x \"__MACOSX*\" -x \"*.ipynb_checkpoints*\"  -q\n",
    "\n",
    "zip -r 7_机器学习的理论.zip 7_机器学习的理论  -x \"*.DS_Store\" -x \"__MACOSX*\" -x \"*.ipynb_checkpoints*\"  -q\n",
    "\n",
    "zip -r 8_回归模型I.zip 8_回归模型I  -x \"*.DS_Store\" -x \"__MACOSX*\" -x \"*.ipynb_checkpoints*\"  -q\n",
    "\n",
    "zip -r 8_回归模型II.zip 8_回归模型II  -x \"*.DS_Store\" -x \"__MACOSX*\" -x \"*.ipynb_checkpoints*\"  -q\n",
    "\n",
    "zip -r 9_分类模型.zip 9_分类模型  -x \"*.DS_Store\" -x \"__MACOSX*\" -x \"*.ipynb_checkpoints*\"  -q\n",
    "\n",
    "zip -r 10_聚类模型.zip 10_聚类模型  -x \"*.DS_Store\" -x \"__MACOSX*\" -x \"*.ipynb_checkpoints*\"  -q"
   ]
  },
  {
   "cell_type": "markdown",
   "id": "5669799c-4617-4626-ba14-fddf618e4592",
   "metadata": {},
   "source": [
    "## sphinx编译"
   ]
  },
  {
   "cell_type": "markdown",
   "id": "5008289a-4380-4bb3-9983-cc9e64b56a8d",
   "metadata": {},
   "source": [
    "jupyter-book config sphinx /Users/xhc/Documents/大数据金融/big-data-finance-tutorial/docs/\n"
   ]
  },
  {
   "cell_type": "markdown",
   "id": "9d0e1a2a-abfd-4440-bf7f-30187d13d32c",
   "metadata": {},
   "source": [
    "## jupyter-book编译"
   ]
  },
  {
   "cell_type": "markdown",
   "id": "9bb2657e-0616-4cc0-bbdf-6e030b16b933",
   "metadata": {},
   "source": [
    "sphinx-build /Users/xhc/Documents/大数据金融/big-data-finance-tutorial/docs/ /Users/xhc/Documents/大数据金融/big-data-finance-tutorial/docs/_build/html -b html"
   ]
  },
  {
   "cell_type": "markdown",
   "id": "03b8ef58-f4e3-4e48-9569-59ddf76f219a",
   "metadata": {},
   "source": []
  }
 ],
 "metadata": {
  "kernelspec": {
   "display_name": "Python 3 (ipykernel)",
   "language": "python",
   "name": "python3"
  },
  "language_info": {
   "codemirror_mode": {
    "name": "ipython",
    "version": 3
   },
   "file_extension": ".py",
   "mimetype": "text/x-python",
   "name": "python",
   "nbconvert_exporter": "python",
   "pygments_lexer": "ipython3",
   "version": "3.11.5"
  }
 },
 "nbformat": 4,
 "nbformat_minor": 5
}
